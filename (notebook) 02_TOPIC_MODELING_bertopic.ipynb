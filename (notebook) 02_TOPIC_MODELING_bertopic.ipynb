{
 "cells": [
  {
   "cell_type": "code",
   "execution_count": 0,
   "metadata": {
    "application/vnd.databricks.v1+cell": {
     "cellMetadata": {
      "byteLimit": 2048000,
      "rowLimit": 10000
     },
     "inputWidgets": {},
     "nuid": "17f6da54-81a4-482b-94b6-e9b2d1def05c",
     "showTitle": false,
     "tableResultSettingsMap": {},
     "title": ""
    }
   },
   "outputs": [],
   "source": [
    "%%capture\n",
    "%pip install bertopic openai"
   ]
  },
  {
   "cell_type": "code",
   "execution_count": 0,
   "metadata": {
    "application/vnd.databricks.v1+cell": {
     "cellMetadata": {
      "byteLimit": 2048000,
      "rowLimit": 10000
     },
     "inputWidgets": {},
     "nuid": "f584b122-bd64-4504-80e8-673aef53f00e",
     "showTitle": false,
     "tableResultSettingsMap": {},
     "title": ""
    }
   },
   "outputs": [],
   "source": [
    "CATALOG = 'cindy_demo_catalog'\n",
    "SCHEMA = 'airline_bookings'\n",
    "INTENTS_TABLE = \"raw_intents_1000_function\"\n",
    "OUTPUT_TABLE = 'labeled_reviews_output_1000_all_airlines'\n",
    "\n",
    "TOKEN = dbutils.notebook.entry_point.getDbutils().notebook().getContext().apiToken().getOrElse(None)\n",
    "WORKSPACE_URL = f'https://{spark.conf.get(\"spark.databricks.workspaceUrl\")}'\n",
    "\n",
    "MODEL_ID = 'databricks-meta-llama-3-1-70b-instruct'\n"
   ]
  },
  {
   "cell_type": "markdown",
   "metadata": {
    "application/vnd.databricks.v1+cell": {
     "cellMetadata": {},
     "inputWidgets": {},
     "nuid": "1560a039-874e-4adc-af15-4e01744fb8bd",
     "showTitle": false,
     "tableResultSettingsMap": {},
     "title": ""
    }
   },
   "source": [
    "## Load Reviews from UC"
   ]
  },
  {
   "cell_type": "code",
   "execution_count": 0,
   "metadata": {
    "application/vnd.databricks.v1+cell": {
     "cellMetadata": {
      "byteLimit": 2048000,
      "rowLimit": 10000
     },
     "inputWidgets": {},
     "nuid": "8515290f-9c03-472a-bd6f-bd1110d75f41",
     "showTitle": false,
     "tableResultSettingsMap": {},
     "title": ""
    }
   },
   "outputs": [],
   "source": [
    "reviews_df = spark.table(f\"{CATALOG}.{SCHEMA}.{INTENTS_TABLE}\").toPandas()"
   ]
  },
  {
   "cell_type": "code",
   "execution_count": 0,
   "metadata": {
    "application/vnd.databricks.v1+cell": {
     "cellMetadata": {
      "byteLimit": 2048000,
      "rowLimit": 10000
     },
     "inputWidgets": {},
     "nuid": "83d475a8-7578-4d41-9022-9e822a4f9553",
     "showTitle": false,
     "tableResultSettingsMap": {},
     "title": ""
    }
   },
   "outputs": [],
   "source": [
    "all_reviews = [f\"{review['intent']}: {review['text_summary']}\" for _, review in reviews_df.iterrows()]"
   ]
  },
  {
   "cell_type": "code",
   "execution_count": 0,
   "metadata": {
    "application/vnd.databricks.v1+cell": {
     "cellMetadata": {
      "byteLimit": 2048000,
      "rowLimit": 10000
     },
     "inputWidgets": {},
     "nuid": "8c744c87-b174-42e5-a1f8-80c6b8987d89",
     "showTitle": false,
     "tableResultSettingsMap": {},
     "title": ""
    }
   },
   "outputs": [
    {
     "output_type": "execute_result",
     "data": {
      "text/plain": [
       "(['Check-in experience: The queue was not organised, resulting in a longer wait than others.',\n",
       "  'Check-in agent knowledge: The agent didn’t seem to know much about our delayed flight, nor whether she should check our bags and to where.',\n",
       "  'Flight cancellation/removal: We received a text to say we had been removed from the flight due to baggage handler strikes in Brussels.',\n",
       "  'Baggage collection: We waited for ages, and no sign of our bags. Even the staff there had no idea where they were.',\n",
       "  'Accommodation vouchers: We expected to be given accommodation vouchers, but the staff didn’t seem to have any idea what was going on.',\n",
       "  'Communication from airline: There was absolutely no information from the airline and we all felt abandoned.',\n",
       "  'Compensation for new flights and hotel: The airline refused to pay us compensation for new flights we had to book, nor did they pay for our hotel, or refund our original booked flights.',\n",
       "  'Flight booking and airline selection: I booked a flight with Expedia for my son to come home for his grandfather',\n",
       "  'Flight delay and cancellation: American',\n",
       "  'Refund policy issue with Sun Country: Sun Country stated they have no refund policy with canceled flights',\n",
       "  'Customer service experience with Expedia: Expedia did finally give me a credit after hours of calls and being on hold',\n",
       "  'Cabin safety: Worst cabin safety I have ever known. No check on whether seat belts were fastened. The girl next to me kept her large hand luggage on her lap throughout the flight. No check on whether seat backs were upright for landing and the meals not all collected on landing.',\n",
       "  'Flight experience: One to avoid in my book.',\n",
       "  'Overall experience: First time I flown with CSA with my family from Stockholm to Prague and we were not disappointed.',\n",
       "  'Check-in experience: Check-in was smooth',\n",
       "  'Boarding experience: boarding was smooth',\n",
       "  'Seat comfort: economy class seats are comfortable enough for a two hr long flight',\n",
       "  'Flight attendant service: Flight attendants did their job, I did not have to interact with them at all.',\n",
       "  'Punctuality: Take off and landing were on time. No delay.',\n",
       "  'Aircraft interior: Clean interior and enough place for hand baggage.',\n",
       "  'In-flight amenities: Passengers can see the flight route throughout the flight.',\n",
       "  'Flight experience: Flight TT254 was on time, then delayed and canceled due to an unknown reason.',\n",
       "  'Customer perception: The customer had low expectations of Tigerair based on reviews, but their experience was worse than expected.',\n",
       "  'Transfer to another airline: The customer suspects that Virgin Australia may have transferred passengers to later flights to save money.',\n",
       "  'Rescheduling of flights: I received a letter to my mail that my flights were rescheduled for another date.',\n",
       "  'Transfer policy: Transfers on these tickets are simply not possible.',\n",
       "  'Customer service experience: I called the phone but the call does not go through, I write to the mail but no one answers.',\n",
       "  'Overall experience: This is the worst company I have ever dealt with.',\n",
       "  'Check-in experience: At check-in there was a long queue and apparently a delay due to weather in Moscow.',\n",
       "  'Flight delay: We were delayed 5 hours but they did hand out \\\\',\n",
       "  'Seating comfort: The plane was a very outdated airbus seating was very uncomfortable as was leg space.',\n",
       "  'Cabin cleanliness: The cabin toilets were awful the taps weren\\\\',\n",
       "  'Cabin crew service: After talking to a robotic cabin crew member she handed me some bottles of water and told me to use them to wash my hands.',\n",
       "  'Food quality: The food was nice but it was little to make me impressed about this airline.',\n",
       "  'Change of travel date: Interjet will not let us change our date for next year even though we are consumers who paid for this.',\n",
       "  'Customer service: Do not fly Interjet, you call the 866-285-9525 number and no one speaks English.',\n",
       "  'Overall experience: This is frustrating.',\n",
       "  'Lack of information about online check-in and transfer flight procedure: The airline did not provide clear information about online check-in and transfer flight procedure, leading to confusion and missed flight.',\n",
       "  'Poor communication and customer service: The airline sent too many promotional emails, making it hard to find important information, and the staff did not provide adequate assistance or solutions when the issue arose.',\n",
       "  'Unclear website information: The airline website was not clear about the transfer flight procedure, which added to the customer confusion.',\n",
       "  'Dissatisfaction with refund and rebooking policy: The airline did not offer any refund or rebooking options, leaving the customer feeling frustrated and disappointed.',\n",
       "  'Check-in experience: The check-in process was misleading, as the ukulele was initially allowed but later required a special handling fee.',\n",
       "  'Baggage handling: The special handling fee for the ukulele was not justified, as it was simply placed in the overhead compartment.',\n",
       "  'Customer service: The customer is seeking a refund and plans to dispute the charge, indicating a lack of trust in the airline',\n",
       "  'Flight cancellation: The initial flight was cancelled by cell phone with no apology and great inconvenience.',\n",
       "  'Return flight experience: We were bumped at the last moment despite arriving 2 hours early, and the flight was running late.',\n",
       "  'Bumping experience of other passengers: The couple ahead of us had been bumped twice that day.',\n",
       "  'In-flight meal service: They kept selling food for people who didn',\n",
       "  'Flight comfort: The flight was smooth, seat is very comfortable',\n",
       "  'In-flight entertainment: They provide us with a very good magazine so I didn',\n",
       "  'Overall experience: I will never doubt to fly CItilink and will recommend it for sure',\n",
       "  'Flight experience: Overall the 7 hour flight to Bahrain was good.',\n",
       "  'Baggage issue: We had a long delay in the plane for an hour 1 hour 30, due to some baggage issues, so we had to wait.',\n",
       "  'Onboard Wi-Fi: I can confidently say the on board WiFi was amazing.',\n",
       "  'Food quality: The food on board was chicken and rice. This was nice and one of the first times I enjoyed plane food.',\n",
       "  'Seat comfort: As we flew over Turkey, I decided to get some sleep as the seats were comfortable.',\n",
       "  'Overall experience: Hands down the worst airline service I have ever recieved.',\n",
       "  'Customer service: Customer service is non-existent and when you do get in contact, they are rude and uninterested in your concerns.',\n",
       "  'Booking experience: I have been trying to book a flight using my Air miles (600,000 miles) to several destinations for 8 MONTHS and Etihad claims that they don',\n",
       "  'Customer loyalty: There is no Customer loyalty, no genuine interest to help customers (especially someone who has been flying with Etihad frequently for 10+ years).',\n",
       "  'Crew competence: Very competent crew',\n",
       "  'Seat comfort: The seats were comfortable',\n",
       "  'In-flight entertainment: The IFE was adequate',\n",
       "  'Food quality: The food was good for the most part',\n",
       "  'Flight attendant service: The flight attendants brought another drink without me having to ask',\n",
       "  'Layover experience: We had a premium hotel room plus free transportation',\n",
       "  'Aircraft change: The aircraft from Fuzhou to Nanning was changed to a single class 738',\n",
       "  'Flight delay: The flight was about 40 minutes late leaving Fuzhou but that was an air traffic control issue',\n",
       "  'Overall experience: Well worth the money and I recommend this airline',\n",
       "  'Layover duration: My only issue are long layovers',\n",
       "  'Flight experience: The flying product of Air Namibia is very good indeed. New Airbus A319 with good seat comfort. Cheerful cabin crew and ok food.',\n",
       "  'Inflight entertainment: Inflight entertainment on the boring side but no problem for such a short flight.',\n",
       "  'Administration and customer service: What lets them down is the awful administration it takes ages to reach someone by phone and their so called call centre puts you on a loop whenever you are calling.',\n",
       "  'Flight punctuality: Never, ever is this flight on time. Delay 1 hour, 2 hours, and last monday a delay of 3 hours.',\n",
       "  'Lack of alternative flights: And there isn',\n",
       "  'Perceived airline attitude: Maybe this is the reason: only this flight, only this airline and they think they can do what they want.',\n",
       "  'Assistance provided by the airline: The airline provided assistance with care and attention, and in a dignified manner.',\n",
       "  'Check-in experience: Check-in is good, with a welcoming email 24 hours prior, and a slightly overweight bag was checked in with a wink.',\n",
       "  'Comparison to previous experience: The experience was contrasting to the recent Norwegian experience at LGW, with Aerolineas providing a better service.',\n",
       "  'Flight experience: The plane was nice and clean, with welcoming and well-groomed cabin crew, and a standard seating plan.',\n",
       "  'In-flight service: A basic but complementary snack was served by very pleasant crew who didn',\n",
       "  'Overall experience: The overall experience was positive, with the airline providing a good service, and the customer is now tempted to return to Aerolineas for their next long haul flight.',\n",
       "  'Additional fees: They charged for everything, including printing your boarding pass and carry on bags.',\n",
       "  'Crew service: Nice crew when I got on',\n",
       "  'Seat comfort: uncomfortable and flimsy seats',\n",
       "  'Flight disruption: We were delayed for an hour on the ground, and there was no announcement as to why',\n",
       "  'In-flight food and beverage: the flight attendants went down the aisle with a cart of food for sale. We were sitting toward the back of the aircraft, and when the flight attendants got to us it turns out that they were out of everything except for cup noodles',\n",
       "  'In-flight amenities: There was no inflight entertainment and no wifi',\n",
       "  'Booking experience: Having needed to book last-minute, we were very pleased to find that FlySafair had reasonable fares a few hours before departure.',\n",
       "  'Check-in experience: The experience started at check-in, unfortunately the priority queue was slower than the normal queue due to passengers being let forward due to needing special assistance or running late.',\n",
       "  'Boarding experience: However, as soon as we got onboard, we were greeted by a professional crew and the whole boarding process was very organised.',\n",
       "  'Seating comfort: Legroom was adequate, however the seatback was rather short, meaning that sleeping was uncomfortable for anybody taller than 175cm.',\n",
       "  'In-flight service: In-flight service was BOB with very reasonable prices.',\n",
       "  'Baggage handling: In Johannesburg our luggage was delivered within a reasonable timeframe.',\n",
       "  'Overall experience: All in all, I wouldn',\n",
       "  'Seat selection and allocation: We paid for our seats extra but were given dreadful seats with no view on both journeys.',\n",
       "  'Disruption by other passengers: A small boy kicked my seat and had a tantrum with continuous screaming, disrupting my flight.',\n",
       "  'Staff response to disruption: The staff on board did nothing to control the situation and ignored my pleas for help.',\n",
       "  'Staff helpfulness and pleasantness: The staff were not helpful or pleasant, and did not offer an alternative seat despite availability.',\n",
       "  'Seat comfort: Seat was comfortable legroom was okay and had a foot rest and a normal size PTV.',\n",
       "  'Amenities: They had big pillows and blanket at every seat.',\n",
       "  'In-flight service: Candy (honey) was given out - a nice gesture.',\n",
       "  'Crew service: The crew in general was a bit reserved but friendly.',\n",
       "  'In-flight entertainment: I tried their inflight entertainment system which is AVOD and it was okay.',\n",
       "  'Food quality: Breakfast was served about 1.5 hours before arrival and was very small; smallest I have ever seen but very good.',\n",
       "  'Overall experience: To sum it up TAAG was a very pleasant surprise having heard of horror stories and also since they don’t have a functioning website.',\n",
       "  'Flight delay and lack of communication: flight delayed twice, no sign change put up at the gate, over 100 people waiting in line for over and hour, since the sign said it was boarding the entire time with no announcement',\n",
       "  'Rebooking experience: 25 People waiting in line to book a new connecting flight since the now delayed flight (which we had to figure out on our own) would make everyone miss their connection, we are not spoken to, rather told to board the plane with a ',\n",
       "  'Hotel accommodation: Get to Dallas, no flights until the next day, and we have to pay for our hotel room?',\n",
       "  'Overall experience: What a wonderful way to end my vacation. Never again will my money go towards this airline or their partners.',\n",
       "  'Pre-booked seat issue: Paid $50 CAD per seat for pre-booked seats, but found broken TV on one seat on the way to Manila and two seats on the return flight.',\n",
       "  'Crew response to complaint: Complained to the crew about the broken TVs, but nothing was done.',\n",
       "  'Ticket price and service: Considering the expensive tickets and poor service, will not fly with PAL again.',\n",
       "  'Security check process: Questioned the need for another x-ray of bags at the boarding gate at NAIA, citing unnecessary chaos and lineups.',\n",
       "  'On-time performance: planes leave and arrive on time',\n",
       "  'Cabin service: cabin service is professional',\n",
       "  'Seat comfort: the seat has a lot more leg room than most other airlines',\n",
       "  'Meal options: No choice of meals in Business Class',\n",
       "  'Amenities: No pillows, plastic tumblers for wine, tiny wifi screen and terrible earphones',\n",
       "  'Document checks: disorganized and repetitive document checks',\n",
       "  'Lounge experience: nice new lounge but limited food options',\n",
       "  'Food quality: tuna sandwiches were stale bread rolls with thin layer of tuna paste',\n",
       "  'Pricing: high price for the service provided',\n",
       "  'Flight cancellation: The flight had been cancelled.',\n",
       "  'Refund issue: I emailed back to ask when I’d be refunded so I could book another flight.',\n",
       "  'Customer service issue: I got a response telling me my email had been blocked! I tried the main customer service site and no response to that either.',\n",
       "  'Overall experience: Worst experience with an airline in my life! Don’t use them!!!',\n",
       "  'Flight cancellation: Our flight was cancelled due to technical reasons after waiting for 3 hours.',\n",
       "  'Staff helpfulness: Staff are not helpful at all and some are rude and unapproachable.',\n",
       "  'Communication: No communication between staff and we need to keep asking about what’s gonna happen.',\n",
       "  'Inflight entertainment: They have inflight entertainment but you cannot use it as they don’t provide headsets.',\n",
       "  'Overall experience: Really a bad experience and we ended losing 1 day in Barcelona and our accommodation.',\n",
       "  'Flight experience: both flights were very good especially the return flight',\n",
       "  'Flight experience: Brand new ATR very clean and comfortable.',\n",
       "  'Food and beverage: Served strange chicken roll cake and soft drink or beer.',\n",
       "  'Cabin and flight crew communication: Quite hard to understand the cabin and flight crew sometimes',\n",
       "  'Safety and punctuality: Felt very safe and departed/arrived early.',\n",
       "  'Price: Flights pretty expensive considering length of flight and general Lao prices.',\n",
       "  'Flight delay experience: Flight delayed for around 3 hours without updating us on what is the issue, constantly saying the flight will be delayed half an hour without any explanation.',\n",
       "  'In-flight amenities: It is extremely hot, they should at least offer complimentary drinks or let us get out of the flight for a bit.',\n",
       "  'Future travel plans: Never flying here again',\n",
       "  'Flight schedule change: Our tickets from JFK to MLE were changed from Jan 31 to Feb 1, 2023.',\n",
       "  'Flight delay: On the day of the flight, the flight was delayed for more than 3 hours, and we missed the connection from DOH to MLE.',\n",
       "  'Compensation dispute: Qatar Airways said they are not responsible for the compensation.',\n",
       "  'Past flight experiences: We flew 4 times with the airline, the flights were all smooth.',\n",
       "  'Flight cancellation: My flight was cancelled five months ago.',\n",
       "  'Compensation claim: I submitted the claim for compensation via their website. I haven',\n",
       "  'Lack of response from airline: I haven',\n",
       "  'Frustration with customer service: I called twice only to be told that they cannot do anything and to send email to claims department.',\n",
       "  'Middle name change scam: being caught by the middle name change scam',\n",
       "  'Loss of business: You may have got 60 euros from us but you have lost our business forever',\n",
       "  'Flight details: The flight was Tirana to Milan, had no choice but to pay as had a connecting flight in Milan',\n",
       "  'Plane condition: VIE-TUN. Boeing 737-600 looked tired',\n",
       "  'Inflight service: inflight service excellent for a 2 hour flight',\n",
       "  'Flight attendant service: Flight attendants friendly',\n",
       "  'Plane cleanliness: It is a shame that Tunisair does not keep its planes tidy and clean',\n",
       "  'Service quality: Service ok but FA',\n",
       "  'Dinner quality: Dinner was ok',\n",
       "  'Breakfast quality: Breakfast was embarrassing',\n",
       "  'Seat comfort: Seat was okay',\n",
       "  'IFE quality: IFE was a joke',\n",
       "  'Comparison with other airlines: Could have paid the same for a Lufthansa flight',\n",
       "  'Booking experience: Somon Air flights are very difficult to book outside Tajikstan',\n",
       "  'Return flight experience: I was pleasantly surprised with my return flight',\n",
       "  'Aircraft and comfort: Aircraft was a new Boeing 737-900 flight was comfortable',\n",
       "  'Cabin crew service: the cabin crew very good',\n",
       "  'In-flight entertainment: There is no TV IFE but as most of the Somon Air flights are through the night this wasn',\n",
       "  'Competitiveness: they really do need to offer flight booking outside Tajikstan with the major travel agents in order to be competitive',\n",
       "  'Flight experience: Flew to Nigeria on Arik return. My flights were most disappointing in Premier Class (Business Class).',\n",
       "  'Meal service: The meals were not particularly appetizing. There a long stretch of time between the first meal and the last the attendants refused to provide snacks to passengers who asked.',\n",
       "  'In-flight entertainment: The entertainment system in the premier compartment (for a 13 hour flight) was not working.',\n",
       "  'Luggage handling: On arrival at both destinations my luggage which was tagged with ',\n",
       "  'Overall satisfaction: Given the cost of the flight the overall poor service this experience lead me to the decision to stop flying Arik Air.',\n",
       "  'Flight comfort: Planes are mainly comfortable and crew onboard is nice and friendly.',\n",
       "  'In-flight food and beverages: Food and beverages what you can buy onboard is also good.',\n",
       "  'Check-in experience: Check-in and boarding are below average.',\n",
       "  'Boarding experience: Boarding was announced and everyone told to be quick so we can depart on time.',\n",
       "  'Ground service: It looks like that their check-in and ground service is really below average.',\n",
       "  'Luggage handling: So also we wait for 1 hrs for our check-in luggage at Riga airport.',\n",
       "  'Overall experience: I rate planes and comfort on flight 4 but ground service -1 so the total score is 2.',\n",
       "  'Flight experience: Both flights were seamless.',\n",
       "  'Punctuality: They left on time and arrived early.',\n",
       "  'Airport experience: The smaller airport at Wilmington was easier and quicker to navigate.',\n",
       "  'Flight delays: Last minute delays, both there and home.',\n",
       "  'Damaged luggage: The bag is broken (big hole in it and a lot of other minor damage). The contents of the bag are total chaos.',\n",
       "  'Lack of customer service: No airline representative on site to contact regarding this. Instead, you have to fill in 2 incredibly time-consuming forms. Zero service. Total nonchalance.',\n",
       "  'Flight experience: Please don',\n",
       "  'In-flight meal service: In the international fly, Tokio Rome, they starved us to death, and in 15 hours of flight offer us only 2 meals that can barely make a dinner for a child',\n",
       "  'Staff behavior: the staff was rude',\n",
       "  'Flight delay and handling: In the Rome - Madrid fly, they assure you that you will take the flight but, but they dropped us in the international airport, and when we ask about or delayed flight, they said to us: ',\n",
       "  'Flight punctuality: Also, this flight, the Rome - Madrid flight, has a delayed EVERY SINGLE DAY',\n",
       "  'Overall flight experience: I enjoyed the flight.',\n",
       "  'Check-in experience: Check in was easy',\n",
       "  'Flight punctuality: take off was punctual',\n",
       "  'Staff service: The staff were friendly and helpful',\n",
       "  'In-flight amenities: The only complimentary drinks offered were water, tea and coffee. There were snacks and drinks to purchase.',\n",
       "  'Carry-on baggage policy: The airline would not allow a small carry-on, claiming the flight was full, but it was only half full.',\n",
       "  'Seating arrangement: The paid-for seating arrangement was not honored, but luckily the flight was half full and they could seat themselves.',\n",
       "  'Comparison to alternative transportation: The customer recommends taking the train when traveling within Morocco.',\n",
       "  'Ground experience: Etihad delivers a fine product from the ground to the air.',\n",
       "  'Onboard service: Once onboard was shown to my seat by the cabin manager and served a glass of champagne and fresh orange juice.',\n",
       "  'Food quality: So much food was on offer and I ate my fair share.',\n",
       "  'Cabin crew service: Cabin crew constantly asking if I was fine and needed anything.',\n",
       "  'Seat comfort: The seat was so comfortable and loved the massage function and the ability to change the cushion from soft to hard giving the best seat comfort.',\n",
       "  'In-flight entertainment: A sensational amount of movies and TV shows to keep you awake the whole flight.',\n",
       "  'Overall experience: Really impressed with Etihad and will fly them again.',\n",
       "  'Flight rescheduling and cancellation: Rescheduled flight 3 times on the day of departure before finally cancelling it',\n",
       "  'Alternative flight booking: Had to book an Indigo flight at the last moment for double the price to get back to work',\n",
       "  'Government regulation: Am really ashamed that the government allows this so called airline to operate in India',\n",
       "  'Crew professionalism: Extremely professional crew',\n",
       "  'Food quality: delicious food',\n",
       "  'Seat comfort: I didn',\n",
       "  'Overall experience: Wonderful flight. Would recommend.',\n",
       "  'Refund policy: Worst airline company, refused to provide full refund for tickets cancelled before Jan 28, playing word games with government policies',\n",
       "  'Customer service: This is the worst airline ever, they don',\n",
       "  'Employee knowledge: the employees are ignorant, they don',\n",
       "  'Line organization: they don',\n",
       "  'Listening skills: They do not listen that all',\n",
       "  'Future purchase decision: I will never buy a ticket again with them',\n",
       "  'Ground staff service: Hong Kong Airlines ground staff were pitiful. The woman that printed our boarding pass for the Hong Kong to Beijing flight was absolutely rude and talked to us like we were stupid.',\n",
       "  'Flight delay: The flight was delayed by 7 hours, causing the passengers to lose a day of pay and experience inconvenience.',\n",
       "  'Lack of passenger care: Air India did not offer water to passengers during the delay.',\n",
       "  'Technical issues: The flight had technical errors, which were initially misattributed to low fuel.',\n",
       "  'Transfer and re-flight: Passengers were transferred to another flight, which departed after a delay.',\n",
       "  'Overall experience: The passenger had a horrible experience and strongly recommends against using Air India Express.',\n",
       "  'Special meal request: Requested a gluten free meal and was given a regular meal.',\n",
       "  'Check-in experience: Staff couldn’t see my request at check in.',\n",
       "  'Aircraft cleanliness: Very clean aircraft',\n",
       "  'Food quality: Great food, the bread is probably the best I had in a commercial flight',\n",
       "  'Entertainment system: Limited entertainment system but does the Job',\n",
       "  'Customer service: Outstanding customer service in all points',\n",
       "  'Seat comfort: Seats are hard as rock, leg space is minimal',\n",
       "  'Flight delay: Our flight would be delayed due to a typhoon.',\n",
       "  'Staff assistance: The staff took good care of us, arranging alternate flights, looking after our luggage, and reassuring us.',\n",
       "  'Hidden subscription fee: Volotea automatically booked a yearly subscription for Megavolotea service without clear indication of extra fee.',\n",
       "  'Lack of transparency in transaction: No cost breakdown or receipt was provided after payment.',\n",
       "  'Seat assignment issue: Seat was given to someone else deliberately, despite prior payment.',\n",
       "  'Check-in issue: Unable to check-in online, and no notice was given about seat assignment issue.',\n",
       "  'Customer treatment and respect: Customer felt disrespected and taken advantage of by the airline.',\n",
       "  'Business seating: The aircraft did not have any proper business seating, neither a blanket nor a pillow.',\n",
       "  'Lost luggage: My suitcases were untraceable, and after almost 3 days I still did not receive my suitcases and no one reached out to inform me about their status.',\n",
       "  'Customer service: Neglecting of both airlines and Swisspost bag handling team, very unprofessional and unamicable.',\n",
       "  'Warning against booking with Jetstar: I suggest if you have options you don',\n",
       "  'Customer service: Customer service before the flight and at check in at SeaTac was excellent',\n",
       "  'Flight delay: flight delayed both ways',\n",
       "  'Cleanliness: Lap trays not clean. Armrest not cleaned',\n",
       "  'Leg room: Leg room - poor',\n",
       "  'In-flight amenities: Person next to me asked to buy headphones - sorry none available',\n",
       "  'Overhead storage: No room in overhead! Perhaps because of new $25 bag check in rule',\n",
       "  'Overall experience: Much boasting about the Virgin Air experience - but it was very average or below average',\n",
       "  'Check-in experience: Queue of hundreds at the TC Desks, two checkin desks open, utter chaos, finally got booked in after an hour and 15 mins',\n",
       "  'Flight punctuality: The Flight left bang on time, 6.30am',\n",
       "  'In-flight meal service: We had ordered pre booked meals, these were served after a drinks round, which left no where to put your meal down, utterly bizarre',\n",
       "  'In-flight meal options: Thomas Cook just get a meal placed in front of you, no choice at all',\n",
       "  'Overall flight experience: But as for flights both were ok, home leg from Zante was 45 mins late, but no big deal',\n",
       "  'Aircraft upgrade: A fantastic step up from the Q400 service offered on the first and last service to Melbourne each day.',\n",
       "  'Seating comfort: The 2-3 seating is great.',\n",
       "  'Flight frequency: The other bonus is 2 direct services each way per day to Sydney.',\n",
       "  'Punctuality: My flights left on time and arrived on time each way.',\n",
       "  'Staff service: Staff were friendly and engaging.',\n",
       "  'In-flight entertainment: iPad for entertainment were good to.',\n",
       "  'Cabin cleanliness: Cabins were clean and fresh.',\n",
       "  'Flight cancellation: The airline cancelled the flight for no reason.',\n",
       "  'Customer support experience: The customer support service did not answer and left the customer hanging.',\n",
       "  'Office location: There is no Egyptair office close to the customer',\n",
       "  'Flight cancellation: The flight was cancelled due to a strike in French Polynesia, and the airline staff were unhelpful and dismissive.',\n",
       "  'Check-in experience: The check-in process was disorganized, and the staff were unhelpful.',\n",
       "  'Rebooking experience: The airline refused to rebook them on another flight, and they had to book a new flight with Air France at a higher cost.',\n",
       "  'Customer service: The airline staff were unhelpful and dismissive, and refused to provide assistance or compensation.',\n",
       "  'Travel insurance: The customer now has to fight with their travel insurance company to get the difference in costs back.',\n",
       "  'Flight delay: Mumbai to Mauritius was delayed due to late arrival of the incoming aircraft from Mauritius.',\n",
       "  'Check-in experience: During check in we were advised that the departure was rescheduled due to the late arrival of the aircraft to Mumbai.',\n",
       "  'Ground staff service: The ground staff were very courteous and patient and displayed professionalism while dealing with the passengers.',\n",
       "  'In-flight experience: Enjoyed the flight.',\n",
       "  'Flight delay: Our flight from New York JFK to Naples was delayed a total of 7 hours for no reason.',\n",
       "  'Lack of communication: Flight status was not available on Google and other tracking sites. No severe weather, no technical issues, no explanation.',\n",
       "  'Poor gate experience: When we arrived at our assigned gate, no Meridiana representative was available to answer any questions, and the gate did not display the correct flight information.',\n",
       "  'Uncomfortable seating: The seats were impossibly narrow and lacked individual TV screens. One of the seats in our row was duct taped together.',\n",
       "  'Poor in-flight experience: We were delayed on the Tarmac for another hour and a half in a cramped, poorly ventilated plane from 1986 because of traffic.',\n",
       "  'Broken seat: The seat in front of my boyfriend',\n",
       "  'Warning to others: Pay the extra $ for a flight where you receive clear communication from the airline and the plane isn',\n",
       "  'Inflight entertainment: Inflight entertainment non-existent - crackly DVD showing Spanish cartoons and headphones system did not work.',\n",
       "  'Seat comfort: Seats broken and uncomfortable.',\n",
       "  'Service quality: Service very poor and could not hear any of the announcements. When I signalled for a stewardess to come and speak to me I was shrugged at.',\n",
       "  'Cabin temperature: Temperature was high in the cabin throughout flight.',\n",
       "  'Business Class upgrade: Upgraded to Business Class this was really worth it. Staff attentive and the food great. The entertainment (although audio still not working) was better quality.',\n",
       "  'Seat comfort: The A321 has good seats with sufficient legroom and an IFE display at every seat. The A330 had ample legroom and good seats.',\n",
       "  'Cabin crew service: The cabin crew was very pleasent and delivered excellent service',\n",
       "  'Food quality: the food on the other hand, can be improved',\n",
       "  'Overall experience: Had a very pleasant experience. All in all a good flight for the price and wouldn',\n",
       "  'Lack of communication: It is absolutely impossible to have an answer to our questions. Have been left in the void.',\n",
       "  'Flight cancellation: Our flights have been scheduled on July 20, 2020.',\n",
       "  'Voucher issue: I have not received anything. And impossible to communicate with interjet.',\n",
       "  'Flight delay and re-routing: Due to Storm Ciara our flight was delayed by several hours and then we flew to East Midlands airport with onward coaches arranged to Gatwick.',\n",
       "  'Communication from Captain: The Captain, came into the cabin many times to keep us updated at every stage and to answer any questions.',\n",
       "  'Crew service: The crew were great too. Nothing was too much trouble.',\n",
       "  'Appreciation for communication: We would like to pass on our appreciation for the great communication during a difficult time.',\n",
       "  'Lost item at check-in: I left my iPhone in the check in kiosk.',\n",
       "  'Staff assistance: Tan was so helpful and staff was extremely sympathetic and helpful.',\n",
       "  'Airport security assistance: Airport security was also helpful.',\n",
       "  'Recovery of lost item: Tan had found my phone and told them exactly where he’d secured it.',\n",
       "  'Overall experience: To a person everyone at Tiger Air was concerned and helpful!',\n",
       "  'Flight staff service: Airline staff seemed a bit frosty. No smiling at customers.',\n",
       "  'In-flight beverage service: After allowing us one drink they didn',\n",
       "  'Comparison to prior reviews: I had read the reviews about the airline before we travelled - they were pretty accurate.',\n",
       "  'Return flight staff service: Staff on the return seemed more relaxed and more approachable.',\n",
       "  'Check-in experience: Albury is a small regional airport so no lining up to check in and all done with a polite smile.',\n",
       "  'Boarding experience: Boarding very organised and I had paid extra ($4.00) for an exit row seat.',\n",
       "  'In-flight service: One flight attendant who did a great job explaining what that meant.',\n",
       "  'Flight punctuality: Took off right on time and landed in Sydney a few minutes late due bad weather.',\n",
       "  'In-flight amenities: In flight we were offered tea or coffee and a snack and also water.',\n",
       "  'Return trip experience: Return trip was also great with the same seat (6 A) and the service was excellent.',\n",
       "  'Baggage handling: Landed 20 mins ahead of schedule and bags delivered at about the same time it took to walk to the terminal.',\n",
       "  'Overall experience: Overall a great airline which serves many areas of regional Australia.',\n",
       "  'Service standards: their service standards have to be amongst the best in the world',\n",
       "  'Complaints: no complaints on this site is a plus',\n",
       "  'Check-in experience: After following the instructions of a member of Transavia',\n",
       "  'Baggage handling: my bag did not make it to Salzburg and I am without my luggage 6 days later',\n",
       "  'Customer service: the responses I get are simply an attempt to placate instead of actually being helpful',\n",
       "  'Flight cancellation and rescheduling: The flight from Jeddah to Riyadh was canceled and rescheduled for 19:00 without a valid reason.',\n",
       "  'Communication issues: The passengers received a message only 10 minutes before boarding and the airport screen still showed the flight as on time.',\n",
       "  'Customer service: The staff on land showed zero respect to passengers time and provided very poor customer service.',\n",
       "  'Flight cancellation notification: EgyptAir contacted me four days before my flight to inform me the flight was cancelled.',\n",
       "  'Refund process: I have made several attempts to get adequate information from the agent that issued the ticket to me without success.',\n",
       "  'Refund request: I need to get a refund.',\n",
       "  'Flight experience: Amazing experience, pure adventure',\n",
       "  'Ticket purchase and pricing: Bought this ticket some months earlier for the high season to Europe as a huge bargain for 347 USD including 2 x 23 kg of luggage',\n",
       "  'Flight schedule change: Notified by online travel agent that the return flight from Budapest was preponed by 1 hour, had to change plans',\n",
       "  'Customer service: Eventually, it went smoothly and I was changed to my wish without added costs',\n",
       "  'Airline website usability: The homepages of China Eastern and Shanghai are difficult to penetrate and to book or change bookings from',\n",
       "  'Check-in experience: Arrived in Hongkong early and was able to check-in 6 hours before departure, no queues at the check-in and the ground staff were good',\n",
       "  'Flight amenities: Newspapers and 10 channels of music were offered, shared monitors showed some educational movies, food was limited to a tidy pack of biscuits',\n",
       "  'In-flight service: FAs were fine, modern aircraft, good food and service, frequent drink rounds, button calls answered quickly and needs were addressed instantly',\n",
       "  'Customer service experience: Their customer service is a joke, they all just have scripted answers and redirect you to fill out forms on the website.',\n",
       "  'Lost luggage: Austrian Airlines have ',\n",
       "  'Baggage check-in issues: I tried to buy online for 30 per bag and the website kept giving an error which I showed the error and charges to the check in at the airport and she still did not honor the price and made us pay 50.00 per bag to then lose said bags and destroy a proposal and vacation.',\n",
       "  'Flight experience: First time with Austrian Airlines and it will definitely be my last. My flight was Venice to Dubrovnik with a layover in Vienna.',\n",
       "  'Reimbursement issues: I',\n",
       "  'Overall experience: Never fly with them and I would definitely suggest never checking your baggage!',\n",
       "  'Customer service experience: Very much disappointed with the customer service provided.',\n",
       "  'Flight status and travel restrictions: The customer service person told me that my flight is confirmed but since the travel restriction is extended and I am holding a Indian passport I need to check with Indian embassy whether I am allowed to enter India.',\n",
       "  'Cancellation policy and fees: They told me that since their flight is confirmed if I want to cancel there will be cancelation fee.',\n",
       "  'Change fee policy: Very disappointed, trying to get home to a family emergency but all three of us have to pay 160 dollars just to change our time.',\n",
       "  'Insurance policy effectiveness: What',\n",
       "  'Check-in experience: Check in for 300+ passengers was run by 3 staff so our flight boarding was over an hour late (flight delayed 1.5h)',\n",
       "  'On flight service: On flight service was below average - took 2.5h for the first meal to arrive, no service in-between meals, and staff were standoffish even though I was extremely polite and patient',\n",
       "  'Food quality and availability: Second drinks and snacks were unavailable to be ordered. The meal portions were smaller than I remember',\n",
       "  'Airline staff behavior: staff were standoffish even though I was extremely polite and patient',\n",
       "  'Overall experience: Unfortunately Air NZ was a huge let down and I',\n",
       "  'Hand luggage fee: WOW air asked him to pay an abusive price for his hand luggage (90 euros).',\n",
       "  'Customer service: I wrote several times to the company and they dont give me a satisfactory answer.',\n",
       "  'Comparison with another airline: The same day my son took a flight with Norwegian and nobody asked him to pay any fee for his hand lugagge.',\n",
       "  'Overall impression of WOW air: This is an abusive attitude from an non-serious flight company.',\n",
       "  'Flight experience: Two uneventful one-hour flights',\n",
       "  'Service level: Service level is minimal',\n",
       "  'Food and beverage options: A bottle of water and a piece of chocolate is all you get',\n",
       "  'Crew service: Crew gave out water and chocolate, then disappeared',\n",
       "  'In-flight amenities: WIFI didn',\n",
       "  'Value for money: Fares are high, service is low',\n",
       "  'Reliability: Nevertheless recommended because of their reliability',\n",
       "  'Flight experience: A wonderful experience from Caribbean Airlines, the flight departed on time and arrived before scheduled on the trip up.',\n",
       "  'Seating comfort: The seats were comfortable',\n",
       "  'Food quality: The food was good, in my opinion there is no competition to Caribbean',\n",
       "  'Flight attendant service: The flight attendants were very friendly and attentive',\n",
       "  'Staff service: Very pleasant and helpful staff both ground staff and cabin crews with clear understanding English',\n",
       "  'Aircraft cleanliness: Aircraft was clean',\n",
       "  'Cabin crew efficiency: Cabin crews worked quite effectively considering the short time flight',\n",
       "  'Flight scheduling and punctuality: All flights were late and taxi rides and bus rides to the runways are long and times do not seem to be factored into the flight schedule.',\n",
       "  'Communication from staff: There was zero communication from staff and upon asking we were told different answers by different staff.',\n",
       "  'Seating arrangements: We attempted to be seated together from the time of booking, and then each subsequent time, without success.',\n",
       "  'In-flight entertainment: There is ZERO entertainment on board - not even a screen to monitor the flight progress and no announcements.',\n",
       "  'Crew behavior: The entire crew sat in the back row and chatted for the full 6 hours.',\n",
       "  'Connection experience: We were kept in a small security room with far too many people for longer than was expected without access to any services.',\n",
       "  'Duty-free shopping: I had been told I could not bring duty free from Lisbon to Ponta Delgada but that I could purchase it there, but the kiosk did not open.',\n",
       "  'In-flight meal service: The dinner service was one hour into the flight and they ran out of wine before it completed.',\n",
       "  'Flight experience: Flew Pokhara to Kathmandu.',\n",
       "  'Customer service: Buddha Air service in Nepal is excellent. Good customer care, baggage handling is good.',\n",
       "  'Seat comfort: Seat is comfortable',\n",
       "  'Aircraft cleanliness: windows of aircraft were not very clean',\n",
       "  'Entertainment system: No entertainment system because of very short flight time i.e. 20 minute',\n",
       "  'Value for money: All seats are economy class, best value for money',\n",
       "  'Airline rating: This is the best airlines on the domestic sector of Nepal',\n",
       "  'Overall experience: First experience with US and overall it was good.',\n",
       "  'Cabin crew service: pleasant and engaged cabin crew',\n",
       "  'Special meal service: the special meal pre ordered on the transatlantic legs of the trip was quite good by today',\n",
       "  'In-flight amenities: A nice touch on the outbound trip was a mid flight ice cream snack and the complementary wine with meals was also appreciated.',\n",
       "  'IFE selection: Good selection on the Transatlantic IFE',\n",
       "  'IFE availability: surprisingly no IFE on the U.S. Domestic A321s',\n",
       "  'In-flight menu: Quite a limited inflight menu on domestic flights not much healthy food on offer and by the time cabin crew reached us they were sold out of most food items.',\n",
       "  'Flight diversion and connection: Return flight from LAX to PHL was diverted to Richmond due to ATC restrictions in PHL thankfully the DUB flight was held so when we eventually got to PHL we were able to make the connection which departed 1 hour 20 mins late.',\n",
       "  'Check-in experience: Check-in Desk rude and dismissive. Staff uncommunicative, did not know what baggage allowance entitled to, once raised (politely) became argumentative and accusatory.',\n",
       "  'Flight punctuality: Flight late but seems the new norm.',\n",
       "  'Credit application issue: The customer had a credit in their Alaska Wallet that they were unable to apply to a seat upgrade, despite no clear indication on Alaska',\n",
       "  'Customer service issue: The customer was informed by customer service that seat upgrades are excluded from credits, which they felt was not clearly stated on Alaska',\n",
       "  'Flight experience issue: The customer was upgraded to Premium Economy, but the flight was changed to a plane with no Premium seats, resulting in a cramped flight',\n",
       "  'Airline comparison: The customer has decided to switch to Delta as their go-to airline due to their negative experience with Alaska',\n",
       "  'Check-in experience: Terrible check in process',\n",
       "  'Lost stroller: Lost my travel stroller',\n",
       "  'Personnel service: The personnel rudely said there is nothing to do with it',\n",
       "  'Food quality: Food was fantastic, some meals had both Chinese and Western choices, such as fried rice or pasta.',\n",
       "  'Seat comfort: Seat can be reclined.',\n",
       "  'Toilet cleanliness: Toilets are pretty clean but flushing was unpleasant.',\n",
       "  'In-flight entertainment: Entertainment included popular movies, a kids section, brief history, games section, CCTV report on the airline, and adult sections.',\n",
       "  'In-flight services: There were several drinks services of juices and soft drinks.',\n",
       "  'Flight attendant service: Flight attendants are pleasant but tend to be a little annoyed if you call them when they are serving another passenger.',\n",
       "  'Check-in and boarding experience: Boarding was quick and on time.',\n",
       "  'Flight punctuality: We were pushed back on time, which also meant the flight left on time.',\n",
       "  'Flight duration: It was only a short hop of 55mins.',\n",
       "  'Future flight expectations: I will see how they are again when I fly 3 hours plus on my next flight.',\n",
       "  'Overall experience: Overall No issues. Airline very smooth and would recommend.',\n",
       "  'Check-in experience: Check-in in Bali was a bit disorganised but once I got to the front of the line, I was dealt with quickly.',\n",
       "  'Inflight staff service: Inflight staff were generally good and professional, speaking Indonesian and English.',\n",
       "  'Duty free promotion: The only problem being their aggressive promotion of duty free goods, including leaning across me for long periods while their scarfs fell all over the place.',\n",
       "  \"Inflight meal quality: The worst inflight meal I've ever had. I think it was a battered fish fillet but it was so tough it could also have been chicken. It came with cold fries and some tinned vegetables that were the best part of the meal.\",\n",
       "  'Overall airline assessment: With fairly new aircraft and good staff, Sriwijaya Air probably one of the best Indonesian regional airlines.',\n",
       "  'Flight experience: The flight was disappointing due to various issues.',\n",
       "  'Headphone and charging issues: The majority of the headphones jacks did not work and there was no option to use different headphones, and no way to charge devices.',\n",
       "  'Crew service: The crew was incredibly rude and gave a strong eye roll when asked for water.',\n",
       "  'Food quality: The food was packaged months ago and the majority of it made me nauseous from the smell.',\n",
       "  'Cost and comparison: The only benefit to this flight was the cost, but next time we will be paying the extra to fly Delta.',\n",
       "  'Airplane condition: The plane is out of date and not suitable for long trips.',\n",
       "  'Seat comfort: Very nice confortable seats. Seats more confortable than the 777',\n",
       "  \"In-flight entertainment: PTV's with AVOD ok. The inflight entertainment was disappointing.\",\n",
       "  'Food quality: Food normal. The breakfast was tiny.',\n",
       "  'Flight delay: The outbound flight to Paris was delayed 2 hours due to mechanical problems with poor communication by Open Skies staff to customers.',\n",
       "  'Flight cancellation: The return flight to New York was canceled, and the Paris staff were clearly overwhelmed and seemed not to know what to do, with lacking communication skills in English.',\n",
       "  'Customer service: The customer had a poor experience with Open Skies staff, including poor communication and a long wait to get on a new flight, and prefers British Airways.',\n",
       "  'Pricing: Great price',\n",
       "  'Check-in experience: Check-in online worked fine although the baggage drop-off counter at PEM and JUL is too crowded and understaffed',\n",
       "  'Plane condition: Planes were clean and new with leather seats and LCD monitors',\n",
       "  'Seating comfort: Acceptable legroom',\n",
       "  'In-flight meal: Snack box served on LIM-CUZ and AQP-LIM',\n",
       "  'Flight attendant service: FA',\n",
       "  'Flight delay: The flight was delayed by 14 hours with no information provided.',\n",
       "  'Lack of communication: There was no official statement, emails remained unanswered, and no telephone contact.',\n",
       "  'Flight experience: The flight was okay, but the crew was annoyed.',\n",
       "  'Customer service: No apology or explanation was provided, and the airline did not respond to complaints.',\n",
       "  'Passenger rights: Notes on passenger rights were distributed at the airport.',\n",
       "  'Overall experience: StarFlyer is by far the best low-cost airline I have used anywhere.',\n",
       "  'Price and value: Price was low, about half of what Shinkansen bullet train would have been, and included luggage.',\n",
       "  'Seat comfort and amenities: On board the plane you have stylish leather seats with IFE and good legroom.',\n",
       "  'In-flight service: Drinks are also included in the price and flight attendants made sure everything is ok and in general were very friendly.',\n",
       "  'Comparison to other airlines: Ryanair and Easyjet should learn from them, in fact StarFlyer is better than many full service airlines',\n",
       "  'Flight departure information: The Paris to Berlin flight from Paris Orly was confusing. I thought it departed from Orly West as other One World flights but it actually departs from Orly Sud.',\n",
       "  'In-flight service: The flight was ok. No beverage service, not even a drop of water.',\n",
       "  'Airfare and expectations: Air Berlin fare was cheap and my expectations were low.',\n",
       "  'Checked bag fee waiver: The good things is that, as a Sapphire member of other carrier, my checked bag fee is waived. So I have reason to be satisfied.',\n",
       "  'Appreciation for flight attendants: The customer is grateful to the flight attendants for their help during a panic attack.',\n",
       "  'Seat upgrade experience: Paid to upgrade our seats and felt like we got a downgrade because our seats did NOT recline.',\n",
       "  'Amenities: Supposed to have been electronic device charging stations between the seats and there weren',\n",
       "  'Flight attendant service: One of your flight attendants was very rude!',\n",
       "  'Onboard WiFi: There was also supposed to be onboard WiFi and it wouldn',\n",
       "  'Seat comfort: A seat that wouldn',\n",
       "  'Aircraft condition: The whole aircraft was looking very tired and tatty and badly in need of an upgrade.',\n",
       "  'Ground staff service: The Air Tahiti staff at the chaotic boarding gate in Auckland were rude and condescending',\n",
       "  'Flight attendant service: The flight attendants did the best they could in such a worn out old bus.',\n",
       "  'Food quality: Food was OK (I don',\n",
       "  'Beverage options: The wine choice was one cheap red or white. Take it or leave it.',\n",
       "  'In-flight entertainment: Entertainment was very limited too.',\n",
       "  'Future travel plans: Assuming the final aircraft is in fact given the major facelift it so badly needs then I',\n",
       "  'Overall experience: Overall can’t really complain. They are effectively the charter leg of KLM and as such pretty much like most charters.',\n",
       "  'Food and drink policy: Unlike KLM legs any food /drink was purchase only, didn’t buy anything but prices were reasonable.',\n",
       "  'Seat comfort: Seats were pretty standard legroom not great not poor …. I kinda liked the green leather though some may find it a bit garish.',\n",
       "  'Crew service: On time crews were again really friendly and polite, worked hard to help passengers find luggage space .',\n",
       "  'Special assistance: Also special mention to the Transavia guy in Seville who noticed my lad had a football he had purchased. He told us it needed to be deflated a little to compensate for aircraft pressure. We had nothing to deflate it with but he asked a lady in the check in queue for her hair clip and then spent 10 minutes using this to get it deflated - much to the amusement of the waiting passengers! All done with a smile.',\n",
       "  'Flight experience: I flew Yeti Airlines, June 28 from Bhairahawa to the capital Kathmandu. It was a morning flight, on time, the ground staff were friendly, cabin crew was friendly. They served soft drinks on this 35 minute flight. Reading material offered. The flight was smooth.',\n",
       "  'Airline reputation: Yeti Airlines has the reputation of flying on time. Though it',\n",
       "  'Frequent flyer program: Sky miles, their frequent flyer program is very popular and has many other benefits like discounts in hotels, than award tickets.',\n",
       "  'Flight cancellation: My Flight was cancelled and its been more than a month now, that I have received no response from Oman air about my ticket refund.',\n",
       "  'Customer service experience: Wrote 15 emails, called customer care 20 times, No response. When you speak with Customer care, they refuse to listen to the customer and hang up.',\n",
       "  'Refund issue: I have not received any proper response from any one in Oman air. On the Website and on the Internet, they publish stories, saying that they will refund the amount but they won',\n",
       "  'Overall experience: The worst airline I have ever flown with!',\n",
       "  'Service quality: Terrible service, they try to charge every possible penny out of their clients.',\n",
       "  'Backpack fee: I had to pay US$36 to travel using the same backpack I have been using for years, and that was not even for shipping but for carrying it the overhead compartment.',\n",
       "  'Flight punctuality: The flight was late',\n",
       "  'Plane cleanliness: The plane was dirty',\n",
       "  'Meal service issue: We booked and paid for meals on both the outbound and inward flights, but the staff had no record of it so were left without.',\n",
       "  'Cabin crew service: The cabin crew manager on the return flight was very haughty and made us feel we were trying to claim something we werent entitled to.',\n",
       "  'Future travel plans: We will not be travelling with Thomas Cook again and have now booked our next flight to Lanzarote with Jet2 fly.',\n",
       "  'Denial of boarding: I was denied boarding by a gate agent in Cotonou.',\n",
       "  'Language barrier with gate agent: The agent could not read English and claimed my visa was not valid.',\n",
       "  'Check-in staff admission of mistake: Check-in staff later admitted that it was valid after I had been denied boarding and had missed my flight.',\n",
       "  'Ground staff unwillingness to help: Ground staff was unwilling to help and issue a new ticket.',\n",
       "  'Call centre unhelpfulness: The call centre Ethiopian Airlines is thoroughly unhelpful as well.',\n",
       "  'Flight delays: Delays were the norm with no explanation from anyone.',\n",
       "  'Airport experience: The bar was shut at 10 with no warning.',\n",
       "  'In-flight meal service: Meals on the plane were practically thrown at the passengers.',\n",
       "  'Flight attendant service: The staff were often quite rude and in no way helpful to anyone.',\n",
       "  'Airplane condition: The planes were more suited to sitting in a museum.',\n",
       "  'Overall experience: I would never fly with them again.',\n",
       "  'Flight rescheduling: They rescheduled both my flights, one from 20:15 to 00:20 and the other from 18:30 to 07:50.',\n",
       "  'Customer care experience: They give a customer care number but I was never able to connect as the operators were always busy.',\n",
       "  'Refund issue: They are making a fuss over the refund as they are supposed to refund the entire amount if flight is rescheduled by more than 2 hours.',\n",
       "  'Overall airline rating: Worst airline ever. I would recommend any other airline but not this.',\n",
       "  'Flight delay: My flight from RIC to SFO has been delayed 4 1/2 hours.',\n",
       "  'Airline reputation: This is a ridiculously unprofessional situation for this airline. They are mismanaged, incompetent and a complete waste of time and money',\n",
       "  'Flight cancellation experience: Southwest randomly canceled thousands of flights at the busiest of travel times, leaving customers stranded.',\n",
       "  'Customer service experience: Customer service lines were not fully staffed, and calls were put on hold for long wait times and then disconnected.',\n",
       "  'Loyalty and overall experience: Southwest has lost a loyal customer due to their poor service and prioritization of cash flow records over customer satisfaction.',\n",
       "  'Booking experience: Recently we booked a flight through Cheapoair two weeks prior to returning to NY from Berlin.',\n",
       "  'Customer service experience: WOW customer service is in India and I had a terrible time getting accurate information.',\n",
       "  'Amenities and services: There is no onboard wifi, TV screens, no snacks, no meals (unless you buy) you must pay for checked luggage.',\n",
       "  'In-flight experience: I had a 9 hour flight so I broke down and rented an Ipad that only lasted four hours before the battery ran out and to boot there are no chargers on board.',\n",
       "  'Overall experience: Terrible experience I do not recommended.',\n",
       "  'Flight booking and cancellation: Corendon Airlines cancelled the flight and failed to provide a refund within 14 days.',\n",
       "  'Refund issue: Despite several phone calls, the refund has not arrived.',\n",
       "  'Alternative flight: The only available alternative flight is more than twice the price and not direct.',\n",
       "  'Holiday risk: The whole holiday is now at risk due to the refund delay.',\n",
       "  'Insurance coverage: The insurance will not cover the losses.',\n",
       "  'Flight delay: Flights delayed on both occasions due to plane issues at Ashkhabad Airport',\n",
       "  'Communication with passengers: We were made to wait ages before being given any info re flight issues',\n",
       "  'Flight staff service: Staff on flight were miserable and curt when being asked any questions',\n",
       "  'Airport staff service: Staff at airport were OK but due to lack of English it was very difficult to find out what was happening',\n",
       "  'In-flight amenities: Water was the only thing provided from airline so we had to pay over the odds for the food at the airport',\n",
       "  'Overall experience: Would not recommend Turkmenistan Airlines to anyone',\n",
       "  'Check-in experience: Check-in went smoothly and was opened 4 hours before the flight.',\n",
       "  'Boarding experience: Boarding was a relatively painless process and although masks were required a lot of passengers were not wearing them at the end of the flight.',\n",
       "  'Aircraft cleanliness: The aircraft was clean although some of the IFE screens stopped working (see picture) mid-flight.',\n",
       "  'Meal quality: The meal was a lot more tasty than it looks - I opted for fish - but options had ran out for the passengers at the back and they were left with just pasta.',\n",
       "  'In-flight amenities: I had a small bottles of euro wine which was probably undrinkable at ground level but was OK at 36,000 feet.',\n",
       "  'Breakfast quality: We had fruit and a croissant for breakfast.',\n",
       "  'Exiting the flight: Exiting the flight was slow largely because of the amount of hand baggage that was allowed.',\n",
       "  'Overall experience: Overall it was good-value flight with some significant issues and the option of two 23kg bags for the basic economy price.',\n",
       "  'Hard product quality: Turkish Airlines has a decent hard product',\n",
       "  'Infrastructure and service issues: boarding times are slow, emails hardly get answered and calls to the hotline rarely get connected',\n",
       "  'In-flight entertainment: they are one of the few airlines to have a very modern and extensive IFE system on their narrowbody aircraft',\n",
       "  'Route network and pricing: their outreach is unparalleled because they boast the most destinations and connections of any airline at a price that’s hard to beat',\n",
       "  'Legroom: Legroom is fairly generous too, sufficient without being luxurious',\n",
       "  'Flight temperature: The air conditioning was freezing cold or absent so we spent the night trying to get warm or get some air.',\n",
       "  'Food quality: Food served to me was horrible.',\n",
       "  'Special meal accommodation: My mother in law is a diabetic and fortunately we had some chocolate bars with us for her to eat.',\n",
       "  'Scheduling experience: A scheduling disaster. Five flights booked, all five were rescheduled.',\n",
       "  'Rebooking policy: First, they changed the first flight of five, and only offered to rebook that one for free (even though it affected the following 4) so I had to pay for the change of the following four flights myself.',\n",
       "  'Flight changes: Then, as the dates approached they changed (multiple times) the remaining four flights, up to the point that my last flight is to a completely different city.',\n",
       "  'Future travel plans: I will avoid this airline at all costs whenever I have a choice. An embarrassment and a scam.',\n",
       "  'Seat allocation issue: We were given boarding passes for pre-booked seats, but found a family sitting in them when we boarded.',\n",
       "  'Cabin crew response: The head of the cabin crew told me to find an empty seat anywhere on the aircraft.',\n",
       "  'Pricing and currency issue: Everything was priced in Euros, but staff charged in sterling and couldn',\n",
       "  'Toilet cleanliness: The toilets were a disgrace.',\n",
       "  'Aircraft age and condition: The A320 aircraft was over 20 years old and should have been scrapped.',\n",
       "  'Safety concerns: There was no safety on the plane, with rubbish on the floors, tables still down, and seats still reclined.',\n",
       "  'Staff training: The company needs to train their staff to expected standards.',\n",
       "  'Business Class fare: Aerolineas was much less expensive than other carriers',\n",
       "  'Flight experience: The flight experience was better than expected',\n",
       "  'Plane condition: The plane was elderly and a bit tattered',\n",
       "  'Seat comfort: The seats were lie-flat and comfortable',\n",
       "  'Food quality: The food was above average',\n",
       "  'Flight attendant service: The flight attendants were cheerful, professional, and happy to help',\n",
       "  'Seat comfort: seats were very comfortable',\n",
       "  'Food quality: food is exquisite',\n",
       "  'Amenities: I absolutely loved the napkins to clean the teeth',\n",
       "  'In-flight entertainment: The flight entertainment can be a bit more diversified and recent',\n",
       "  'Check-in experience: At the check in counter the lady was very sweet and helpful',\n",
       "  'Seat selection and payment: I specifically selected and paid for 5 extra legroom seats, but the plane did not have any extra legroom seats.',\n",
       "  'Flight change notification: Monarch did not inform me of the plane change four months before the flight.',\n",
       "  'Complaint response: I complained to Monarch by email and got no response, and after contacting them again, I was told my complaint is in a queue and will be dealt with in due course.',\n",
       "  'Flight schedule change: Flight booked for 9.10 am, changed by airlines to 12.40 pm, actual departure time 1.40 pm with no info on delay.',\n",
       "  'Airlines reliability: Airlines taking passengers time for granted. Non serious airline. If you value time, never go for Citilink.',\n",
       "  'Offer to stay for next day flight: They were offering money and hotel for any whom offered to stay until the next day flight.',\n",
       "  'Denial of boarding: 30 minutes prior to take off, they bumped us, as we had not boarded by then and closed the flight.',\n",
       "  'Gate attendant behavior: the rude gate attendant... said to her ',\n",
       "  'Ticket rebooking issue: The attendant said we had to pay for a 1 way ticket for each passenger as it was our fault for not boarding plane 1 hr prior to take off, and That paying for new tickets were the only option.',\n",
       "  'Flight booking and carrier: The flight was booked via Czech Airlines, but the carrier was SmartWings, a Czech low-cost carrier.',\n",
       "  'Check-in experience: The check-in agent could not add my Czech airlines frequent flyer number, but after checking with his supervisor, he was told that SkyTeams miles are eligible.',\n",
       "  'Flight delay and pilot communication: The service was delayed without any announcement, however, the pilot promised to make up the lost time enroute.',\n",
       "  'Seat comfort: Tight seats.',\n",
       "  'Food and cabin crew service: The food and service by the cabin crew was fine.',\n",
       "  'Cabin crew favoritism: The flight attendents seem to have favourites on board, offering them pillows and blankets whilst others were being asked to serve themselves the blankets from the overhead lockers.',\n",
       "  'Amenities availability: There were not enough pillows or blankets even though this was an overnight flight.',\n",
       "  'Overall service value: Overall, an OK service and for the price paid, definitely great value.',\n",
       "  'Customer service: This airline does not care about its customers.',\n",
       "  'Refund policy: We were not given a refund for our almost $2,000 worth of tickets.',\n",
       "  'Flight cancellation: My family and I were supposed to take the flight from LAX to Barcelona in May of the Covid19 crisis of 2020.',\n",
       "  'Future flights: Let me tell you, there are absolutely no flights scheduled from LAX to Barcelona for the foreseeable future.',\n",
       "  'Recommendation: Do not book Norwegian Air!',\n",
       "  'Itinerary management: Incompetent staff neglected to inform when switching the names on the itinerary, resulting in lost seat.',\n",
       "  'Customer service: Poor customer service.',\n",
       "  'Overall experience: Worst airline ever. Will never use again.',\n",
       "  'Seat comfort: The seats no more comfortable than any other airline but the leg room was good.',\n",
       "  'Food quality: The food was very nice and no complaints there, the matter of no alcohol was not a problem.',\n",
       "  'Value for money: With the price from Royal Brunei, I think this airline makes it a nice way to fly to London.',\n",
       "  'Flight rescheduling: The flight was rescheduled from 10:55am to 8:10pm, and then delayed again to 10:30pm, 10:55, 11:10, and finally departed at 11:40pm.',\n",
       "  'Lack of explanation and apology: No explanation or apology was provided for the delays, and the customer was not offered any alternative arrangements or compensation.',\n",
       "  'Poor customer service: The customer was not treated with respect or courtesy, and the airline did not take responsibility for the delays and inconvenience caused.',\n",
       "  'Travel disruption: The customer had to spend extra time in Danang airport, and their hotel pick-up car had given up and gone home due to the delays.',\n",
       "  'Flight delay: Our flight out of Siargao to Manila was delayed.',\n",
       "  'Missed connecting flight: We landed in Manila 40 minutes before our connecting flight to Denpasar took off. We got to the gate 10 minutes prior to departure but they refused our entry and blamed us for being late.',\n",
       "  'Poor customer service: Next we were directed different directions for the next 5 hours walking to nearly every Philippines airline counter in the airport (Domestic, international, ticket office, customer service). We had to nearly beg for a hotel room since the next flight they gave us was 24 hours later. All the staff seemed reluctant to help and disinterested in the customer.',\n",
       "  'Plane quality: The plane was a more than decent TU 204 with a reasonable seat pitch.',\n",
       "  'Check-in experience: Check in fast and efficient both at Pyongyang and Beijing',\n",
       "  'In-flight entertainment: Propaganda is on air during the whole flight with DPRK music.',\n",
       "  'In-flight service: Complimentary inflight service with local both soft and alcoholic drinks.',\n",
       "  'Deplaning and baggage delivery: Deplaning at Pyongyang fast with rapid baggage delivery: in less than 30 minutes I was on my way (escorted by guides) to the hotel.',\n",
       "  'Onboard experience: The onboard experience was fine.',\n",
       "  'Ground customer service: The ground customer service was poor, with issues with seat selection and online check-in.',\n",
       "  'Code-share system: The code-share system with Vietnam Airlines caused issues with seat selection and online check-in.',\n",
       "  'Seat selection and assignment: The airline would not allow seat selection in advance, and the assigned seats were not together.',\n",
       "  'Check-in process: The check-in process was chaotic, with a mad rush to change seat assignments.',\n",
       "  'Boarding agents: The boarding agents were unhelpful and dismissive of the issue.',\n",
       "  'Future travel plans: The customer will not fly with China Airlines again due to the poor experience.',\n",
       "  'Flight departure: Flight left late due to chaotic scenes at the gate',\n",
       "  'Ground staff performance: ground staff came twice through the plane checking names against boarding cards (obviously having not done it properly first time)',\n",
       "  'In-flight service: Flight otherwise good attentive staff good service',\n",
       "  'Customer service experience: Worst experience of my life trying to deal with the customer service for British Airways.',\n",
       "  'Flight experience: The flight itself was smooth and the onboard staff was kind and attentive.',\n",
       "  'Refund and compensation: Received a generic ',\n",
       "  'Trust and reliability: I refuse to fly with an untrustworthy incompetent unorganized airline that couldn’t even address one single issue expressed to them.',\n",
       "  'Dinner quality: 3 small Kababs for dinner',\n",
       "  'Breakfast quality: Breakfast inedible - we tried each of the three on offer',\n",
       "  'Entertainment selection: Poor selection of entertainment',\n",
       "  'Transit experience: No true Transit through KL - an excuse to steal duty free bought in Bangkok',\n",
       "  'Hand luggage checks: Discriminatory checks of hand luggage - my bag was with a \\\\',\n",
       "  'Airport preference: We like Changi',\n",
       "  'In-flight drink service: No drinks between Bangkok and Kuala Lumpur',\n",
       "  'Airport lounge experience: even international Business Lounge in KL, in a time warp, no drinks',\n",
       "  'Onboard staff service: Onboard staff are it',\n",
       "  'Customer service experience: This very well could have been the worst customer service experience of my life.',\n",
       "  'Boarding experience: The plane arrived an hour ahead of our departure time and everyone looked excited to fly home to New Haven. As our scheduled boarding time came and went all the passengers started to get nervous. About 20 minutes after boarding an announcement was made that they would need to have 29 people off the plane or we could not take off. They offered minor compensation for a huge disruption and only 22 people took the offer. Unfortunately 7 people were denied boarding and told you aren',\n",
       "  'Flight comfort: I was sat next to a window whose internal frame was no longer attached to the airplane with anything other than my broad shoulders and arm holding it. Even though I understand this is not the ',\n",
       "  'Airplane condition: The airplane felt like a 30 year old relic that had seen better days and was destined to be retired a long time ago.',\n",
       "  'Flight attendant service: While I will never fly Avelo again for the reasons outlined above, I will say that the flight attendants on all my Avelo flights have been professional and kind to all passengers despite the enormous amount of disappointed customers they have to deal with due to their company structure.',\n",
       "  'Flight cancellation and delay experience: They will cancel flights, delay flights all day and not accommodate or compensate you.',\n",
       "  'Staff and business management: Useless staff and business management.',\n",
       "  'Financial loss and rebooking: Have lost over 50 hours of airport delays/cancelled flights and $1000 on rebooking flights.',\n",
       "  'Future travel plans: We will never use again.',\n",
       "  'Punctuality: The flight was on time.',\n",
       "  'Flight attendant service: Flight attendants provide good service.',\n",
       "  'In-flight entertainment: The media presented quite well.',\n",
       "  'Food quality: The food served is also varied, with characteristic flavor.',\n",
       "  'Value for money: All passengers are well served even though the ticket price is not too expensive.',\n",
       "  'Online check-in experience: Bangkok Airways sent a reminder to check in online, but online check-in was not permitted for this flight.',\n",
       "  'Check-in experience: The act of checking in was the slowest in decades of travelling, with a 30-minute wait to get to a desk.',\n",
       "  'Airport experience: Passport control took forever at the airport.',\n",
       "  'Boarding experience: Boarding was a slow joke with many passengers forced to bake in the midday heat with no cover and no access to sun protection cream.',\n",
       "  'In-flight service: The two flight attendants seemed thoroughly bored throughout the flight.',\n",
       "  'Meal quality: The gourmet \\\\\\\\',\n",
       "  'Bus gate experience: Another bus gate with a driver who seemed to take us all round the airport before doubling back.',\n",
       "  'Overall experience: For an airline with such a major reputation, this was a massive disappointment.',\n",
       "  'Cabin crew service: Very kind and professional cabin crew who make you comfortable and understand the challenges you face when traveling with very young children.',\n",
       "  'Food quality: Food was really good',\n",
       "  'Entertainment system: Entertainment system was top-notch',\n",
       "  'Seat comfort: The seats were very comfortable and we didn',\n",
       "  'In-flight wifi: Great wifi, not streaming fast but fast enough to browse the web',\n",
       "  'Flight punctuality and baggage handling: Arrived on time and luggage were delivered promptly in Taipei',\n",
       "  'Wheelchair assistance: No wheelchair assistance was provided for my elder son, a special kid, upon reaching RUH.',\n",
       "  'In-flight service: I was denied water by a flight attendant, citing they were busy.',\n",
       "  'Luggage handling: Our luggage did not arrive with the flight and was left in Riyadh, causing inconvenience to my family and me.',\n",
       "  'Customer service: The crew member rendered an apology, but the issues were not resolved.',\n",
       "  'Emotional appeal: I request Flynas to show courtesy and kindness and provide me my luggage asap.',\n",
       "  'Overall experience: This is the worst two flights I have ever experienced. I will never fly Wamos Air again.',\n",
       "  'Food quality: Disgusting food',\n",
       "  'In-flight entertainment: no in flight entertainment on a nine hour flight',\n",
       "  'Seating comfort: hardly any leg room',\n",
       "  'Cabin crew service: cabin crew not capable of stopping a drunken passenger',\n",
       "  'Flight experience: Worst airline I',\n",
       "  'Flight cancellation: The flight was cancelled due to a pilots strike and no one seemed to know anything.',\n",
       "  'Rebooking experience: Air Tahiti promised seats on Air France, but they were not available, and the representative was unhelpful.',\n",
       "  'Customer service: The representative was rude and unhelpful, despite being informed of a medical emergency.',\n",
       "  'Travel disruption: The cancellation and rebooking issues caused a delay in medical treatment and lost connecting flights.',\n",
       "  'Cancellation of flight: SAA canceled my flight, bought two weeks before.',\n",
       "  'Re-booking of seats: I asked to proceed to re-book the seats for free, because I already paid for them.',\n",
       "  'Customer care experience: I contacted the customer care on twitter and one operator was good and wrote me he/she rebooked all the 4 SAA flights. After 3 days the seats seems not yet booked and I',\n",
       "  'Flight experience: The flights were smooth, and the crews were efficient and helpful.',\n",
       "  'Cabin comfort: The pitch is quite generous and the leather seats comfortable.',\n",
       "  'In-flight meal service: We received a satisfying meal service, including a cheese and salad sandwich, and a tasty breakfast on the return flight.',\n",
       "  'Overall impression: It is an airline which is pleasant to fly.',\n",
       "  'Flight delay and cancellation: The flight was delayed three times and eventually canceled due to the pilot exceeding the legal flying time limit.',\n",
       "  'Lack of assistance from airline staff: The airline staff did not provide assistance with rebooking flights or accommodations, and seemed unhelpful.',\n",
       "  \"Poor customer service: The customer service did not respond to the customer's inquiry about rebooking their flight for 2 days after they returned to the states.\",\n",
       "  \"Failure to provide reimbursement: The airline failed to provide reimbursement for the customer's new flight and accommodations, even after 2.5 months.\",\n",
       "  'Flight experience: What a wonderful experience with Turkish Airlines! Got to fly their new Business Class on the A350-900, and it was a really comfortable and enjoyable experience.',\n",
       "  'Staff service: The staff were quite welcoming and warm (though, I must admit, during the flight, it was hard to get their attention, and I don',\n",
       "  'Check-in experience: Showed up to the airport and was told I could not check-in because they have a cutoff time.',\n",
       "  'Flight change fee: They charged me $25 to move me to another flight.',\n",
       "  'Boarding experience: Despite the flight not being full, they told me they could not allow me to board because as soon as they check for empty seats, they have to close the gate.',\n",
       "  'Impact on travel plans: So I’m on a later flight, missing a doctor appointment and a business meeting.',\n",
       "  'Overall experience: Never again will I book with Alaska Airlines.',\n",
       "  'Check-in experience: Arrived at Sydney airport at 09.00 for our flight departure at 13.10, but had to queue for almost 4 hours just to drop our hold bags at the counter.',\n",
       "  'Flight experience: The next 24hrs of travel through to Dublin were without a doubt the worst travel experience i have ever endured (from inedible food to airline staff who appeared to have just given up).',\n",
       "  'Lost luggage: Upon arrival in Ireland we then had another lengthy delay as they had lost our luggage, six days later we were eventually reunited with our suitcases.',\n",
       "  'Overall experience: Absolute nightmare of an airline, I would strongly advise anyone thinking about using this airline to reconsider as they give a strong impression that they are on the way out.',\n",
       "  'Flight experience: Beijing to Hong Kong return with Hong Kong Airlines.',\n",
       "  'In-flight entertainment: The first flight was an older model without IFE.',\n",
       "  'In-flight entertainment: The second flight was on a much newer and more comfortable plane, with IFE.',\n",
       "  'Meals and bathroom facilities: Usual meals and bathroom facilities.',\n",
       "  'Ground crew service: Happy with ground crew, she was able to send my luggage all the way to my final destination on a different airline and ticket.',\n",
       "  'Airline fare: Budget airline and fare. It got me to where I want over the Chinese New Year festival.',\n",
       "  'Missed flight due to medical issue: My elderly parents missed their flight due to a diabetes scare and we arrived minutes after they closed their check-in.',\n",
       "  'Additional fees for luggage: French Bee charges for luggage and they are not listed on the terminal signs at EWR.',\n",
       "  'Poor customer service: The representative was rude and unhelpful when I called to ask to pay the difference in the tickets.',\n",
       "  'Suggestion for improvement: French Bee may wish to list their name on the Terminal sign at EWR.',\n",
       "  'Staff behavior: Very rude staff. Asked for water twice, half hour later no one brought it. When asked for the third time they started giving attitude like it',\n",
       "  'In-flight amenities: No snacks offered',\n",
       "  'Flight capacity and boarding: The plane was half full yet they lied saying it overfilled and people need to check in their carry on',\n",
       "  'Flight delay and information: Plane was delayed. The board information was not updated until the last second',\n",
       "  'Service quality: The service is very bad, actually, there is nobody to whom to talk',\n",
       "  'Flight delay: my flight was supposed to be on Tuesday at 12;40, But we flight at 1830 cause a strike',\n",
       "  'Food quality: The food was  inedible',\n",
       "  'Missed connection: I missed my connection in Montreal to Toronto (knowing I bought my ticket 160$)',\n",
       "  'Airport experience: And for sure, no one from Air Algerie in Montreal to receive us. I spent the night in the airport',\n",
       "  'Flight route change: The flight route was changed from Chennai to Singapore, resulting in additional costs.',\n",
       "  'Service quality: The service on board was excellent, with pleasant food and superior comfort.',\n",
       "  'Recommendation: The airline is recommended, despite the initial route change issue.',\n",
       "  'Check-in experience: I',\n",
       "  'Customer service experience: First few times I tried to call their customer service, the call would drop and I couldn',\n",
       "  'Wait time for customer service: Now, I finally got the automated call and have been waiting for over an hour to talk to a customer service representative.',\n",
       "  'Expectations vs. experience: I understand that this is a cheap flight, but not able to check in and not able to talk to somebody is not acceptable.',\n",
       "  'Baggage handling experience: Very impressed when baggage unloaded in Houston. Every bag on the carousel was stacked neatly with handles facing out so we could easily grab them!',\n",
       "  'Terminal confusion: The ticket didn',\n",
       "  'Flight delay: The flight had a 1-hour delay, but airline personnel denied it, and it took off at 23:20 after another 20 min delay',\n",
       "  'Seating comfort: Seats were very close to each other and it was hard for me to sit with a height of 180cm',\n",
       "  'Food and beverage service: No food or water were served, and stewardesses collected left meals and dishes in plastic bags in their hands and talked loudly to themselves',\n",
       "  'Landing experience: The landing was awful',\n",
       "  'Flight experience: The flight experienced mid-air difficulties and was forced to return to Okinawa, with very limited information provided to passengers.',\n",
       "  'Ground staff service: The ground staff were unhelpful, unknowledgeable, and unprofessional, with poor English skills.',\n",
       "  'Rebooking experience: The staff were unable to rebook the flight, and the passenger had to book a new flight with another airline, incurring extra costs.',\n",
       "  'Customer service: Contacting the airline online or via email was difficult, with no English-speaking staff, long waits, and recorded messages only in Japanese.',\n",
       "  'Flight schedule changes: The first flight from Singapore to SZB was already changed by Firefly with 30 minutes. Arrived in SZB, Firefly was changing my flight 3 times during waiting for the boarding.',\n",
       "  'Customer service experience: When asking for a solution, first was - no compensation possible due to technical issues. I have to really make clear, I will be not make it to my final destination and getting a no-show fee and have to pay for the driver twice.',\n",
       "  'Compensation offered: Instead offered me an overnight stay in a hotel in Kota Bharu and a ride in a cab to it. I tried to explain that my costs are higher than the stay in a rundown hotel and a cab ride there, They would like to find a reasonable solution for both sides and that would be a transport on the same day to my vacation destination.',\n",
       "  'Refund experience: One will then consider this separately due to the delays and circumstances. This I did, however I got a ridiculous answer and they offered me a refund of 200 MYR from the 580 MYR I had already paid, which is not even half of my costs.',\n",
       "  'Overall experience and recommendation: Just save yourself all this inconvenience and book with a reasonable airline that also have an interest in their customers',\n",
       "  'Cabin service: Cabin service is nice as a whole.',\n",
       "  'Food and beverage: About food and beverage, I can say that is very good - 2 or 3 kinds of entree choice on menus.',\n",
       "  'Lounge experience: View of Lounge in Hong Kong airport is wonderful, and the location is so good to watch planes on airport.',\n",
       "  'Flight delay and lack of communication: The flight was delayed for more than 5 hours without prior notification via email, and the check-in process was disorganized.',\n",
       "  'Poor customer service: The flight attendants and check-in clerks were unhelpful and uncommunicative, with one clerk being annoyed when asked about the delay.',\n",
       "  'Lack of compensation: No complimentary items were provided to compensate for the inconvenience, and the vouchers issued were not sufficient.',\n",
       "  'Disorganized airport experience: The airport experience was disorganized, with issues such as a lack of Mexican immigration forms and a long wait for the ground crew to attach the ramp.',\n",
       "  'Check-in experience: TK representatives told us that we have to buy new ticket for our son since the one we bought was a child ticket, but it has to be a baby ticket as our son is under 2 years old.',\n",
       "  'Customer service: In Tashkent/Uzbekistan and Los Angeles their representatives are more customer focused.',\n",
       "  'Flight experience: I was very angry and was not able to sleep during our flight to LA.',\n",
       "  'Past experience: 3 years ago I had another bad experience with Turkish Airlines in Istanbul when TK oversold tickets to our flight to Los Angeles.',\n",
       "  'Vacation impression: Our Turkish Airlines experience was so bad that it spoilt our impression about our vacation in Turkey.',\n",
       "  'Future travel plans: We would try to avoid this airline and country in overall for upcoming vacations.',\n",
       "  'Travel to Istanbul: We really liked Istanbul and it',\n",
       "  'Frequent flyer experience: I fly a lot on Germanwings but they don',\n",
       "  'In-flight service: I was asked to pay Euro 2.50 for the second drink (water)',\n",
       "  'Airline pricing: Germanwings is not a cheap airline on prices but is a very poor spin off from Lufthansa',\n",
       "  'Service quality: Service excellent, all staff were professional.',\n",
       "  'Food quality: Food was far better than expected.',\n",
       "  'Aircraft comfort: The A350 was very comfortable and quiet.',\n",
       "  'Leg room: Leg room excellent.',\n",
       "  'In-flight entertainment: System very quick and did not cause any issues. Good selection of movies and TV shows.',\n",
       "  'Camera feature: Only thing missing was the camera. Previously flown China Airlines from Syd to Akl and on the A330 they had the nose camera and the kids loved seeing take off and landing. The A350 does not have this.',\n",
       "  'Fare value: Fare unbeatable.',\n",
       "  'Aircraft quality: The aircraft is new and spacious for economy',\n",
       "  'Customer service experience: Absolutely appalling service from United Airlines.',\n",
       "  'Flight delay: Our flight UA441 was scheduled to depart from EWR at 11:07 am and arrive at FLL at 2:16 pm, but it was delayed 3 hours due to staff issues.',\n",
       "  'Cancellation and rebooking: Our vacation to Florida, absolutely ruined due to the bad customer services we have received from United Airlines. We are currently searching for alternatives to make up for the cancelled flight.',\n",
       "  'Future travel plans: We will never fly United Airlines again.',\n",
       "  'Miles earning claim: While booking they claimed I could earn miles on American Airlines.',\n",
       "  'Boarding pass issue: When I went to airport, on my boarding pass they gave me a boarding pass which clearly indicated that they used my American Frequent Flier number.',\n",
       "  'Missing miles: But when I did not see miles on my American account, I contacted American who informed me that Gulf is not their partner.',\n",
       "  'Customer service issue: I contacted Gulf many times regarding this and they never replied.',\n",
       "  'Company competence: Either they are grossly incompetent or complete frauds.',\n",
       "  'Flight change and cancellation: The customer was not informed about the flight change and cancellation, causing them to wait at the airport and scramble to find a solution.',\n",
       "  'Customer service experience: The customer had difficulty getting in touch with Interjet, with unreturned calls and emails, and was shocked by the lack of communication.',\n",
       "  'Overall experience: The customer had a very poor experience with Interjet, citing a lack of communication and poor customer service, and vowed never to use them again.',\n",
       "  'Flight delay and connection issues: The flight was delayed by 4 hours and the connection was also delayed, causing the customer to miss their flight.',\n",
       "  'Customer service issues: Customer service agents reassured the customer that everything would be fine, but it was not.',\n",
       "  'Hotel issues: The hotel ran out of rooms and the customer had to be transported to a separate hotel.',\n",
       "  'Lack of apology or accountability: No Icelandair employee apologized or admitted that they should not have reassured the customer that everything would be fine.',\n",
       "  'Overall airline experience: Great airline with its excellent prices and cabin crew very professional but still had a sense of humour and pride in the service offered.',\n",
       "  'Cabin crew service: cabin crew very professional but still had a sense of humour and pride in the service offered.',\n",
       "  'Customer appreciation: Good to feel a valued customer again and not just a number.',\n",
       "  'Flight punctuality and comfort: Both flights on very clean MD80',\n",
       "  'Aircraft cleanliness: Both flights on very clean MD80',\n",
       "  'Airline choice and reputation: The customer was initially unaware that Joon was the operating airline and was disappointed to learn about its poor reputation as a low-cost equivalent to Air France.',\n",
       "  'Seat comfort: The economy class seats were the worst the customer had ever experienced, being very narrow and hard.',\n",
       "  'Food quality and service: The food service and quality were unacceptable, with only one full meal provided on a 12-hour flight, and the attendants forgetting to offer drinks with the meal.',\n",
       "  'Comparison to other airlines: The customer compared Joon unfavorably to other airlines, such as Emirates, which provide better food service and quality on shorter flights.',\n",
       "  'Recommendation: The customer advises others to choose a more reputable carrier, even if it involves a connection and longer flying time.',\n",
       "  'Overall experience: I was very disappointed with Japan Airlines.',\n",
       "  'Staff service: The staff was very friendly and patient.',\n",
       "  'Seat request issue: My seat request was ignored and I was assigned an aisle and middle seat instead of a window seat.',\n",
       "  'Meal request issue: My vegetarian meal request was ignored and not loaded onto the flight.',\n",
       "  'Check-in experience: I had issues with online check-in and was told to pick up my boarding pass at the airport.',\n",
       "  'Service quality: Very poor service.',\n",
       "  'Flight delays and cancellations: every time my flights have been heavily delayed or cancelled.',\n",
       "  'Staffing issues: Due to staffing issues but they lie and blame other factors to avoid paying compensation.',\n",
       "  'Support during flight cancellations: No support when flights get cancelled, very poor quality airline.',\n",
       "  \"Reliability: Completely unreliable and with flight cancellations, you'll likely be stuck with no solution and no one to help.\",\n",
       "  \"Comparison with other airlines: Pay a little extra and fly with a different airline or use another airport, it's worth every penny avoiding.\",\n",
       "  'Recent experience: Most recent experience, flight cancelled while at the airport after multiple delays (this is the 3rd time of this happening in the space of a few months) with zero support or help, stuck for days trying to travel.',\n",
       "  'Flight delay: Flight schedule at 5pm was delayed to 11pm, then reduced to 9pm, causing missed connections to Europe.',\n",
       "  'Airplane condition: Airplane was old and looked pretty bad inside.',\n",
       "  'Rebooking experience: Had to rebook in the morning and wait at BOS Airport all day.',\n",
       "  'Overall experience: What a lovely experience! Everything from reservation, online check in, bag drop, boarding, punctuality and the friendly professional service on board made the whole journey a relaxing pleasant experience.',\n",
       "  'Covid-19 protocol: The covid-19 protocol was very good - ensuring social distancing.',\n",
       "  'Seat comfort: The seats are very comfortable and my husband who sat next to me had enough leg room.',\n",
       "  'Ticket price: The only downside [for me with limited financial means] was the price of the ticket.',\n",
       "  'Double charging for flight: Interjet charged us twice for a flight in October.',\n",
       "  'Check-in experience: When we arrived at the airport in October to check into our flight we were told by the desk agent that the original credit card didn’t go through.',\n",
       "  'Customer service experience: It has been over a month and we have had no response to our emails and customer service keeps transferring us to the sales department every time we describe our issue to them over the phone.',\n",
       "  'Warning to others: After looking on this site and seeing many emails describing the same experience I would issue a strong warning to anyone flying with this company.',\n",
       "  'Flight delay: My flight from Heathrow was scheduled on Saturday 10/12/22 at 1400. But this was delayed.',\n",
       "  'Missed connection flight: As a result I missed my connection flight at Cairo and had to spend over 5 hours at the airport.',\n",
       "  'Airport staff service: The staff at the airport were absolutely rude. No explanation, no curtesy, no respect at all.',\n",
       "  'Hotel stay: We were served a meal at the hotel and went to sleep. We spent the next day Sunday 11/12/22 at the hotel until 18:00PM when were taken back to the airport to catch a flight at 21:45PM arriving at my final destination at 03:15 AM on 12/12/22.',\n",
       "  'Missing baggage: To add to my agony, one of my bags was missing so I had to go through more distress completing paper work for missing baggage.',\n",
       "  'Overall experience: The experience has by far been the worst ever especially the appalling customer service. Will never ever use this airline and if anyone intends to use this airline consider your options very carefully, after all there is a good choice from other airlines.',\n",
       "  'Overall experience: I give the overall experience a 4 out of 10.',\n",
       "  'Crew communication: There was no communication between the crew and the guests.',\n",
       "  'Airline choice: Flew a low budget airline and that is exactly how I felt.',\n",
       "  'Future airline choice: With all the extra costs, I will be paying for a normal airline in the future.',\n",
       "  'First impression with Citilink: First impression with Citilink is satisfied, no delay.',\n",
       "  'Cabin crew service: The cabin crew is very friendly',\n",
       "  'Flight experience: The flight is very satisfying without any obstacles.',\n",
       "  'Comparison with other airlines: Hopefully the service is always getting better and unlike the other low cost airlines, which are often delayed in Indonesia.',\n",
       "  'Flight cancellation: Cebu overbooked the flight, so they canceled my flight to Manila, and offered to rebook me two days after the fact.',\n",
       "  'Lack of notification: they did not inform me of the cancellation. I discovered it ',\n",
       "  'Rebooking experience: Decided to dump them all together, cancel the ticket, and went with AirAsia , which is much more reliable.',\n",
       "  'Rebooking fee: Cebu charged me a ',\n",
       "  'Overall experience: This, by far, was the worst airline.',\n",
       "  'Inflight service: Their inflight service and on-time arrivals were quite good.',\n",
       "  'Connecting flight handling: The way they handled connecting flights for us however was incompetent.',\n",
       "  'Customer service: The general customer service which was needed as a result, was incredibly poor.',\n",
       "  'Booking system: Not only a very incompetent booking system but also a customer service which is non-existent.',\n",
       "  'Future travel plans: We might fly them again for any easy non-stop flights, but certainly not for any trip that requires a connecting flight.',\n",
       "  'Premium Class experience: Impressed by Premium Cabin and staff, priority check-in and boarding, decent sized seat, tasty meals and plentiful drinks.',\n",
       "  'Seat comfort: 35in legroom felt spacious enough, but Row 1 has limited legroom due to bulkhead.',\n",
       "  'Meal selection: Ran out of specific meal choice, but meals were tasty.',\n",
       "  'In-flight entertainment: Basic offerings, but included in Premium.',\n",
       "  'Overall satisfaction: Very good product, will use again and highly recommend, good value for direct flight from Gatwick to Cape Town.',\n",
       "  'Ticket change experience: I had to change ticket and they charged \\\\',\n",
       "  'Customer service experience: I had sent them 4 emails but no reply from customer service',\n",
       "  'Reputation: Very bad reputation',\n",
       "  'Overall experience: Avoid this airline by any cost',\n",
       "  'Boarding experience: Boarding started with a significant delay of two hours but the ground crew were very conscious of that fact and tried to speed up the boarding process as good as possible.',\n",
       "  'Aircraft temperature: The aircraft was baking hot. This bettered only a little during the flight but with the flight being just 30 minutes long, the temperature wasn',\n",
       "  'Crew service: The crew were friendly and talking to them in English was no problem at all.',\n",
       "  'Aircraft cleanliness: The aircraft was very clean.',\n",
       "  'Leg room: The leg room was a bit on the short side.',\n",
       "  'In-flight service: There was no complimentary drink or meal service.',\n",
       "  'Flight delay: When we were leaving Serbia they delayed our flight.',\n",
       "  'Lack of information: I asked information desk and they said they had no information about the flight.',\n",
       "  'Inconsistent information: I asked a person at the gate and she told me the plane was here and there were no issues. So after waiting we asked information and they said the plane was in the air and expected to arrive soon. So after waiting some more we asked information again and they said the plane was stuck in Turkey because of bad weather.',\n",
       "  'Inaccurate information: I checked the weather radar in Turkey and there was no cloud over Turkey.',\n",
       "  'Poor customer service: The customers were getting irritated and the information lady said if anyone else asked that she would call the cops on everyone in line. Customer service does not exist in Air Serbia.',\n",
       "  'Seat comfort: I was sitting for over ten hours and I felt relatively no aches or pains during the whole trip due my seat.',\n",
       "  'Flight attendant service: the flight attendants were not quite organized or consistent.',\n",
       "  'Food and drink selection: Overall the flight was pretty good taking into account the food and drink selection.',\n",
       "  'Check-in and baggage drop-off experience: Paid for ticket online, but had issues with baggage drop-off due to time constraints.',\n",
       "  'Additional fees for baggage: Charged 70 euro for carrying backpack on plane.',\n",
       "  'Staff behavior: Staff was rude and unhelpful.',\n",
       "  'Customer support experience: Complaint was not handled properly, and no refund was offered.',\n",
       "  'Check-in experience: I got to the airport late, as it was the busy traffic hour in Shanghai. A staff gave an express pass, so I could make it to get onboard just in time.',\n",
       "  'Cabin service: Cabin service was excellent. I was hungry, and a crew gave me some extra hot meal.',\n",
       "  'Aircraft amenities: The aircraft type was B787. WiFi was available, but it need to apply for it in advanced.',\n",
       "  'Transit experience: Transit in Guangzhou was easy and efficient.',\n",
       "  'Flight punctuality: My second flight was on time.',\n",
       "  'Staff service during epidemic: I am so grateful for all the staff who offered help and kindness during the epidemic situation. I think China Southern stuff did a really good job. Highly recommend.',\n",
       "  'Cabin comfort: The cabin of Austrian was quite a shock, as totally outdated: no privacy for most seats, no direct access to corridor for many seats near the windows, and a miserable toilet kit.',\n",
       "  'Food quality: Food was excellent, wines as well, with a very nationalistic touch, as only Austrian wines.',\n",
       "  'Crew service: The crew was very nice, very attentive, flight was on time and loading well organised.',\n",
       "  'Overall experience: I was more than happy with the level of service, quality of flight and meals etc.',\n",
       "  'Boarding experience: Boarding was done efficiently, For a full flight I think it was done in record time.',\n",
       "  'Seat comfort: The B777 J class has full lie-flat seats with ample space and amenities. The PVG-CMB leg was on an A330 with pod-type seats in J class which were not lie-flat and I had the constant feeling that I was going to slide off the front of the seat.',\n",
       "  'In-flight entertainment: The IFE and software is a little stunted for someone with no knowledge of Chinese. There are some issues with dual language.',\n",
       "  'Meal service: There was no problem with the meals - I chose the Chinese cuisine. The timings of the meal service was unusual though - I thought it was later than most carriers would do it.',\n",
       "  'Cabin crew service: I thought the cabin crew worked well and communicated fine despite the language barrier.',\n",
       "  'Beverage service: I would have liked to see another couple of rounds of beverage offered.',\n",
       "  'Smoking issue: On the outbound YYZ-PVG leg, there were five occasions where the smell of cigarette smoke wafted around the cabin during the flight.',\n",
       "  'Flight delay experience: The flight from Beirut to Sulaimanyah was delayed for 11 hours without any notification or acceptable reason.',\n",
       "  'Airport team performance: The Iraqi Airways team at the airport didn',\n",
       "  'Recommendation: I am not recommending this airline for anyone because they are very disrespected.',\n",
       "  'Flight delay: The flight was delayed twice, first to 9:30 and then to 10:18pm.',\n",
       "  'Gate confusion: The family was given the wrong gate number and missed their flight.',\n",
       "  'Seat availability: Only 2 seats were available on the flight, and the family was not notified prior to the flight attendants taking their seats.',\n",
       "  'Stroller damage: JetBlue broke the family',\n",
       "  'Compensation: The family was only given a credit for the infant seat as compensation for the broken stroller.',\n",
       "  'Airline technology and cancellations: They opted not to upgrade their technology causing massive cancellations and delays across the board.',\n",
       "  'Rebooking experience: Then to rebook our flight there was a 2-3 hour wait.',\n",
       "  'Lost luggage: We lost all of our luggage and have no answers.',\n",
       "  'Overall experience: This was the worst airline experience of my life hands down. Shame on you Southwest.',\n",
       "  'Online check-in experience: Online check-in was smooth, and default seat selection was free of charge.',\n",
       "  'Baggage drop and boarding: Baggage drop was smooth, and boarding started on time.',\n",
       "  'Seat comfort: Seats were comfortable enough, but might be cramped for taller passengers on longer flights.',\n",
       "  'In-flight experience: Flight was uneventful, but crew distributed free perfume bottles before landing.',\n",
       "  'Overall experience and loyalty: Would consider flying Air Asia India again for the right price.',\n",
       "  'Schedule departure time: I had no trouble with the schedule departure time',\n",
       "  'Aircraft comfort: Aircraft is a Russian aircraft. Uncomfortable.',\n",
       "  'In-flight entertainment: No entertainment',\n",
       "  'Food quality: Food was the worst I',\n",
       "  'Toilet cleanliness: Toilet was old, dirty',\n",
       "  'Flight attendant service: The flight attendants were ok but it doesn',\n",
       "  'Overall experience: I would never fly with them again. Not for pleasure, not for work',\n",
       "  'Overall experience: LAX-CDG and CDG-LAX several times in past 3 years',\n",
       "  'Request for date change: The customer requested to move the holiday to a later date and pay an admin fee due to their pet falling ill, but was denied due to being within the 14-day period.',\n",
       "  'Complaint about staff compassion: The customer felt that the staff members lacked compassion and understanding in handling their request.',\n",
       "  'Cancellation of holiday: The customer cancelled the holiday due to their pet requiring life-saving treatment and felt that the staff member was insensitive when ending the call.',\n",
       "  'Future booking decision: The customer stated that they will not book with Jet2 again due to the lack of consideration and compassion received during this time.',\n",
       "  'Flight cancellation: They canceled the original flight after making us wait over 5 hours at the gate.',\n",
       "  'Deception about reason for delay: They lied about the reason for the wait claiming bad weather in Istanbul was the cause, purely to avoid having to pay compensation for the delay.',\n",
       "  'Check-in experience: We were waiting over an hour and a half before anyone showed up at the check in desk.',\n",
       "  'Flight delay: This flight was also delayed for over 2 hours!',\n",
       "  'Lost luggage: I found that my luggage and tool case had not been put on the flight and had absolutly no help from the airline.',\n",
       "  'Lack of response from airline: As of writing this review I am still waiting for response as to where my property is.',\n",
       "  'Service experience: Thank you Kulula for great service always!',\n",
       "  'Service experience: Pathetic Service! Will never ever fly with them again. Unfriendly service and ridiculous to pay extra for bag.',\n",
       "  'Flight delay and schedule changes: The flight was delayed multiple times, with the departure time changing from 1:45 am to 5:20 am, causing frustration and uncertainty for the passenger.',\n",
       "  'Lack of communication from the airline: The airline did not provide clear information to passengers about the delays and schedule changes, leaving them uninformed and upset.',\n",
       "  'Airport experience and waiting time: The passenger had to wait for 8 hours at the airport before boarding, which was tiring and uncomfortable.',\n",
       "  'Flight cancellation due to Covid-19 lockdown: Cannot physically fly to Lima due to the lockdown from Covid-19',\n",
       "  'Dissatisfaction with customer service: Customer Service department told me that this was best option they could give us, when it is just a rip off',\n",
       "  'Service quality: The service during the flight was very poor and the attitude of the cabin crew with passengers was really rude.',\n",
       "  'In-flight beverage options: They ask you to pay extra money if you want an alcoholic drink, otherwise you just can drink coke, ale or orange juice.',\n",
       "  'Flight punctuality: Flight departed 20mins late, arrived 15 mins late',\n",
       "  'Staff courtesy: Staff were courteous',\n",
       "  'In-flight announcements: Proper announcements were made inflight by the crew and the pilots',\n",
       "  'Food quality: Had pre-ordered Veg hyderabadi biryani which was served with water and tasted nice',\n",
       "  'In-flight amenities: Wifi was available onboard which could be purchased',\n",
       "  'Overall experience: Overall flight was worth the money',\n",
       "  'Flight delay: Slight delay on the outbound flight due to late arrival of the plane at Brussels Airport but final arrival in Fuerteventura was on time. Return flight had a delay of a bit less then 2hrs due to technical problems with the first foreseen plane.',\n",
       "  'Plane interior and condition: We had the nice Boeing Sky Interior on the return plane so that was a plus! In general clean planes',\n",
       "  'Cabin crew service: pleasant (young) cabin crew on both flights',\n",
       "  'In-flight meal and drink options: Meals and drinks for purchase but nice selections though',\n",
       "  'Seat selection and comfort: We booked and paid for emergency exit seats so that we would have extra legroom, highly recommendable on such longer flights imho!',\n",
       "  'Language spoken by cabin crew: I understood that one young lady on the outbound flight did not speak Dutch...for a Belgian airline this is not acceptable though!',\n",
       "  'Customer service experience: Absolutely horrible customer service.',\n",
       "  'Check-in experience: We weren’t even able to board the flight, due to them not checking us in.',\n",
       "  'Flight delay notification: We were notified that our flight got delayed the night before.',\n",
       "  'Check-in time policy: We weren’t aware that the check in times were that rigid and remained the same although the flight got massively delayed.',\n",
       "  'Denial of boarding: We arrived 20 minutes later than the original check in time and not only were we denied boarding.',\n",
       "  'Staff behavior: The staff were extremely mean and unprofessional about it, including mocking us in a language we did not understand.',\n",
       "  'Future travel plans: We will make sure to avoid flying with this extremely unprofessional airline in the future.',\n",
       "  'Flight price: JNB-CPT return for less than ZAR1000',\n",
       "  'Flight punctuality: Both flights were on time',\n",
       "  'Cabin crew service: the cabin crew were friendly and helpful',\n",
       "  'Check-in experience: Check-in was efficient and at JNB they had a separate line for passengers with hand luggage only',\n",
       "  'Seat color choice: The only point of complaint is the choice of colours for the seats. Lime green and blue is not a happy combination in my opinion',\n",
       "  'Initial skepticism: After looking at the reviews from viva me and my friends were a little skeptical to ride on Vivaaerobus.',\n",
       "  'Flight experience: However it was the best experience given our situation. Our frontier flight was cancelled so we booked on VivaAerob\\\\u00fas very last minute with a layover in Guadalajara.',\n",
       "  'Staff service: The workers that checked us in, the flight attendants and everyone else were so kind and helpful.',\n",
       "  'Lost baggage handling: They lost a bag but contacted the main person in our group to tell us what was going on, then did everything in their power to find the bag. Once the bag was located we were notified and the workers were so apologetic.',\n",
       "  'Overall experience: With everything that had gone wrong with our trip, VivaAerob\\\\u00fas was the only thing that went perfectly smooth.',\n",
       "  'Flight delay: The flight was delayed by 6 hours due to a radar system failure at Rome Fiumicino airport.',\n",
       "  'Lack of information and assistance: The complete lack of information and assistance was not acceptable.',\n",
       "  'Denial of lounge access: Access to Star Alliance lounges is denied to Gold members outside Germany when you travel with Germanwings.',\n",
       "  'Inflight entertainment: The flight itself was smooth, but no inflight entertainment whatsoever.',\n",
       "  'Comparison with Air Berlin: For the same price, Air Berlin offers much better value.',\n",
       "  'Issue with ticket due to name discrepancy: The airport agent would not let the passenger board due to a one-letter mistake in his middle name, forcing him to buy a new ticket for $1,100 US dollars.',\n",
       "  'Previous travel experience: The passenger had previously flown on two other airlines without issue.',\n",
       "  'Complaint to China Eastern: The passenger wrote to China Eastern to complain, but is still waiting for a reply three months later.',\n",
       "  'Check-in experience: We had an early flight out of Vienna, we bought fast track, cause we were not sure about how long the lines were, and there were a lot of departures.',\n",
       "  'Security experience: An officer opened up fast track for everybody, but we were pretty lucky, only around 10 people in front of us.',\n",
       "  'Flight experience: We left on time, and the flight went smoothly up to Oslo Torp.',\n",
       "  'Crew service: What i do not understand is why the crew is not interested in selling their products.',\n",
       "  'Flight capacity: The aircraft is half empty Israir really don',\n",
       "  'Communication and queue management: No communication, standing in queue for hours',\n",
       "  'Staff friendliness: Unfriendly staff',\n",
       "  'Travel preference: Rather drive next time',\n",
       "  'Warning to potential customers: Stay away from this company!',\n",
       "  'Deceptive advertising: This company only advertise themselves as low-cost airline, but in fact, they have endless number of fees that grow to your ticket price like a snowball.',\n",
       "  'Luggage fees: I paid $140 for a regular sized 35 pound suitcase.',\n",
       "  'In-flight amenities: During the flight, you will not even get a cup of water for free, the seats were very uncomfortable they did not lean back.',\n",
       "  'Disembarkation and luggage wait time: When we arrived, we waited half an hour to get off the plane , and an hour and half for our luggage.',\n",
       "  'Punctuality: both flights arrived perfectly on time',\n",
       "  'Check-in experience: Check-in in a rush but unfortunately the ground staff wasn',\n",
       "  'Seat comfort: Seats very comfortable with plenty of legroom on both types',\n",
       "  'In-flight snacks: the tasty snacks they served during the short flights',\n",
       "  'Check-in experience: I was charged \\\\\\\\',\n",
       "  'Overall experience: From start to finish, the service, food, and cabin crew provided the very best.',\n",
       "  'First class seating space: There are only 4 first class seats on the 777 and as expected more than enough space to stow belongings and move around the cabin.',\n",
       "  'Cabin crew service: The cabin crew were attentive without being intrusive.',\n",
       "  'Toilet size: The toilets are tiny and one almost needs to be a contortionist to get changed into pyjamas.',\n",
       "  'Seat comfort: The seats although very wide do not have much padding or recline so are uncomfortable for sitting in for long periods of time.',\n",
       "  'Lie flat mode comfort: In the lie flat mode a good mattress was provided which made the bed comfortable.',\n",
       "  'Food quality: Food was exceptional and beautifully presented.',\n",
       "  'Hot towel service: Only hope that the hot towel service makes a comeback.',\n",
       "  'Seat assignment: I asked the counter staff to assign windows seat for both flights, but both seats were not windows seats.',\n",
       "  'Reliability of the company: This company told me a lie and not be able to reliable.',\n",
       "  'Check-in experience: Arrangements were made by a Vietnamese friend so no confusion occurred over language.',\n",
       "  'Baggage handling: I knew I had an overweight bag so paid extra as required. Arrived at the airport and had to pay again even though I had the paperwork from the bank.',\n",
       "  'Flight delay: Plane was 3 hours late when we finally got the call to board.',\n",
       "  'Flight cancellation and re-boarding: The pilot announced that there was some paperwork he had to complete and we would be away. Half an hour later he said there were mechanical difficulties and engineers were on their way to fix them. Another wait and he came back on and told us the first engineer could fix the problem and a second one was coming. Another wait and the pilot told us the air-conditioner was broken and we would have to de-plane. We went back into the terminal and waited until they found another plane. Finally we left on our 6 pm flight at 11 pm.',\n",
       "  'Overall experience: This airline brings a whole new meaning to the term ',\n",
       "  'Communication channels: The communication channels for Air Namibia are incredibly inefficient, with no connectivity or answer from multiple offices and an unresponsive call centre.',\n",
       "  'Website functionality: The website',\n",
       "  'Customer experience: The customer experience was long, tedious and inefficient due to the airline',\n",
       "  'Cleanliness of the plane: Dirty seats, greasy windows and walls',\n",
       "  'Service quality: ultra budget service for not so cheap tickets',\n",
       "  'Covid safety measures: very nonchalant approach to covid safety measures, masks not obligatory, they don',\n",
       "  'Overall experience: This was my last time flying with this airline',\n",
       "  'Airline quality: Canadian North is a nice airline.',\n",
       "  'Food quality: Food great.',\n",
       "  'Inflight Entertainment: No inflight Entertainment.',\n",
       "  'Cabin Service: Beverages and Cabin Service nice.',\n",
       "  'Flight experience: It was a calm, non-turbulent flight.',\n",
       "  'Overall experience: Impressive experience, I did not expected such outstanding service on a 3-hours flight.',\n",
       "  'Seat comfort: Comfortable 2x2x2 seat arrangement, large seats (even if they cannot become a flat bad - but this is not required on such flight)',\n",
       "  'In-flight entertainment: large video screen with wide selection of movies, also very recent',\n",
       "  'Food and beverage service: Full meal with several courses served both ways, very good food and wine, with continuous refills of drinks',\n",
       "  'Cabin crew service: very kind and efficient cabin crew',\n",
       "  'Flight punctuality: Flight from Qingdao left 40 minutes late (which is the rule for every flight leaving from Qingdao, airport is far too small for the present traffic volume) but arrived Hong Kong in time. Flight back perfectly on schedule, and no issues with luggage.',\n",
       "  'Comparison with other airlines: Surprisingly service on this flight was better than on the following Hong Kong - San Francisco flight with Cathay Pacific - I was expecting the opposite.',\n",
       "  'Cabin configuration: Plane has a good cabin configuration with good seat sizes and leg room in economy.',\n",
       "  'Boarding experience: Boarding at LGW was quick and easy.',\n",
       "  'Cabin staff service: Cabin staff are efficient and happily arrange passengers with infants and mobility to be in better seats/near bathrooms.',\n",
       "  ...],\n",
       " 4333)"
      ]
     },
     "execution_count": 25,
     "metadata": {},
     "output_type": "execute_result"
    }
   ],
   "source": [
    "all_reviews, len(all_reviews)"
   ]
  },
  {
   "cell_type": "markdown",
   "metadata": {
    "application/vnd.databricks.v1+cell": {
     "cellMetadata": {},
     "inputWidgets": {},
     "nuid": "72a81e5b-0e34-4abd-8fb4-8dd3e3e1e247",
     "showTitle": false,
     "tableResultSettingsMap": {},
     "title": ""
    }
   },
   "source": [
    "## Compute Embeddings"
   ]
  },
  {
   "cell_type": "code",
   "execution_count": 0,
   "metadata": {
    "application/vnd.databricks.v1+cell": {
     "cellMetadata": {
      "byteLimit": 2048000,
      "rowLimit": 10000
     },
     "inputWidgets": {},
     "nuid": "e05acc6c-071b-49fc-8d0a-6fc95d4699d4",
     "showTitle": false,
     "tableResultSettingsMap": {},
     "title": ""
    }
   },
   "outputs": [
    {
     "output_type": "display_data",
     "data": {
      "application/vnd.jupyter.widget-view+json": {
       "model_id": "64382bad133441ce89e3a3c0b10b70ea",
       "version_major": 2,
       "version_minor": 0
      },
      "text/plain": [
       "Batches:   0%|          | 0/136 [00:00<?, ?it/s]"
      ]
     },
     "metadata": {},
     "output_type": "display_data"
    }
   ],
   "source": [
    "from sentence_transformers import SentenceTransformer\n",
    "\n",
    "# Pre-calculate embeddings\n",
    "embedding_model = SentenceTransformer(\"BAAI/bge-base-en-v1.5\")\n",
    "embeddings = embedding_model.encode(all_reviews, show_progress_bar=True)"
   ]
  },
  {
   "cell_type": "markdown",
   "metadata": {
    "application/vnd.databricks.v1+cell": {
     "cellMetadata": {},
     "inputWidgets": {},
     "nuid": "8579600b-ce84-4bf0-be9d-bfe30ad01cfa",
     "showTitle": false,
     "tableResultSettingsMap": {},
     "title": ""
    }
   },
   "source": [
    "Option to save embeddings so dont have to generate embeddings everytime"
   ]
  },
  {
   "cell_type": "code",
   "execution_count": 0,
   "metadata": {
    "application/vnd.databricks.v1+cell": {
     "cellMetadata": {
      "byteLimit": 2048000,
      "rowLimit": 10000
     },
     "inputWidgets": {},
     "nuid": "6d1a2fcc-bb1d-4383-86a6-75f56e0663aa",
     "showTitle": true,
     "tableResultSettingsMap": {},
     "title": "Save Embeddings (optional)"
    }
   },
   "outputs": [],
   "source": [
    "# specify path to save embeddings\n",
    "embedding_file_path = 'embeddings_reviews.npy'\n",
    "import numpy as np\n",
    "with open(embedding_file_path, 'wb') as f:\n",
    "    np.save(f, embeddings)"
   ]
  },
  {
   "cell_type": "code",
   "execution_count": 0,
   "metadata": {
    "application/vnd.databricks.v1+cell": {
     "cellMetadata": {
      "byteLimit": 2048000,
      "rowLimit": 10000
     },
     "inputWidgets": {},
     "nuid": "33db8b49-1a6e-42bb-8d92-9fe4d90c5461",
     "showTitle": false,
     "tableResultSettingsMap": {},
     "title": ""
    }
   },
   "outputs": [],
   "source": [
    "# import numpy as np\n",
    "# embedding_file_path = 'embeddings.npy'\n",
    "# embeddings = np.load(embedding_file_path)"
   ]
  },
  {
   "cell_type": "markdown",
   "metadata": {
    "application/vnd.databricks.v1+cell": {
     "cellMetadata": {},
     "inputWidgets": {},
     "nuid": "13927973-1f44-414c-81f1-ac84c6f8b9a9",
     "showTitle": false,
     "tableResultSettingsMap": {},
     "title": ""
    }
   },
   "source": [
    "## Zero-shot Topic Modeling"
   ]
  },
  {
   "cell_type": "markdown",
   "metadata": {
    "application/vnd.databricks.v1+cell": {
     "cellMetadata": {},
     "inputWidgets": {},
     "nuid": "ee660d3a-75cd-49a0-a21e-04cc88697164",
     "showTitle": false,
     "tableResultSettingsMap": {},
     "title": ""
    }
   },
   "source": [
    "### Predefined list of topics"
   ]
  },
  {
   "cell_type": "code",
   "execution_count": 0,
   "metadata": {
    "application/vnd.databricks.v1+cell": {
     "cellMetadata": {
      "byteLimit": 2048000,
      "rowLimit": 10000
     },
     "inputWidgets": {},
     "nuid": "fc9d05d3-9ba5-4123-95fe-c92be66cb638",
     "showTitle": false,
     "tableResultSettingsMap": {},
     "title": ""
    }
   },
   "outputs": [],
   "source": [
    "predefined_topics  = [\n",
    "    \"Check-in and Boarding\",\n",
    "    \"Seating Comfort\",\n",
    "    \"In-Flight Wi-Fi\",\n",
    "    \"Cabin Cleanliness\",\n",
    "    \"Food and Beverage\",\n",
    "    \"Flight Attendants and Crew Services\",\n",
    "    \"Baggage Handling\",\n",
    "    \"Flight Disruptions and Delays\",\n",
    "    \"Loyalty Program and benefits\",\n",
    "    \"Pricing Transparency and Fees\",\n",
    "    \"Safety Measures\",\n",
    "    \"Ground Services Assistance\",\n",
    "    \"Accessibility and special assistance\"\n",
    "]"
   ]
  },
  {
   "cell_type": "code",
   "execution_count": 0,
   "metadata": {
    "application/vnd.databricks.v1+cell": {
     "cellMetadata": {
      "byteLimit": 2048000,
      "rowLimit": 10000
     },
     "inputWidgets": {},
     "nuid": "ca4edcd1-aa81-4540-9a28-0a406c191b3a",
     "showTitle": false,
     "tableResultSettingsMap": {},
     "title": ""
    }
   },
   "outputs": [
    {
     "output_type": "execute_result",
     "data": {
      "text/plain": [
       "13"
      ]
     },
     "execution_count": 30,
     "metadata": {},
     "output_type": "execute_result"
    }
   ],
   "source": [
    "len(predefined_topics)"
   ]
  },
  {
   "cell_type": "markdown",
   "metadata": {
    "application/vnd.databricks.v1+cell": {
     "cellMetadata": {},
     "inputWidgets": {},
     "nuid": "6f9cf458-618b-4182-94d7-e38923694958",
     "showTitle": false,
     "tableResultSettingsMap": {},
     "title": ""
    }
   },
   "source": [
    "### BERTopic Model"
   ]
  },
  {
   "cell_type": "markdown",
   "metadata": {
    "application/vnd.databricks.v1+cell": {
     "cellMetadata": {},
     "inputWidgets": {},
     "nuid": "99cf6d2f-9307-487f-81fe-816c6c6d4e66",
     "showTitle": false,
     "tableResultSettingsMap": {},
     "title": ""
    }
   },
   "source": [
    "#### Set up Databricks llm endpoint for topic generation"
   ]
  },
  {
   "cell_type": "code",
   "execution_count": 0,
   "metadata": {
    "application/vnd.databricks.v1+cell": {
     "cellMetadata": {},
     "inputWidgets": {},
     "nuid": "a46dcbd8-9fe9-4b76-9215-db1c525904c3",
     "showTitle": false,
     "tableResultSettingsMap": {},
     "title": ""
    }
   },
   "outputs": [],
   "source": [
    "import openai\n",
    "client = openai.OpenAI(base_url=f\"{WORKSPACE_URL}/serving-endpoints/\", api_key=TOKEN)"
   ]
  },
  {
   "cell_type": "markdown",
   "metadata": {
    "application/vnd.databricks.v1+cell": {
     "cellMetadata": {},
     "inputWidgets": {},
     "nuid": "a187ce9a-6ef8-416f-840a-ada96f669fed",
     "showTitle": false,
     "tableResultSettingsMap": {},
     "title": ""
    }
   },
   "source": [
    "#### Create the representation model\n"
   ]
  },
  {
   "cell_type": "code",
   "execution_count": 0,
   "metadata": {
    "application/vnd.databricks.v1+cell": {
     "cellMetadata": {
      "byteLimit": 2048000,
      "rowLimit": 10000
     },
     "inputWidgets": {},
     "nuid": "305ecc16-1949-463b-9485-9648b1f219f8",
     "showTitle": true,
     "tableResultSettingsMap": {},
     "title": "custom llm prompt"
    }
   },
   "outputs": [],
   "source": [
    "prompt = \"\"\"\n",
    "Generate a short topic label based on reviews and key words describing the reviews. \n",
    "\n",
    "Make sure the response only contains the topic label. The response should be in the following format:\n",
    "'''\n",
    "topic: <topic label>\n",
    "'''\n",
    "\n",
    "Here are some examples of topic labels: \n",
    "'''\n",
    "topic: Seating Comfort\n",
    "topic: Food and Beverage Quality\n",
    "topic: Baggage Handling\n",
    "'''\n",
    "\n",
    "Here are the reviews:\n",
    "[DOCUMENTS]\n",
    "\n",
    "Here are the keywords that are relevant to the reviews. Use them as reference for the topic label, but keep in mind the key words are not always the most representative. [KEYWORDS]\n",
    "\n",
    "Now read the reviews and keywords carefully, and respond with the topic label that best categories the reviews. Remember to respond in the correct format.\n",
    "\"\"\""
   ]
  },
  {
   "cell_type": "code",
   "execution_count": 0,
   "metadata": {
    "application/vnd.databricks.v1+cell": {
     "cellMetadata": {},
     "inputWidgets": {},
     "nuid": "a4aa8bd1-96a1-4d1a-9deb-19f4e867bb7e",
     "showTitle": false,
     "tableResultSettingsMap": {},
     "title": ""
    }
   },
   "outputs": [],
   "source": [
    "# import tiktoken\n",
    "# Tokenizer\n",
    "# tokenizer= tiktoken.encoding_for_model(\"gpt-3.5-turbo\")"
   ]
  },
  {
   "cell_type": "code",
   "execution_count": 0,
   "metadata": {
    "application/vnd.databricks.v1+cell": {
     "cellMetadata": {
      "byteLimit": 2048000,
      "rowLimit": 10000
     },
     "inputWidgets": {},
     "nuid": "099262b3-3b1e-43ed-a469-10da9e24b242",
     "showTitle": false,
     "tableResultSettingsMap": {},
     "title": ""
    }
   },
   "outputs": [],
   "source": [
    "from bertopic.representation import OpenAI\n",
    "from bertopic import BERTopic\n",
    "openai_generator = OpenAI(\n",
    "    client,\n",
    "    model=MODEL_ID,\n",
    "    chat=True,\n",
    "    nr_docs=5,\n",
    "    prompt=prompt\n",
    ")"
   ]
  },
  {
   "cell_type": "code",
   "execution_count": 0,
   "metadata": {
    "application/vnd.databricks.v1+cell": {
     "cellMetadata": {
      "byteLimit": 2048000,
      "rowLimit": 10000
     },
     "inputWidgets": {},
     "nuid": "f62ae8f5-0b24-45b6-bd99-79a96aee6872",
     "showTitle": false,
     "tableResultSettingsMap": {},
     "title": ""
    }
   },
   "outputs": [
    {
     "output_type": "stream",
     "name": "stdout",
     "output_type": "stream",
     "text": [
      "\nI have a topic that contains the following documents: \n[DOCUMENTS]\nThe topic is described by the following keywords: [KEYWORDS]\n\nBased on the information above, extract a short topic label in the following format:\ntopic: <topic label>\n\n"
     ]
    }
   ],
   "source": [
    "print(openai_generator.default_prompt_)"
   ]
  },
  {
   "cell_type": "code",
   "execution_count": 0,
   "metadata": {
    "application/vnd.databricks.v1+cell": {
     "cellMetadata": {
      "byteLimit": 2048000,
      "rowLimit": 10000
     },
     "inputWidgets": {},
     "nuid": "49e57cc4-8abf-4095-a1c6-4acd075d4d0c",
     "showTitle": false,
     "tableResultSettingsMap": {},
     "title": ""
    }
   },
   "outputs": [
    {
     "output_type": "stream",
     "name": "stdout",
     "output_type": "stream",
     "text": [
      "\nGenerate a short topic label based on reviews and key words describing the reviews. \n\nMake sure the response only contain the topic label. The response should be in the following format:\n'''\ntopic: <topic label>\n'''\n\nHere are some examples of topic labels: \n'''\ntopic: Seating Comfort\ntopic: Food and Beverage Quality\ntopic: Baggage Handling\n'''\n\nHere are the reviews:\n[DOCUMENTS]\n\nHere are the keywords that are relevant to the reviews. Use them as reference for the topic label, but keep in mind the key words are not always the most representative. [KEYWORDS]\n\nNow read the reviews and keywards carefully, and respond with the topic label that best categories the reviews. Remember to respond in the correct format.\n\n"
     ]
    }
   ],
   "source": [
    "print(openai_generator.prompt)"
   ]
  },
  {
   "cell_type": "code",
   "execution_count": 0,
   "metadata": {
    "application/vnd.databricks.v1+cell": {
     "cellMetadata": {
      "byteLimit": 2048000,
      "rowLimit": 10000
     },
     "collapsed": true,
     "inputWidgets": {},
     "nuid": "e9ca68ca-918e-484c-b136-e17817fb7b80",
     "showTitle": false,
     "tableResultSettingsMap": {},
     "title": ""
    }
   },
   "outputs": [],
   "source": [
    "# Temp helper function \n",
    "def fixed_topic_labels_(self):\n",
    "    \"\"\"Map topic IDs to their labels.\n",
    "    A label is the topic ID, along with the first four words of the topic representation, joined using '_'.\n",
    "    Zeroshot topic labels come from self.zeroshot_topic_list rather than the calculated representation.\n",
    "\n",
    "    Returns:\n",
    "        topic_labels: a dict mapping a topic ID (int) to its label (str)\n",
    "    \"\"\"\n",
    "    topic_labels = {\n",
    "        key: f\"{key}_\" + \"_\".join([word[0] for word in values[:4]])\n",
    "        for key, values in self.topic_representations_.items()\n",
    "    }\n",
    "    if self._is_zeroshot():\n",
    "        # Need to correct labels from zero-shot topics\n",
    "        topic_id_to_zeroshot_label = {\n",
    "            self.topic_mapper_.get_mappings()[topic_id]: self.zeroshot_topic_list[zeroshot_topic_idx]\n",
    "            for topic_id, zeroshot_topic_idx in self._topic_id_to_zeroshot_topic_idx.items()\n",
    "        }\n",
    "        topic_labels.update(topic_id_to_zeroshot_label)\n",
    "    return topic_labels\n",
    "BERTopic.topic_labels_ = property(fixed_topic_labels_)\n"
   ]
  },
  {
   "cell_type": "markdown",
   "metadata": {
    "application/vnd.databricks.v1+cell": {
     "cellMetadata": {},
     "inputWidgets": {},
     "nuid": "99993d20-3b26-49f7-b28b-4da19c1388ef",
     "showTitle": false,
     "tableResultSettingsMap": {},
     "title": ""
    }
   },
   "source": [
    "%md\n",
    "##### *UPDATED: `representations` use less topic representation to speed things up*"
   ]
  },
  {
   "cell_type": "markdown",
   "metadata": {
    "application/vnd.databricks.v1+cell": {
     "cellMetadata": {},
     "inputWidgets": {},
     "nuid": "da05a48a-ec54-4f2a-930b-0998e6faa757",
     "showTitle": false,
     "tableResultSettingsMap": {},
     "title": ""
    }
   },
   "source": [
    "source code for zeroshot classification: https://github.com/MaartenGr/BERTopic/blob/master/bertopic/representation/_zeroshot.py\n"
   ]
  },
  {
   "cell_type": "code",
   "execution_count": 0,
   "metadata": {
    "application/vnd.databricks.v1+cell": {
     "cellMetadata": {
      "byteLimit": 2048000,
      "rowLimit": 10000
     },
     "inputWidgets": {},
     "nuid": "f80a43a0-91b7-41d8-be48-bf695d188ec0",
     "showTitle": true,
     "tableResultSettingsMap": {},
     "title": "Representation Model"
    }
   },
   "outputs": [],
   "source": [
    "## UPDATED\n",
    "from bertopic.representation import KeyBERTInspired, MaximalMarginalRelevance, OpenAI, ZeroShotClassification\n",
    "ai_representation = [MaximalMarginalRelevance(diversity=0.3), openai_generator]\n",
    "# text_model_representation = [MaximalMarginalRelevance(diversity=0.3),ZeroShotClassification(predefined_topics, model=\"MoritzLaurer/DeBERTa-v3-base-mnli-fever-anli\")] #, min_prob=0.8 \n",
    "\n",
    "\n",
    "representations = {\n",
    "    \"AI_Generated\": ai_representation,\n",
    "    # \"Classification_zeroshot\": text_model_representation,\n",
    "    \"KeyBERT\": KeyBERTInspired()  \n",
    "}\n"
   ]
  },
  {
   "cell_type": "code",
   "execution_count": 0,
   "metadata": {
    "application/vnd.databricks.v1+cell": {
     "cellMetadata": {
      "byteLimit": 2048000,
      "rowLimit": 10000
     },
     "inputWidgets": {},
     "nuid": "a50defc7-8a13-4b09-ab2f-c259552ec1dd",
     "showTitle": true,
     "tableResultSettingsMap": {},
     "title": "Embedding model"
    }
   },
   "outputs": [],
   "source": [
    "# import openai\n",
    "# from bertopic.backend import OpenAIBackend\n",
    "# embedding_model = OpenAIBackend(client, 'databricks-bge-large-en')\n",
    "# embedding_model.embed('test')"
   ]
  },
  {
   "cell_type": "code",
   "execution_count": 0,
   "metadata": {
    "application/vnd.databricks.v1+cell": {
     "cellMetadata": {
      "byteLimit": 2048000,
      "rowLimit": 10000
     },
     "inputWidgets": {},
     "nuid": "ac6c98c3-ca98-4a3e-bd1e-15ee28ea928c",
     "showTitle": true,
     "tableResultSettingsMap": {},
     "title": "Dimension reduction"
    }
   },
   "outputs": [],
   "source": [
    "# from umap import UMAP\n",
    "# umap_model = UMAP(n_neighbors=100, n_components=5, min_dist=0.0, metric='cosine', random_state=42)"
   ]
  },
  {
   "cell_type": "code",
   "execution_count": 0,
   "metadata": {
    "application/vnd.databricks.v1+cell": {
     "cellMetadata": {
      "byteLimit": 2048000,
      "rowLimit": 10000
     },
     "inputWidgets": {},
     "nuid": "c3c78d9d-8a76-4cb4-a17a-1b2cd548a940",
     "showTitle": true,
     "tableResultSettingsMap": {},
     "title": "Clustering Model"
    }
   },
   "outputs": [],
   "source": [
    "## min_cluster_size=min_topic_size\n",
    "\n",
    "# from hdbscan import HDBSCAN\n",
    "# hdbscan_model = HDBSCAN(min_cluster_size=100, metric='euclidean', cluster_selection_method='eom', prediction_data=True)"
   ]
  },
  {
   "cell_type": "markdown",
   "metadata": {
    "application/vnd.databricks.v1+cell": {
     "cellMetadata": {},
     "inputWidgets": {},
     "nuid": "20ff0b34-29f4-4954-a6dc-d7490e523a5b",
     "showTitle": false,
     "tableResultSettingsMap": {},
     "title": ""
    }
   },
   "source": [
    "## Put together pipeline and train\n",
    "Source Code : https://github.com/MaartenGr/BERTopic/blob/master/bertopic/_bertopic.py#L3802\n"
   ]
  },
  {
   "cell_type": "markdown",
   "metadata": {
    "application/vnd.databricks.v1+cell": {
     "cellMetadata": {},
     "inputWidgets": {},
     "nuid": "d0dd9f8a-d716-4285-9310-2846a73a357e",
     "showTitle": false,
     "tableResultSettingsMap": {},
     "title": ""
    }
   },
   "source": [
    "##### Set `min_topic_size` to be higher (min sample needed for each cluster) for large datasets*"
   ]
  },
  {
   "cell_type": "code",
   "execution_count": 0,
   "metadata": {
    "application/vnd.databricks.v1+cell": {
     "cellMetadata": {
      "byteLimit": 2048000,
      "rowLimit": 10000
     },
     "inputWidgets": {},
     "nuid": "c81b0842-3a1c-4e94-b1e2-6d5ea2eb86f6",
     "showTitle": true,
     "tableResultSettingsMap": {},
     "title": "Topic Model"
    }
   },
   "outputs": [
    {
     "output_type": "stream",
     "name": "stderr",
     "output_type": "stream",
     "text": [
      "2024-10-21 22:46:35,035 - BERTopic - Dimensionality - Fitting the dimensionality reduction algorithm\n2024-10-21 22:46:58,592 - BERTopic - Dimensionality - Completed ✓\n2024-10-21 22:46:58,593 - BERTopic - Zeroshot Step 1 - Finding documents that could be assigned to either one of the zero-shot topics\n2024-10-21 22:46:58,642 - BERTopic - Zeroshot Step 1 - Completed ✓\n2024-10-21 22:47:14,937 - BERTopic - Cluster - Start clustering the reduced embeddings\n2024-10-21 22:47:15,005 - BERTopic - Cluster - Completed ✓\n2024-10-21 22:47:15,005 - BERTopic - Zeroshot Step 2 - Combining topics from zero-shot topic modeling with topics from clustering...\n2024-10-21 22:47:15,015 - BERTopic - Zeroshot Step 2 - Completed ✓\n2024-10-21 22:47:15,016 - BERTopic - Representation - Extracting topics from clusters using representation models.\n\r  0%|          | 0/16 [00:00<?, ?it/s]\r  6%|▋         | 1/16 [00:02<00:38,  2.54s/it]\r 12%|█▎        | 2/16 [00:05<00:36,  2.63s/it]\r 19%|█▉        | 3/16 [00:07<00:30,  2.35s/it]\r 25%|██▌       | 4/16 [00:09<00:28,  2.36s/it]\r 31%|███▏      | 5/16 [00:12<00:26,  2.42s/it]\r 38%|███▊      | 6/16 [00:14<00:24,  2.46s/it]\r 44%|████▍     | 7/16 [00:16<00:21,  2.34s/it]\r 50%|█████     | 8/16 [00:18<00:18,  2.28s/it]\r 56%|█████▋    | 9/16 [00:20<00:15,  2.21s/it]\r 62%|██████▎   | 10/16 [00:23<00:12,  2.15s/it]\r 69%|██████▉   | 11/16 [00:25<00:11,  2.21s/it]\r 75%|███████▌  | 12/16 [00:27<00:09,  2.26s/it]\r 81%|████████▏ | 13/16 [00:30<00:06,  2.29s/it]\r 88%|████████▊ | 14/16 [00:32<00:04,  2.23s/it]\r 94%|█████████▍| 15/16 [00:34<00:02,  2.25s/it]\r100%|██████████| 16/16 [00:36<00:00,  2.22s/it]\r100%|██████████| 16/16 [00:36<00:00,  2.29s/it]\n2024-10-21 22:47:52,693 - BERTopic - Representation - Completed ✓\n"
     ]
    },
    {
     "output_type": "display_data",
     "data": {
      "application/databricks.mlflow.trace": "[\"tr-9b74742369b14c81a223ccf40bca4e77\", \"tr-3d0b24e7a7a343a9a04ed66b7d1c1106\", \"tr-cafa13dab8f84dcc9d9e33f6bc996964\", \"tr-e282d53bb75e4748b1300b6648a2b838\", \"tr-751e8bb42a63411f9857958ac45faaf3\", \"tr-cd382528de8d4c4abb6f29eebc2902d8\", \"tr-849d9e0edea44681ae6e99eaa91dc0ad\", \"tr-ec43713054ab4a839339dcae8d6a0bdc\", \"tr-e9c2e4bc9360427ab3a401752a21431f\", \"tr-f7b48b6300644a7888cd62c0bcd4f456\"]",
      "text/plain": [
       "[Trace(request_id=tr-9b74742369b14c81a223ccf40bca4e77), Trace(request_id=tr-3d0b24e7a7a343a9a04ed66b7d1c1106), Trace(request_id=tr-cafa13dab8f84dcc9d9e33f6bc996964), Trace(request_id=tr-e282d53bb75e4748b1300b6648a2b838), Trace(request_id=tr-751e8bb42a63411f9857958ac45faaf3), Trace(request_id=tr-cd382528de8d4c4abb6f29eebc2902d8), Trace(request_id=tr-849d9e0edea44681ae6e99eaa91dc0ad), Trace(request_id=tr-ec43713054ab4a839339dcae8d6a0bdc), Trace(request_id=tr-e9c2e4bc9360427ab3a401752a21431f), Trace(request_id=tr-f7b48b6300644a7888cd62c0bcd4f456)]"
      ]
     },
     "metadata": {},
     "output_type": "display_data"
    }
   ],
   "source": [
    "zeroshot_topic_list = predefined_topics\n",
    "topic_model = BERTopic(\n",
    "    embedding_model=\"BAAI/bge-base-en-v1.5\",\n",
    "    verbose=True,\n",
    "    # umap_model=umap_model, hdbscan_model=hdbscan_model,\n",
    "    # nr_topics=40, # reduces topic by clustering after topic generation\n",
    "    min_topic_size=50, \n",
    "    zeroshot_topic_list=predefined_topics,\n",
    "    zeroshot_min_similarity=.6,\n",
    "    representation_model=representations \n",
    ")\n",
    "topics,probs = topic_model.fit_transform(all_reviews, embeddings)"
   ]
  },
  {
   "cell_type": "markdown",
   "metadata": {
    "application/vnd.databricks.v1+cell": {
     "cellMetadata": {},
     "inputWidgets": {},
     "nuid": "0555b2a9-f138-4365-99d5-7318d85c8c8b",
     "showTitle": false,
     "tableResultSettingsMap": {},
     "title": ""
    }
   },
   "source": [
    "## Results"
   ]
  },
  {
   "cell_type": "markdown",
   "metadata": {
    "application/vnd.databricks.v1+cell": {
     "cellMetadata": {},
     "inputWidgets": {},
     "nuid": "e5521237-ed50-45d1-8bc0-e35138a3a4fa",
     "showTitle": false,
     "tableResultSettingsMap": {},
     "title": ""
    }
   },
   "source": [
    "- Name: predefined topics + top keywords for topic clusters \n",
    "- Default Representation: keywords based on c-TF-IDF (https://maartengr.github.io/BERTopic/algorithm/algorithm.html#5-topic-representation)\n",
    "- AI_Generated: generates a label based on keywords and prompt \n",
    "- KeyBERT: key word extracted with Keybert() to compare"
   ]
  },
  {
   "cell_type": "code",
   "execution_count": 0,
   "metadata": {
    "application/vnd.databricks.v1+cell": {
     "cellMetadata": {
      "byteLimit": 2048000,
      "rowLimit": 10000
     },
     "inputWidgets": {},
     "nuid": "557f36ca-f4c1-45ff-908c-0f5028d51d9b",
     "showTitle": true,
     "tableResultSettingsMap": {},
     "title": "Inspect Topics"
    }
   },
   "outputs": [
    {
     "output_type": "display_data",
     "data": {
      "text/html": [
       "<style scoped>\n",
       "  .table-result-container {\n",
       "    max-height: 300px;\n",
       "    overflow: auto;\n",
       "  }\n",
       "  table, th, td {\n",
       "    border: 1px solid black;\n",
       "    border-collapse: collapse;\n",
       "  }\n",
       "  th, td {\n",
       "    padding: 5px;\n",
       "  }\n",
       "  th {\n",
       "    text-align: left;\n",
       "  }\n",
       "</style><div class='table-result-container'><table class='table-result'><thead style='background-color: white'><tr><th>Topic</th><th>Count</th><th>Name</th><th>Representation</th><th>AI_Generated</th><th>KeyBERT</th><th>Representative_Docs</th></tr></thead><tbody><tr><td>-1</td><td>58</td><td>-1_entertainment_inflight_ife_system</td><td>List(entertainment, inflight, ife, system, movies, of, limited, the, in, flight)</td><td>List(Inflight Entertainment)</td><td>List(entertainment, inflight, advertisements, screens, good, movie, flight, no, onboard, lacklustre)</td><td>List(Entertainment quality: entertainment good, Inflight Entertainment: No inflight Entertainment., Inflight entertainment: Inflight entertainment was good.)</td></tr><tr><td>0</td><td>315</td><td>Check-in and Boarding</td><td>List(check, in, boarding, experience, at, to, and, the, was, online)</td><td>List(Check-in Experience)</td><td>List(checkin, checked, check, booked, booking, experience, arrived, queue, hotel, paid)</td><td>List(Check-in experience: No delays at Check-in, Check-in experience: The check in staff didn, Check-in experience: The check-in was smooth.)</td></tr><tr><td>1</td><td>241</td><td>Seating Comfort</td><td>List(comfort, seat, seats, seating, comfortable, the, legroom, leg, and, was)</td><td>List(Seat Comfort)</td><td>List(seats, seating, comfort, seat, comfortable, sitting, comfy, recline, sit, amenities)</td><td>List(Seat comfort: The seats were comfortable, Seat comfort: The seats were comfortable, Seat comfort: Comfortable seats)</td></tr><tr><td>2</td><td>163</td><td>In-Flight Wi-Fi</td><td>List(entertainment, flight, in, amenities, wifi, inflight, the, ife, and, no)</td><td>List(In-flight Entertainment)</td><td>List(inflight, flight, entertainment, flights, takeoff, aircraft, onboard, screens, lounge, screen)</td><td>List(In-flight entertainment: Entertainment was limited., In-flight entertainment: It, In-flight entertainment: No entertainment)</td></tr><tr><td>3</td><td>114</td><td>Cabin Cleanliness</td><td>List(cleanliness, cabin, clean, aircraft, plane, condition, the, and, was, dirty)</td><td>List(Aircraft Cleanliness)</td><td>List(cleanliness, cleaned, clean, airplane, aircraft, tidy, cabin, flight, planes, plane)</td><td>List(Aircraft cleanliness: The Aircraft was clean, Cabin cleanliness: The aircraft was clean, Cabin cleanliness: The cabin was clean)</td></tr><tr><td>4</td><td>150</td><td>Food and Beverage</td><td>List(food, quality, and, drinks, beverage, drink, good, served, was, options)</td><td>List(In-Flight Meal Quality)</td><td>List(food, quality, good, meal, meals, catering, rice, portions, chicken, snacks)</td><td>List(Food quality: good food, Food quality: Food was good., Food quality: food)</td></tr><tr><td>5</td><td>349</td><td>Flight Attendants and Crew Services</td><td>List(crew, service, cabin, friendly, staff, and, flight, attendant, were, attendants)</td><td>List(Cabin Crew Friendliness)</td><td>List(cabin, passengers, attendants, passenger, attendant, crews, crew, onboard, friendly, service)</td><td>List(Cabin crew service: the cabin crew were friendly and helpful, Cabin crew service: The cabin crew were friendly and helpful., Cabin crew service: Crew were friendly.)</td></tr><tr><td>6</td><td>139</td><td>Baggage Handling</td><td>List(baggage, luggage, handling, bag, my, to, lost, the, policy, and)</td><td>List(Baggage Handling)</td><td>List(baggage, luggage, suitcase, bags, bag, handling, passengers, missing, airline, airport)</td><td>List(Baggage handling: They lost our luggage and nobody is looking for it!, Baggage handling: no luggage problem, Baggage handling: They lost my bag)</td></tr><tr><td>7</td><td>910</td><td>Flight Disruptions and Delays</td><td>List(flight, the, delay, to, and, was, delayed, cancellation, on, hours)</td><td>List(Flight Punctuality)</td><td>List(delays, delayed, flight, delay, flights, late, punctuality, passengers, missed, plane)</td><td>List(Flight delay: Flight was delayed for two hours, Flight punctuality: The flight was on time., Flight delay: The flight was delayed by one hour)</td></tr><tr><td>8</td><td>16</td><td>Loyalty Program and benefits</td><td>List(loyalty, program, flyer, frequent, benefits, customer, plus, again, repeat, promotion)</td><td>List(Frequent Flyer Program)</td><td>List(loyalty, promotion, af, program, airline, customers, loyal, discounts, flyer, customer)</td><td>List(Loyalty program experience: Never again will I fly Iberia, signed a former Iberian Plus member, Frequent flyer program: Minor drawbacks : frequent flyer program does not seem on par with AF one ;, Frequent flyer program: Sky miles, their frequent flyer program is very popular and has many other benefits like discounts in hotels, than award tickets.)</td></tr><tr><td>9</td><td>58</td><td>Pricing Transparency and Fees</td><td>List(pricing, for, ticket, price, hidden, charges, fees, value, prices, fee)</td><td>List(Additional Fees and Charges)</td><td>List(pricing, fees, prices, fee, charges, price, charged, costs, cost, paying)</td><td>List(Pricing transparency: Deceptive pricing, extra fees for checked bags not clearly indicated, Pricing: Great price, Pricing: high price for the service provided)</td></tr><tr><td>10</td><td>8</td><td>Safety Measures</td><td>List(safety, covid, precautions, measures, enforced, procedures, masks, reliability, staff, obligatory)</td><td>List(Covid Safety Enforcement)</td><td>List(precautions, safety, enforced, safe, enforcement, masks, procedures, measures, covid, rushed)</td><td>List(Covid precautions: Covid precautions well enforced, Safety procedures: Safety procedures were rushed., Covid safety measures: very nonchalant approach to covid safety measures, masks not obligatory, they don)</td></tr><tr><td>11</td><td>36</td><td>Ground Services Assistance</td><td>List(ground, staff, service, airport, assistance, at, the, and, to, in)</td><td>List(Ground Staff Service)</td><td>List(ground, passengers, unprofessional, service, serving, staff, politeness, airport, landing, planes)</td><td>List(Ground staff service: Delhi airport Qantas ground staff unprofessional and rude., Ground staff service: The ground staff at Bangkok, were not up to the , Ground staff service: the ground staff was friendly)</td></tr><tr><td>12</td><td>7</td><td>Accessibility and special assistance</td><td>List(assistance, wheelchair, wheel, somebody, chair, nobody, security, special, go, there)</td><td>List(Wheelchair Assistance)</td><td>List(wheelchair, assistance, accessibility, support, onboard, provided, help, crutches, wheel, asked)</td><td>List(Wheelchair assistance: No wheelchair assistance was provided for my elder son, a special kid, upon reaching RUH., Wheelchair assistance: Manchester Airport wheelchair assistance staff were kind and efficient, we chose to push our friend, directed to go through fast track security, it was busy but moved fairly quickly, very easy and well organised, security staff friendly., Wheelchair assistance: I had requested a wheel chair but at Mumbai Airport there were multiple wheel chair operators they told me stay asked somebody will take you shortly but nobody took me finally they told me please go up to the immigration counter somebody will be there to help you but nobody was there again)</td></tr><tr><td>13</td><td>176</td><td>13_food_meal_quality_was</td><td>List(food, meal, quality, was, no, the, breakfast, lounge, of, and)</td><td>List(In-Flight Meal Quality)</td><td>List(disgusting, food, stale, awful, tasteless, terrible, poor, meal, bread, salad)</td><td>List(Food quality: The food was awful., Food quality: Food was the worst I, Food quality: The meal was of poor quality, and there was no choice.)</td></tr><tr><td>14</td><td>1593</td><td>14_the_to_customer_experience</td><td>List(the, to, customer, experience, and, service, with, for, overall, was)</td><td>List(Customer Service Experience)</td><td>List(refund, customer, experience, rude, ticket, call, service, booking, worst, compensation)</td><td>List(Customer service: The customer complained to the customer service about their experience, but was told there was nothing that could be done to reimburse their extra payment., Customer service experience: The customer was on hold for 3.5 hours and did not receive a response to their email., Overall experience: This is the worst experience I have had with any airline, I will never use them again and I definitely not recommend them.)</td></tr></tbody></table></div>"
      ]
     },
     "metadata": {
      "application/vnd.databricks.v1+output": {
       "addedWidgets": {},
       "aggData": [],
       "aggError": "",
       "aggOverflow": false,
       "aggSchema": [],
       "aggSeriesLimitReached": false,
       "aggType": "",
       "arguments": {},
       "columnCustomDisplayInfos": {},
       "data": [
        [
         -1,
         58,
         "-1_entertainment_inflight_ife_system",
         [
          "entertainment",
          "inflight",
          "ife",
          "system",
          "movies",
          "of",
          "limited",
          "the",
          "in",
          "flight"
         ],
         [
          "Inflight Entertainment"
         ],
         [
          "entertainment",
          "inflight",
          "advertisements",
          "screens",
          "good",
          "movie",
          "flight",
          "no",
          "onboard",
          "lacklustre"
         ],
         [
          "Entertainment quality: entertainment good",
          "Inflight Entertainment: No inflight Entertainment.",
          "Inflight entertainment: Inflight entertainment was good."
         ]
        ],
        [
         0,
         315,
         "Check-in and Boarding",
         [
          "check",
          "in",
          "boarding",
          "experience",
          "at",
          "to",
          "and",
          "the",
          "was",
          "online"
         ],
         [
          "Check-in Experience"
         ],
         [
          "checkin",
          "checked",
          "check",
          "booked",
          "booking",
          "experience",
          "arrived",
          "queue",
          "hotel",
          "paid"
         ],
         [
          "Check-in experience: No delays at Check-in",
          "Check-in experience: The check in staff didn",
          "Check-in experience: The check-in was smooth."
         ]
        ],
        [
         1,
         241,
         "Seating Comfort",
         [
          "comfort",
          "seat",
          "seats",
          "seating",
          "comfortable",
          "the",
          "legroom",
          "leg",
          "and",
          "was"
         ],
         [
          "Seat Comfort"
         ],
         [
          "seats",
          "seating",
          "comfort",
          "seat",
          "comfortable",
          "sitting",
          "comfy",
          "recline",
          "sit",
          "amenities"
         ],
         [
          "Seat comfort: The seats were comfortable",
          "Seat comfort: The seats were comfortable",
          "Seat comfort: Comfortable seats"
         ]
        ],
        [
         2,
         163,
         "In-Flight Wi-Fi",
         [
          "entertainment",
          "flight",
          "in",
          "amenities",
          "wifi",
          "inflight",
          "the",
          "ife",
          "and",
          "no"
         ],
         [
          "In-flight Entertainment"
         ],
         [
          "inflight",
          "flight",
          "entertainment",
          "flights",
          "takeoff",
          "aircraft",
          "onboard",
          "screens",
          "lounge",
          "screen"
         ],
         [
          "In-flight entertainment: Entertainment was limited.",
          "In-flight entertainment: It",
          "In-flight entertainment: No entertainment"
         ]
        ],
        [
         3,
         114,
         "Cabin Cleanliness",
         [
          "cleanliness",
          "cabin",
          "clean",
          "aircraft",
          "plane",
          "condition",
          "the",
          "and",
          "was",
          "dirty"
         ],
         [
          "Aircraft Cleanliness"
         ],
         [
          "cleanliness",
          "cleaned",
          "clean",
          "airplane",
          "aircraft",
          "tidy",
          "cabin",
          "flight",
          "planes",
          "plane"
         ],
         [
          "Aircraft cleanliness: The Aircraft was clean",
          "Cabin cleanliness: The aircraft was clean",
          "Cabin cleanliness: The cabin was clean"
         ]
        ],
        [
         4,
         150,
         "Food and Beverage",
         [
          "food",
          "quality",
          "and",
          "drinks",
          "beverage",
          "drink",
          "good",
          "served",
          "was",
          "options"
         ],
         [
          "In-Flight Meal Quality"
         ],
         [
          "food",
          "quality",
          "good",
          "meal",
          "meals",
          "catering",
          "rice",
          "portions",
          "chicken",
          "snacks"
         ],
         [
          "Food quality: good food",
          "Food quality: Food was good.",
          "Food quality: food"
         ]
        ],
        [
         5,
         349,
         "Flight Attendants and Crew Services",
         [
          "crew",
          "service",
          "cabin",
          "friendly",
          "staff",
          "and",
          "flight",
          "attendant",
          "were",
          "attendants"
         ],
         [
          "Cabin Crew Friendliness"
         ],
         [
          "cabin",
          "passengers",
          "attendants",
          "passenger",
          "attendant",
          "crews",
          "crew",
          "onboard",
          "friendly",
          "service"
         ],
         [
          "Cabin crew service: the cabin crew were friendly and helpful",
          "Cabin crew service: The cabin crew were friendly and helpful.",
          "Cabin crew service: Crew were friendly."
         ]
        ],
        [
         6,
         139,
         "Baggage Handling",
         [
          "baggage",
          "luggage",
          "handling",
          "bag",
          "my",
          "to",
          "lost",
          "the",
          "policy",
          "and"
         ],
         [
          "Baggage Handling"
         ],
         [
          "baggage",
          "luggage",
          "suitcase",
          "bags",
          "bag",
          "handling",
          "passengers",
          "missing",
          "airline",
          "airport"
         ],
         [
          "Baggage handling: They lost our luggage and nobody is looking for it!",
          "Baggage handling: no luggage problem",
          "Baggage handling: They lost my bag"
         ]
        ],
        [
         7,
         910,
         "Flight Disruptions and Delays",
         [
          "flight",
          "the",
          "delay",
          "to",
          "and",
          "was",
          "delayed",
          "cancellation",
          "on",
          "hours"
         ],
         [
          "Flight Punctuality"
         ],
         [
          "delays",
          "delayed",
          "flight",
          "delay",
          "flights",
          "late",
          "punctuality",
          "passengers",
          "missed",
          "plane"
         ],
         [
          "Flight delay: Flight was delayed for two hours",
          "Flight punctuality: The flight was on time.",
          "Flight delay: The flight was delayed by one hour"
         ]
        ],
        [
         8,
         16,
         "Loyalty Program and benefits",
         [
          "loyalty",
          "program",
          "flyer",
          "frequent",
          "benefits",
          "customer",
          "plus",
          "again",
          "repeat",
          "promotion"
         ],
         [
          "Frequent Flyer Program"
         ],
         [
          "loyalty",
          "promotion",
          "af",
          "program",
          "airline",
          "customers",
          "loyal",
          "discounts",
          "flyer",
          "customer"
         ],
         [
          "Loyalty program experience: Never again will I fly Iberia, signed a former Iberian Plus member",
          "Frequent flyer program: Minor drawbacks : frequent flyer program does not seem on par with AF one ;",
          "Frequent flyer program: Sky miles, their frequent flyer program is very popular and has many other benefits like discounts in hotels, than award tickets."
         ]
        ],
        [
         9,
         58,
         "Pricing Transparency and Fees",
         [
          "pricing",
          "for",
          "ticket",
          "price",
          "hidden",
          "charges",
          "fees",
          "value",
          "prices",
          "fee"
         ],
         [
          "Additional Fees and Charges"
         ],
         [
          "pricing",
          "fees",
          "prices",
          "fee",
          "charges",
          "price",
          "charged",
          "costs",
          "cost",
          "paying"
         ],
         [
          "Pricing transparency: Deceptive pricing, extra fees for checked bags not clearly indicated",
          "Pricing: Great price",
          "Pricing: high price for the service provided"
         ]
        ],
        [
         10,
         8,
         "Safety Measures",
         [
          "safety",
          "covid",
          "precautions",
          "measures",
          "enforced",
          "procedures",
          "masks",
          "reliability",
          "staff",
          "obligatory"
         ],
         [
          "Covid Safety Enforcement"
         ],
         [
          "precautions",
          "safety",
          "enforced",
          "safe",
          "enforcement",
          "masks",
          "procedures",
          "measures",
          "covid",
          "rushed"
         ],
         [
          "Covid precautions: Covid precautions well enforced",
          "Safety procedures: Safety procedures were rushed.",
          "Covid safety measures: very nonchalant approach to covid safety measures, masks not obligatory, they don"
         ]
        ],
        [
         11,
         36,
         "Ground Services Assistance",
         [
          "ground",
          "staff",
          "service",
          "airport",
          "assistance",
          "at",
          "the",
          "and",
          "to",
          "in"
         ],
         [
          "Ground Staff Service"
         ],
         [
          "ground",
          "passengers",
          "unprofessional",
          "service",
          "serving",
          "staff",
          "politeness",
          "airport",
          "landing",
          "planes"
         ],
         [
          "Ground staff service: Delhi airport Qantas ground staff unprofessional and rude.",
          "Ground staff service: The ground staff at Bangkok, were not up to the ",
          "Ground staff service: the ground staff was friendly"
         ]
        ],
        [
         12,
         7,
         "Accessibility and special assistance",
         [
          "assistance",
          "wheelchair",
          "wheel",
          "somebody",
          "chair",
          "nobody",
          "security",
          "special",
          "go",
          "there"
         ],
         [
          "Wheelchair Assistance"
         ],
         [
          "wheelchair",
          "assistance",
          "accessibility",
          "support",
          "onboard",
          "provided",
          "help",
          "crutches",
          "wheel",
          "asked"
         ],
         [
          "Wheelchair assistance: No wheelchair assistance was provided for my elder son, a special kid, upon reaching RUH.",
          "Wheelchair assistance: Manchester Airport wheelchair assistance staff were kind and efficient, we chose to push our friend, directed to go through fast track security, it was busy but moved fairly quickly, very easy and well organised, security staff friendly.",
          "Wheelchair assistance: I had requested a wheel chair but at Mumbai Airport there were multiple wheel chair operators they told me stay asked somebody will take you shortly but nobody took me finally they told me please go up to the immigration counter somebody will be there to help you but nobody was there again"
         ]
        ],
        [
         13,
         176,
         "13_food_meal_quality_was",
         [
          "food",
          "meal",
          "quality",
          "was",
          "no",
          "the",
          "breakfast",
          "lounge",
          "of",
          "and"
         ],
         [
          "In-Flight Meal Quality"
         ],
         [
          "disgusting",
          "food",
          "stale",
          "awful",
          "tasteless",
          "terrible",
          "poor",
          "meal",
          "bread",
          "salad"
         ],
         [
          "Food quality: The food was awful.",
          "Food quality: Food was the worst I",
          "Food quality: The meal was of poor quality, and there was no choice."
         ]
        ],
        [
         14,
         1593,
         "14_the_to_customer_experience",
         [
          "the",
          "to",
          "customer",
          "experience",
          "and",
          "service",
          "with",
          "for",
          "overall",
          "was"
         ],
         [
          "Customer Service Experience"
         ],
         [
          "refund",
          "customer",
          "experience",
          "rude",
          "ticket",
          "call",
          "service",
          "booking",
          "worst",
          "compensation"
         ],
         [
          "Customer service: The customer complained to the customer service about their experience, but was told there was nothing that could be done to reimburse their extra payment.",
          "Customer service experience: The customer was on hold for 3.5 hours and did not receive a response to their email.",
          "Overall experience: This is the worst experience I have had with any airline, I will never use them again and I definitely not recommend them."
         ]
        ]
       ],
       "datasetInfos": [],
       "dbfsResultPath": null,
       "isJsonSchema": true,
       "metadata": {},
       "overflow": false,
       "plotOptions": {
        "customPlotOptions": {},
        "displayType": "table",
        "pivotAggregation": null,
        "pivotColumns": null,
        "xColumns": null,
        "yColumns": null
       },
       "removedWidgets": [],
       "schema": [
        {
         "metadata": "{}",
         "name": "Topic",
         "type": "\"long\""
        },
        {
         "metadata": "{}",
         "name": "Count",
         "type": "\"long\""
        },
        {
         "metadata": "{}",
         "name": "Name",
         "type": "\"string\""
        },
        {
         "metadata": "{}",
         "name": "Representation",
         "type": "{\"type\":\"array\",\"elementType\":\"string\",\"containsNull\":true}"
        },
        {
         "metadata": "{}",
         "name": "AI_Generated",
         "type": "{\"type\":\"array\",\"elementType\":\"string\",\"containsNull\":true}"
        },
        {
         "metadata": "{}",
         "name": "KeyBERT",
         "type": "{\"type\":\"array\",\"elementType\":\"string\",\"containsNull\":true}"
        },
        {
         "metadata": "{}",
         "name": "Representative_Docs",
         "type": "{\"type\":\"array\",\"elementType\":\"string\",\"containsNull\":true}"
        }
       ],
       "type": "table"
      }
     },
     "output_type": "display_data"
    }
   ],
   "source": [
    "spark.createDataFrame(topic_model.get_topic_info()).display()"
   ]
  },
  {
   "cell_type": "markdown",
   "metadata": {
    "application/vnd.databricks.v1+cell": {
     "cellMetadata": {},
     "inputWidgets": {},
     "nuid": "914684ea-cdad-4b2f-abe8-2ad6aedf6721",
     "showTitle": false,
     "tableResultSettingsMap": {},
     "title": ""
    }
   },
   "source": [
    "#### Option to further reduce outliers with clustering"
   ]
  },
  {
   "cell_type": "code",
   "execution_count": 0,
   "metadata": {
    "application/vnd.databricks.v1+cell": {
     "cellMetadata": {
      "byteLimit": 2048000,
      "rowLimit": 10000
     },
     "inputWidgets": {},
     "nuid": "522280ec-625c-4b88-a179-53f93052aba6",
     "showTitle": false,
     "tableResultSettingsMap": {},
     "title": ""
    }
   },
   "outputs": [
    {
     "output_type": "stream",
     "name": "stderr",
     "output_type": "stream",
     "text": [
      "\r  0%|          | 0/1 [00:00<?, ?it/s]\r100%|██████████| 1/1 [00:00<00:00, 166.79it/s]\n"
     ]
    }
   ],
   "source": [
    "# Reduce outliers\n",
    "new_topics = topic_model.reduce_outliers(all_reviews, topics)"
   ]
  },
  {
   "cell_type": "code",
   "execution_count": 0,
   "metadata": {
    "application/vnd.databricks.v1+cell": {
     "cellMetadata": {
      "byteLimit": 2048000,
      "rowLimit": 10000
     },
     "inputWidgets": {},
     "nuid": "54da6035-077a-4b23-9f69-c48be978f44c",
     "showTitle": false,
     "tableResultSettingsMap": {},
     "title": ""
    }
   },
   "outputs": [
    {
     "output_type": "stream",
     "name": "stderr",
     "output_type": "stream",
     "text": [
      "2024-10-21 22:47:53,137 - BERTopic - WARNING: Using a custom list of topic assignments may lead to errors if topic reduction techniques are used afterwards. Make sure that manually assigning topics is the last step in the pipeline.Note that topic embeddings will also be created through weightedc-TF-IDF embeddings instead of centroid embeddings.\n"
     ]
    }
   ],
   "source": [
    "# Update the model\n",
    "topic_model.update_topics(all_reviews, topics=new_topics)"
   ]
  },
  {
   "cell_type": "code",
   "execution_count": 0,
   "metadata": {
    "application/vnd.databricks.v1+cell": {
     "cellMetadata": {
      "byteLimit": 2048000,
      "rowLimit": 10000
     },
     "inputWidgets": {},
     "nuid": "dfa28702-19da-4496-b446-de5180d4979b",
     "showTitle": false,
     "tableResultSettingsMap": {},
     "title": ""
    }
   },
   "outputs": [
    {
     "output_type": "display_data",
     "data": {
      "text/html": [
       "<style scoped>\n",
       "  .table-result-container {\n",
       "    max-height: 300px;\n",
       "    overflow: auto;\n",
       "  }\n",
       "  table, th, td {\n",
       "    border: 1px solid black;\n",
       "    border-collapse: collapse;\n",
       "  }\n",
       "  th, td {\n",
       "    padding: 5px;\n",
       "  }\n",
       "  th {\n",
       "    text-align: left;\n",
       "  }\n",
       "</style><div class='table-result-container'><table class='table-result'><thead style='background-color: white'><tr><th>Topic</th><th>Count</th><th>Name</th><th>Representation</th><th>AI_Generated</th><th>KeyBERT</th><th>Representative_Docs</th></tr></thead><tbody><tr><td>0</td><td>317</td><td>Check-in and Boarding</td><td>List(check, in, boarding, experience, at, to, the, and, was, online)</td><td>List(Check-in Experience)</td><td>List(checkin, checked, check, booked, booking, experience, arrived, queue, hotel, paid)</td><td>List(Check-in experience: No delays at Check-in, Check-in experience: The check in staff didn, Check-in experience: The check-in was smooth.)</td></tr><tr><td>1</td><td>241</td><td>Seating Comfort</td><td>List(comfort, seat, seats, seating, comfortable, the, legroom, leg, and, was)</td><td>List(Seat Comfort)</td><td>List(seats, seating, comfort, seat, comfortable, sitting, comfy, recline, sit, amenities)</td><td>List(Seat comfort: The seats were comfortable, Seat comfort: The seats were comfortable, Seat comfort: Comfortable seats)</td></tr><tr><td>2</td><td>205</td><td>In-Flight Wi-Fi</td><td>List(entertainment, flight, in, inflight, ife, amenities, wifi, system, the, movies)</td><td>List(In-flight Entertainment)</td><td>List(inflight, flight, entertainment, flights, takeoff, aircraft, onboard, screens, lounge, screen)</td><td>List(In-flight entertainment: Entertainment was limited., In-flight entertainment: It, In-flight entertainment: No entertainment)</td></tr><tr><td>3</td><td>114</td><td>Cabin Cleanliness</td><td>List(cleanliness, cabin, clean, aircraft, plane, condition, the, and, was, dirty)</td><td>List(Aircraft Cleanliness)</td><td>List(cleanliness, cleaned, clean, airplane, aircraft, tidy, cabin, flight, planes, plane)</td><td>List(Aircraft cleanliness: The Aircraft was clean, Cabin cleanliness: The aircraft was clean, Cabin cleanliness: The cabin was clean)</td></tr><tr><td>4</td><td>150</td><td>Food and Beverage</td><td>List(food, quality, and, drinks, beverage, drink, good, was, served, options)</td><td>List(In-Flight Meal Quality)</td><td>List(food, quality, good, meal, meals, catering, rice, portions, chicken, snacks)</td><td>List(Food quality: good food, Food quality: Food was good., Food quality: food)</td></tr><tr><td>5</td><td>350</td><td>Flight Attendants and Crew Services</td><td>List(crew, service, cabin, staff, friendly, and, flight, were, attendant, attendants)</td><td>List(Cabin Crew Friendliness)</td><td>List(cabin, passengers, attendants, passenger, attendant, crews, crew, onboard, friendly, service)</td><td>List(Cabin crew service: the cabin crew were friendly and helpful, Cabin crew service: The cabin crew were friendly and helpful., Cabin crew service: Crew were friendly.)</td></tr><tr><td>6</td><td>140</td><td>Baggage Handling</td><td>List(baggage, luggage, handling, bag, my, to, lost, the, and, policy)</td><td>List(Baggage Handling)</td><td>List(baggage, luggage, suitcase, bags, bag, handling, passengers, missing, airline, airport)</td><td>List(Baggage handling: They lost our luggage and nobody is looking for it!, Baggage handling: no luggage problem, Baggage handling: They lost my bag)</td></tr><tr><td>7</td><td>912</td><td>Flight Disruptions and Delays</td><td>List(flight, the, to, delay, and, was, delayed, cancellation, on, time)</td><td>List(Flight Punctuality)</td><td>List(delays, delayed, flight, delay, flights, late, punctuality, passengers, missed, plane)</td><td>List(Flight delay: Flight was delayed for two hours, Flight punctuality: The flight was on time., Flight delay: The flight was delayed by one hour)</td></tr><tr><td>8</td><td>16</td><td>Loyalty Program and benefits</td><td>List(loyalty, program, flyer, frequent, benefits, customer, plus, again, repeat, promotion)</td><td>List(Frequent Flyer Program)</td><td>List(loyalty, promotion, af, program, airline, customers, loyal, discounts, flyer, customer)</td><td>List(Loyalty program experience: Never again will I fly Iberia, signed a former Iberian Plus member, Frequent flyer program: Minor drawbacks : frequent flyer program does not seem on par with AF one ;, Frequent flyer program: Sky miles, their frequent flyer program is very popular and has many other benefits like discounts in hotels, than award tickets.)</td></tr><tr><td>9</td><td>58</td><td>Pricing Transparency and Fees</td><td>List(pricing, for, ticket, price, hidden, charges, fees, value, prices, and)</td><td>List(Additional Fees and Charges)</td><td>List(pricing, fees, prices, fee, charges, price, charged, costs, cost, paying)</td><td>List(Pricing transparency: Deceptive pricing, extra fees for checked bags not clearly indicated, Pricing: Great price, Pricing: high price for the service provided)</td></tr><tr><td>10</td><td>8</td><td>Safety Measures</td><td>List(safety, covid, precautions, measures, enforced, procedures, masks, reliability, staff, obligatory)</td><td>List(Covid Safety Enforcement)</td><td>List(precautions, safety, enforced, safe, enforcement, masks, procedures, measures, covid, rushed)</td><td>List(Covid precautions: Covid precautions well enforced, Safety procedures: Safety procedures were rushed., Covid safety measures: very nonchalant approach to covid safety measures, masks not obligatory, they don)</td></tr><tr><td>11</td><td>36</td><td>Ground Services Assistance</td><td>List(ground, staff, service, airport, assistance, at, the, and, to, in)</td><td>List(Ground Staff Service)</td><td>List(ground, passengers, unprofessional, service, serving, staff, politeness, airport, landing, planes)</td><td>List(Ground staff service: Delhi airport Qantas ground staff unprofessional and rude., Ground staff service: The ground staff at Bangkok, were not up to the , Ground staff service: the ground staff was friendly)</td></tr><tr><td>12</td><td>7</td><td>Accessibility and special assistance</td><td>List(assistance, wheelchair, wheel, somebody, chair, nobody, security, special, go, it)</td><td>List(Wheelchair Assistance)</td><td>List(wheelchair, assistance, accessibility, support, onboard, provided, help, crutches, wheel, asked)</td><td>List(Wheelchair assistance: No wheelchair assistance was provided for my elder son, a special kid, upon reaching RUH., Wheelchair assistance: Manchester Airport wheelchair assistance staff were kind and efficient, we chose to push our friend, directed to go through fast track security, it was busy but moved fairly quickly, very easy and well organised, security staff friendly., Wheelchair assistance: I had requested a wheel chair but at Mumbai Airport there were multiple wheel chair operators they told me stay asked somebody will take you shortly but nobody took me finally they told me please go up to the immigration counter somebody will be there to help you but nobody was there again)</td></tr><tr><td>13</td><td>179</td><td>13_food_meal_quality_was</td><td>List(food, meal, quality, was, no, the, breakfast, of, and, lounge)</td><td>List(In-Flight Meal Quality)</td><td>List(disgusting, food, stale, awful, tasteless, terrible, poor, meal, bread, salad)</td><td>List(Food quality: The food was awful., Food quality: Food was the worst I, Food quality: The meal was of poor quality, and there was no choice.)</td></tr><tr><td>14</td><td>1600</td><td>14_the_to_customer_experience</td><td>List(the, to, customer, experience, and, service, with, for, was, overall)</td><td>List(Customer Service Experience)</td><td>List(refund, customer, experience, rude, ticket, call, service, booking, worst, compensation)</td><td>List(Customer service: The customer complained to the customer service about their experience, but was told there was nothing that could be done to reimburse their extra payment., Customer service experience: The customer was on hold for 3.5 hours and did not receive a response to their email., Overall experience: This is the worst experience I have had with any airline, I will never use them again and I definitely not recommend them.)</td></tr></tbody></table></div>"
      ]
     },
     "metadata": {
      "application/vnd.databricks.v1+output": {
       "addedWidgets": {},
       "aggData": [],
       "aggError": "",
       "aggOverflow": false,
       "aggSchema": [],
       "aggSeriesLimitReached": false,
       "aggType": "",
       "arguments": {},
       "columnCustomDisplayInfos": {},
       "data": [
        [
         0,
         317,
         "Check-in and Boarding",
         [
          "check",
          "in",
          "boarding",
          "experience",
          "at",
          "to",
          "the",
          "and",
          "was",
          "online"
         ],
         [
          "Check-in Experience"
         ],
         [
          "checkin",
          "checked",
          "check",
          "booked",
          "booking",
          "experience",
          "arrived",
          "queue",
          "hotel",
          "paid"
         ],
         [
          "Check-in experience: No delays at Check-in",
          "Check-in experience: The check in staff didn",
          "Check-in experience: The check-in was smooth."
         ]
        ],
        [
         1,
         241,
         "Seating Comfort",
         [
          "comfort",
          "seat",
          "seats",
          "seating",
          "comfortable",
          "the",
          "legroom",
          "leg",
          "and",
          "was"
         ],
         [
          "Seat Comfort"
         ],
         [
          "seats",
          "seating",
          "comfort",
          "seat",
          "comfortable",
          "sitting",
          "comfy",
          "recline",
          "sit",
          "amenities"
         ],
         [
          "Seat comfort: The seats were comfortable",
          "Seat comfort: The seats were comfortable",
          "Seat comfort: Comfortable seats"
         ]
        ],
        [
         2,
         205,
         "In-Flight Wi-Fi",
         [
          "entertainment",
          "flight",
          "in",
          "inflight",
          "ife",
          "amenities",
          "wifi",
          "system",
          "the",
          "movies"
         ],
         [
          "In-flight Entertainment"
         ],
         [
          "inflight",
          "flight",
          "entertainment",
          "flights",
          "takeoff",
          "aircraft",
          "onboard",
          "screens",
          "lounge",
          "screen"
         ],
         [
          "In-flight entertainment: Entertainment was limited.",
          "In-flight entertainment: It",
          "In-flight entertainment: No entertainment"
         ]
        ],
        [
         3,
         114,
         "Cabin Cleanliness",
         [
          "cleanliness",
          "cabin",
          "clean",
          "aircraft",
          "plane",
          "condition",
          "the",
          "and",
          "was",
          "dirty"
         ],
         [
          "Aircraft Cleanliness"
         ],
         [
          "cleanliness",
          "cleaned",
          "clean",
          "airplane",
          "aircraft",
          "tidy",
          "cabin",
          "flight",
          "planes",
          "plane"
         ],
         [
          "Aircraft cleanliness: The Aircraft was clean",
          "Cabin cleanliness: The aircraft was clean",
          "Cabin cleanliness: The cabin was clean"
         ]
        ],
        [
         4,
         150,
         "Food and Beverage",
         [
          "food",
          "quality",
          "and",
          "drinks",
          "beverage",
          "drink",
          "good",
          "was",
          "served",
          "options"
         ],
         [
          "In-Flight Meal Quality"
         ],
         [
          "food",
          "quality",
          "good",
          "meal",
          "meals",
          "catering",
          "rice",
          "portions",
          "chicken",
          "snacks"
         ],
         [
          "Food quality: good food",
          "Food quality: Food was good.",
          "Food quality: food"
         ]
        ],
        [
         5,
         350,
         "Flight Attendants and Crew Services",
         [
          "crew",
          "service",
          "cabin",
          "staff",
          "friendly",
          "and",
          "flight",
          "were",
          "attendant",
          "attendants"
         ],
         [
          "Cabin Crew Friendliness"
         ],
         [
          "cabin",
          "passengers",
          "attendants",
          "passenger",
          "attendant",
          "crews",
          "crew",
          "onboard",
          "friendly",
          "service"
         ],
         [
          "Cabin crew service: the cabin crew were friendly and helpful",
          "Cabin crew service: The cabin crew were friendly and helpful.",
          "Cabin crew service: Crew were friendly."
         ]
        ],
        [
         6,
         140,
         "Baggage Handling",
         [
          "baggage",
          "luggage",
          "handling",
          "bag",
          "my",
          "to",
          "lost",
          "the",
          "and",
          "policy"
         ],
         [
          "Baggage Handling"
         ],
         [
          "baggage",
          "luggage",
          "suitcase",
          "bags",
          "bag",
          "handling",
          "passengers",
          "missing",
          "airline",
          "airport"
         ],
         [
          "Baggage handling: They lost our luggage and nobody is looking for it!",
          "Baggage handling: no luggage problem",
          "Baggage handling: They lost my bag"
         ]
        ],
        [
         7,
         912,
         "Flight Disruptions and Delays",
         [
          "flight",
          "the",
          "to",
          "delay",
          "and",
          "was",
          "delayed",
          "cancellation",
          "on",
          "time"
         ],
         [
          "Flight Punctuality"
         ],
         [
          "delays",
          "delayed",
          "flight",
          "delay",
          "flights",
          "late",
          "punctuality",
          "passengers",
          "missed",
          "plane"
         ],
         [
          "Flight delay: Flight was delayed for two hours",
          "Flight punctuality: The flight was on time.",
          "Flight delay: The flight was delayed by one hour"
         ]
        ],
        [
         8,
         16,
         "Loyalty Program and benefits",
         [
          "loyalty",
          "program",
          "flyer",
          "frequent",
          "benefits",
          "customer",
          "plus",
          "again",
          "repeat",
          "promotion"
         ],
         [
          "Frequent Flyer Program"
         ],
         [
          "loyalty",
          "promotion",
          "af",
          "program",
          "airline",
          "customers",
          "loyal",
          "discounts",
          "flyer",
          "customer"
         ],
         [
          "Loyalty program experience: Never again will I fly Iberia, signed a former Iberian Plus member",
          "Frequent flyer program: Minor drawbacks : frequent flyer program does not seem on par with AF one ;",
          "Frequent flyer program: Sky miles, their frequent flyer program is very popular and has many other benefits like discounts in hotels, than award tickets."
         ]
        ],
        [
         9,
         58,
         "Pricing Transparency and Fees",
         [
          "pricing",
          "for",
          "ticket",
          "price",
          "hidden",
          "charges",
          "fees",
          "value",
          "prices",
          "and"
         ],
         [
          "Additional Fees and Charges"
         ],
         [
          "pricing",
          "fees",
          "prices",
          "fee",
          "charges",
          "price",
          "charged",
          "costs",
          "cost",
          "paying"
         ],
         [
          "Pricing transparency: Deceptive pricing, extra fees for checked bags not clearly indicated",
          "Pricing: Great price",
          "Pricing: high price for the service provided"
         ]
        ],
        [
         10,
         8,
         "Safety Measures",
         [
          "safety",
          "covid",
          "precautions",
          "measures",
          "enforced",
          "procedures",
          "masks",
          "reliability",
          "staff",
          "obligatory"
         ],
         [
          "Covid Safety Enforcement"
         ],
         [
          "precautions",
          "safety",
          "enforced",
          "safe",
          "enforcement",
          "masks",
          "procedures",
          "measures",
          "covid",
          "rushed"
         ],
         [
          "Covid precautions: Covid precautions well enforced",
          "Safety procedures: Safety procedures were rushed.",
          "Covid safety measures: very nonchalant approach to covid safety measures, masks not obligatory, they don"
         ]
        ],
        [
         11,
         36,
         "Ground Services Assistance",
         [
          "ground",
          "staff",
          "service",
          "airport",
          "assistance",
          "at",
          "the",
          "and",
          "to",
          "in"
         ],
         [
          "Ground Staff Service"
         ],
         [
          "ground",
          "passengers",
          "unprofessional",
          "service",
          "serving",
          "staff",
          "politeness",
          "airport",
          "landing",
          "planes"
         ],
         [
          "Ground staff service: Delhi airport Qantas ground staff unprofessional and rude.",
          "Ground staff service: The ground staff at Bangkok, were not up to the ",
          "Ground staff service: the ground staff was friendly"
         ]
        ],
        [
         12,
         7,
         "Accessibility and special assistance",
         [
          "assistance",
          "wheelchair",
          "wheel",
          "somebody",
          "chair",
          "nobody",
          "security",
          "special",
          "go",
          "it"
         ],
         [
          "Wheelchair Assistance"
         ],
         [
          "wheelchair",
          "assistance",
          "accessibility",
          "support",
          "onboard",
          "provided",
          "help",
          "crutches",
          "wheel",
          "asked"
         ],
         [
          "Wheelchair assistance: No wheelchair assistance was provided for my elder son, a special kid, upon reaching RUH.",
          "Wheelchair assistance: Manchester Airport wheelchair assistance staff were kind and efficient, we chose to push our friend, directed to go through fast track security, it was busy but moved fairly quickly, very easy and well organised, security staff friendly.",
          "Wheelchair assistance: I had requested a wheel chair but at Mumbai Airport there were multiple wheel chair operators they told me stay asked somebody will take you shortly but nobody took me finally they told me please go up to the immigration counter somebody will be there to help you but nobody was there again"
         ]
        ],
        [
         13,
         179,
         "13_food_meal_quality_was",
         [
          "food",
          "meal",
          "quality",
          "was",
          "no",
          "the",
          "breakfast",
          "of",
          "and",
          "lounge"
         ],
         [
          "In-Flight Meal Quality"
         ],
         [
          "disgusting",
          "food",
          "stale",
          "awful",
          "tasteless",
          "terrible",
          "poor",
          "meal",
          "bread",
          "salad"
         ],
         [
          "Food quality: The food was awful.",
          "Food quality: Food was the worst I",
          "Food quality: The meal was of poor quality, and there was no choice."
         ]
        ],
        [
         14,
         1600,
         "14_the_to_customer_experience",
         [
          "the",
          "to",
          "customer",
          "experience",
          "and",
          "service",
          "with",
          "for",
          "was",
          "overall"
         ],
         [
          "Customer Service Experience"
         ],
         [
          "refund",
          "customer",
          "experience",
          "rude",
          "ticket",
          "call",
          "service",
          "booking",
          "worst",
          "compensation"
         ],
         [
          "Customer service: The customer complained to the customer service about their experience, but was told there was nothing that could be done to reimburse their extra payment.",
          "Customer service experience: The customer was on hold for 3.5 hours and did not receive a response to their email.",
          "Overall experience: This is the worst experience I have had with any airline, I will never use them again and I definitely not recommend them."
         ]
        ]
       ],
       "datasetInfos": [],
       "dbfsResultPath": null,
       "isJsonSchema": true,
       "metadata": {},
       "overflow": false,
       "plotOptions": {
        "customPlotOptions": {},
        "displayType": "table",
        "pivotAggregation": null,
        "pivotColumns": null,
        "xColumns": null,
        "yColumns": null
       },
       "removedWidgets": [],
       "schema": [
        {
         "metadata": "{}",
         "name": "Topic",
         "type": "\"long\""
        },
        {
         "metadata": "{}",
         "name": "Count",
         "type": "\"long\""
        },
        {
         "metadata": "{}",
         "name": "Name",
         "type": "\"string\""
        },
        {
         "metadata": "{}",
         "name": "Representation",
         "type": "{\"type\":\"array\",\"elementType\":\"string\",\"containsNull\":true}"
        },
        {
         "metadata": "{}",
         "name": "AI_Generated",
         "type": "{\"type\":\"array\",\"elementType\":\"string\",\"containsNull\":true}"
        },
        {
         "metadata": "{}",
         "name": "KeyBERT",
         "type": "{\"type\":\"array\",\"elementType\":\"string\",\"containsNull\":true}"
        },
        {
         "metadata": "{}",
         "name": "Representative_Docs",
         "type": "{\"type\":\"array\",\"elementType\":\"string\",\"containsNull\":true}"
        }
       ],
       "type": "table"
      }
     },
     "output_type": "display_data"
    }
   ],
   "source": [
    "# Updated topics\n",
    "spark.createDataFrame(topic_model.get_topic_info()).display()"
   ]
  },
  {
   "cell_type": "markdown",
   "metadata": {
    "application/vnd.databricks.v1+cell": {
     "cellMetadata": {},
     "inputWidgets": {},
     "nuid": "05fb4d25-5379-408f-a1d0-c13455a9cae5",
     "showTitle": false,
     "tableResultSettingsMap": {},
     "title": ""
    }
   },
   "source": [
    "Probabilities:1) zeroshot topics:cosine similarity 2) rest: clustering 'confidence' (membership probability)"
   ]
  },
  {
   "cell_type": "code",
   "execution_count": 0,
   "metadata": {
    "application/vnd.databricks.v1+cell": {
     "cellMetadata": {
      "byteLimit": 2048000,
      "rowLimit": 10000
     },
     "inputWidgets": {},
     "nuid": "c7f63f0f-536a-4ad1-a510-b75a1829eb1c",
     "showTitle": false,
     "tableResultSettingsMap": {},
     "title": ""
    }
   },
   "outputs": [
    {
     "output_type": "execute_result",
     "data": {
      "text/html": [
       "<div>\n",
       "<style scoped>\n",
       "    .dataframe tbody tr th:only-of-type {\n",
       "        vertical-align: middle;\n",
       "    }\n",
       "\n",
       "    .dataframe tbody tr th {\n",
       "        vertical-align: top;\n",
       "    }\n",
       "\n",
       "    .dataframe thead th {\n",
       "        text-align: right;\n",
       "    }\n",
       "</style>\n",
       "<table border=\"1\" class=\"dataframe\">\n",
       "  <thead>\n",
       "    <tr style=\"text-align: right;\">\n",
       "      <th></th>\n",
       "      <th>topic_id</th>\n",
       "      <th>probability</th>\n",
       "      <th>topic_name</th>\n",
       "      <th>llm_topic_name</th>\n",
       "      <th>document</th>\n",
       "    </tr>\n",
       "  </thead>\n",
       "  <tbody>\n",
       "    <tr>\n",
       "      <th>0</th>\n",
       "      <td>0</td>\n",
       "      <td>0.788810</td>\n",
       "      <td>Check-in and Boarding</td>\n",
       "      <td>Check-in Experience</td>\n",
       "      <td>Check-in experience: The queue was not organis...</td>\n",
       "    </tr>\n",
       "    <tr>\n",
       "      <th>1</th>\n",
       "      <td>7</td>\n",
       "      <td>0.741349</td>\n",
       "      <td>Flight Disruptions and Delays</td>\n",
       "      <td>Flight Punctuality</td>\n",
       "      <td>Check-in agent knowledge: The agent didn’t see...</td>\n",
       "    </tr>\n",
       "    <tr>\n",
       "      <th>2</th>\n",
       "      <td>7</td>\n",
       "      <td>0.752772</td>\n",
       "      <td>Flight Disruptions and Delays</td>\n",
       "      <td>Flight Punctuality</td>\n",
       "      <td>Flight cancellation/removal: We received a tex...</td>\n",
       "    </tr>\n",
       "    <tr>\n",
       "      <th>3</th>\n",
       "      <td>6</td>\n",
       "      <td>0.760215</td>\n",
       "      <td>Baggage Handling</td>\n",
       "      <td>Baggage Handling</td>\n",
       "      <td>Baggage collection: We waited for ages, and no...</td>\n",
       "    </tr>\n",
       "    <tr>\n",
       "      <th>4</th>\n",
       "      <td>14</td>\n",
       "      <td>0.685448</td>\n",
       "      <td>14_the_to_customer_experience</td>\n",
       "      <td>Customer Service Experience</td>\n",
       "      <td>Accommodation vouchers: We expected to be give...</td>\n",
       "    </tr>\n",
       "    <tr>\n",
       "      <th>...</th>\n",
       "      <td>...</td>\n",
       "      <td>...</td>\n",
       "      <td>...</td>\n",
       "      <td>...</td>\n",
       "      <td>...</td>\n",
       "    </tr>\n",
       "    <tr>\n",
       "      <th>4328</th>\n",
       "      <td>14</td>\n",
       "      <td>0.745417</td>\n",
       "      <td>14_the_to_customer_experience</td>\n",
       "      <td>Customer Service Experience</td>\n",
       "      <td>Previous negative experience: Last year my lug...</td>\n",
       "    </tr>\n",
       "    <tr>\n",
       "      <th>4329</th>\n",
       "      <td>14</td>\n",
       "      <td>0.711061</td>\n",
       "      <td>14_the_to_customer_experience</td>\n",
       "      <td>Customer Service Experience</td>\n",
       "      <td>Warning to others: I can only warn anybody not...</td>\n",
       "    </tr>\n",
       "    <tr>\n",
       "      <th>4330</th>\n",
       "      <td>14</td>\n",
       "      <td>0.704726</td>\n",
       "      <td>14_the_to_customer_experience</td>\n",
       "      <td>Customer Service Experience</td>\n",
       "      <td>Promotion and route: I was attracted to the pr...</td>\n",
       "    </tr>\n",
       "    <tr>\n",
       "      <th>4331</th>\n",
       "      <td>1</td>\n",
       "      <td>0.701608</td>\n",
       "      <td>Seating Comfort</td>\n",
       "      <td>Seat Comfort</td>\n",
       "      <td>Business class seats: Business class seats of ...</td>\n",
       "    </tr>\n",
       "    <tr>\n",
       "      <th>4332</th>\n",
       "      <td>14</td>\n",
       "      <td>0.659529</td>\n",
       "      <td>14_the_to_customer_experience</td>\n",
       "      <td>Customer Service Experience</td>\n",
       "      <td>Business class seats in A333: Business class i...</td>\n",
       "    </tr>\n",
       "  </tbody>\n",
       "</table>\n",
       "<p>4333 rows × 5 columns</p>\n",
       "</div>"
      ],
      "text/plain": [
       "      topic_id  ...                                           document\n",
       "0            0  ...  Check-in experience: The queue was not organis...\n",
       "1            7  ...  Check-in agent knowledge: The agent didn’t see...\n",
       "2            7  ...  Flight cancellation/removal: We received a tex...\n",
       "3            6  ...  Baggage collection: We waited for ages, and no...\n",
       "4           14  ...  Accommodation vouchers: We expected to be give...\n",
       "...        ...  ...                                                ...\n",
       "4328        14  ...  Previous negative experience: Last year my lug...\n",
       "4329        14  ...  Warning to others: I can only warn anybody not...\n",
       "4330        14  ...  Promotion and route: I was attracted to the pr...\n",
       "4331         1  ...  Business class seats: Business class seats of ...\n",
       "4332        14  ...  Business class seats in A333: Business class i...\n",
       "\n",
       "[4333 rows x 5 columns]"
      ]
     },
     "execution_count": 51,
     "metadata": {},
     "output_type": "execute_result"
    }
   ],
   "source": [
    "import pandas as pd\n",
    "topic_names = [topic_model.get_topic_info(topic_id)['Name'][0] for topic_id in new_topics]\n",
    "llm_topic_names = [topic_model.get_topic_info(topic_id)['AI_Generated'][0][0].strip(\"'''\").strip('\\n') for topic_id in new_topics]\n",
    "results_df = pd.DataFrame(data={\"topic_id\": new_topics, \"probability\": probs, \"topic_name\": topic_names, \"llm_topic_name\": llm_topic_names, \"document\": all_reviews })\n",
    "results_df"
   ]
  },
  {
   "cell_type": "code",
   "execution_count": 0,
   "metadata": {
    "application/vnd.databricks.v1+cell": {
     "cellMetadata": {
      "byteLimit": 2048000,
      "rowLimit": 10000
     },
     "inputWidgets": {},
     "nuid": "9a058ae0-2f9b-4186-8aeb-5d8c6d675471",
     "showTitle": false,
     "tableResultSettingsMap": {},
     "title": ""
    }
   },
   "outputs": [],
   "source": [
    "# Save results table to Unity Catalog\n",
    "spark.createDataFrame(results_df).write.format(\"delta\").saveAsTable(f\"{CATALOG}.{SCHEma}.{OUTPUT_TABLE}\")"
   ]
  },
  {
   "cell_type": "markdown",
   "metadata": {
    "application/vnd.databricks.v1+cell": {
     "cellMetadata": {},
     "inputWidgets": {},
     "nuid": "2fd0bdc5-4f73-48d8-aa93-6173cff73310",
     "showTitle": false,
     "tableResultSettingsMap": {},
     "title": ""
    }
   },
   "source": [
    "## Visualize topics"
   ]
  },
  {
   "cell_type": "code",
   "execution_count": 0,
   "metadata": {
    "application/vnd.databricks.v1+cell": {
     "cellMetadata": {
      "byteLimit": 2048000,
      "rowLimit": 10000
     },
     "inputWidgets": {},
     "nuid": "e304f465-282e-458e-bcec-59b759087550",
     "showTitle": false,
     "tableResultSettingsMap": {},
     "title": ""
    }
   },
   "outputs": [],
   "source": [
    "# Use llm labels for visualization\n",
    "llm_topic_labels = {topic:values[0][0].strip(\"'''\").strip('\\n') for topic, values in topic_model.topic_aspects_['AI_Generated'].items()}\n",
    "llm_topic_labels[-1] = \"Outlier Topic\"\n",
    "topic_model.set_topic_labels(llm_topic_labels)\n",
    "# llm_topic_labels"
   ]
  },
  {
   "cell_type": "code",
   "execution_count": 0,
   "metadata": {
    "application/vnd.databricks.v1+cell": {
     "cellMetadata": {
      "byteLimit": 2048000,
      "rowLimit": 10000
     },
     "inputWidgets": {},
     "nuid": "9e0238fb-a843-4efe-922c-eb4048f36f20",
     "showTitle": false,
     "tableResultSettingsMap": {},
     "title": ""
    }
   },
   "outputs": [
    {
     "output_type": "display_data",
     "data": {
      "text/html": [
       "<html>\n",
       "<head><meta charset=\"utf-8\" /></head>\n",
       "<body>\n",
       "    <div>            <script src=\"https://cdnjs.cloudflare.com/ajax/libs/mathjax/2.7.5/MathJax.js?config=TeX-AMS-MML_SVG\"></script><script type=\"text/javascript\">if (window.MathJax && window.MathJax.Hub && window.MathJax.Hub.Config) {window.MathJax.Hub.Config({SVG: {font: \"STIX-Web\"}});}</script>                <script type=\"text/javascript\">window.PlotlyConfig = {MathJaxConfig: 'local'};</script>\n",
       "        <script src=\"https://cdn.plot.ly/plotly-2.12.1.min.js\"></script>                <div id=\"67e9e17c-8d4a-4192-8753-389cef0d07cd\" class=\"plotly-graph-div\" style=\"height:650px; width:650px;\"></div>            <script type=\"text/javascript\">                                    window.PLOTLYENV=window.PLOTLYENV || {};                                    if (document.getElementById(\"67e9e17c-8d4a-4192-8753-389cef0d07cd\")) {                    Plotly.newPlot(                        \"67e9e17c-8d4a-4192-8753-389cef0d07cd\",                        [{\"customdata\":[[0,\"Check-in Experience\",317],[1,\"Seat Comfort\",241],[2,\"In-flight Entertainment\",205],[3,\"Aircraft Cleanliness\",114],[4,\"In-Flight Meal Quality\",150],[5,\"Cabin Crew Friendliness\",350],[6,\"Baggage Handling\",140],[7,\"Flight Punctuality\",912],[8,\"Frequent Flyer Program\",16],[9,\"Additional Fees and Charges\",58],[10,\"Covid Safety Enforcement\",8],[11,\"Ground Staff Service\",36],[12,\"Wheelchair Assistance\",7],[13,\"In-Flight Meal Quality\",179],[14,\"Customer Service Experience\",1600]],\"hovertemplate\":\"<b>Topic %{customdata[0]}</b><br>%{customdata[1]}<br>Size: %{customdata[2]}\",\"legendgroup\":\"\",\"marker\":{\"color\":\"#B0BEC5\",\"size\":[317,241,205,114,150,350,140,912,16,58,8,36,7,179,1600],\"sizemode\":\"area\",\"sizeref\":1.0,\"symbol\":\"circle\",\"line\":{\"color\":\"DarkSlateGrey\",\"width\":2}},\"mode\":\"markers\",\"name\":\"\",\"orientation\":\"v\",\"showlegend\":false,\"x\":[15.84101,18.974972,15.933485,19.765844,-12.890787,18.99827,20.118425,16.385212,16.551207,17.296349,15.459613,18.44149,18.68815,-13.139449,16.136715],\"xaxis\":\"x\",\"y\":[0.23152582,3.4579165,-0.4469796,2.68261,20.624985,2.512515,3.0084183,0.8983542,0.299685,0.38703808,0.0037670801,2.59579,3.1635199,20.873652,1.1451982],\"yaxis\":\"y\",\"type\":\"scatter\"}],                        {\"template\":{\"data\":{\"barpolar\":[{\"marker\":{\"line\":{\"color\":\"white\",\"width\":0.5},\"pattern\":{\"fillmode\":\"overlay\",\"size\":10,\"solidity\":0.2}},\"type\":\"barpolar\"}],\"bar\":[{\"error_x\":{\"color\":\"rgb(36,36,36)\"},\"error_y\":{\"color\":\"rgb(36,36,36)\"},\"marker\":{\"line\":{\"color\":\"white\",\"width\":0.5},\"pattern\":{\"fillmode\":\"overlay\",\"size\":10,\"solidity\":0.2}},\"type\":\"bar\"}],\"carpet\":[{\"aaxis\":{\"endlinecolor\":\"rgb(36,36,36)\",\"gridcolor\":\"white\",\"linecolor\":\"white\",\"minorgridcolor\":\"white\",\"startlinecolor\":\"rgb(36,36,36)\"},\"baxis\":{\"endlinecolor\":\"rgb(36,36,36)\",\"gridcolor\":\"white\",\"linecolor\":\"white\",\"minorgridcolor\":\"white\",\"startlinecolor\":\"rgb(36,36,36)\"},\"type\":\"carpet\"}],\"choropleth\":[{\"colorbar\":{\"outlinewidth\":1,\"tickcolor\":\"rgb(36,36,36)\",\"ticks\":\"outside\"},\"type\":\"choropleth\"}],\"contourcarpet\":[{\"colorbar\":{\"outlinewidth\":1,\"tickcolor\":\"rgb(36,36,36)\",\"ticks\":\"outside\"},\"type\":\"contourcarpet\"}],\"contour\":[{\"colorbar\":{\"outlinewidth\":1,\"tickcolor\":\"rgb(36,36,36)\",\"ticks\":\"outside\"},\"colorscale\":[[0.0,\"#440154\"],[0.1111111111111111,\"#482878\"],[0.2222222222222222,\"#3e4989\"],[0.3333333333333333,\"#31688e\"],[0.4444444444444444,\"#26828e\"],[0.5555555555555556,\"#1f9e89\"],[0.6666666666666666,\"#35b779\"],[0.7777777777777778,\"#6ece58\"],[0.8888888888888888,\"#b5de2b\"],[1.0,\"#fde725\"]],\"type\":\"contour\"}],\"heatmapgl\":[{\"colorbar\":{\"outlinewidth\":1,\"tickcolor\":\"rgb(36,36,36)\",\"ticks\":\"outside\"},\"colorscale\":[[0.0,\"#440154\"],[0.1111111111111111,\"#482878\"],[0.2222222222222222,\"#3e4989\"],[0.3333333333333333,\"#31688e\"],[0.4444444444444444,\"#26828e\"],[0.5555555555555556,\"#1f9e89\"],[0.6666666666666666,\"#35b779\"],[0.7777777777777778,\"#6ece58\"],[0.8888888888888888,\"#b5de2b\"],[1.0,\"#fde725\"]],\"type\":\"heatmapgl\"}],\"heatmap\":[{\"colorbar\":{\"outlinewidth\":1,\"tickcolor\":\"rgb(36,36,36)\",\"ticks\":\"outside\"},\"colorscale\":[[0.0,\"#440154\"],[0.1111111111111111,\"#482878\"],[0.2222222222222222,\"#3e4989\"],[0.3333333333333333,\"#31688e\"],[0.4444444444444444,\"#26828e\"],[0.5555555555555556,\"#1f9e89\"],[0.6666666666666666,\"#35b779\"],[0.7777777777777778,\"#6ece58\"],[0.8888888888888888,\"#b5de2b\"],[1.0,\"#fde725\"]],\"type\":\"heatmap\"}],\"histogram2dcontour\":[{\"colorbar\":{\"outlinewidth\":1,\"tickcolor\":\"rgb(36,36,36)\",\"ticks\":\"outside\"},\"colorscale\":[[0.0,\"#440154\"],[0.1111111111111111,\"#482878\"],[0.2222222222222222,\"#3e4989\"],[0.3333333333333333,\"#31688e\"],[0.4444444444444444,\"#26828e\"],[0.5555555555555556,\"#1f9e89\"],[0.6666666666666666,\"#35b779\"],[0.7777777777777778,\"#6ece58\"],[0.8888888888888888,\"#b5de2b\"],[1.0,\"#fde725\"]],\"type\":\"histogram2dcontour\"}],\"histogram2d\":[{\"colorbar\":{\"outlinewidth\":1,\"tickcolor\":\"rgb(36,36,36)\",\"ticks\":\"outside\"},\"colorscale\":[[0.0,\"#440154\"],[0.1111111111111111,\"#482878\"],[0.2222222222222222,\"#3e4989\"],[0.3333333333333333,\"#31688e\"],[0.4444444444444444,\"#26828e\"],[0.5555555555555556,\"#1f9e89\"],[0.6666666666666666,\"#35b779\"],[0.7777777777777778,\"#6ece58\"],[0.8888888888888888,\"#b5de2b\"],[1.0,\"#fde725\"]],\"type\":\"histogram2d\"}],\"histogram\":[{\"marker\":{\"line\":{\"color\":\"white\",\"width\":0.6}},\"type\":\"histogram\"}],\"mesh3d\":[{\"colorbar\":{\"outlinewidth\":1,\"tickcolor\":\"rgb(36,36,36)\",\"ticks\":\"outside\"},\"type\":\"mesh3d\"}],\"parcoords\":[{\"line\":{\"colorbar\":{\"outlinewidth\":1,\"tickcolor\":\"rgb(36,36,36)\",\"ticks\":\"outside\"}},\"type\":\"parcoords\"}],\"pie\":[{\"automargin\":true,\"type\":\"pie\"}],\"scatter3d\":[{\"line\":{\"colorbar\":{\"outlinewidth\":1,\"tickcolor\":\"rgb(36,36,36)\",\"ticks\":\"outside\"}},\"marker\":{\"colorbar\":{\"outlinewidth\":1,\"tickcolor\":\"rgb(36,36,36)\",\"ticks\":\"outside\"}},\"type\":\"scatter3d\"}],\"scattercarpet\":[{\"marker\":{\"colorbar\":{\"outlinewidth\":1,\"tickcolor\":\"rgb(36,36,36)\",\"ticks\":\"outside\"}},\"type\":\"scattercarpet\"}],\"scattergeo\":[{\"marker\":{\"colorbar\":{\"outlinewidth\":1,\"tickcolor\":\"rgb(36,36,36)\",\"ticks\":\"outside\"}},\"type\":\"scattergeo\"}],\"scattergl\":[{\"marker\":{\"colorbar\":{\"outlinewidth\":1,\"tickcolor\":\"rgb(36,36,36)\",\"ticks\":\"outside\"}},\"type\":\"scattergl\"}],\"scattermapbox\":[{\"marker\":{\"colorbar\":{\"outlinewidth\":1,\"tickcolor\":\"rgb(36,36,36)\",\"ticks\":\"outside\"}},\"type\":\"scattermapbox\"}],\"scatterpolargl\":[{\"marker\":{\"colorbar\":{\"outlinewidth\":1,\"tickcolor\":\"rgb(36,36,36)\",\"ticks\":\"outside\"}},\"type\":\"scatterpolargl\"}],\"scatterpolar\":[{\"marker\":{\"colorbar\":{\"outlinewidth\":1,\"tickcolor\":\"rgb(36,36,36)\",\"ticks\":\"outside\"}},\"type\":\"scatterpolar\"}],\"scatter\":[{\"fillpattern\":{\"fillmode\":\"overlay\",\"size\":10,\"solidity\":0.2},\"type\":\"scatter\"}],\"scatterternary\":[{\"marker\":{\"colorbar\":{\"outlinewidth\":1,\"tickcolor\":\"rgb(36,36,36)\",\"ticks\":\"outside\"}},\"type\":\"scatterternary\"}],\"surface\":[{\"colorbar\":{\"outlinewidth\":1,\"tickcolor\":\"rgb(36,36,36)\",\"ticks\":\"outside\"},\"colorscale\":[[0.0,\"#440154\"],[0.1111111111111111,\"#482878\"],[0.2222222222222222,\"#3e4989\"],[0.3333333333333333,\"#31688e\"],[0.4444444444444444,\"#26828e\"],[0.5555555555555556,\"#1f9e89\"],[0.6666666666666666,\"#35b779\"],[0.7777777777777778,\"#6ece58\"],[0.8888888888888888,\"#b5de2b\"],[1.0,\"#fde725\"]],\"type\":\"surface\"}],\"table\":[{\"cells\":{\"fill\":{\"color\":\"rgb(237,237,237)\"},\"line\":{\"color\":\"white\"}},\"header\":{\"fill\":{\"color\":\"rgb(217,217,217)\"},\"line\":{\"color\":\"white\"}},\"type\":\"table\"}]},\"layout\":{\"annotationdefaults\":{\"arrowhead\":0,\"arrowwidth\":1},\"autotypenumbers\":\"strict\",\"coloraxis\":{\"colorbar\":{\"outlinewidth\":1,\"tickcolor\":\"rgb(36,36,36)\",\"ticks\":\"outside\"}},\"colorscale\":{\"diverging\":[[0.0,\"rgb(103,0,31)\"],[0.1,\"rgb(178,24,43)\"],[0.2,\"rgb(214,96,77)\"],[0.3,\"rgb(244,165,130)\"],[0.4,\"rgb(253,219,199)\"],[0.5,\"rgb(247,247,247)\"],[0.6,\"rgb(209,229,240)\"],[0.7,\"rgb(146,197,222)\"],[0.8,\"rgb(67,147,195)\"],[0.9,\"rgb(33,102,172)\"],[1.0,\"rgb(5,48,97)\"]],\"sequential\":[[0.0,\"#440154\"],[0.1111111111111111,\"#482878\"],[0.2222222222222222,\"#3e4989\"],[0.3333333333333333,\"#31688e\"],[0.4444444444444444,\"#26828e\"],[0.5555555555555556,\"#1f9e89\"],[0.6666666666666666,\"#35b779\"],[0.7777777777777778,\"#6ece58\"],[0.8888888888888888,\"#b5de2b\"],[1.0,\"#fde725\"]],\"sequentialminus\":[[0.0,\"#440154\"],[0.1111111111111111,\"#482878\"],[0.2222222222222222,\"#3e4989\"],[0.3333333333333333,\"#31688e\"],[0.4444444444444444,\"#26828e\"],[0.5555555555555556,\"#1f9e89\"],[0.6666666666666666,\"#35b779\"],[0.7777777777777778,\"#6ece58\"],[0.8888888888888888,\"#b5de2b\"],[1.0,\"#fde725\"]]},\"colorway\":[\"#1F77B4\",\"#FF7F0E\",\"#2CA02C\",\"#D62728\",\"#9467BD\",\"#8C564B\",\"#E377C2\",\"#7F7F7F\",\"#BCBD22\",\"#17BECF\"],\"font\":{\"color\":\"rgb(36,36,36)\"},\"geo\":{\"bgcolor\":\"white\",\"lakecolor\":\"white\",\"landcolor\":\"white\",\"showlakes\":true,\"showland\":true,\"subunitcolor\":\"white\"},\"hoverlabel\":{\"align\":\"left\"},\"hovermode\":\"closest\",\"mapbox\":{\"style\":\"light\"},\"paper_bgcolor\":\"white\",\"plot_bgcolor\":\"white\",\"polar\":{\"angularaxis\":{\"gridcolor\":\"rgb(232,232,232)\",\"linecolor\":\"rgb(36,36,36)\",\"showgrid\":false,\"showline\":true,\"ticks\":\"outside\"},\"bgcolor\":\"white\",\"radialaxis\":{\"gridcolor\":\"rgb(232,232,232)\",\"linecolor\":\"rgb(36,36,36)\",\"showgrid\":false,\"showline\":true,\"ticks\":\"outside\"}},\"scene\":{\"xaxis\":{\"backgroundcolor\":\"white\",\"gridcolor\":\"rgb(232,232,232)\",\"gridwidth\":2,\"linecolor\":\"rgb(36,36,36)\",\"showbackground\":true,\"showgrid\":false,\"showline\":true,\"ticks\":\"outside\",\"zeroline\":false,\"zerolinecolor\":\"rgb(36,36,36)\"},\"yaxis\":{\"backgroundcolor\":\"white\",\"gridcolor\":\"rgb(232,232,232)\",\"gridwidth\":2,\"linecolor\":\"rgb(36,36,36)\",\"showbackground\":true,\"showgrid\":false,\"showline\":true,\"ticks\":\"outside\",\"zeroline\":false,\"zerolinecolor\":\"rgb(36,36,36)\"},\"zaxis\":{\"backgroundcolor\":\"white\",\"gridcolor\":\"rgb(232,232,232)\",\"gridwidth\":2,\"linecolor\":\"rgb(36,36,36)\",\"showbackground\":true,\"showgrid\":false,\"showline\":true,\"ticks\":\"outside\",\"zeroline\":false,\"zerolinecolor\":\"rgb(36,36,36)\"}},\"shapedefaults\":{\"fillcolor\":\"black\",\"line\":{\"width\":0},\"opacity\":0.3},\"ternary\":{\"aaxis\":{\"gridcolor\":\"rgb(232,232,232)\",\"linecolor\":\"rgb(36,36,36)\",\"showgrid\":false,\"showline\":true,\"ticks\":\"outside\"},\"baxis\":{\"gridcolor\":\"rgb(232,232,232)\",\"linecolor\":\"rgb(36,36,36)\",\"showgrid\":false,\"showline\":true,\"ticks\":\"outside\"},\"bgcolor\":\"white\",\"caxis\":{\"gridcolor\":\"rgb(232,232,232)\",\"linecolor\":\"rgb(36,36,36)\",\"showgrid\":false,\"showline\":true,\"ticks\":\"outside\"}},\"title\":{\"x\":0.05},\"xaxis\":{\"automargin\":true,\"gridcolor\":\"rgb(232,232,232)\",\"linecolor\":\"rgb(36,36,36)\",\"showgrid\":false,\"showline\":true,\"ticks\":\"outside\",\"title\":{\"standoff\":15},\"zeroline\":false,\"zerolinecolor\":\"rgb(36,36,36)\"},\"yaxis\":{\"automargin\":true,\"gridcolor\":\"rgb(232,232,232)\",\"linecolor\":\"rgb(36,36,36)\",\"showgrid\":false,\"showline\":true,\"ticks\":\"outside\",\"title\":{\"standoff\":15},\"zeroline\":false,\"zerolinecolor\":\"rgb(36,36,36)\"}}},\"xaxis\":{\"anchor\":\"y\",\"domain\":[0.0,1.0],\"title\":{\"text\":\"\"},\"visible\":false,\"range\":[-15.110366487503052,23.1361891746521]},\"yaxis\":{\"anchor\":\"x\",\"domain\":[0.0,1.0],\"title\":{\"text\":\"\"},\"visible\":false,\"range\":[-0.5140265539288521,24.004699230194092]},\"legend\":{\"tracegroupgap\":0,\"itemsizing\":\"constant\"},\"margin\":{\"t\":60},\"title\":{\"font\":{\"size\":22,\"color\":\"Black\"},\"text\":\"<b>Intertopic Distance Map</b>\",\"y\":0.95,\"x\":0.5,\"xanchor\":\"center\",\"yanchor\":\"top\"},\"hoverlabel\":{\"font\":{\"size\":16,\"family\":\"Rockwell\"},\"bgcolor\":\"white\"},\"width\":650,\"height\":650,\"sliders\":[{\"active\":0,\"pad\":{\"t\":50},\"steps\":[{\"args\":[{\"marker.color\":[[\"red\",\"#B0BEC5\",\"#B0BEC5\",\"#B0BEC5\",\"#B0BEC5\",\"#B0BEC5\",\"#B0BEC5\",\"#B0BEC5\",\"#B0BEC5\",\"#B0BEC5\",\"#B0BEC5\",\"#B0BEC5\",\"#B0BEC5\",\"#B0BEC5\",\"#B0BEC5\"]]}],\"label\":\"Topic 0\",\"method\":\"update\"},{\"args\":[{\"marker.color\":[[\"#B0BEC5\",\"red\",\"#B0BEC5\",\"#B0BEC5\",\"#B0BEC5\",\"#B0BEC5\",\"#B0BEC5\",\"#B0BEC5\",\"#B0BEC5\",\"#B0BEC5\",\"#B0BEC5\",\"#B0BEC5\",\"#B0BEC5\",\"#B0BEC5\",\"#B0BEC5\"]]}],\"label\":\"Topic 1\",\"method\":\"update\"},{\"args\":[{\"marker.color\":[[\"#B0BEC5\",\"#B0BEC5\",\"red\",\"#B0BEC5\",\"#B0BEC5\",\"#B0BEC5\",\"#B0BEC5\",\"#B0BEC5\",\"#B0BEC5\",\"#B0BEC5\",\"#B0BEC5\",\"#B0BEC5\",\"#B0BEC5\",\"#B0BEC5\",\"#B0BEC5\"]]}],\"label\":\"Topic 2\",\"method\":\"update\"},{\"args\":[{\"marker.color\":[[\"#B0BEC5\",\"#B0BEC5\",\"#B0BEC5\",\"red\",\"#B0BEC5\",\"#B0BEC5\",\"#B0BEC5\",\"#B0BEC5\",\"#B0BEC5\",\"#B0BEC5\",\"#B0BEC5\",\"#B0BEC5\",\"#B0BEC5\",\"#B0BEC5\",\"#B0BEC5\"]]}],\"label\":\"Topic 3\",\"method\":\"update\"},{\"args\":[{\"marker.color\":[[\"#B0BEC5\",\"#B0BEC5\",\"#B0BEC5\",\"#B0BEC5\",\"red\",\"#B0BEC5\",\"#B0BEC5\",\"#B0BEC5\",\"#B0BEC5\",\"#B0BEC5\",\"#B0BEC5\",\"#B0BEC5\",\"#B0BEC5\",\"#B0BEC5\",\"#B0BEC5\"]]}],\"label\":\"Topic 4\",\"method\":\"update\"},{\"args\":[{\"marker.color\":[[\"#B0BEC5\",\"#B0BEC5\",\"#B0BEC5\",\"#B0BEC5\",\"#B0BEC5\",\"red\",\"#B0BEC5\",\"#B0BEC5\",\"#B0BEC5\",\"#B0BEC5\",\"#B0BEC5\",\"#B0BEC5\",\"#B0BEC5\",\"#B0BEC5\",\"#B0BEC5\"]]}],\"label\":\"Topic 5\",\"method\":\"update\"},{\"args\":[{\"marker.color\":[[\"#B0BEC5\",\"#B0BEC5\",\"#B0BEC5\",\"#B0BEC5\",\"#B0BEC5\",\"#B0BEC5\",\"red\",\"#B0BEC5\",\"#B0BEC5\",\"#B0BEC5\",\"#B0BEC5\",\"#B0BEC5\",\"#B0BEC5\",\"#B0BEC5\",\"#B0BEC5\"]]}],\"label\":\"Topic 6\",\"method\":\"update\"},{\"args\":[{\"marker.color\":[[\"#B0BEC5\",\"#B0BEC5\",\"#B0BEC5\",\"#B0BEC5\",\"#B0BEC5\",\"#B0BEC5\",\"#B0BEC5\",\"red\",\"#B0BEC5\",\"#B0BEC5\",\"#B0BEC5\",\"#B0BEC5\",\"#B0BEC5\",\"#B0BEC5\",\"#B0BEC5\"]]}],\"label\":\"Topic 7\",\"method\":\"update\"},{\"args\":[{\"marker.color\":[[\"#B0BEC5\",\"#B0BEC5\",\"#B0BEC5\",\"#B0BEC5\",\"#B0BEC5\",\"#B0BEC5\",\"#B0BEC5\",\"#B0BEC5\",\"red\",\"#B0BEC5\",\"#B0BEC5\",\"#B0BEC5\",\"#B0BEC5\",\"#B0BEC5\",\"#B0BEC5\"]]}],\"label\":\"Topic 8\",\"method\":\"update\"},{\"args\":[{\"marker.color\":[[\"#B0BEC5\",\"#B0BEC5\",\"#B0BEC5\",\"#B0BEC5\",\"#B0BEC5\",\"#B0BEC5\",\"#B0BEC5\",\"#B0BEC5\",\"#B0BEC5\",\"red\",\"#B0BEC5\",\"#B0BEC5\",\"#B0BEC5\",\"#B0BEC5\",\"#B0BEC5\"]]}],\"label\":\"Topic 9\",\"method\":\"update\"},{\"args\":[{\"marker.color\":[[\"#B0BEC5\",\"#B0BEC5\",\"#B0BEC5\",\"#B0BEC5\",\"#B0BEC5\",\"#B0BEC5\",\"#B0BEC5\",\"#B0BEC5\",\"#B0BEC5\",\"#B0BEC5\",\"red\",\"#B0BEC5\",\"#B0BEC5\",\"#B0BEC5\",\"#B0BEC5\"]]}],\"label\":\"Topic 10\",\"method\":\"update\"},{\"args\":[{\"marker.color\":[[\"#B0BEC5\",\"#B0BEC5\",\"#B0BEC5\",\"#B0BEC5\",\"#B0BEC5\",\"#B0BEC5\",\"#B0BEC5\",\"#B0BEC5\",\"#B0BEC5\",\"#B0BEC5\",\"#B0BEC5\",\"red\",\"#B0BEC5\",\"#B0BEC5\",\"#B0BEC5\"]]}],\"label\":\"Topic 11\",\"method\":\"update\"},{\"args\":[{\"marker.color\":[[\"#B0BEC5\",\"#B0BEC5\",\"#B0BEC5\",\"#B0BEC5\",\"#B0BEC5\",\"#B0BEC5\",\"#B0BEC5\",\"#B0BEC5\",\"#B0BEC5\",\"#B0BEC5\",\"#B0BEC5\",\"#B0BEC5\",\"red\",\"#B0BEC5\",\"#B0BEC5\"]]}],\"label\":\"Topic 12\",\"method\":\"update\"},{\"args\":[{\"marker.color\":[[\"#B0BEC5\",\"#B0BEC5\",\"#B0BEC5\",\"#B0BEC5\",\"#B0BEC5\",\"#B0BEC5\",\"#B0BEC5\",\"#B0BEC5\",\"#B0BEC5\",\"#B0BEC5\",\"#B0BEC5\",\"#B0BEC5\",\"#B0BEC5\",\"red\",\"#B0BEC5\"]]}],\"label\":\"Topic 13\",\"method\":\"update\"},{\"args\":[{\"marker.color\":[[\"#B0BEC5\",\"#B0BEC5\",\"#B0BEC5\",\"#B0BEC5\",\"#B0BEC5\",\"#B0BEC5\",\"#B0BEC5\",\"#B0BEC5\",\"#B0BEC5\",\"#B0BEC5\",\"#B0BEC5\",\"#B0BEC5\",\"#B0BEC5\",\"#B0BEC5\",\"red\"]]}],\"label\":\"Topic 14\",\"method\":\"update\"}]}],\"shapes\":[{\"line\":{\"color\":\"#CFD8DC\",\"width\":2},\"type\":\"line\",\"x0\":4.012911343574523,\"x1\":4.012911343574523,\"y0\":-0.5140265539288521,\"y1\":24.004699230194092},{\"line\":{\"color\":\"#9E9E9E\",\"width\":2},\"type\":\"line\",\"x0\":-15.110366487503052,\"x1\":23.1361891746521,\"y0\":11.74533633813262,\"y1\":11.74533633813262}],\"annotations\":[{\"showarrow\":false,\"text\":\"D1\",\"x\":-15.110366487503052,\"y\":11.74533633813262,\"yshift\":10},{\"showarrow\":false,\"text\":\"D2\",\"x\":4.012911343574523,\"xshift\":10,\"y\":24.004699230194092}]},                        {\"responsive\": true}                    )                };                            </script>        </div>\n",
       "</body>\n",
       "</html>"
      ]
     },
     "metadata": {},
     "output_type": "display_data"
    }
   ],
   "source": [
    "topic_model.visualize_topics(custom_labels=True)"
   ]
  },
  {
   "cell_type": "code",
   "execution_count": 0,
   "metadata": {
    "application/vnd.databricks.v1+cell": {
     "cellMetadata": {
      "byteLimit": 2048000,
      "rowLimit": 10000
     },
     "inputWidgets": {},
     "nuid": "b060a5ca-13d6-4b48-9204-da9491e9b63f",
     "showTitle": false,
     "tableResultSettingsMap": {},
     "title": ""
    }
   },
   "outputs": [
    {
     "output_type": "display_data",
     "data": {
      "text/html": [
       "<html>\n",
       "<head><meta charset=\"utf-8\" /></head>\n",
       "<body>\n",
       "    <div>            <script src=\"https://cdnjs.cloudflare.com/ajax/libs/mathjax/2.7.5/MathJax.js?config=TeX-AMS-MML_SVG\"></script><script type=\"text/javascript\">if (window.MathJax && window.MathJax.Hub && window.MathJax.Hub.Config) {window.MathJax.Hub.Config({SVG: {font: \"STIX-Web\"}});}</script>                <script type=\"text/javascript\">window.PlotlyConfig = {MathJaxConfig: 'local'};</script>\n",
       "        <script src=\"https://cdn.plot.ly/plotly-2.12.1.min.js\"></script>                <div id=\"4e224c09-c48b-411e-b5fd-d80fbebe420d\" class=\"plotly-graph-div\" style=\"height:600px; width:1000px;\"></div>            <script type=\"text/javascript\">                                    window.PLOTLYENV=window.PLOTLYENV || {};                                    if (document.getElementById(\"4e224c09-c48b-411e-b5fd-d80fbebe420d\")) {                    Plotly.newPlot(                        \"4e224c09-c48b-411e-b5fd-d80fbebe420d\",                        [{\"marker\":{\"color\":\"#D55E00\"},\"orientation\":\"h\",\"x\":[0.04692956605665062,0.061413485490715854,0.07412680107191195,0.10155491570430364,0.14029357489236033],\"y\":[\"at  \",\"experience  \",\"boarding  \",\"in  \",\"check  \"],\"type\":\"bar\",\"xaxis\":\"x\",\"yaxis\":\"y\"},{\"marker\":{\"color\":\"#0072B2\"},\"orientation\":\"h\",\"x\":[0.08329033041572174,0.09535109933803712,0.11254705418743063,0.18355483235956227,0.18414772767440138],\"y\":[\"comfortable  \",\"seating  \",\"seats  \",\"seat  \",\"comfort  \"],\"type\":\"bar\",\"xaxis\":\"x2\",\"yaxis\":\"y2\"},{\"marker\":{\"color\":\"#CC79A7\"},\"orientation\":\"h\",\"x\":[0.04538208881300485,0.07159386582307661,0.08708437976257177,0.09022720017818893,0.19854752793792751],\"y\":[\"ife  \",\"inflight  \",\"in  \",\"flight  \",\"entertainment  \"],\"type\":\"bar\",\"xaxis\":\"x3\",\"yaxis\":\"y3\"},{\"marker\":{\"color\":\"#E69F00\"},\"orientation\":\"h\",\"x\":[0.09105213884351832,0.12661597625329513,0.1494085760866929,0.15156708585329484,0.1659159828470304],\"y\":[\"plane  \",\"aircraft  \",\"clean  \",\"cabin  \",\"cleanliness  \"],\"type\":\"bar\",\"xaxis\":\"x4\",\"yaxis\":\"y4\"},{\"marker\":{\"color\":\"#56B4E9\"},\"orientation\":\"h\",\"x\":[0.06111923908165223,0.06511108380779033,0.06920662978696157,0.11571819366256712,0.25339715608964436],\"y\":[\"beverage  \",\"drinks  \",\"and  \",\"quality  \",\"food  \"],\"type\":\"bar\",\"xaxis\":\"x5\",\"yaxis\":\"y5\"},{\"marker\":{\"color\":\"#009E73\"},\"orientation\":\"h\",\"x\":[0.06084470011905771,0.06120976080429684,0.09147671245361359,0.10011404715443221,0.1472525705833906],\"y\":[\"friendly  \",\"staff  \",\"cabin  \",\"service  \",\"crew  \"],\"type\":\"bar\",\"xaxis\":\"x6\",\"yaxis\":\"y6\"},{\"marker\":{\"color\":\"#F0E442\"},\"orientation\":\"h\",\"x\":[0.04992744696519653,0.05195858230361303,0.10619854156876572,0.11838943839401682,0.1695180752714046],\"y\":[\"my  \",\"bag  \",\"handling  \",\"luggage  \",\"baggage  \"],\"type\":\"bar\",\"xaxis\":\"x7\",\"yaxis\":\"y7\"},{\"marker\":{\"color\":\"#D55E00\"},\"orientation\":\"h\",\"x\":[0.03800016363954302,0.043925721972865456,0.04436739533763829,0.045932239443586695,0.08070858084041148],\"y\":[\"and  \",\"delay  \",\"to  \",\"the  \",\"flight  \"],\"type\":\"bar\",\"xaxis\":\"x8\",\"yaxis\":\"y8\"},{\"marker\":{\"color\":\"#0072B2\"},\"orientation\":\"h\",\"x\":[0.045043292065597366,0.05700419075358274,0.08052461617846408,0.09385076970172192,0.1134826245863126],\"y\":[\"no  \",\"was  \",\"quality  \",\"meal  \",\"food  \"],\"type\":\"bar\",\"xaxis\":\"x9\",\"yaxis\":\"y9\"},{\"marker\":{\"color\":\"#CC79A7\"},\"orientation\":\"h\",\"x\":[0.032071009903079636,0.036543319389326985,0.038426874802960025,0.03970817062571768,0.04135684613858914],\"y\":[\"and  \",\"experience  \",\"customer  \",\"to  \",\"the  \"],\"type\":\"bar\",\"xaxis\":\"x10\",\"yaxis\":\"y10\"}],                        {\"template\":{\"data\":{\"barpolar\":[{\"marker\":{\"line\":{\"color\":\"white\",\"width\":0.5},\"pattern\":{\"fillmode\":\"overlay\",\"size\":10,\"solidity\":0.2}},\"type\":\"barpolar\"}],\"bar\":[{\"error_x\":{\"color\":\"#2a3f5f\"},\"error_y\":{\"color\":\"#2a3f5f\"},\"marker\":{\"line\":{\"color\":\"white\",\"width\":0.5},\"pattern\":{\"fillmode\":\"overlay\",\"size\":10,\"solidity\":0.2}},\"type\":\"bar\"}],\"carpet\":[{\"aaxis\":{\"endlinecolor\":\"#2a3f5f\",\"gridcolor\":\"#C8D4E3\",\"linecolor\":\"#C8D4E3\",\"minorgridcolor\":\"#C8D4E3\",\"startlinecolor\":\"#2a3f5f\"},\"baxis\":{\"endlinecolor\":\"#2a3f5f\",\"gridcolor\":\"#C8D4E3\",\"linecolor\":\"#C8D4E3\",\"minorgridcolor\":\"#C8D4E3\",\"startlinecolor\":\"#2a3f5f\"},\"type\":\"carpet\"}],\"choropleth\":[{\"colorbar\":{\"outlinewidth\":0,\"ticks\":\"\"},\"type\":\"choropleth\"}],\"contourcarpet\":[{\"colorbar\":{\"outlinewidth\":0,\"ticks\":\"\"},\"type\":\"contourcarpet\"}],\"contour\":[{\"colorbar\":{\"outlinewidth\":0,\"ticks\":\"\"},\"colorscale\":[[0.0,\"#0d0887\"],[0.1111111111111111,\"#46039f\"],[0.2222222222222222,\"#7201a8\"],[0.3333333333333333,\"#9c179e\"],[0.4444444444444444,\"#bd3786\"],[0.5555555555555556,\"#d8576b\"],[0.6666666666666666,\"#ed7953\"],[0.7777777777777778,\"#fb9f3a\"],[0.8888888888888888,\"#fdca26\"],[1.0,\"#f0f921\"]],\"type\":\"contour\"}],\"heatmapgl\":[{\"colorbar\":{\"outlinewidth\":0,\"ticks\":\"\"},\"colorscale\":[[0.0,\"#0d0887\"],[0.1111111111111111,\"#46039f\"],[0.2222222222222222,\"#7201a8\"],[0.3333333333333333,\"#9c179e\"],[0.4444444444444444,\"#bd3786\"],[0.5555555555555556,\"#d8576b\"],[0.6666666666666666,\"#ed7953\"],[0.7777777777777778,\"#fb9f3a\"],[0.8888888888888888,\"#fdca26\"],[1.0,\"#f0f921\"]],\"type\":\"heatmapgl\"}],\"heatmap\":[{\"colorbar\":{\"outlinewidth\":0,\"ticks\":\"\"},\"colorscale\":[[0.0,\"#0d0887\"],[0.1111111111111111,\"#46039f\"],[0.2222222222222222,\"#7201a8\"],[0.3333333333333333,\"#9c179e\"],[0.4444444444444444,\"#bd3786\"],[0.5555555555555556,\"#d8576b\"],[0.6666666666666666,\"#ed7953\"],[0.7777777777777778,\"#fb9f3a\"],[0.8888888888888888,\"#fdca26\"],[1.0,\"#f0f921\"]],\"type\":\"heatmap\"}],\"histogram2dcontour\":[{\"colorbar\":{\"outlinewidth\":0,\"ticks\":\"\"},\"colorscale\":[[0.0,\"#0d0887\"],[0.1111111111111111,\"#46039f\"],[0.2222222222222222,\"#7201a8\"],[0.3333333333333333,\"#9c179e\"],[0.4444444444444444,\"#bd3786\"],[0.5555555555555556,\"#d8576b\"],[0.6666666666666666,\"#ed7953\"],[0.7777777777777778,\"#fb9f3a\"],[0.8888888888888888,\"#fdca26\"],[1.0,\"#f0f921\"]],\"type\":\"histogram2dcontour\"}],\"histogram2d\":[{\"colorbar\":{\"outlinewidth\":0,\"ticks\":\"\"},\"colorscale\":[[0.0,\"#0d0887\"],[0.1111111111111111,\"#46039f\"],[0.2222222222222222,\"#7201a8\"],[0.3333333333333333,\"#9c179e\"],[0.4444444444444444,\"#bd3786\"],[0.5555555555555556,\"#d8576b\"],[0.6666666666666666,\"#ed7953\"],[0.7777777777777778,\"#fb9f3a\"],[0.8888888888888888,\"#fdca26\"],[1.0,\"#f0f921\"]],\"type\":\"histogram2d\"}],\"histogram\":[{\"marker\":{\"pattern\":{\"fillmode\":\"overlay\",\"size\":10,\"solidity\":0.2}},\"type\":\"histogram\"}],\"mesh3d\":[{\"colorbar\":{\"outlinewidth\":0,\"ticks\":\"\"},\"type\":\"mesh3d\"}],\"parcoords\":[{\"line\":{\"colorbar\":{\"outlinewidth\":0,\"ticks\":\"\"}},\"type\":\"parcoords\"}],\"pie\":[{\"automargin\":true,\"type\":\"pie\"}],\"scatter3d\":[{\"line\":{\"colorbar\":{\"outlinewidth\":0,\"ticks\":\"\"}},\"marker\":{\"colorbar\":{\"outlinewidth\":0,\"ticks\":\"\"}},\"type\":\"scatter3d\"}],\"scattercarpet\":[{\"marker\":{\"colorbar\":{\"outlinewidth\":0,\"ticks\":\"\"}},\"type\":\"scattercarpet\"}],\"scattergeo\":[{\"marker\":{\"colorbar\":{\"outlinewidth\":0,\"ticks\":\"\"}},\"type\":\"scattergeo\"}],\"scattergl\":[{\"marker\":{\"colorbar\":{\"outlinewidth\":0,\"ticks\":\"\"}},\"type\":\"scattergl\"}],\"scattermapbox\":[{\"marker\":{\"colorbar\":{\"outlinewidth\":0,\"ticks\":\"\"}},\"type\":\"scattermapbox\"}],\"scatterpolargl\":[{\"marker\":{\"colorbar\":{\"outlinewidth\":0,\"ticks\":\"\"}},\"type\":\"scatterpolargl\"}],\"scatterpolar\":[{\"marker\":{\"colorbar\":{\"outlinewidth\":0,\"ticks\":\"\"}},\"type\":\"scatterpolar\"}],\"scatter\":[{\"fillpattern\":{\"fillmode\":\"overlay\",\"size\":10,\"solidity\":0.2},\"type\":\"scatter\"}],\"scatterternary\":[{\"marker\":{\"colorbar\":{\"outlinewidth\":0,\"ticks\":\"\"}},\"type\":\"scatterternary\"}],\"surface\":[{\"colorbar\":{\"outlinewidth\":0,\"ticks\":\"\"},\"colorscale\":[[0.0,\"#0d0887\"],[0.1111111111111111,\"#46039f\"],[0.2222222222222222,\"#7201a8\"],[0.3333333333333333,\"#9c179e\"],[0.4444444444444444,\"#bd3786\"],[0.5555555555555556,\"#d8576b\"],[0.6666666666666666,\"#ed7953\"],[0.7777777777777778,\"#fb9f3a\"],[0.8888888888888888,\"#fdca26\"],[1.0,\"#f0f921\"]],\"type\":\"surface\"}],\"table\":[{\"cells\":{\"fill\":{\"color\":\"#EBF0F8\"},\"line\":{\"color\":\"white\"}},\"header\":{\"fill\":{\"color\":\"#C8D4E3\"},\"line\":{\"color\":\"white\"}},\"type\":\"table\"}]},\"layout\":{\"annotationdefaults\":{\"arrowcolor\":\"#2a3f5f\",\"arrowhead\":0,\"arrowwidth\":1},\"autotypenumbers\":\"strict\",\"coloraxis\":{\"colorbar\":{\"outlinewidth\":0,\"ticks\":\"\"}},\"colorscale\":{\"diverging\":[[0,\"#8e0152\"],[0.1,\"#c51b7d\"],[0.2,\"#de77ae\"],[0.3,\"#f1b6da\"],[0.4,\"#fde0ef\"],[0.5,\"#f7f7f7\"],[0.6,\"#e6f5d0\"],[0.7,\"#b8e186\"],[0.8,\"#7fbc41\"],[0.9,\"#4d9221\"],[1,\"#276419\"]],\"sequential\":[[0.0,\"#0d0887\"],[0.1111111111111111,\"#46039f\"],[0.2222222222222222,\"#7201a8\"],[0.3333333333333333,\"#9c179e\"],[0.4444444444444444,\"#bd3786\"],[0.5555555555555556,\"#d8576b\"],[0.6666666666666666,\"#ed7953\"],[0.7777777777777778,\"#fb9f3a\"],[0.8888888888888888,\"#fdca26\"],[1.0,\"#f0f921\"]],\"sequentialminus\":[[0.0,\"#0d0887\"],[0.1111111111111111,\"#46039f\"],[0.2222222222222222,\"#7201a8\"],[0.3333333333333333,\"#9c179e\"],[0.4444444444444444,\"#bd3786\"],[0.5555555555555556,\"#d8576b\"],[0.6666666666666666,\"#ed7953\"],[0.7777777777777778,\"#fb9f3a\"],[0.8888888888888888,\"#fdca26\"],[1.0,\"#f0f921\"]]},\"colorway\":[\"#636efa\",\"#EF553B\",\"#00cc96\",\"#ab63fa\",\"#FFA15A\",\"#19d3f3\",\"#FF6692\",\"#B6E880\",\"#FF97FF\",\"#FECB52\"],\"font\":{\"color\":\"#2a3f5f\"},\"geo\":{\"bgcolor\":\"white\",\"lakecolor\":\"white\",\"landcolor\":\"white\",\"showlakes\":true,\"showland\":true,\"subunitcolor\":\"#C8D4E3\"},\"hoverlabel\":{\"align\":\"left\"},\"hovermode\":\"closest\",\"mapbox\":{\"style\":\"light\"},\"paper_bgcolor\":\"white\",\"plot_bgcolor\":\"white\",\"polar\":{\"angularaxis\":{\"gridcolor\":\"#EBF0F8\",\"linecolor\":\"#EBF0F8\",\"ticks\":\"\"},\"bgcolor\":\"white\",\"radialaxis\":{\"gridcolor\":\"#EBF0F8\",\"linecolor\":\"#EBF0F8\",\"ticks\":\"\"}},\"scene\":{\"xaxis\":{\"backgroundcolor\":\"white\",\"gridcolor\":\"#DFE8F3\",\"gridwidth\":2,\"linecolor\":\"#EBF0F8\",\"showbackground\":true,\"ticks\":\"\",\"zerolinecolor\":\"#EBF0F8\"},\"yaxis\":{\"backgroundcolor\":\"white\",\"gridcolor\":\"#DFE8F3\",\"gridwidth\":2,\"linecolor\":\"#EBF0F8\",\"showbackground\":true,\"ticks\":\"\",\"zerolinecolor\":\"#EBF0F8\"},\"zaxis\":{\"backgroundcolor\":\"white\",\"gridcolor\":\"#DFE8F3\",\"gridwidth\":2,\"linecolor\":\"#EBF0F8\",\"showbackground\":true,\"ticks\":\"\",\"zerolinecolor\":\"#EBF0F8\"}},\"shapedefaults\":{\"line\":{\"color\":\"#2a3f5f\"}},\"ternary\":{\"aaxis\":{\"gridcolor\":\"#DFE8F3\",\"linecolor\":\"#A2B1C6\",\"ticks\":\"\"},\"baxis\":{\"gridcolor\":\"#DFE8F3\",\"linecolor\":\"#A2B1C6\",\"ticks\":\"\"},\"bgcolor\":\"white\",\"caxis\":{\"gridcolor\":\"#DFE8F3\",\"linecolor\":\"#A2B1C6\",\"ticks\":\"\"}},\"title\":{\"x\":0.05},\"xaxis\":{\"automargin\":true,\"gridcolor\":\"#EBF0F8\",\"linecolor\":\"#EBF0F8\",\"ticks\":\"\",\"title\":{\"standoff\":15},\"zerolinecolor\":\"#EBF0F8\",\"zerolinewidth\":2},\"yaxis\":{\"automargin\":true,\"gridcolor\":\"#EBF0F8\",\"linecolor\":\"#EBF0F8\",\"ticks\":\"\",\"title\":{\"standoff\":15},\"zerolinecolor\":\"#EBF0F8\",\"zerolinewidth\":2}}},\"xaxis\":{\"anchor\":\"y\",\"domain\":[0.0,0.175],\"showgrid\":true},\"yaxis\":{\"anchor\":\"x\",\"domain\":[0.7555555555555555,1.0],\"showgrid\":true},\"xaxis2\":{\"anchor\":\"y2\",\"domain\":[0.275,0.45],\"showgrid\":true},\"yaxis2\":{\"anchor\":\"x2\",\"domain\":[0.7555555555555555,1.0],\"showgrid\":true},\"xaxis3\":{\"anchor\":\"y3\",\"domain\":[0.55,0.7250000000000001],\"showgrid\":true},\"yaxis3\":{\"anchor\":\"x3\",\"domain\":[0.7555555555555555,1.0],\"showgrid\":true},\"xaxis4\":{\"anchor\":\"y4\",\"domain\":[0.825,1.0],\"showgrid\":true},\"yaxis4\":{\"anchor\":\"x4\",\"domain\":[0.7555555555555555,1.0],\"showgrid\":true},\"xaxis5\":{\"anchor\":\"y5\",\"domain\":[0.0,0.175],\"showgrid\":true},\"yaxis5\":{\"anchor\":\"x5\",\"domain\":[0.37777777777777777,0.6222222222222222],\"showgrid\":true},\"xaxis6\":{\"anchor\":\"y6\",\"domain\":[0.275,0.45],\"showgrid\":true},\"yaxis6\":{\"anchor\":\"x6\",\"domain\":[0.37777777777777777,0.6222222222222222],\"showgrid\":true},\"xaxis7\":{\"anchor\":\"y7\",\"domain\":[0.55,0.7250000000000001],\"showgrid\":true},\"yaxis7\":{\"anchor\":\"x7\",\"domain\":[0.37777777777777777,0.6222222222222222],\"showgrid\":true},\"xaxis8\":{\"anchor\":\"y8\",\"domain\":[0.825,1.0],\"showgrid\":true},\"yaxis8\":{\"anchor\":\"x8\",\"domain\":[0.37777777777777777,0.6222222222222222],\"showgrid\":true},\"xaxis9\":{\"anchor\":\"y9\",\"domain\":[0.0,0.175],\"showgrid\":true},\"yaxis9\":{\"anchor\":\"x9\",\"domain\":[0.0,0.24444444444444446],\"showgrid\":true},\"xaxis10\":{\"anchor\":\"y10\",\"domain\":[0.275,0.45],\"showgrid\":true},\"yaxis10\":{\"anchor\":\"x10\",\"domain\":[0.0,0.24444444444444446],\"showgrid\":true},\"xaxis11\":{\"anchor\":\"y11\",\"domain\":[0.55,0.7250000000000001],\"showgrid\":true},\"yaxis11\":{\"anchor\":\"x11\",\"domain\":[0.0,0.24444444444444446],\"showgrid\":true},\"xaxis12\":{\"anchor\":\"y12\",\"domain\":[0.825,1.0],\"showgrid\":true},\"yaxis12\":{\"anchor\":\"x12\",\"domain\":[0.0,0.24444444444444446],\"showgrid\":true},\"annotations\":[{\"font\":{\"size\":16},\"showarrow\":false,\"text\":\"Check-in Experience\",\"x\":0.0875,\"xanchor\":\"center\",\"xref\":\"paper\",\"y\":1.0,\"yanchor\":\"bottom\",\"yref\":\"paper\"},{\"font\":{\"size\":16},\"showarrow\":false,\"text\":\"Seat Comfort\",\"x\":0.36250000000000004,\"xanchor\":\"center\",\"xref\":\"paper\",\"y\":1.0,\"yanchor\":\"bottom\",\"yref\":\"paper\"},{\"font\":{\"size\":16},\"showarrow\":false,\"text\":\"In-flight Entertainment\",\"x\":0.6375000000000001,\"xanchor\":\"center\",\"xref\":\"paper\",\"y\":1.0,\"yanchor\":\"bottom\",\"yref\":\"paper\"},{\"font\":{\"size\":16},\"showarrow\":false,\"text\":\"Aircraft Cleanliness\",\"x\":0.9125,\"xanchor\":\"center\",\"xref\":\"paper\",\"y\":1.0,\"yanchor\":\"bottom\",\"yref\":\"paper\"},{\"font\":{\"size\":16},\"showarrow\":false,\"text\":\"In-Flight Meal Quality\",\"x\":0.0875,\"xanchor\":\"center\",\"xref\":\"paper\",\"y\":0.6222222222222222,\"yanchor\":\"bottom\",\"yref\":\"paper\"},{\"font\":{\"size\":16},\"showarrow\":false,\"text\":\"Cabin Crew Friendliness\",\"x\":0.36250000000000004,\"xanchor\":\"center\",\"xref\":\"paper\",\"y\":0.6222222222222222,\"yanchor\":\"bottom\",\"yref\":\"paper\"},{\"font\":{\"size\":16},\"showarrow\":false,\"text\":\"Baggage Handling\",\"x\":0.6375000000000001,\"xanchor\":\"center\",\"xref\":\"paper\",\"y\":0.6222222222222222,\"yanchor\":\"bottom\",\"yref\":\"paper\"},{\"font\":{\"size\":16},\"showarrow\":false,\"text\":\"Flight Punctuality\",\"x\":0.9125,\"xanchor\":\"center\",\"xref\":\"paper\",\"y\":0.6222222222222222,\"yanchor\":\"bottom\",\"yref\":\"paper\"},{\"font\":{\"size\":16},\"showarrow\":false,\"text\":\"In-Flight Meal Quality\",\"x\":0.0875,\"xanchor\":\"center\",\"xref\":\"paper\",\"y\":0.24444444444444446,\"yanchor\":\"bottom\",\"yref\":\"paper\"},{\"font\":{\"size\":16},\"showarrow\":false,\"text\":\"Customer Service Experience\",\"x\":0.36250000000000004,\"xanchor\":\"center\",\"xref\":\"paper\",\"y\":0.24444444444444446,\"yanchor\":\"bottom\",\"yref\":\"paper\"}],\"title\":{\"font\":{\"size\":22,\"color\":\"Black\"},\"text\":\"Topic Word Scores\",\"x\":0.5,\"xanchor\":\"center\",\"yanchor\":\"top\"},\"hoverlabel\":{\"font\":{\"size\":16,\"family\":\"Rockwell\"},\"bgcolor\":\"white\"},\"showlegend\":false,\"width\":1000,\"height\":600},                        {\"responsive\": true}                    )                };                            </script>        </div>\n",
       "</body>\n",
       "</html>"
      ]
     },
     "metadata": {},
     "output_type": "display_data"
    }
   ],
   "source": [
    "TOPIC_NUM = 10\n",
    "topic_model.visualize_barchart(top_n_topics=TOPIC_NUM, height=200,custom_labels=True)"
   ]
  },
  {
   "cell_type": "code",
   "execution_count": 0,
   "metadata": {
    "application/vnd.databricks.v1+cell": {
     "cellMetadata": {
      "byteLimit": 2048000,
      "rowLimit": 10000
     },
     "inputWidgets": {},
     "nuid": "7bbdd58d-4848-4c05-85a6-a72ec10700dd",
     "showTitle": false,
     "tableResultSettingsMap": {},
     "title": ""
    }
   },
   "outputs": [
    {
     "output_type": "display_data",
     "data": {
      "text/html": [
       "<html>\n",
       "<head><meta charset=\"utf-8\" /></head>\n",
       "<body>\n",
       "    <div>            <script src=\"https://cdnjs.cloudflare.com/ajax/libs/mathjax/2.7.5/MathJax.js?config=TeX-AMS-MML_SVG\"></script><script type=\"text/javascript\">if (window.MathJax && window.MathJax.Hub && window.MathJax.Hub.Config) {window.MathJax.Hub.Config({SVG: {font: \"STIX-Web\"}});}</script>                <script type=\"text/javascript\">window.PlotlyConfig = {MathJaxConfig: 'local'};</script>\n",
       "        <script src=\"https://cdn.plot.ly/plotly-2.12.1.min.js\"></script>                <div id=\"bffd9973-4aee-4d7f-b9b6-35cc5ed4521c\" class=\"plotly-graph-div\" style=\"height:425px; width:1000px;\"></div>            <script type=\"text/javascript\">                                    window.PLOTLYENV=window.PLOTLYENV || {};                                    if (document.getElementById(\"bffd9973-4aee-4d7f-b9b6-35cc5ed4521c\")) {                    Plotly.newPlot(                        \"bffd9973-4aee-4d7f-b9b6-35cc5ed4521c\",                        [{\"hoverinfo\":\"text\",\"marker\":{\"color\":\"rgb(61,153,112)\"},\"mode\":\"lines\",\"x\":[0.0,0.8251067648670074,0.8251067648670074,0.0],\"xaxis\":\"x\",\"y\":[-15.0,-15.0,-25.0,-25.0],\"yaxis\":\"y\",\"type\":\"scatter\"},{\"hoverinfo\":\"text\",\"marker\":{\"color\":\"rgb(61,153,112)\"},\"mode\":\"lines\",\"x\":[0.0,0.9698002673804246,0.9698002673804246,0.8251067648670074],\"xaxis\":\"x\",\"y\":[-5.0,-5.0,-20.0,-20.0],\"yaxis\":\"y\",\"type\":\"scatter\"},{\"hoverinfo\":\"text\",\"marker\":{\"color\":\"rgb(255,65,54)\"},\"mode\":\"lines\",\"x\":[0.0,0.618367753043034,0.618367753043034,0.0],\"xaxis\":\"x\",\"y\":[-45.0,-45.0,-55.0,-55.0],\"yaxis\":\"y\",\"type\":\"scatter\"},{\"hoverinfo\":\"text\",\"marker\":{\"color\":\"rgb(255,65,54)\"},\"mode\":\"lines\",\"x\":[0.0,0.8190269214520833,0.8190269214520833,0.618367753043034],\"xaxis\":\"x\",\"y\":[-35.0,-35.0,-50.0,-50.0],\"yaxis\":\"y\",\"type\":\"scatter\"},{\"hoverinfo\":\"text\",\"marker\":{\"color\":\"rgb(35,205,205)\"},\"mode\":\"lines\",\"x\":[0.0,0.22592550284448554,0.22592550284448554,0.0],\"xaxis\":\"x\",\"y\":[-75.0,-75.0,-85.0,-85.0],\"yaxis\":\"y\",\"type\":\"scatter\"},{\"hoverinfo\":\"text\",\"marker\":{\"color\":\"rgb(35,205,205)\"},\"mode\":\"lines\",\"x\":[0.0,0.7738225662154908,0.7738225662154908,0.22592550284448554],\"xaxis\":\"x\",\"y\":[-65.0,-65.0,-80.0,-80.0],\"yaxis\":\"y\",\"type\":\"scatter\"},{\"hoverinfo\":\"text\",\"marker\":{\"color\":\"rgb(0,116,217)\"},\"mode\":\"lines\",\"x\":[0.8190269214520833,1.003315438280615,1.003315438280615,0.7738225662154908],\"xaxis\":\"x\",\"y\":[-42.5,-42.5,-72.5,-72.5],\"yaxis\":\"y\",\"type\":\"scatter\"},{\"hoverinfo\":\"text\",\"marker\":{\"color\":\"rgb(133,20,75)\"},\"mode\":\"lines\",\"x\":[0.0,0.29783045300270194,0.29783045300270194,0.0],\"xaxis\":\"x\",\"y\":[-105.0,-105.0,-115.0,-115.0],\"yaxis\":\"y\",\"type\":\"scatter\"},{\"hoverinfo\":\"text\",\"marker\":{\"color\":\"rgb(133,20,75)\"},\"mode\":\"lines\",\"x\":[0.29783045300270194,0.5303503328187289,0.5303503328187289,0.0],\"xaxis\":\"x\",\"y\":[-110.0,-110.0,-125.0,-125.0],\"yaxis\":\"y\",\"type\":\"scatter\"},{\"hoverinfo\":\"text\",\"marker\":{\"color\":\"rgb(133,20,75)\"},\"mode\":\"lines\",\"x\":[0.0,0.6972340648848414,0.6972340648848414,0.5303503328187289],\"xaxis\":\"x\",\"y\":[-95.0,-95.0,-117.5,-117.5],\"yaxis\":\"y\",\"type\":\"scatter\"},{\"hoverinfo\":\"text\",\"marker\":{\"color\":\"rgb(133,20,75)\"},\"mode\":\"lines\",\"x\":[0.6972340648848414,0.7506559018379018,0.7506559018379018,0.0],\"xaxis\":\"x\",\"y\":[-106.25,-106.25,-135.0,-135.0],\"yaxis\":\"y\",\"type\":\"scatter\"},{\"hoverinfo\":\"text\",\"marker\":{\"color\":\"rgb(133,20,75)\"},\"mode\":\"lines\",\"x\":[0.7506559018379018,0.984877925312261,0.984877925312261,0.0],\"xaxis\":\"x\",\"y\":[-120.625,-120.625,-145.0,-145.0],\"yaxis\":\"y\",\"type\":\"scatter\"},{\"hoverinfo\":\"text\",\"marker\":{\"color\":\"rgb(0,116,217)\"},\"mode\":\"lines\",\"x\":[1.003315438280615,1.0413277099782874,1.0413277099782874,0.984877925312261],\"xaxis\":\"x\",\"y\":[-57.5,-57.5,-132.8125,-132.8125],\"yaxis\":\"y\",\"type\":\"scatter\"},{\"hoverinfo\":\"text\",\"marker\":{\"color\":\"rgb(0,116,217)\"},\"mode\":\"lines\",\"x\":[0.9698002673804246,1.1069820148488287,1.1069820148488287,1.0413277099782874],\"xaxis\":\"x\",\"y\":[-12.5,-12.5,-95.15625,-95.15625],\"yaxis\":\"y\",\"type\":\"scatter\"}],                        {\"autosize\":false,\"height\":425,\"hovermode\":\"closest\",\"showlegend\":false,\"width\":1000,\"xaxis\":{\"mirror\":\"allticks\",\"rangemode\":\"tozero\",\"showgrid\":false,\"showline\":true,\"showticklabels\":true,\"ticks\":\"outside\",\"type\":\"linear\",\"zeroline\":false},\"yaxis\":{\"mirror\":\"allticks\",\"rangemode\":\"tozero\",\"showgrid\":false,\"showline\":true,\"showticklabels\":true,\"tickmode\":\"array\",\"ticks\":\"outside\",\"ticktext\":[\"Covid Safety Enforcement\",\"Ground Staff Service\",\"Wheelchair Assistance\",\"Seat Comfort\",\"Aircraft Cleanliness\",\"Cabin Crew Friendliness\",\"In-flight Entertainment\",\"In-Flight Meal Quality\",\"In-Flight Meal Quality\",\"Baggage Handling\",\"Flight Punctuality\",\"Customer Service Experience\",\"Check-in Experience\",\"Additional Fees and Charges\",\"Frequent Flyer Program\"],\"tickvals\":[-5.0,-15.0,-25.0,-35.0,-45.0,-55.0,-65.0,-75.0,-85.0,-95.0,-105.0,-115.0,-125.0,-135.0,-145.0],\"type\":\"linear\",\"zeroline\":false,\"range\":[-150.0,0.0]},\"template\":{\"data\":{\"barpolar\":[{\"marker\":{\"line\":{\"color\":\"white\",\"width\":0.5},\"pattern\":{\"fillmode\":\"overlay\",\"size\":10,\"solidity\":0.2}},\"type\":\"barpolar\"}],\"bar\":[{\"error_x\":{\"color\":\"#2a3f5f\"},\"error_y\":{\"color\":\"#2a3f5f\"},\"marker\":{\"line\":{\"color\":\"white\",\"width\":0.5},\"pattern\":{\"fillmode\":\"overlay\",\"size\":10,\"solidity\":0.2}},\"type\":\"bar\"}],\"carpet\":[{\"aaxis\":{\"endlinecolor\":\"#2a3f5f\",\"gridcolor\":\"#C8D4E3\",\"linecolor\":\"#C8D4E3\",\"minorgridcolor\":\"#C8D4E3\",\"startlinecolor\":\"#2a3f5f\"},\"baxis\":{\"endlinecolor\":\"#2a3f5f\",\"gridcolor\":\"#C8D4E3\",\"linecolor\":\"#C8D4E3\",\"minorgridcolor\":\"#C8D4E3\",\"startlinecolor\":\"#2a3f5f\"},\"type\":\"carpet\"}],\"choropleth\":[{\"colorbar\":{\"outlinewidth\":0,\"ticks\":\"\"},\"type\":\"choropleth\"}],\"contourcarpet\":[{\"colorbar\":{\"outlinewidth\":0,\"ticks\":\"\"},\"type\":\"contourcarpet\"}],\"contour\":[{\"colorbar\":{\"outlinewidth\":0,\"ticks\":\"\"},\"colorscale\":[[0.0,\"#0d0887\"],[0.1111111111111111,\"#46039f\"],[0.2222222222222222,\"#7201a8\"],[0.3333333333333333,\"#9c179e\"],[0.4444444444444444,\"#bd3786\"],[0.5555555555555556,\"#d8576b\"],[0.6666666666666666,\"#ed7953\"],[0.7777777777777778,\"#fb9f3a\"],[0.8888888888888888,\"#fdca26\"],[1.0,\"#f0f921\"]],\"type\":\"contour\"}],\"heatmapgl\":[{\"colorbar\":{\"outlinewidth\":0,\"ticks\":\"\"},\"colorscale\":[[0.0,\"#0d0887\"],[0.1111111111111111,\"#46039f\"],[0.2222222222222222,\"#7201a8\"],[0.3333333333333333,\"#9c179e\"],[0.4444444444444444,\"#bd3786\"],[0.5555555555555556,\"#d8576b\"],[0.6666666666666666,\"#ed7953\"],[0.7777777777777778,\"#fb9f3a\"],[0.8888888888888888,\"#fdca26\"],[1.0,\"#f0f921\"]],\"type\":\"heatmapgl\"}],\"heatmap\":[{\"colorbar\":{\"outlinewidth\":0,\"ticks\":\"\"},\"colorscale\":[[0.0,\"#0d0887\"],[0.1111111111111111,\"#46039f\"],[0.2222222222222222,\"#7201a8\"],[0.3333333333333333,\"#9c179e\"],[0.4444444444444444,\"#bd3786\"],[0.5555555555555556,\"#d8576b\"],[0.6666666666666666,\"#ed7953\"],[0.7777777777777778,\"#fb9f3a\"],[0.8888888888888888,\"#fdca26\"],[1.0,\"#f0f921\"]],\"type\":\"heatmap\"}],\"histogram2dcontour\":[{\"colorbar\":{\"outlinewidth\":0,\"ticks\":\"\"},\"colorscale\":[[0.0,\"#0d0887\"],[0.1111111111111111,\"#46039f\"],[0.2222222222222222,\"#7201a8\"],[0.3333333333333333,\"#9c179e\"],[0.4444444444444444,\"#bd3786\"],[0.5555555555555556,\"#d8576b\"],[0.6666666666666666,\"#ed7953\"],[0.7777777777777778,\"#fb9f3a\"],[0.8888888888888888,\"#fdca26\"],[1.0,\"#f0f921\"]],\"type\":\"histogram2dcontour\"}],\"histogram2d\":[{\"colorbar\":{\"outlinewidth\":0,\"ticks\":\"\"},\"colorscale\":[[0.0,\"#0d0887\"],[0.1111111111111111,\"#46039f\"],[0.2222222222222222,\"#7201a8\"],[0.3333333333333333,\"#9c179e\"],[0.4444444444444444,\"#bd3786\"],[0.5555555555555556,\"#d8576b\"],[0.6666666666666666,\"#ed7953\"],[0.7777777777777778,\"#fb9f3a\"],[0.8888888888888888,\"#fdca26\"],[1.0,\"#f0f921\"]],\"type\":\"histogram2d\"}],\"histogram\":[{\"marker\":{\"pattern\":{\"fillmode\":\"overlay\",\"size\":10,\"solidity\":0.2}},\"type\":\"histogram\"}],\"mesh3d\":[{\"colorbar\":{\"outlinewidth\":0,\"ticks\":\"\"},\"type\":\"mesh3d\"}],\"parcoords\":[{\"line\":{\"colorbar\":{\"outlinewidth\":0,\"ticks\":\"\"}},\"type\":\"parcoords\"}],\"pie\":[{\"automargin\":true,\"type\":\"pie\"}],\"scatter3d\":[{\"line\":{\"colorbar\":{\"outlinewidth\":0,\"ticks\":\"\"}},\"marker\":{\"colorbar\":{\"outlinewidth\":0,\"ticks\":\"\"}},\"type\":\"scatter3d\"}],\"scattercarpet\":[{\"marker\":{\"colorbar\":{\"outlinewidth\":0,\"ticks\":\"\"}},\"type\":\"scattercarpet\"}],\"scattergeo\":[{\"marker\":{\"colorbar\":{\"outlinewidth\":0,\"ticks\":\"\"}},\"type\":\"scattergeo\"}],\"scattergl\":[{\"marker\":{\"colorbar\":{\"outlinewidth\":0,\"ticks\":\"\"}},\"type\":\"scattergl\"}],\"scattermapbox\":[{\"marker\":{\"colorbar\":{\"outlinewidth\":0,\"ticks\":\"\"}},\"type\":\"scattermapbox\"}],\"scatterpolargl\":[{\"marker\":{\"colorbar\":{\"outlinewidth\":0,\"ticks\":\"\"}},\"type\":\"scatterpolargl\"}],\"scatterpolar\":[{\"marker\":{\"colorbar\":{\"outlinewidth\":0,\"ticks\":\"\"}},\"type\":\"scatterpolar\"}],\"scatter\":[{\"fillpattern\":{\"fillmode\":\"overlay\",\"size\":10,\"solidity\":0.2},\"type\":\"scatter\"}],\"scatterternary\":[{\"marker\":{\"colorbar\":{\"outlinewidth\":0,\"ticks\":\"\"}},\"type\":\"scatterternary\"}],\"surface\":[{\"colorbar\":{\"outlinewidth\":0,\"ticks\":\"\"},\"colorscale\":[[0.0,\"#0d0887\"],[0.1111111111111111,\"#46039f\"],[0.2222222222222222,\"#7201a8\"],[0.3333333333333333,\"#9c179e\"],[0.4444444444444444,\"#bd3786\"],[0.5555555555555556,\"#d8576b\"],[0.6666666666666666,\"#ed7953\"],[0.7777777777777778,\"#fb9f3a\"],[0.8888888888888888,\"#fdca26\"],[1.0,\"#f0f921\"]],\"type\":\"surface\"}],\"table\":[{\"cells\":{\"fill\":{\"color\":\"#EBF0F8\"},\"line\":{\"color\":\"white\"}},\"header\":{\"fill\":{\"color\":\"#C8D4E3\"},\"line\":{\"color\":\"white\"}},\"type\":\"table\"}]},\"layout\":{\"annotationdefaults\":{\"arrowcolor\":\"#2a3f5f\",\"arrowhead\":0,\"arrowwidth\":1},\"autotypenumbers\":\"strict\",\"coloraxis\":{\"colorbar\":{\"outlinewidth\":0,\"ticks\":\"\"}},\"colorscale\":{\"diverging\":[[0,\"#8e0152\"],[0.1,\"#c51b7d\"],[0.2,\"#de77ae\"],[0.3,\"#f1b6da\"],[0.4,\"#fde0ef\"],[0.5,\"#f7f7f7\"],[0.6,\"#e6f5d0\"],[0.7,\"#b8e186\"],[0.8,\"#7fbc41\"],[0.9,\"#4d9221\"],[1,\"#276419\"]],\"sequential\":[[0.0,\"#0d0887\"],[0.1111111111111111,\"#46039f\"],[0.2222222222222222,\"#7201a8\"],[0.3333333333333333,\"#9c179e\"],[0.4444444444444444,\"#bd3786\"],[0.5555555555555556,\"#d8576b\"],[0.6666666666666666,\"#ed7953\"],[0.7777777777777778,\"#fb9f3a\"],[0.8888888888888888,\"#fdca26\"],[1.0,\"#f0f921\"]],\"sequentialminus\":[[0.0,\"#0d0887\"],[0.1111111111111111,\"#46039f\"],[0.2222222222222222,\"#7201a8\"],[0.3333333333333333,\"#9c179e\"],[0.4444444444444444,\"#bd3786\"],[0.5555555555555556,\"#d8576b\"],[0.6666666666666666,\"#ed7953\"],[0.7777777777777778,\"#fb9f3a\"],[0.8888888888888888,\"#fdca26\"],[1.0,\"#f0f921\"]]},\"colorway\":[\"#636efa\",\"#EF553B\",\"#00cc96\",\"#ab63fa\",\"#FFA15A\",\"#19d3f3\",\"#FF6692\",\"#B6E880\",\"#FF97FF\",\"#FECB52\"],\"font\":{\"color\":\"#2a3f5f\"},\"geo\":{\"bgcolor\":\"white\",\"lakecolor\":\"white\",\"landcolor\":\"white\",\"showlakes\":true,\"showland\":true,\"subunitcolor\":\"#C8D4E3\"},\"hoverlabel\":{\"align\":\"left\"},\"hovermode\":\"closest\",\"mapbox\":{\"style\":\"light\"},\"paper_bgcolor\":\"white\",\"plot_bgcolor\":\"white\",\"polar\":{\"angularaxis\":{\"gridcolor\":\"#EBF0F8\",\"linecolor\":\"#EBF0F8\",\"ticks\":\"\"},\"bgcolor\":\"white\",\"radialaxis\":{\"gridcolor\":\"#EBF0F8\",\"linecolor\":\"#EBF0F8\",\"ticks\":\"\"}},\"scene\":{\"xaxis\":{\"backgroundcolor\":\"white\",\"gridcolor\":\"#DFE8F3\",\"gridwidth\":2,\"linecolor\":\"#EBF0F8\",\"showbackground\":true,\"ticks\":\"\",\"zerolinecolor\":\"#EBF0F8\"},\"yaxis\":{\"backgroundcolor\":\"white\",\"gridcolor\":\"#DFE8F3\",\"gridwidth\":2,\"linecolor\":\"#EBF0F8\",\"showbackground\":true,\"ticks\":\"\",\"zerolinecolor\":\"#EBF0F8\"},\"zaxis\":{\"backgroundcolor\":\"white\",\"gridcolor\":\"#DFE8F3\",\"gridwidth\":2,\"linecolor\":\"#EBF0F8\",\"showbackground\":true,\"ticks\":\"\",\"zerolinecolor\":\"#EBF0F8\"}},\"shapedefaults\":{\"line\":{\"color\":\"#2a3f5f\"}},\"ternary\":{\"aaxis\":{\"gridcolor\":\"#DFE8F3\",\"linecolor\":\"#A2B1C6\",\"ticks\":\"\"},\"baxis\":{\"gridcolor\":\"#DFE8F3\",\"linecolor\":\"#A2B1C6\",\"ticks\":\"\"},\"bgcolor\":\"white\",\"caxis\":{\"gridcolor\":\"#DFE8F3\",\"linecolor\":\"#A2B1C6\",\"ticks\":\"\"}},\"title\":{\"x\":0.05},\"xaxis\":{\"automargin\":true,\"gridcolor\":\"#EBF0F8\",\"linecolor\":\"#EBF0F8\",\"ticks\":\"\",\"title\":{\"standoff\":15},\"zerolinecolor\":\"#EBF0F8\",\"zerolinewidth\":2},\"yaxis\":{\"automargin\":true,\"gridcolor\":\"#EBF0F8\",\"linecolor\":\"#EBF0F8\",\"ticks\":\"\",\"title\":{\"standoff\":15},\"zerolinecolor\":\"#EBF0F8\",\"zerolinewidth\":2}}},\"title\":{\"font\":{\"size\":22,\"color\":\"Black\"},\"text\":\"<b>Hierarchical Clustering</b>\",\"x\":0.5,\"xanchor\":\"center\",\"yanchor\":\"top\"},\"hoverlabel\":{\"font\":{\"size\":16,\"family\":\"Rockwell\"},\"bgcolor\":\"white\"},\"plot_bgcolor\":\"#ECEFF1\"},                        {\"responsive\": true}                    )                };                            </script>        </div>\n",
       "</body>\n",
       "</html>"
      ]
     },
     "metadata": {},
     "output_type": "display_data"
    }
   ],
   "source": [
    "topic_model.visualize_hierarchy(custom_labels=True)"
   ]
  },
  {
   "cell_type": "code",
   "execution_count": 0,
   "metadata": {
    "application/vnd.databricks.v1+cell": {
     "cellMetadata": {
      "byteLimit": 2048000,
      "rowLimit": 10000
     },
     "inputWidgets": {},
     "nuid": "c1331505-f749-493d-b2ae-3ef3fea29ae5",
     "showTitle": false,
     "tableResultSettingsMap": {},
     "title": ""
    }
   },
   "outputs": [
    {
     "output_type": "display_data",
     "data": {
      "text/html": [
       "<html>\n",
       "<head><meta charset=\"utf-8\" /></head>\n",
       "<body>\n",
       "    <div>            <script src=\"https://cdnjs.cloudflare.com/ajax/libs/mathjax/2.7.5/MathJax.js?config=TeX-AMS-MML_SVG\"></script><script type=\"text/javascript\">if (window.MathJax && window.MathJax.Hub && window.MathJax.Hub.Config) {window.MathJax.Hub.Config({SVG: {font: \"STIX-Web\"}});}</script>                <script type=\"text/javascript\">window.PlotlyConfig = {MathJaxConfig: 'local'};</script>\n",
       "        <script src=\"https://cdn.plot.ly/plotly-2.12.1.min.js\"></script>                <div id=\"2a5cc825-f2ea-42e2-94e9-05881a4a8eec\" class=\"plotly-graph-div\" style=\"height:425px; width:1000px;\"></div>            <script type=\"text/javascript\">                                    window.PLOTLYENV=window.PLOTLYENV || {};                                    if (document.getElementById(\"2a5cc825-f2ea-42e2-94e9-05881a4a8eec\")) {                    Plotly.newPlot(                        \"2a5cc825-f2ea-42e2-94e9-05881a4a8eec\",                        [{\"hoverinfo\":\"text\",\"marker\":{\"color\":\"rgb(61,153,112)\"},\"mode\":\"lines\",\"x\":[0.0,0.8251067648670074,0.8251067648670074,0.0],\"xaxis\":\"x\",\"y\":[-15.0,-15.0,-25.0,-25.0],\"yaxis\":\"y\",\"type\":\"scatter\"},{\"hoverinfo\":\"text\",\"marker\":{\"color\":\"rgb(61,153,112)\"},\"mode\":\"lines\",\"x\":[0.0,0.9698002673804246,0.9698002673804246,0.8251067648670074],\"xaxis\":\"x\",\"y\":[-5.0,-5.0,-20.0,-20.0],\"yaxis\":\"y\",\"type\":\"scatter\"},{\"hoverinfo\":\"text\",\"marker\":{\"color\":\"rgb(255,65,54)\"},\"mode\":\"lines\",\"x\":[0.0,0.618367753043034,0.618367753043034,0.0],\"xaxis\":\"x\",\"y\":[-45.0,-45.0,-55.0,-55.0],\"yaxis\":\"y\",\"type\":\"scatter\"},{\"hoverinfo\":\"text\",\"marker\":{\"color\":\"rgb(255,65,54)\"},\"mode\":\"lines\",\"x\":[0.0,0.8190269214520833,0.8190269214520833,0.618367753043034],\"xaxis\":\"x\",\"y\":[-35.0,-35.0,-50.0,-50.0],\"yaxis\":\"y\",\"type\":\"scatter\"},{\"hoverinfo\":\"text\",\"marker\":{\"color\":\"rgb(35,205,205)\"},\"mode\":\"lines\",\"x\":[0.0,0.22592550284448554,0.22592550284448554,0.0],\"xaxis\":\"x\",\"y\":[-75.0,-75.0,-85.0,-85.0],\"yaxis\":\"y\",\"type\":\"scatter\"},{\"hoverinfo\":\"text\",\"marker\":{\"color\":\"rgb(35,205,205)\"},\"mode\":\"lines\",\"x\":[0.0,0.7738225662154908,0.7738225662154908,0.22592550284448554],\"xaxis\":\"x\",\"y\":[-65.0,-65.0,-80.0,-80.0],\"yaxis\":\"y\",\"type\":\"scatter\"},{\"hoverinfo\":\"text\",\"marker\":{\"color\":\"rgb(0,116,217)\"},\"mode\":\"lines\",\"x\":[0.8190269214520833,1.003315438280615,1.003315438280615,0.7738225662154908],\"xaxis\":\"x\",\"y\":[-42.5,-42.5,-72.5,-72.5],\"yaxis\":\"y\",\"type\":\"scatter\"},{\"hoverinfo\":\"text\",\"marker\":{\"color\":\"rgb(133,20,75)\"},\"mode\":\"lines\",\"x\":[0.0,0.29783045300270194,0.29783045300270194,0.0],\"xaxis\":\"x\",\"y\":[-105.0,-105.0,-115.0,-115.0],\"yaxis\":\"y\",\"type\":\"scatter\"},{\"hoverinfo\":\"text\",\"marker\":{\"color\":\"rgb(133,20,75)\"},\"mode\":\"lines\",\"x\":[0.29783045300270194,0.5303503328187289,0.5303503328187289,0.0],\"xaxis\":\"x\",\"y\":[-110.0,-110.0,-125.0,-125.0],\"yaxis\":\"y\",\"type\":\"scatter\"},{\"hoverinfo\":\"text\",\"marker\":{\"color\":\"rgb(133,20,75)\"},\"mode\":\"lines\",\"x\":[0.0,0.6972340648848414,0.6972340648848414,0.5303503328187289],\"xaxis\":\"x\",\"y\":[-95.0,-95.0,-117.5,-117.5],\"yaxis\":\"y\",\"type\":\"scatter\"},{\"hoverinfo\":\"text\",\"marker\":{\"color\":\"rgb(133,20,75)\"},\"mode\":\"lines\",\"x\":[0.6972340648848414,0.7506559018379018,0.7506559018379018,0.0],\"xaxis\":\"x\",\"y\":[-106.25,-106.25,-135.0,-135.0],\"yaxis\":\"y\",\"type\":\"scatter\"},{\"hoverinfo\":\"text\",\"marker\":{\"color\":\"rgb(133,20,75)\"},\"mode\":\"lines\",\"x\":[0.7506559018379018,0.984877925312261,0.984877925312261,0.0],\"xaxis\":\"x\",\"y\":[-120.625,-120.625,-145.0,-145.0],\"yaxis\":\"y\",\"type\":\"scatter\"},{\"hoverinfo\":\"text\",\"marker\":{\"color\":\"rgb(0,116,217)\"},\"mode\":\"lines\",\"x\":[1.003315438280615,1.0413277099782874,1.0413277099782874,0.984877925312261],\"xaxis\":\"x\",\"y\":[-57.5,-57.5,-132.8125,-132.8125],\"yaxis\":\"y\",\"type\":\"scatter\"},{\"hoverinfo\":\"text\",\"marker\":{\"color\":\"rgb(0,116,217)\"},\"mode\":\"lines\",\"x\":[0.9698002673804246,1.1069820148488287,1.1069820148488287,1.0413277099782874],\"xaxis\":\"x\",\"y\":[-12.5,-12.5,-95.15625,-95.15625],\"yaxis\":\"y\",\"type\":\"scatter\"}],                        {\"autosize\":false,\"height\":425,\"hovermode\":\"closest\",\"showlegend\":false,\"width\":1000,\"xaxis\":{\"mirror\":\"allticks\",\"rangemode\":\"tozero\",\"showgrid\":false,\"showline\":true,\"showticklabels\":true,\"ticks\":\"outside\",\"type\":\"linear\",\"zeroline\":false},\"yaxis\":{\"mirror\":\"allticks\",\"rangemode\":\"tozero\",\"showgrid\":false,\"showline\":true,\"showticklabels\":true,\"tickmode\":\"array\",\"ticks\":\"outside\",\"ticktext\":[\"10_safety_covid_precautions\",\"11_ground_staff_service\",\"12_assistance_wheelchair_wh...\",\"1_comfort_seat_seats\",\"3_cleanliness_cabin_clean\",\"5_crew_service_cabin\",\"2_entertainment_flight_in\",\"13_food_meal_quality\",\"4_food_quality_and\",\"6_baggage_luggage_handling\",\"7_flight_the_to\",\"14_the_to_customer\",\"0_check_in_boarding\",\"9_pricing_for_ticket\",\"8_loyalty_program_flyer\"],\"tickvals\":[-5.0,-15.0,-25.0,-35.0,-45.0,-55.0,-65.0,-75.0,-85.0,-95.0,-105.0,-115.0,-125.0,-135.0,-145.0],\"type\":\"linear\",\"zeroline\":false,\"range\":[-150.0,0.0]},\"template\":{\"data\":{\"barpolar\":[{\"marker\":{\"line\":{\"color\":\"white\",\"width\":0.5},\"pattern\":{\"fillmode\":\"overlay\",\"size\":10,\"solidity\":0.2}},\"type\":\"barpolar\"}],\"bar\":[{\"error_x\":{\"color\":\"#2a3f5f\"},\"error_y\":{\"color\":\"#2a3f5f\"},\"marker\":{\"line\":{\"color\":\"white\",\"width\":0.5},\"pattern\":{\"fillmode\":\"overlay\",\"size\":10,\"solidity\":0.2}},\"type\":\"bar\"}],\"carpet\":[{\"aaxis\":{\"endlinecolor\":\"#2a3f5f\",\"gridcolor\":\"#C8D4E3\",\"linecolor\":\"#C8D4E3\",\"minorgridcolor\":\"#C8D4E3\",\"startlinecolor\":\"#2a3f5f\"},\"baxis\":{\"endlinecolor\":\"#2a3f5f\",\"gridcolor\":\"#C8D4E3\",\"linecolor\":\"#C8D4E3\",\"minorgridcolor\":\"#C8D4E3\",\"startlinecolor\":\"#2a3f5f\"},\"type\":\"carpet\"}],\"choropleth\":[{\"colorbar\":{\"outlinewidth\":0,\"ticks\":\"\"},\"type\":\"choropleth\"}],\"contourcarpet\":[{\"colorbar\":{\"outlinewidth\":0,\"ticks\":\"\"},\"type\":\"contourcarpet\"}],\"contour\":[{\"colorbar\":{\"outlinewidth\":0,\"ticks\":\"\"},\"colorscale\":[[0.0,\"#0d0887\"],[0.1111111111111111,\"#46039f\"],[0.2222222222222222,\"#7201a8\"],[0.3333333333333333,\"#9c179e\"],[0.4444444444444444,\"#bd3786\"],[0.5555555555555556,\"#d8576b\"],[0.6666666666666666,\"#ed7953\"],[0.7777777777777778,\"#fb9f3a\"],[0.8888888888888888,\"#fdca26\"],[1.0,\"#f0f921\"]],\"type\":\"contour\"}],\"heatmapgl\":[{\"colorbar\":{\"outlinewidth\":0,\"ticks\":\"\"},\"colorscale\":[[0.0,\"#0d0887\"],[0.1111111111111111,\"#46039f\"],[0.2222222222222222,\"#7201a8\"],[0.3333333333333333,\"#9c179e\"],[0.4444444444444444,\"#bd3786\"],[0.5555555555555556,\"#d8576b\"],[0.6666666666666666,\"#ed7953\"],[0.7777777777777778,\"#fb9f3a\"],[0.8888888888888888,\"#fdca26\"],[1.0,\"#f0f921\"]],\"type\":\"heatmapgl\"}],\"heatmap\":[{\"colorbar\":{\"outlinewidth\":0,\"ticks\":\"\"},\"colorscale\":[[0.0,\"#0d0887\"],[0.1111111111111111,\"#46039f\"],[0.2222222222222222,\"#7201a8\"],[0.3333333333333333,\"#9c179e\"],[0.4444444444444444,\"#bd3786\"],[0.5555555555555556,\"#d8576b\"],[0.6666666666666666,\"#ed7953\"],[0.7777777777777778,\"#fb9f3a\"],[0.8888888888888888,\"#fdca26\"],[1.0,\"#f0f921\"]],\"type\":\"heatmap\"}],\"histogram2dcontour\":[{\"colorbar\":{\"outlinewidth\":0,\"ticks\":\"\"},\"colorscale\":[[0.0,\"#0d0887\"],[0.1111111111111111,\"#46039f\"],[0.2222222222222222,\"#7201a8\"],[0.3333333333333333,\"#9c179e\"],[0.4444444444444444,\"#bd3786\"],[0.5555555555555556,\"#d8576b\"],[0.6666666666666666,\"#ed7953\"],[0.7777777777777778,\"#fb9f3a\"],[0.8888888888888888,\"#fdca26\"],[1.0,\"#f0f921\"]],\"type\":\"histogram2dcontour\"}],\"histogram2d\":[{\"colorbar\":{\"outlinewidth\":0,\"ticks\":\"\"},\"colorscale\":[[0.0,\"#0d0887\"],[0.1111111111111111,\"#46039f\"],[0.2222222222222222,\"#7201a8\"],[0.3333333333333333,\"#9c179e\"],[0.4444444444444444,\"#bd3786\"],[0.5555555555555556,\"#d8576b\"],[0.6666666666666666,\"#ed7953\"],[0.7777777777777778,\"#fb9f3a\"],[0.8888888888888888,\"#fdca26\"],[1.0,\"#f0f921\"]],\"type\":\"histogram2d\"}],\"histogram\":[{\"marker\":{\"pattern\":{\"fillmode\":\"overlay\",\"size\":10,\"solidity\":0.2}},\"type\":\"histogram\"}],\"mesh3d\":[{\"colorbar\":{\"outlinewidth\":0,\"ticks\":\"\"},\"type\":\"mesh3d\"}],\"parcoords\":[{\"line\":{\"colorbar\":{\"outlinewidth\":0,\"ticks\":\"\"}},\"type\":\"parcoords\"}],\"pie\":[{\"automargin\":true,\"type\":\"pie\"}],\"scatter3d\":[{\"line\":{\"colorbar\":{\"outlinewidth\":0,\"ticks\":\"\"}},\"marker\":{\"colorbar\":{\"outlinewidth\":0,\"ticks\":\"\"}},\"type\":\"scatter3d\"}],\"scattercarpet\":[{\"marker\":{\"colorbar\":{\"outlinewidth\":0,\"ticks\":\"\"}},\"type\":\"scattercarpet\"}],\"scattergeo\":[{\"marker\":{\"colorbar\":{\"outlinewidth\":0,\"ticks\":\"\"}},\"type\":\"scattergeo\"}],\"scattergl\":[{\"marker\":{\"colorbar\":{\"outlinewidth\":0,\"ticks\":\"\"}},\"type\":\"scattergl\"}],\"scattermapbox\":[{\"marker\":{\"colorbar\":{\"outlinewidth\":0,\"ticks\":\"\"}},\"type\":\"scattermapbox\"}],\"scatterpolargl\":[{\"marker\":{\"colorbar\":{\"outlinewidth\":0,\"ticks\":\"\"}},\"type\":\"scatterpolargl\"}],\"scatterpolar\":[{\"marker\":{\"colorbar\":{\"outlinewidth\":0,\"ticks\":\"\"}},\"type\":\"scatterpolar\"}],\"scatter\":[{\"fillpattern\":{\"fillmode\":\"overlay\",\"size\":10,\"solidity\":0.2},\"type\":\"scatter\"}],\"scatterternary\":[{\"marker\":{\"colorbar\":{\"outlinewidth\":0,\"ticks\":\"\"}},\"type\":\"scatterternary\"}],\"surface\":[{\"colorbar\":{\"outlinewidth\":0,\"ticks\":\"\"},\"colorscale\":[[0.0,\"#0d0887\"],[0.1111111111111111,\"#46039f\"],[0.2222222222222222,\"#7201a8\"],[0.3333333333333333,\"#9c179e\"],[0.4444444444444444,\"#bd3786\"],[0.5555555555555556,\"#d8576b\"],[0.6666666666666666,\"#ed7953\"],[0.7777777777777778,\"#fb9f3a\"],[0.8888888888888888,\"#fdca26\"],[1.0,\"#f0f921\"]],\"type\":\"surface\"}],\"table\":[{\"cells\":{\"fill\":{\"color\":\"#EBF0F8\"},\"line\":{\"color\":\"white\"}},\"header\":{\"fill\":{\"color\":\"#C8D4E3\"},\"line\":{\"color\":\"white\"}},\"type\":\"table\"}]},\"layout\":{\"annotationdefaults\":{\"arrowcolor\":\"#2a3f5f\",\"arrowhead\":0,\"arrowwidth\":1},\"autotypenumbers\":\"strict\",\"coloraxis\":{\"colorbar\":{\"outlinewidth\":0,\"ticks\":\"\"}},\"colorscale\":{\"diverging\":[[0,\"#8e0152\"],[0.1,\"#c51b7d\"],[0.2,\"#de77ae\"],[0.3,\"#f1b6da\"],[0.4,\"#fde0ef\"],[0.5,\"#f7f7f7\"],[0.6,\"#e6f5d0\"],[0.7,\"#b8e186\"],[0.8,\"#7fbc41\"],[0.9,\"#4d9221\"],[1,\"#276419\"]],\"sequential\":[[0.0,\"#0d0887\"],[0.1111111111111111,\"#46039f\"],[0.2222222222222222,\"#7201a8\"],[0.3333333333333333,\"#9c179e\"],[0.4444444444444444,\"#bd3786\"],[0.5555555555555556,\"#d8576b\"],[0.6666666666666666,\"#ed7953\"],[0.7777777777777778,\"#fb9f3a\"],[0.8888888888888888,\"#fdca26\"],[1.0,\"#f0f921\"]],\"sequentialminus\":[[0.0,\"#0d0887\"],[0.1111111111111111,\"#46039f\"],[0.2222222222222222,\"#7201a8\"],[0.3333333333333333,\"#9c179e\"],[0.4444444444444444,\"#bd3786\"],[0.5555555555555556,\"#d8576b\"],[0.6666666666666666,\"#ed7953\"],[0.7777777777777778,\"#fb9f3a\"],[0.8888888888888888,\"#fdca26\"],[1.0,\"#f0f921\"]]},\"colorway\":[\"#636efa\",\"#EF553B\",\"#00cc96\",\"#ab63fa\",\"#FFA15A\",\"#19d3f3\",\"#FF6692\",\"#B6E880\",\"#FF97FF\",\"#FECB52\"],\"font\":{\"color\":\"#2a3f5f\"},\"geo\":{\"bgcolor\":\"white\",\"lakecolor\":\"white\",\"landcolor\":\"white\",\"showlakes\":true,\"showland\":true,\"subunitcolor\":\"#C8D4E3\"},\"hoverlabel\":{\"align\":\"left\"},\"hovermode\":\"closest\",\"mapbox\":{\"style\":\"light\"},\"paper_bgcolor\":\"white\",\"plot_bgcolor\":\"white\",\"polar\":{\"angularaxis\":{\"gridcolor\":\"#EBF0F8\",\"linecolor\":\"#EBF0F8\",\"ticks\":\"\"},\"bgcolor\":\"white\",\"radialaxis\":{\"gridcolor\":\"#EBF0F8\",\"linecolor\":\"#EBF0F8\",\"ticks\":\"\"}},\"scene\":{\"xaxis\":{\"backgroundcolor\":\"white\",\"gridcolor\":\"#DFE8F3\",\"gridwidth\":2,\"linecolor\":\"#EBF0F8\",\"showbackground\":true,\"ticks\":\"\",\"zerolinecolor\":\"#EBF0F8\"},\"yaxis\":{\"backgroundcolor\":\"white\",\"gridcolor\":\"#DFE8F3\",\"gridwidth\":2,\"linecolor\":\"#EBF0F8\",\"showbackground\":true,\"ticks\":\"\",\"zerolinecolor\":\"#EBF0F8\"},\"zaxis\":{\"backgroundcolor\":\"white\",\"gridcolor\":\"#DFE8F3\",\"gridwidth\":2,\"linecolor\":\"#EBF0F8\",\"showbackground\":true,\"ticks\":\"\",\"zerolinecolor\":\"#EBF0F8\"}},\"shapedefaults\":{\"line\":{\"color\":\"#2a3f5f\"}},\"ternary\":{\"aaxis\":{\"gridcolor\":\"#DFE8F3\",\"linecolor\":\"#A2B1C6\",\"ticks\":\"\"},\"baxis\":{\"gridcolor\":\"#DFE8F3\",\"linecolor\":\"#A2B1C6\",\"ticks\":\"\"},\"bgcolor\":\"white\",\"caxis\":{\"gridcolor\":\"#DFE8F3\",\"linecolor\":\"#A2B1C6\",\"ticks\":\"\"}},\"title\":{\"x\":0.05},\"xaxis\":{\"automargin\":true,\"gridcolor\":\"#EBF0F8\",\"linecolor\":\"#EBF0F8\",\"ticks\":\"\",\"title\":{\"standoff\":15},\"zerolinecolor\":\"#EBF0F8\",\"zerolinewidth\":2},\"yaxis\":{\"automargin\":true,\"gridcolor\":\"#EBF0F8\",\"linecolor\":\"#EBF0F8\",\"ticks\":\"\",\"title\":{\"standoff\":15},\"zerolinecolor\":\"#EBF0F8\",\"zerolinewidth\":2}}},\"title\":{\"font\":{\"size\":22,\"color\":\"Black\"},\"text\":\"<b>Hierarchical Clustering</b>\",\"x\":0.5,\"xanchor\":\"center\",\"yanchor\":\"top\"},\"hoverlabel\":{\"font\":{\"size\":16,\"family\":\"Rockwell\"},\"bgcolor\":\"white\"},\"plot_bgcolor\":\"#ECEFF1\"},                        {\"responsive\": true}                    )                };                            </script>        </div>\n",
       "</body>\n",
       "</html>"
      ]
     },
     "metadata": {},
     "output_type": "display_data"
    }
   ],
   "source": [
    "# Visualize hierarchy with custom labels\n",
    "topic_model.visualize_hierarchy()#custom_labels=True)"
   ]
  },
  {
   "cell_type": "code",
   "execution_count": 0,
   "metadata": {
    "application/vnd.databricks.v1+cell": {
     "cellMetadata": {
      "byteLimit": 2048000,
      "rowLimit": 10000
     },
     "inputWidgets": {},
     "nuid": "2b53a3a5-8e96-49e9-b1bf-64ce853c0df5",
     "showTitle": false,
     "tableResultSettingsMap": {},
     "title": ""
    }
   },
   "outputs": [
    {
     "output_type": "display_data",
     "data": {
      "text/html": [
       "<html>\n",
       "<head><meta charset=\"utf-8\" /></head>\n",
       "<body>\n",
       "    <div>            <script src=\"https://cdnjs.cloudflare.com/ajax/libs/mathjax/2.7.5/MathJax.js?config=TeX-AMS-MML_SVG\"></script><script type=\"text/javascript\">if (window.MathJax && window.MathJax.Hub && window.MathJax.Hub.Config) {window.MathJax.Hub.Config({SVG: {font: \"STIX-Web\"}});}</script>                <script type=\"text/javascript\">window.PlotlyConfig = {MathJaxConfig: 'local'};</script>\n",
       "        <script src=\"https://cdn.plot.ly/plotly-2.12.1.min.js\"></script>                <div id=\"93649145-e4fb-43f0-bc3d-ac06381f77d8\" class=\"plotly-graph-div\" style=\"height:800px; width:800px;\"></div>            <script type=\"text/javascript\">                                    window.PLOTLYENV=window.PLOTLYENV || {};                                    if (document.getElementById(\"93649145-e4fb-43f0-bc3d-ac06381f77d8\")) {                    Plotly.newPlot(                        \"93649145-e4fb-43f0-bc3d-ac06381f77d8\",                        [{\"coloraxis\":\"coloraxis\",\"name\":\"0\",\"x\":[\"0_check_in_boarding\",\"1_comfort_seat_seats\",\"2_entertainment_flight_in\",\"3_cleanliness_cabin_clean\",\"4_food_quality_and\",\"5_crew_service_cabin\",\"6_baggage_luggage_handling\",\"7_flight_the_to\",\"8_loyalty_program_flyer\",\"9_pricing_for_ticket\",\"10_safety_covid_precautions\",\"11_ground_staff_service\",\"12_assistance_wheelchair_wh...\",\"13_food_meal_quality\",\"14_the_to_customer\"],\"y\":[\"0_check_in_boarding\",\"1_comfort_seat_seats\",\"2_entertainment_flight_in\",\"3_cleanliness_cabin_clean\",\"4_food_quality_and\",\"5_crew_service_cabin\",\"6_baggage_luggage_handling\",\"7_flight_the_to\",\"8_loyalty_program_flyer\",\"9_pricing_for_ticket\",\"10_safety_covid_precautions\",\"11_ground_staff_service\",\"12_assistance_wheelchair_wh...\",\"13_food_meal_quality\",\"14_the_to_customer\"],\"z\":[[0.9999999999999993,0.8622646637963951,0.9039416943061891,0.901625740678113,0.8785370535175403,0.903488343620179,0.8687717633803055,0.9201592838320772,0.8992329196568891,0.8622274643086321,0.8901559428356954,0.8867417915450397,0.8871933409657556,0.9038833822353138,0.9433863347499837],[0.8622646637963951,0.9999999999999997,0.8409117392090988,0.8548526063214172,0.8156874233697056,0.8660693146983637,0.8158263167786819,0.8332205418451312,0.8249126973172167,0.8171356303926779,0.819996462328308,0.8322894774091883,0.8749068963864113,0.8427669877341677,0.8540000973458899],[0.9039416943061891,0.8409117392090988,1.0,0.8848034387589738,0.8658168617053663,0.8828086665575939,0.8390109102159736,0.9024553543629368,0.8698432513642804,0.8285293090383762,0.8504289635864677,0.8630714166100077,0.856600741380659,0.87402616391306,0.8930384806163923],[0.901625740678113,0.8548526063214172,0.8848034387589738,0.9999999999999997,0.8648809003896332,0.9095670671700863,0.875558690781213,0.8840813986004643,0.8503074570116589,0.8169966493126842,0.8605609574863899,0.8734697100314288,0.8716657263208611,0.8834507962696576,0.8886426164063457],[0.8785370535175403,0.8156874233697056,0.8658168617053663,0.8648809003896332,0.9999999999999991,0.8433972207729369,0.8311772159662469,0.8543811131676307,0.8559648500015754,0.8055684436841644,0.8339771299934197,0.8298725821295817,0.8445883332174601,0.9689455072222397,0.8835483317064082],[0.903488343620179,0.8660693146983637,0.8828086665575939,0.9095670671700863,0.8433972207729369,0.9999999999999992,0.8654238769142916,0.8926802721823313,0.8757285481349426,0.8440791803970049,0.8815373551704461,0.9070584836832023,0.8967509306174696,0.8680869354210323,0.9200723229914939],[0.8687717633803055,0.8158263167786819,0.8390109102159736,0.875558690781213,0.8311772159662469,0.8654238769142916,0.9999999999999996,0.8698374589281581,0.8302985824728752,0.8176381234328631,0.8357379996369152,0.8458958383797431,0.8645383636701012,0.8430993628797959,0.8696961584590066],[0.9201592838320772,0.8332205418451312,0.9024553543629368,0.8840813986004643,0.8543811131676307,0.8926802721823313,0.8698374589281581,1.0,0.8839959214945776,0.8481512835854328,0.8601149563234035,0.8774948748607576,0.8737022736010409,0.8924975508650093,0.9377196316697822],[0.8992329196568891,0.8249126973172167,0.8698432513642804,0.8503074570116589,0.8559648500015754,0.8757285481349426,0.8302985824728752,0.8839959214945776,1.0,0.8623492676240233,0.8564285588288547,0.8391457445624132,0.8690490869499032,0.8757275906136197,0.9129246447571007],[0.8622274643086321,0.8171356303926779,0.8285293090383762,0.8169966493126842,0.8055684436841644,0.8440791803970049,0.8176381234328631,0.8481512835854328,0.8623492676240233,0.9999999999999996,0.8349723401935236,0.8340304235724987,0.8388521155156748,0.8268378747086187,0.8790551806180263],[0.8901559428356954,0.819996462328308,0.8504289635864677,0.8605609574863899,0.8339771299934197,0.8815373551704461,0.8357379996369152,0.8601149563234035,0.8564285588288547,0.8349723401935236,1.0,0.869546173891209,0.8541652234371689,0.8465032837004729,0.8804237908762278],[0.8867417915450397,0.8322894774091883,0.8630714166100077,0.8734697100314288,0.8298725821295817,0.9070584836832023,0.8458958383797431,0.8774948748607576,0.8391457445624132,0.8340304235724987,0.869546173891209,1.0,0.8703252871550663,0.8530587898886217,0.9009655306931657],[0.8871933409657556,0.8749068963864113,0.856600741380659,0.8716657263208611,0.8445883332174601,0.8967509306174696,0.8645383636701012,0.8737022736010409,0.8690490869499032,0.8388521155156748,0.8541652234371689,0.8703252871550663,1.0000000000000002,0.8549489099007693,0.892080637136327],[0.9038833822353138,0.8427669877341677,0.87402616391306,0.8834507962696576,0.9689455072222397,0.8680869354210323,0.8430993628797959,0.8924975508650093,0.8757275906136197,0.8268378747086187,0.8465032837004729,0.8530587898886217,0.8549489099007693,1.0000000000000007,0.9110972290044752],[0.9433863347499837,0.8540000973458899,0.8930384806163923,0.8886426164063457,0.8835483317064082,0.9200723229914939,0.8696961584590066,0.9377196316697822,0.9129246447571007,0.8790551806180263,0.8804237908762278,0.9009655306931657,0.892080637136327,0.9110972290044752,1.0000000000000004]],\"type\":\"heatmap\",\"xaxis\":\"x\",\"yaxis\":\"y\",\"hovertemplate\":\"x: %{x}<br>y: %{y}<br>Similarity Score: %{z}<extra></extra>\"}],                        {\"template\":{\"data\":{\"histogram2dcontour\":[{\"type\":\"histogram2dcontour\",\"colorbar\":{\"outlinewidth\":0,\"ticks\":\"\"},\"colorscale\":[[0.0,\"#0d0887\"],[0.1111111111111111,\"#46039f\"],[0.2222222222222222,\"#7201a8\"],[0.3333333333333333,\"#9c179e\"],[0.4444444444444444,\"#bd3786\"],[0.5555555555555556,\"#d8576b\"],[0.6666666666666666,\"#ed7953\"],[0.7777777777777778,\"#fb9f3a\"],[0.8888888888888888,\"#fdca26\"],[1.0,\"#f0f921\"]]}],\"choropleth\":[{\"type\":\"choropleth\",\"colorbar\":{\"outlinewidth\":0,\"ticks\":\"\"}}],\"histogram2d\":[{\"type\":\"histogram2d\",\"colorbar\":{\"outlinewidth\":0,\"ticks\":\"\"},\"colorscale\":[[0.0,\"#0d0887\"],[0.1111111111111111,\"#46039f\"],[0.2222222222222222,\"#7201a8\"],[0.3333333333333333,\"#9c179e\"],[0.4444444444444444,\"#bd3786\"],[0.5555555555555556,\"#d8576b\"],[0.6666666666666666,\"#ed7953\"],[0.7777777777777778,\"#fb9f3a\"],[0.8888888888888888,\"#fdca26\"],[1.0,\"#f0f921\"]]}],\"heatmap\":[{\"type\":\"heatmap\",\"colorbar\":{\"outlinewidth\":0,\"ticks\":\"\"},\"colorscale\":[[0.0,\"#0d0887\"],[0.1111111111111111,\"#46039f\"],[0.2222222222222222,\"#7201a8\"],[0.3333333333333333,\"#9c179e\"],[0.4444444444444444,\"#bd3786\"],[0.5555555555555556,\"#d8576b\"],[0.6666666666666666,\"#ed7953\"],[0.7777777777777778,\"#fb9f3a\"],[0.8888888888888888,\"#fdca26\"],[1.0,\"#f0f921\"]]}],\"heatmapgl\":[{\"type\":\"heatmapgl\",\"colorbar\":{\"outlinewidth\":0,\"ticks\":\"\"},\"colorscale\":[[0.0,\"#0d0887\"],[0.1111111111111111,\"#46039f\"],[0.2222222222222222,\"#7201a8\"],[0.3333333333333333,\"#9c179e\"],[0.4444444444444444,\"#bd3786\"],[0.5555555555555556,\"#d8576b\"],[0.6666666666666666,\"#ed7953\"],[0.7777777777777778,\"#fb9f3a\"],[0.8888888888888888,\"#fdca26\"],[1.0,\"#f0f921\"]]}],\"contourcarpet\":[{\"type\":\"contourcarpet\",\"colorbar\":{\"outlinewidth\":0,\"ticks\":\"\"}}],\"contour\":[{\"type\":\"contour\",\"colorbar\":{\"outlinewidth\":0,\"ticks\":\"\"},\"colorscale\":[[0.0,\"#0d0887\"],[0.1111111111111111,\"#46039f\"],[0.2222222222222222,\"#7201a8\"],[0.3333333333333333,\"#9c179e\"],[0.4444444444444444,\"#bd3786\"],[0.5555555555555556,\"#d8576b\"],[0.6666666666666666,\"#ed7953\"],[0.7777777777777778,\"#fb9f3a\"],[0.8888888888888888,\"#fdca26\"],[1.0,\"#f0f921\"]]}],\"surface\":[{\"type\":\"surface\",\"colorbar\":{\"outlinewidth\":0,\"ticks\":\"\"},\"colorscale\":[[0.0,\"#0d0887\"],[0.1111111111111111,\"#46039f\"],[0.2222222222222222,\"#7201a8\"],[0.3333333333333333,\"#9c179e\"],[0.4444444444444444,\"#bd3786\"],[0.5555555555555556,\"#d8576b\"],[0.6666666666666666,\"#ed7953\"],[0.7777777777777778,\"#fb9f3a\"],[0.8888888888888888,\"#fdca26\"],[1.0,\"#f0f921\"]]}],\"mesh3d\":[{\"type\":\"mesh3d\",\"colorbar\":{\"outlinewidth\":0,\"ticks\":\"\"}}],\"scatter\":[{\"fillpattern\":{\"fillmode\":\"overlay\",\"size\":10,\"solidity\":0.2},\"type\":\"scatter\"}],\"parcoords\":[{\"type\":\"parcoords\",\"line\":{\"colorbar\":{\"outlinewidth\":0,\"ticks\":\"\"}}}],\"scatterpolargl\":[{\"type\":\"scatterpolargl\",\"marker\":{\"colorbar\":{\"outlinewidth\":0,\"ticks\":\"\"}}}],\"bar\":[{\"error_x\":{\"color\":\"#2a3f5f\"},\"error_y\":{\"color\":\"#2a3f5f\"},\"marker\":{\"line\":{\"color\":\"#E5ECF6\",\"width\":0.5},\"pattern\":{\"fillmode\":\"overlay\",\"size\":10,\"solidity\":0.2}},\"type\":\"bar\"}],\"scattergeo\":[{\"type\":\"scattergeo\",\"marker\":{\"colorbar\":{\"outlinewidth\":0,\"ticks\":\"\"}}}],\"scatterpolar\":[{\"type\":\"scatterpolar\",\"marker\":{\"colorbar\":{\"outlinewidth\":0,\"ticks\":\"\"}}}],\"histogram\":[{\"marker\":{\"pattern\":{\"fillmode\":\"overlay\",\"size\":10,\"solidity\":0.2}},\"type\":\"histogram\"}],\"scattergl\":[{\"type\":\"scattergl\",\"marker\":{\"colorbar\":{\"outlinewidth\":0,\"ticks\":\"\"}}}],\"scatter3d\":[{\"type\":\"scatter3d\",\"line\":{\"colorbar\":{\"outlinewidth\":0,\"ticks\":\"\"}},\"marker\":{\"colorbar\":{\"outlinewidth\":0,\"ticks\":\"\"}}}],\"scattermapbox\":[{\"type\":\"scattermapbox\",\"marker\":{\"colorbar\":{\"outlinewidth\":0,\"ticks\":\"\"}}}],\"scatterternary\":[{\"type\":\"scatterternary\",\"marker\":{\"colorbar\":{\"outlinewidth\":0,\"ticks\":\"\"}}}],\"scattercarpet\":[{\"type\":\"scattercarpet\",\"marker\":{\"colorbar\":{\"outlinewidth\":0,\"ticks\":\"\"}}}],\"carpet\":[{\"aaxis\":{\"endlinecolor\":\"#2a3f5f\",\"gridcolor\":\"white\",\"linecolor\":\"white\",\"minorgridcolor\":\"white\",\"startlinecolor\":\"#2a3f5f\"},\"baxis\":{\"endlinecolor\":\"#2a3f5f\",\"gridcolor\":\"white\",\"linecolor\":\"white\",\"minorgridcolor\":\"white\",\"startlinecolor\":\"#2a3f5f\"},\"type\":\"carpet\"}],\"table\":[{\"cells\":{\"fill\":{\"color\":\"#EBF0F8\"},\"line\":{\"color\":\"white\"}},\"header\":{\"fill\":{\"color\":\"#C8D4E3\"},\"line\":{\"color\":\"white\"}},\"type\":\"table\"}],\"barpolar\":[{\"marker\":{\"line\":{\"color\":\"#E5ECF6\",\"width\":0.5},\"pattern\":{\"fillmode\":\"overlay\",\"size\":10,\"solidity\":0.2}},\"type\":\"barpolar\"}],\"pie\":[{\"automargin\":true,\"type\":\"pie\"}]},\"layout\":{\"autotypenumbers\":\"strict\",\"colorway\":[\"#636efa\",\"#EF553B\",\"#00cc96\",\"#ab63fa\",\"#FFA15A\",\"#19d3f3\",\"#FF6692\",\"#B6E880\",\"#FF97FF\",\"#FECB52\"],\"font\":{\"color\":\"#2a3f5f\"},\"hovermode\":\"closest\",\"hoverlabel\":{\"align\":\"left\"},\"paper_bgcolor\":\"white\",\"plot_bgcolor\":\"#E5ECF6\",\"polar\":{\"bgcolor\":\"#E5ECF6\",\"angularaxis\":{\"gridcolor\":\"white\",\"linecolor\":\"white\",\"ticks\":\"\"},\"radialaxis\":{\"gridcolor\":\"white\",\"linecolor\":\"white\",\"ticks\":\"\"}},\"ternary\":{\"bgcolor\":\"#E5ECF6\",\"aaxis\":{\"gridcolor\":\"white\",\"linecolor\":\"white\",\"ticks\":\"\"},\"baxis\":{\"gridcolor\":\"white\",\"linecolor\":\"white\",\"ticks\":\"\"},\"caxis\":{\"gridcolor\":\"white\",\"linecolor\":\"white\",\"ticks\":\"\"}},\"coloraxis\":{\"colorbar\":{\"outlinewidth\":0,\"ticks\":\"\"}},\"colorscale\":{\"sequential\":[[0.0,\"#0d0887\"],[0.1111111111111111,\"#46039f\"],[0.2222222222222222,\"#7201a8\"],[0.3333333333333333,\"#9c179e\"],[0.4444444444444444,\"#bd3786\"],[0.5555555555555556,\"#d8576b\"],[0.6666666666666666,\"#ed7953\"],[0.7777777777777778,\"#fb9f3a\"],[0.8888888888888888,\"#fdca26\"],[1.0,\"#f0f921\"]],\"sequentialminus\":[[0.0,\"#0d0887\"],[0.1111111111111111,\"#46039f\"],[0.2222222222222222,\"#7201a8\"],[0.3333333333333333,\"#9c179e\"],[0.4444444444444444,\"#bd3786\"],[0.5555555555555556,\"#d8576b\"],[0.6666666666666666,\"#ed7953\"],[0.7777777777777778,\"#fb9f3a\"],[0.8888888888888888,\"#fdca26\"],[1.0,\"#f0f921\"]],\"diverging\":[[0,\"#8e0152\"],[0.1,\"#c51b7d\"],[0.2,\"#de77ae\"],[0.3,\"#f1b6da\"],[0.4,\"#fde0ef\"],[0.5,\"#f7f7f7\"],[0.6,\"#e6f5d0\"],[0.7,\"#b8e186\"],[0.8,\"#7fbc41\"],[0.9,\"#4d9221\"],[1,\"#276419\"]]},\"xaxis\":{\"gridcolor\":\"white\",\"linecolor\":\"white\",\"ticks\":\"\",\"title\":{\"standoff\":15},\"zerolinecolor\":\"white\",\"automargin\":true,\"zerolinewidth\":2},\"yaxis\":{\"gridcolor\":\"white\",\"linecolor\":\"white\",\"ticks\":\"\",\"title\":{\"standoff\":15},\"zerolinecolor\":\"white\",\"automargin\":true,\"zerolinewidth\":2},\"scene\":{\"xaxis\":{\"backgroundcolor\":\"#E5ECF6\",\"gridcolor\":\"white\",\"linecolor\":\"white\",\"showbackground\":true,\"ticks\":\"\",\"zerolinecolor\":\"white\",\"gridwidth\":2},\"yaxis\":{\"backgroundcolor\":\"#E5ECF6\",\"gridcolor\":\"white\",\"linecolor\":\"white\",\"showbackground\":true,\"ticks\":\"\",\"zerolinecolor\":\"white\",\"gridwidth\":2},\"zaxis\":{\"backgroundcolor\":\"#E5ECF6\",\"gridcolor\":\"white\",\"linecolor\":\"white\",\"showbackground\":true,\"ticks\":\"\",\"zerolinecolor\":\"white\",\"gridwidth\":2}},\"shapedefaults\":{\"line\":{\"color\":\"#2a3f5f\"}},\"annotationdefaults\":{\"arrowcolor\":\"#2a3f5f\",\"arrowhead\":0,\"arrowwidth\":1},\"geo\":{\"bgcolor\":\"white\",\"landcolor\":\"#E5ECF6\",\"subunitcolor\":\"white\",\"showland\":true,\"showlakes\":true,\"lakecolor\":\"white\"},\"title\":{\"x\":0.05},\"mapbox\":{\"style\":\"light\"}}},\"xaxis\":{\"anchor\":\"y\",\"domain\":[0.0,1.0],\"scaleanchor\":\"y\",\"constrain\":\"domain\"},\"yaxis\":{\"anchor\":\"x\",\"domain\":[0.0,1.0],\"autorange\":\"reversed\",\"constrain\":\"domain\"},\"coloraxis\":{\"colorbar\":{\"title\":{\"text\":\"Similarity Score\"}},\"colorscale\":[[0.0,\"rgb(247,252,240)\"],[0.125,\"rgb(224,243,219)\"],[0.25,\"rgb(204,235,197)\"],[0.375,\"rgb(168,221,181)\"],[0.5,\"rgb(123,204,196)\"],[0.625,\"rgb(78,179,211)\"],[0.75,\"rgb(43,140,190)\"],[0.875,\"rgb(8,104,172)\"],[1.0,\"rgb(8,64,129)\"]]},\"margin\":{\"t\":60},\"title\":{\"font\":{\"size\":22,\"color\":\"Black\"},\"text\":\"<b>Similarity Matrix</b>\",\"y\":0.95,\"x\":0.55,\"xanchor\":\"center\",\"yanchor\":\"top\"},\"hoverlabel\":{\"font\":{\"size\":16,\"family\":\"Rockwell\"},\"bgcolor\":\"white\"},\"width\":800,\"height\":800,\"showlegend\":true,\"legend\":{\"title\":{\"text\":\"Trend\"}}},                        {\"responsive\": true}                    )                };                            </script>        </div>\n",
       "</body>\n",
       "</html>"
      ]
     },
     "metadata": {},
     "output_type": "display_data"
    }
   ],
   "source": [
    "topic_model.visualize_heatmap()"
   ]
  },
  {
   "cell_type": "code",
   "execution_count": 0,
   "metadata": {
    "application/vnd.databricks.v1+cell": {
     "cellMetadata": {
      "byteLimit": 2048000,
      "rowLimit": 10000
     },
     "inputWidgets": {},
     "nuid": "d48d3c7e-0ce0-4287-8cd1-34069f0c5869",
     "showTitle": false,
     "tableResultSettingsMap": {},
     "title": ""
    }
   },
   "outputs": [
    {
     "output_type": "stream",
     "name": "stderr",
     "output_type": "stream",
     "text": [
      "\r  0%|          | 0/1 [00:00<?, ?it/s]\r100%|██████████| 1/1 [00:00<00:00, 359.32it/s]\n"
     ]
    },
    {
     "output_type": "execute_result",
     "data": {
      "text/plain": [
       "array([[0.        , 0.        , 0.        , 0.27162929, 0.        ,\n",
       "        0.58466214, 0.        , 0.04827872, 0.        , 0.        ,\n",
       "        0.        , 0.        , 0.        , 0.04636327, 0.04906658]])"
      ]
     },
     "execution_count": 59,
     "metadata": {},
     "output_type": "execute_result"
    }
   ],
   "source": [
    "topic_distr, _ = topic_model.approximate_distribution([\"Cabin crew service: Felt like a nuisance and was deliberately ignored by male cabin crew.\"])\n",
    "topic_distr"
   ]
  },
  {
   "cell_type": "code",
   "execution_count": 0,
   "metadata": {
    "application/vnd.databricks.v1+cell": {
     "cellMetadata": {
      "byteLimit": 2048000,
      "rowLimit": 10000
     },
     "inputWidgets": {},
     "nuid": "fdc8d494-d371-434f-824c-cf15988d89e4",
     "showTitle": false,
     "tableResultSettingsMap": {},
     "title": ""
    }
   },
   "outputs": [
    {
     "output_type": "display_data",
     "data": {
      "text/html": [
       "<html>\n",
       "<head><meta charset=\"utf-8\" /></head>\n",
       "<body>\n",
       "    <div>            <script src=\"https://cdnjs.cloudflare.com/ajax/libs/mathjax/2.7.5/MathJax.js?config=TeX-AMS-MML_SVG\"></script><script type=\"text/javascript\">if (window.MathJax && window.MathJax.Hub && window.MathJax.Hub.Config) {window.MathJax.Hub.Config({SVG: {font: \"STIX-Web\"}});}</script>                <script type=\"text/javascript\">window.PlotlyConfig = {MathJaxConfig: 'local'};</script>\n",
       "        <script src=\"https://cdn.plot.ly/plotly-2.12.1.min.js\"></script>                <div id=\"c1661899-7ade-48b8-8c56-4e0b91275468\" class=\"plotly-graph-div\" style=\"height:600px; width:800px;\"></div>            <script type=\"text/javascript\">                                    window.PLOTLYENV=window.PLOTLYENV || {};                                    if (document.getElementById(\"c1661899-7ade-48b8-8c56-4e0b91275468\")) {                    Plotly.newPlot(                        \"c1661899-7ade-48b8-8c56-4e0b91275468\",                        [{\"marker\":{\"color\":\"#C8D2D7\",\"line\":{\"color\":\"#6E8484\",\"width\":1}},\"orientation\":\"h\",\"x\":[0.2716292864904031,0.5846621375673204,0.048278724358023765,0.046363268024253355,0.0490665835599995],\"y\":[\"Aircraft Cleanliness\",\"Cabin Crew Friendliness\",\"Flight Punctuality\",\"In-Flight Meal Quality\",\"Customer Service Experience\"],\"type\":\"bar\"}],                        {\"template\":{\"data\":{\"barpolar\":[{\"marker\":{\"line\":{\"color\":\"white\",\"width\":0.5},\"pattern\":{\"fillmode\":\"overlay\",\"size\":10,\"solidity\":0.2}},\"type\":\"barpolar\"}],\"bar\":[{\"error_x\":{\"color\":\"rgb(36,36,36)\"},\"error_y\":{\"color\":\"rgb(36,36,36)\"},\"marker\":{\"line\":{\"color\":\"white\",\"width\":0.5},\"pattern\":{\"fillmode\":\"overlay\",\"size\":10,\"solidity\":0.2}},\"type\":\"bar\"}],\"carpet\":[{\"aaxis\":{\"endlinecolor\":\"rgb(36,36,36)\",\"gridcolor\":\"white\",\"linecolor\":\"white\",\"minorgridcolor\":\"white\",\"startlinecolor\":\"rgb(36,36,36)\"},\"baxis\":{\"endlinecolor\":\"rgb(36,36,36)\",\"gridcolor\":\"white\",\"linecolor\":\"white\",\"minorgridcolor\":\"white\",\"startlinecolor\":\"rgb(36,36,36)\"},\"type\":\"carpet\"}],\"choropleth\":[{\"colorbar\":{\"outlinewidth\":1,\"tickcolor\":\"rgb(36,36,36)\",\"ticks\":\"outside\"},\"type\":\"choropleth\"}],\"contourcarpet\":[{\"colorbar\":{\"outlinewidth\":1,\"tickcolor\":\"rgb(36,36,36)\",\"ticks\":\"outside\"},\"type\":\"contourcarpet\"}],\"contour\":[{\"colorbar\":{\"outlinewidth\":1,\"tickcolor\":\"rgb(36,36,36)\",\"ticks\":\"outside\"},\"colorscale\":[[0.0,\"#440154\"],[0.1111111111111111,\"#482878\"],[0.2222222222222222,\"#3e4989\"],[0.3333333333333333,\"#31688e\"],[0.4444444444444444,\"#26828e\"],[0.5555555555555556,\"#1f9e89\"],[0.6666666666666666,\"#35b779\"],[0.7777777777777778,\"#6ece58\"],[0.8888888888888888,\"#b5de2b\"],[1.0,\"#fde725\"]],\"type\":\"contour\"}],\"heatmapgl\":[{\"colorbar\":{\"outlinewidth\":1,\"tickcolor\":\"rgb(36,36,36)\",\"ticks\":\"outside\"},\"colorscale\":[[0.0,\"#440154\"],[0.1111111111111111,\"#482878\"],[0.2222222222222222,\"#3e4989\"],[0.3333333333333333,\"#31688e\"],[0.4444444444444444,\"#26828e\"],[0.5555555555555556,\"#1f9e89\"],[0.6666666666666666,\"#35b779\"],[0.7777777777777778,\"#6ece58\"],[0.8888888888888888,\"#b5de2b\"],[1.0,\"#fde725\"]],\"type\":\"heatmapgl\"}],\"heatmap\":[{\"colorbar\":{\"outlinewidth\":1,\"tickcolor\":\"rgb(36,36,36)\",\"ticks\":\"outside\"},\"colorscale\":[[0.0,\"#440154\"],[0.1111111111111111,\"#482878\"],[0.2222222222222222,\"#3e4989\"],[0.3333333333333333,\"#31688e\"],[0.4444444444444444,\"#26828e\"],[0.5555555555555556,\"#1f9e89\"],[0.6666666666666666,\"#35b779\"],[0.7777777777777778,\"#6ece58\"],[0.8888888888888888,\"#b5de2b\"],[1.0,\"#fde725\"]],\"type\":\"heatmap\"}],\"histogram2dcontour\":[{\"colorbar\":{\"outlinewidth\":1,\"tickcolor\":\"rgb(36,36,36)\",\"ticks\":\"outside\"},\"colorscale\":[[0.0,\"#440154\"],[0.1111111111111111,\"#482878\"],[0.2222222222222222,\"#3e4989\"],[0.3333333333333333,\"#31688e\"],[0.4444444444444444,\"#26828e\"],[0.5555555555555556,\"#1f9e89\"],[0.6666666666666666,\"#35b779\"],[0.7777777777777778,\"#6ece58\"],[0.8888888888888888,\"#b5de2b\"],[1.0,\"#fde725\"]],\"type\":\"histogram2dcontour\"}],\"histogram2d\":[{\"colorbar\":{\"outlinewidth\":1,\"tickcolor\":\"rgb(36,36,36)\",\"ticks\":\"outside\"},\"colorscale\":[[0.0,\"#440154\"],[0.1111111111111111,\"#482878\"],[0.2222222222222222,\"#3e4989\"],[0.3333333333333333,\"#31688e\"],[0.4444444444444444,\"#26828e\"],[0.5555555555555556,\"#1f9e89\"],[0.6666666666666666,\"#35b779\"],[0.7777777777777778,\"#6ece58\"],[0.8888888888888888,\"#b5de2b\"],[1.0,\"#fde725\"]],\"type\":\"histogram2d\"}],\"histogram\":[{\"marker\":{\"line\":{\"color\":\"white\",\"width\":0.6}},\"type\":\"histogram\"}],\"mesh3d\":[{\"colorbar\":{\"outlinewidth\":1,\"tickcolor\":\"rgb(36,36,36)\",\"ticks\":\"outside\"},\"type\":\"mesh3d\"}],\"parcoords\":[{\"line\":{\"colorbar\":{\"outlinewidth\":1,\"tickcolor\":\"rgb(36,36,36)\",\"ticks\":\"outside\"}},\"type\":\"parcoords\"}],\"pie\":[{\"automargin\":true,\"type\":\"pie\"}],\"scatter3d\":[{\"line\":{\"colorbar\":{\"outlinewidth\":1,\"tickcolor\":\"rgb(36,36,36)\",\"ticks\":\"outside\"}},\"marker\":{\"colorbar\":{\"outlinewidth\":1,\"tickcolor\":\"rgb(36,36,36)\",\"ticks\":\"outside\"}},\"type\":\"scatter3d\"}],\"scattercarpet\":[{\"marker\":{\"colorbar\":{\"outlinewidth\":1,\"tickcolor\":\"rgb(36,36,36)\",\"ticks\":\"outside\"}},\"type\":\"scattercarpet\"}],\"scattergeo\":[{\"marker\":{\"colorbar\":{\"outlinewidth\":1,\"tickcolor\":\"rgb(36,36,36)\",\"ticks\":\"outside\"}},\"type\":\"scattergeo\"}],\"scattergl\":[{\"marker\":{\"colorbar\":{\"outlinewidth\":1,\"tickcolor\":\"rgb(36,36,36)\",\"ticks\":\"outside\"}},\"type\":\"scattergl\"}],\"scattermapbox\":[{\"marker\":{\"colorbar\":{\"outlinewidth\":1,\"tickcolor\":\"rgb(36,36,36)\",\"ticks\":\"outside\"}},\"type\":\"scattermapbox\"}],\"scatterpolargl\":[{\"marker\":{\"colorbar\":{\"outlinewidth\":1,\"tickcolor\":\"rgb(36,36,36)\",\"ticks\":\"outside\"}},\"type\":\"scatterpolargl\"}],\"scatterpolar\":[{\"marker\":{\"colorbar\":{\"outlinewidth\":1,\"tickcolor\":\"rgb(36,36,36)\",\"ticks\":\"outside\"}},\"type\":\"scatterpolar\"}],\"scatter\":[{\"fillpattern\":{\"fillmode\":\"overlay\",\"size\":10,\"solidity\":0.2},\"type\":\"scatter\"}],\"scatterternary\":[{\"marker\":{\"colorbar\":{\"outlinewidth\":1,\"tickcolor\":\"rgb(36,36,36)\",\"ticks\":\"outside\"}},\"type\":\"scatterternary\"}],\"surface\":[{\"colorbar\":{\"outlinewidth\":1,\"tickcolor\":\"rgb(36,36,36)\",\"ticks\":\"outside\"},\"colorscale\":[[0.0,\"#440154\"],[0.1111111111111111,\"#482878\"],[0.2222222222222222,\"#3e4989\"],[0.3333333333333333,\"#31688e\"],[0.4444444444444444,\"#26828e\"],[0.5555555555555556,\"#1f9e89\"],[0.6666666666666666,\"#35b779\"],[0.7777777777777778,\"#6ece58\"],[0.8888888888888888,\"#b5de2b\"],[1.0,\"#fde725\"]],\"type\":\"surface\"}],\"table\":[{\"cells\":{\"fill\":{\"color\":\"rgb(237,237,237)\"},\"line\":{\"color\":\"white\"}},\"header\":{\"fill\":{\"color\":\"rgb(217,217,217)\"},\"line\":{\"color\":\"white\"}},\"type\":\"table\"}]},\"layout\":{\"annotationdefaults\":{\"arrowhead\":0,\"arrowwidth\":1},\"autotypenumbers\":\"strict\",\"coloraxis\":{\"colorbar\":{\"outlinewidth\":1,\"tickcolor\":\"rgb(36,36,36)\",\"ticks\":\"outside\"}},\"colorscale\":{\"diverging\":[[0.0,\"rgb(103,0,31)\"],[0.1,\"rgb(178,24,43)\"],[0.2,\"rgb(214,96,77)\"],[0.3,\"rgb(244,165,130)\"],[0.4,\"rgb(253,219,199)\"],[0.5,\"rgb(247,247,247)\"],[0.6,\"rgb(209,229,240)\"],[0.7,\"rgb(146,197,222)\"],[0.8,\"rgb(67,147,195)\"],[0.9,\"rgb(33,102,172)\"],[1.0,\"rgb(5,48,97)\"]],\"sequential\":[[0.0,\"#440154\"],[0.1111111111111111,\"#482878\"],[0.2222222222222222,\"#3e4989\"],[0.3333333333333333,\"#31688e\"],[0.4444444444444444,\"#26828e\"],[0.5555555555555556,\"#1f9e89\"],[0.6666666666666666,\"#35b779\"],[0.7777777777777778,\"#6ece58\"],[0.8888888888888888,\"#b5de2b\"],[1.0,\"#fde725\"]],\"sequentialminus\":[[0.0,\"#440154\"],[0.1111111111111111,\"#482878\"],[0.2222222222222222,\"#3e4989\"],[0.3333333333333333,\"#31688e\"],[0.4444444444444444,\"#26828e\"],[0.5555555555555556,\"#1f9e89\"],[0.6666666666666666,\"#35b779\"],[0.7777777777777778,\"#6ece58\"],[0.8888888888888888,\"#b5de2b\"],[1.0,\"#fde725\"]]},\"colorway\":[\"#1F77B4\",\"#FF7F0E\",\"#2CA02C\",\"#D62728\",\"#9467BD\",\"#8C564B\",\"#E377C2\",\"#7F7F7F\",\"#BCBD22\",\"#17BECF\"],\"font\":{\"color\":\"rgb(36,36,36)\"},\"geo\":{\"bgcolor\":\"white\",\"lakecolor\":\"white\",\"landcolor\":\"white\",\"showlakes\":true,\"showland\":true,\"subunitcolor\":\"white\"},\"hoverlabel\":{\"align\":\"left\"},\"hovermode\":\"closest\",\"mapbox\":{\"style\":\"light\"},\"paper_bgcolor\":\"white\",\"plot_bgcolor\":\"white\",\"polar\":{\"angularaxis\":{\"gridcolor\":\"rgb(232,232,232)\",\"linecolor\":\"rgb(36,36,36)\",\"showgrid\":false,\"showline\":true,\"ticks\":\"outside\"},\"bgcolor\":\"white\",\"radialaxis\":{\"gridcolor\":\"rgb(232,232,232)\",\"linecolor\":\"rgb(36,36,36)\",\"showgrid\":false,\"showline\":true,\"ticks\":\"outside\"}},\"scene\":{\"xaxis\":{\"backgroundcolor\":\"white\",\"gridcolor\":\"rgb(232,232,232)\",\"gridwidth\":2,\"linecolor\":\"rgb(36,36,36)\",\"showbackground\":true,\"showgrid\":false,\"showline\":true,\"ticks\":\"outside\",\"zeroline\":false,\"zerolinecolor\":\"rgb(36,36,36)\"},\"yaxis\":{\"backgroundcolor\":\"white\",\"gridcolor\":\"rgb(232,232,232)\",\"gridwidth\":2,\"linecolor\":\"rgb(36,36,36)\",\"showbackground\":true,\"showgrid\":false,\"showline\":true,\"ticks\":\"outside\",\"zeroline\":false,\"zerolinecolor\":\"rgb(36,36,36)\"},\"zaxis\":{\"backgroundcolor\":\"white\",\"gridcolor\":\"rgb(232,232,232)\",\"gridwidth\":2,\"linecolor\":\"rgb(36,36,36)\",\"showbackground\":true,\"showgrid\":false,\"showline\":true,\"ticks\":\"outside\",\"zeroline\":false,\"zerolinecolor\":\"rgb(36,36,36)\"}},\"shapedefaults\":{\"fillcolor\":\"black\",\"line\":{\"width\":0},\"opacity\":0.3},\"ternary\":{\"aaxis\":{\"gridcolor\":\"rgb(232,232,232)\",\"linecolor\":\"rgb(36,36,36)\",\"showgrid\":false,\"showline\":true,\"ticks\":\"outside\"},\"baxis\":{\"gridcolor\":\"rgb(232,232,232)\",\"linecolor\":\"rgb(36,36,36)\",\"showgrid\":false,\"showline\":true,\"ticks\":\"outside\"},\"bgcolor\":\"white\",\"caxis\":{\"gridcolor\":\"rgb(232,232,232)\",\"linecolor\":\"rgb(36,36,36)\",\"showgrid\":false,\"showline\":true,\"ticks\":\"outside\"}},\"title\":{\"x\":0.05},\"xaxis\":{\"automargin\":true,\"gridcolor\":\"rgb(232,232,232)\",\"linecolor\":\"rgb(36,36,36)\",\"showgrid\":false,\"showline\":true,\"ticks\":\"outside\",\"title\":{\"standoff\":15},\"zeroline\":false,\"zerolinecolor\":\"rgb(36,36,36)\"},\"yaxis\":{\"automargin\":true,\"gridcolor\":\"rgb(232,232,232)\",\"linecolor\":\"rgb(36,36,36)\",\"showgrid\":false,\"showline\":true,\"ticks\":\"outside\",\"title\":{\"standoff\":15},\"zeroline\":false,\"zerolinecolor\":\"rgb(36,36,36)\"}}},\"title\":{\"font\":{\"size\":22,\"color\":\"Black\"},\"text\":\"<b>Topic Probability Distribution</b>\",\"y\":0.95,\"x\":0.5,\"xanchor\":\"center\",\"yanchor\":\"top\"},\"hoverlabel\":{\"font\":{\"size\":16,\"family\":\"Rockwell\"},\"bgcolor\":\"white\"},\"xaxis\":{\"title\":{\"text\":\"Probability\"}},\"width\":800,\"height\":600},                        {\"responsive\": true}                    )                };                            </script>        </div>\n",
       "</body>\n",
       "</html>"
      ]
     },
     "metadata": {},
     "output_type": "display_data"
    }
   ],
   "source": [
    "# Visualize the topic-document distribution for a single document\n",
    "topic_model.visualize_distribution(topic_distr[0], custom_labels=True)"
   ]
  },
  {
   "cell_type": "markdown",
   "metadata": {
    "application/vnd.databricks.v1+cell": {
     "cellMetadata": {},
     "inputWidgets": {},
     "nuid": "84b99b5d-e763-45b5-8021-60c64a15ff7f",
     "showTitle": false,
     "tableResultSettingsMap": {},
     "title": ""
    }
   },
   "source": [
    "## Predict topics for new reviews"
   ]
  },
  {
   "cell_type": "code",
   "execution_count": 0,
   "metadata": {
    "application/vnd.databricks.v1+cell": {
     "cellMetadata": {
      "byteLimit": 2048000,
      "rowLimit": 10000
     },
     "inputWidgets": {},
     "nuid": "25046ada-5b67-42b2-8dce-b06e6748de3d",
     "showTitle": false,
     "tableResultSettingsMap": {},
     "title": ""
    }
   },
   "outputs": [],
   "source": [
    "# topic_model.transform(new_reviews)"
   ]
  },
  {
   "cell_type": "code",
   "execution_count": 0,
   "metadata": {
    "application/vnd.databricks.v1+cell": {
     "cellMetadata": {
      "byteLimit": 2048000,
      "rowLimit": 10000
     },
     "inputWidgets": {},
     "nuid": "f6f859d0-81a0-4060-8567-c866ae749376",
     "showTitle": false,
     "tableResultSettingsMap": {},
     "title": ""
    }
   },
   "outputs": [
    {
     "output_type": "execute_result",
     "data": {
      "text/html": [
       "<style type=\"text/css\">\n",
       "#T_667ba_row0_col0, #T_667ba_row1_col0 {\n",
       "  background-color: #ddeaf7;\n",
       "  color: #000000;\n",
       "  color: black;\n",
       "}\n",
       "#T_667ba_row0_col1, #T_667ba_row0_col2, #T_667ba_row0_col3 {\n",
       "  background-color: #c2d9ee;\n",
       "  color: #000000;\n",
       "  color: black;\n",
       "}\n",
       "#T_667ba_row0_col4 {\n",
       "  background-color: #c7dcef;\n",
       "  color: #000000;\n",
       "  color: black;\n",
       "}\n",
       "#T_667ba_row0_col5, #T_667ba_row0_col6, #T_667ba_row0_col7, #T_667ba_row3_col5 {\n",
       "  background-color: #e1edf8;\n",
       "  color: #000000;\n",
       "  color: black;\n",
       "}\n",
       "#T_667ba_row0_col8, #T_667ba_row0_col9, #T_667ba_row0_col10, #T_667ba_row0_col11, #T_667ba_row0_col12, #T_667ba_row0_col13, #T_667ba_row0_col14, #T_667ba_row0_col15, #T_667ba_row0_col16, #T_667ba_row0_col17, #T_667ba_row0_col18, #T_667ba_row0_col19, #T_667ba_row0_col20, #T_667ba_row1_col12, #T_667ba_row1_col13, #T_667ba_row1_col14, #T_667ba_row1_col15, #T_667ba_row1_col16, #T_667ba_row1_col17, #T_667ba_row1_col18, #T_667ba_row1_col19, #T_667ba_row1_col20, #T_667ba_row2_col0, #T_667ba_row2_col5, #T_667ba_row2_col6, #T_667ba_row2_col7, #T_667ba_row2_col8, #T_667ba_row2_col9, #T_667ba_row2_col10, #T_667ba_row2_col11, #T_667ba_row2_col12, #T_667ba_row2_col20, #T_667ba_row3_col0, #T_667ba_row3_col6, #T_667ba_row3_col7, #T_667ba_row3_col8, #T_667ba_row3_col9, #T_667ba_row3_col10, #T_667ba_row3_col11, #T_667ba_row3_col12, #T_667ba_row3_col13, #T_667ba_row3_col14, #T_667ba_row3_col15, #T_667ba_row3_col16, #T_667ba_row3_col17, #T_667ba_row3_col18, #T_667ba_row3_col19, #T_667ba_row3_col20, #T_667ba_row4_col0, #T_667ba_row4_col1, #T_667ba_row4_col2, #T_667ba_row4_col3, #T_667ba_row4_col4, #T_667ba_row4_col5, #T_667ba_row4_col6, #T_667ba_row4_col7, #T_667ba_row4_col8, #T_667ba_row4_col9, #T_667ba_row4_col10, #T_667ba_row4_col11, #T_667ba_row4_col19, #T_667ba_row4_col20 {\n",
       "  background-color: #f7fbff;\n",
       "  color: #000000;\n",
       "  color: white;\n",
       "  background-color: white;\n",
       "}\n",
       "#T_667ba_row1_col1 {\n",
       "  background-color: #c9ddf0;\n",
       "  color: #000000;\n",
       "  color: black;\n",
       "}\n",
       "#T_667ba_row1_col2 {\n",
       "  background-color: #a0cbe2;\n",
       "  color: #000000;\n",
       "  color: black;\n",
       "}\n",
       "#T_667ba_row1_col3 {\n",
       "  background-color: #71b1d7;\n",
       "  color: #f1f1f1;\n",
       "  color: black;\n",
       "}\n",
       "#T_667ba_row1_col4, #T_667ba_row1_col7 {\n",
       "  background-color: #6aaed6;\n",
       "  color: #f1f1f1;\n",
       "  color: black;\n",
       "}\n",
       "#T_667ba_row1_col5 {\n",
       "  background-color: #61a7d2;\n",
       "  color: #f1f1f1;\n",
       "  color: black;\n",
       "}\n",
       "#T_667ba_row1_col6 {\n",
       "  background-color: #65aad4;\n",
       "  color: #f1f1f1;\n",
       "  color: black;\n",
       "}\n",
       "#T_667ba_row1_col8, #T_667ba_row2_col14 {\n",
       "  background-color: #7cb7da;\n",
       "  color: #000000;\n",
       "  color: black;\n",
       "}\n",
       "#T_667ba_row1_col9 {\n",
       "  background-color: #aed1e7;\n",
       "  color: #000000;\n",
       "  color: black;\n",
       "}\n",
       "#T_667ba_row1_col10 {\n",
       "  background-color: #cee0f2;\n",
       "  color: #000000;\n",
       "  color: black;\n",
       "}\n",
       "#T_667ba_row1_col11, #T_667ba_row2_col1, #T_667ba_row2_col2, #T_667ba_row2_col3, #T_667ba_row2_col4 {\n",
       "  background-color: #e3eef8;\n",
       "  color: #000000;\n",
       "  color: black;\n",
       "}\n",
       "#T_667ba_row2_col13, #T_667ba_row3_col2, #T_667ba_row3_col3, #T_667ba_row3_col4 {\n",
       "  background-color: #caddf0;\n",
       "  color: #000000;\n",
       "  color: black;\n",
       "}\n",
       "#T_667ba_row2_col15 {\n",
       "  background-color: #3888c1;\n",
       "  color: #f1f1f1;\n",
       "  color: black;\n",
       "}\n",
       "#T_667ba_row2_col16 {\n",
       "  background-color: #084a91;\n",
       "  color: #f1f1f1;\n",
       "  color: black;\n",
       "}\n",
       "#T_667ba_row2_col17 {\n",
       "  background-color: #3686c0;\n",
       "  color: #f1f1f1;\n",
       "  color: black;\n",
       "}\n",
       "#T_667ba_row2_col18 {\n",
       "  background-color: #84bcdb;\n",
       "  color: #000000;\n",
       "  color: black;\n",
       "}\n",
       "#T_667ba_row2_col19 {\n",
       "  background-color: #c8dcf0;\n",
       "  color: #000000;\n",
       "  color: black;\n",
       "}\n",
       "#T_667ba_row3_col1 {\n",
       "  background-color: #dfebf7;\n",
       "  color: #000000;\n",
       "  color: black;\n",
       "}\n",
       "#T_667ba_row4_col12 {\n",
       "  background-color: #d7e6f5;\n",
       "  color: #000000;\n",
       "  color: black;\n",
       "}\n",
       "#T_667ba_row4_col13 {\n",
       "  background-color: #7db8da;\n",
       "  color: #000000;\n",
       "  color: black;\n",
       "}\n",
       "#T_667ba_row4_col14 {\n",
       "  background-color: #2272b6;\n",
       "  color: #f1f1f1;\n",
       "  color: black;\n",
       "}\n",
       "#T_667ba_row4_col15 {\n",
       "  background-color: #08306b;\n",
       "  color: #f1f1f1;\n",
       "  color: black;\n",
       "}\n",
       "#T_667ba_row4_col16 {\n",
       "  background-color: #0f5aa3;\n",
       "  color: #f1f1f1;\n",
       "  color: black;\n",
       "}\n",
       "#T_667ba_row4_col17 {\n",
       "  background-color: #5ca4d0;\n",
       "  color: #f1f1f1;\n",
       "  color: black;\n",
       "}\n",
       "#T_667ba_row4_col18 {\n",
       "  background-color: #c4daee;\n",
       "  color: #000000;\n",
       "  color: black;\n",
       "}\n",
       "</style>\n",
       "<table id=\"T_667ba\">\n",
       "  <thead>\n",
       "    <tr>\n",
       "      <th class=\"blank level0\" >&nbsp;</th>\n",
       "      <th id=\"T_667ba_level0_col0\" class=\"col_heading level0 col0\" >Airport</th>\n",
       "      <th id=\"T_667ba_level0_col1\" class=\"col_heading level0 col1\" >experience </th>\n",
       "      <th id=\"T_667ba_level0_col2\" class=\"col_heading level0 col2\" >It  </th>\n",
       "      <th id=\"T_667ba_level0_col3\" class=\"col_heading level0 col3\" >took   </th>\n",
       "      <th id=\"T_667ba_level0_col4\" class=\"col_heading level0 col4\" >us    </th>\n",
       "      <th id=\"T_667ba_level0_col5\" class=\"col_heading level0 col5\" >hours     </th>\n",
       "      <th id=\"T_667ba_level0_col6\" class=\"col_heading level0 col6\" >just      </th>\n",
       "      <th id=\"T_667ba_level0_col7\" class=\"col_heading level0 col7\" >to       </th>\n",
       "      <th id=\"T_667ba_level0_col8\" class=\"col_heading level0 col8\" >go        </th>\n",
       "      <th id=\"T_667ba_level0_col9\" class=\"col_heading level0 col9\" >from         </th>\n",
       "      <th id=\"T_667ba_level0_col10\" class=\"col_heading level0 col10\" >T5          </th>\n",
       "      <th id=\"T_667ba_level0_col11\" class=\"col_heading level0 col11\" >to           </th>\n",
       "      <th id=\"T_667ba_level0_col12\" class=\"col_heading level0 col12\" >T3            </th>\n",
       "      <th id=\"T_667ba_level0_col13\" class=\"col_heading level0 col13\" >and             </th>\n",
       "      <th id=\"T_667ba_level0_col14\" class=\"col_heading level0 col14\" >clear              </th>\n",
       "      <th id=\"T_667ba_level0_col15\" class=\"col_heading level0 col15\" >security               </th>\n",
       "      <th id=\"T_667ba_level0_col16\" class=\"col_heading level0 col16\" >check                </th>\n",
       "      <th id=\"T_667ba_level0_col17\" class=\"col_heading level0 col17\" >The                 </th>\n",
       "      <th id=\"T_667ba_level0_col18\" class=\"col_heading level0 col18\" >place                  </th>\n",
       "      <th id=\"T_667ba_level0_col19\" class=\"col_heading level0 col19\" >was                   </th>\n",
       "      <th id=\"T_667ba_level0_col20\" class=\"col_heading level0 col20\" >chaotic                    </th>\n",
       "    </tr>\n",
       "  </thead>\n",
       "  <tbody>\n",
       "    <tr>\n",
       "      <th id=\"T_667ba_level0_row0\" class=\"row_heading level0 row0\" >Check-in and Boarding</th>\n",
       "      <td id=\"T_667ba_row0_col0\" class=\"data row0 col0\" >0.130</td>\n",
       "      <td id=\"T_667ba_row0_col1\" class=\"data row0 col1\" >0.261</td>\n",
       "      <td id=\"T_667ba_row0_col2\" class=\"data row0 col2\" >0.261</td>\n",
       "      <td id=\"T_667ba_row0_col3\" class=\"data row0 col3\" >0.261</td>\n",
       "      <td id=\"T_667ba_row0_col4\" class=\"data row0 col4\" >0.240</td>\n",
       "      <td id=\"T_667ba_row0_col5\" class=\"data row0 col5\" >0.109</td>\n",
       "      <td id=\"T_667ba_row0_col6\" class=\"data row0 col6\" >0.109</td>\n",
       "      <td id=\"T_667ba_row0_col7\" class=\"data row0 col7\" >0.109</td>\n",
       "      <td id=\"T_667ba_row0_col8\" class=\"data row0 col8\" >0.000</td>\n",
       "      <td id=\"T_667ba_row0_col9\" class=\"data row0 col9\" >0.000</td>\n",
       "      <td id=\"T_667ba_row0_col10\" class=\"data row0 col10\" >0.000</td>\n",
       "      <td id=\"T_667ba_row0_col11\" class=\"data row0 col11\" >0.000</td>\n",
       "      <td id=\"T_667ba_row0_col12\" class=\"data row0 col12\" >0.000</td>\n",
       "      <td id=\"T_667ba_row0_col13\" class=\"data row0 col13\" >0.000</td>\n",
       "      <td id=\"T_667ba_row0_col14\" class=\"data row0 col14\" >0.000</td>\n",
       "      <td id=\"T_667ba_row0_col15\" class=\"data row0 col15\" >0.000</td>\n",
       "      <td id=\"T_667ba_row0_col16\" class=\"data row0 col16\" >0.000</td>\n",
       "      <td id=\"T_667ba_row0_col17\" class=\"data row0 col17\" >0.000</td>\n",
       "      <td id=\"T_667ba_row0_col18\" class=\"data row0 col18\" >0.000</td>\n",
       "      <td id=\"T_667ba_row0_col19\" class=\"data row0 col19\" >0.000</td>\n",
       "      <td id=\"T_667ba_row0_col20\" class=\"data row0 col20\" >0.000</td>\n",
       "    </tr>\n",
       "    <tr>\n",
       "      <th id=\"T_667ba_level0_row1\" class=\"row_heading level0 row1\" >Seating Comfort</th>\n",
       "      <td id=\"T_667ba_row1_col0\" class=\"data row1 col0\" >0.130</td>\n",
       "      <td id=\"T_667ba_row1_col1\" class=\"data row1 col1\" >0.232</td>\n",
       "      <td id=\"T_667ba_row1_col2\" class=\"data row1 col2\" >0.362</td>\n",
       "      <td id=\"T_667ba_row1_col3\" class=\"data row1 col3\" >0.479</td>\n",
       "      <td id=\"T_667ba_row1_col4\" class=\"data row1 col4\" >0.494</td>\n",
       "      <td id=\"T_667ba_row1_col5\" class=\"data row1 col5\" >0.521</td>\n",
       "      <td id=\"T_667ba_row1_col6\" class=\"data row1 col6\" >0.509</td>\n",
       "      <td id=\"T_667ba_row1_col7\" class=\"data row1 col7\" >0.495</td>\n",
       "      <td id=\"T_667ba_row1_col8\" class=\"data row1 col8\" >0.452</td>\n",
       "      <td id=\"T_667ba_row1_col9\" class=\"data row1 col9\" >0.323</td>\n",
       "      <td id=\"T_667ba_row1_col10\" class=\"data row1 col10\" >0.205</td>\n",
       "      <td id=\"T_667ba_row1_col11\" class=\"data row1 col11\" >0.102</td>\n",
       "      <td id=\"T_667ba_row1_col12\" class=\"data row1 col12\" >0.000</td>\n",
       "      <td id=\"T_667ba_row1_col13\" class=\"data row1 col13\" >0.000</td>\n",
       "      <td id=\"T_667ba_row1_col14\" class=\"data row1 col14\" >0.000</td>\n",
       "      <td id=\"T_667ba_row1_col15\" class=\"data row1 col15\" >0.000</td>\n",
       "      <td id=\"T_667ba_row1_col16\" class=\"data row1 col16\" >0.000</td>\n",
       "      <td id=\"T_667ba_row1_col17\" class=\"data row1 col17\" >0.000</td>\n",
       "      <td id=\"T_667ba_row1_col18\" class=\"data row1 col18\" >0.000</td>\n",
       "      <td id=\"T_667ba_row1_col19\" class=\"data row1 col19\" >0.000</td>\n",
       "      <td id=\"T_667ba_row1_col20\" class=\"data row1 col20\" >0.000</td>\n",
       "    </tr>\n",
       "    <tr>\n",
       "      <th id=\"T_667ba_level0_row2\" class=\"row_heading level0 row2\" >In-Flight Wi-Fi</th>\n",
       "      <td id=\"T_667ba_row2_col0\" class=\"data row2 col0\" >0.000</td>\n",
       "      <td id=\"T_667ba_row2_col1\" class=\"data row2 col1\" >0.101</td>\n",
       "      <td id=\"T_667ba_row2_col2\" class=\"data row2 col2\" >0.101</td>\n",
       "      <td id=\"T_667ba_row2_col3\" class=\"data row2 col3\" >0.101</td>\n",
       "      <td id=\"T_667ba_row2_col4\" class=\"data row2 col4\" >0.101</td>\n",
       "      <td id=\"T_667ba_row2_col5\" class=\"data row2 col5\" >0.000</td>\n",
       "      <td id=\"T_667ba_row2_col6\" class=\"data row2 col6\" >0.000</td>\n",
       "      <td id=\"T_667ba_row2_col7\" class=\"data row2 col7\" >0.000</td>\n",
       "      <td id=\"T_667ba_row2_col8\" class=\"data row2 col8\" >0.000</td>\n",
       "      <td id=\"T_667ba_row2_col9\" class=\"data row2 col9\" >0.000</td>\n",
       "      <td id=\"T_667ba_row2_col10\" class=\"data row2 col10\" >0.000</td>\n",
       "      <td id=\"T_667ba_row2_col11\" class=\"data row2 col11\" >0.000</td>\n",
       "      <td id=\"T_667ba_row2_col12\" class=\"data row2 col12\" >0.000</td>\n",
       "      <td id=\"T_667ba_row2_col13\" class=\"data row2 col13\" >0.229</td>\n",
       "      <td id=\"T_667ba_row2_col14\" class=\"data row2 col14\" >0.453</td>\n",
       "      <td id=\"T_667ba_row2_col15\" class=\"data row2 col15\" >0.652</td>\n",
       "      <td id=\"T_667ba_row2_col16\" class=\"data row2 col16\" >0.887</td>\n",
       "      <td id=\"T_667ba_row2_col17\" class=\"data row2 col17\" >0.658</td>\n",
       "      <td id=\"T_667ba_row2_col18\" class=\"data row2 col18\" >0.434</td>\n",
       "      <td id=\"T_667ba_row2_col19\" class=\"data row2 col19\" >0.234</td>\n",
       "      <td id=\"T_667ba_row2_col20\" class=\"data row2 col20\" >0.000</td>\n",
       "    </tr>\n",
       "    <tr>\n",
       "      <th id=\"T_667ba_level0_row3\" class=\"row_heading level0 row3\" >Baggage Handling</th>\n",
       "      <td id=\"T_667ba_row3_col0\" class=\"data row3 col0\" >0.000</td>\n",
       "      <td id=\"T_667ba_row3_col1\" class=\"data row3 col1\" >0.120</td>\n",
       "      <td id=\"T_667ba_row3_col2\" class=\"data row3 col2\" >0.229</td>\n",
       "      <td id=\"T_667ba_row3_col3\" class=\"data row3 col3\" >0.229</td>\n",
       "      <td id=\"T_667ba_row3_col4\" class=\"data row3 col4\" >0.229</td>\n",
       "      <td id=\"T_667ba_row3_col5\" class=\"data row3 col5\" >0.109</td>\n",
       "      <td id=\"T_667ba_row3_col6\" class=\"data row3 col6\" >0.000</td>\n",
       "      <td id=\"T_667ba_row3_col7\" class=\"data row3 col7\" >0.000</td>\n",
       "      <td id=\"T_667ba_row3_col8\" class=\"data row3 col8\" >0.000</td>\n",
       "      <td id=\"T_667ba_row3_col9\" class=\"data row3 col9\" >0.000</td>\n",
       "      <td id=\"T_667ba_row3_col10\" class=\"data row3 col10\" >0.000</td>\n",
       "      <td id=\"T_667ba_row3_col11\" class=\"data row3 col11\" >0.000</td>\n",
       "      <td id=\"T_667ba_row3_col12\" class=\"data row3 col12\" >0.000</td>\n",
       "      <td id=\"T_667ba_row3_col13\" class=\"data row3 col13\" >0.000</td>\n",
       "      <td id=\"T_667ba_row3_col14\" class=\"data row3 col14\" >0.000</td>\n",
       "      <td id=\"T_667ba_row3_col15\" class=\"data row3 col15\" >0.000</td>\n",
       "      <td id=\"T_667ba_row3_col16\" class=\"data row3 col16\" >0.000</td>\n",
       "      <td id=\"T_667ba_row3_col17\" class=\"data row3 col17\" >0.000</td>\n",
       "      <td id=\"T_667ba_row3_col18\" class=\"data row3 col18\" >0.000</td>\n",
       "      <td id=\"T_667ba_row3_col19\" class=\"data row3 col19\" >0.000</td>\n",
       "      <td id=\"T_667ba_row3_col20\" class=\"data row3 col20\" >0.000</td>\n",
       "    </tr>\n",
       "    <tr>\n",
       "      <th id=\"T_667ba_level0_row4\" class=\"row_heading level0 row4\" >14_security_be_aware_risk</th>\n",
       "      <td id=\"T_667ba_row4_col0\" class=\"data row4 col0\" >0.000</td>\n",
       "      <td id=\"T_667ba_row4_col1\" class=\"data row4 col1\" >0.000</td>\n",
       "      <td id=\"T_667ba_row4_col2\" class=\"data row4 col2\" >0.000</td>\n",
       "      <td id=\"T_667ba_row4_col3\" class=\"data row4 col3\" >0.000</td>\n",
       "      <td id=\"T_667ba_row4_col4\" class=\"data row4 col4\" >0.000</td>\n",
       "      <td id=\"T_667ba_row4_col5\" class=\"data row4 col5\" >0.000</td>\n",
       "      <td id=\"T_667ba_row4_col6\" class=\"data row4 col6\" >0.000</td>\n",
       "      <td id=\"T_667ba_row4_col7\" class=\"data row4 col7\" >0.000</td>\n",
       "      <td id=\"T_667ba_row4_col8\" class=\"data row4 col8\" >0.000</td>\n",
       "      <td id=\"T_667ba_row4_col9\" class=\"data row4 col9\" >0.000</td>\n",
       "      <td id=\"T_667ba_row4_col10\" class=\"data row4 col10\" >0.000</td>\n",
       "      <td id=\"T_667ba_row4_col11\" class=\"data row4 col11\" >0.000</td>\n",
       "      <td id=\"T_667ba_row4_col12\" class=\"data row4 col12\" >0.158</td>\n",
       "      <td id=\"T_667ba_row4_col13\" class=\"data row4 col13\" >0.448</td>\n",
       "      <td id=\"T_667ba_row4_col14\" class=\"data row4 col14\" >0.731</td>\n",
       "      <td id=\"T_667ba_row4_col15\" class=\"data row4 col15\" >0.984</td>\n",
       "      <td id=\"T_667ba_row4_col16\" class=\"data row4 col16\" >0.826</td>\n",
       "      <td id=\"T_667ba_row4_col17\" class=\"data row4 col17\" >0.536</td>\n",
       "      <td id=\"T_667ba_row4_col18\" class=\"data row4 col18\" >0.252</td>\n",
       "      <td id=\"T_667ba_row4_col19\" class=\"data row4 col19\" >0.000</td>\n",
       "      <td id=\"T_667ba_row4_col20\" class=\"data row4 col20\" >0.000</td>\n",
       "    </tr>\n",
       "  </tbody>\n",
       "</table>\n"
      ],
      "text/plain": [
       "<pandas.io.formats.style.Styler at 0x7f85ab0d6450>"
      ]
     },
     "execution_count": 153,
     "metadata": {},
     "output_type": "execute_result"
    }
   ],
   "source": [
    "topic_distr, topic_token_distr = topic_model.approximate_distribution(all_reviews, calculate_tokens=True)\n",
    "\n",
    "# Visualize the token-level distributions\n",
    "df = topic_model.visualize_approximate_distribution(all_reviews[1], topic_token_distr[1])\n",
    "df"
   ]
  },
  {
   "cell_type": "code",
   "execution_count": 0,
   "metadata": {
    "application/vnd.databricks.v1+cell": {
     "cellMetadata": {},
     "inputWidgets": {},
     "nuid": "3ffa6a0f-8834-4c0e-a1ba-d5929ab72046",
     "showTitle": false,
     "tableResultSettingsMap": {},
     "title": ""
    }
   },
   "outputs": [],
   "source": [
    "new_document_topic, topic_probabilities = topic_model.transform([\"the movie was great but was having some audio glitches along the way which put off the experience\"])\n",
    "# Get the topic ID assigned to the new document\n",
    "topic_id = new_document_topic[0]\n",
    "# Get the topic words for the assigned topic\n",
    "topic_words = topic_model.get_topic(topic_id)\n",
    "topic_string = \", \".join([word for word, _ in topic_words])\n",
    "print(f\"The new document is related to Topic {topic_id}: {topic_string}\")\n",
    "print(topic_probabilities)"
   ]
  },
  {
   "cell_type": "markdown",
   "metadata": {
    "application/vnd.databricks.v1+cell": {
     "cellMetadata": {},
     "inputWidgets": {},
     "nuid": "7a182c0f-4375-490f-a1e4-6c11021a1ab5",
     "showTitle": false,
     "tableResultSettingsMap": {},
     "title": ""
    }
   },
   "source": [
    "## Save Model"
   ]
  },
  {
   "cell_type": "code",
   "execution_count": 0,
   "metadata": {
    "application/vnd.databricks.v1+cell": {
     "cellMetadata": {},
     "inputWidgets": {},
     "nuid": "0c1f9dbf-f59a-47ab-a68d-43cc274779d7",
     "showTitle": false,
     "tableResultSettingsMap": {},
     "title": ""
    }
   },
   "outputs": [],
   "source": [
    "# embedding_model = \"BAAI/bge-base-en-v1.5\"\n",
    "# topic_model.save(\"my_model_dir\", serialization=\"safetensors\", save_ctfidf=True, save_embedding_model=embedding_model)\n"
   ]
  }
 ],
 "metadata": {
  "application/vnd.databricks.v1+notebook": {
   "computePreferences": null,
   "dashboards": [
    {
     "elements": [
      {
       "dashboardResultIndex": 0,
       "elementNUID": "557f36ca-f4c1-45ff-908c-0f5028d51d9b",
       "elementType": "command",
       "guid": "848bccce-abe9-4b50-a074-ab464dbf9423",
       "options": null,
       "position": {
        "height": 11,
        "width": 24,
        "x": 0,
        "y": 0,
        "z": null
       },
       "resultIndex": null
      }
     ],
     "globalVars": {},
     "guid": "",
     "layoutOption": {
      "grid": true,
      "stack": true
     },
     "nuid": "164e0717-7fbb-4dce-bc7a-131d69aa0900",
     "origId": 3722098005847994,
     "title": "Untitled",
     "version": "DashboardViewV1",
     "width": 1024
    }
   ],
   "environmentMetadata": {
    "base_environment": "",
    "client": "1"
   },
   "language": "python",
   "notebookMetadata": {
    "mostRecentlyExecutedCommandWithImplicitDF": {
     "commandId": 1986678755447608,
     "dataframes": [
      "_sqldf"
     ]
    },
    "pythonIndentUnit": 2
   },
   "notebookName": "(notebook) 02_TOPIC_MODELING_bertopic",
   "widgets": {}
  },
  "language_info": {
   "name": "python"
  }
 },
 "nbformat": 4,
 "nbformat_minor": 0
}
