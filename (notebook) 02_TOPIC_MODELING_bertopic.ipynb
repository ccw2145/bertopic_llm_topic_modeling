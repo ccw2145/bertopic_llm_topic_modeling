{
 "cells": [
  {
   "cell_type": "code",
   "execution_count": 0,
   "metadata": {
    "application/vnd.databricks.v1+cell": {
     "cellMetadata": {
      "byteLimit": 2048000,
      "rowLimit": 10000
     },
     "inputWidgets": {},
     "nuid": "17f6da54-81a4-482b-94b6-e9b2d1def05c",
     "showTitle": false,
     "tableResultSettingsMap": {},
     "title": ""
    }
   },
   "outputs": [],
   "source": [
    "%%capture\n",
    "%pip install bertopic openai"
   ]
  },
  {
   "cell_type": "code",
   "execution_count": 0,
   "metadata": {
    "application/vnd.databricks.v1+cell": {
     "cellMetadata": {
      "byteLimit": 2048000,
      "rowLimit": 10000
     },
     "inputWidgets": {},
     "nuid": "f584b122-bd64-4504-80e8-673aef53f00e",
     "showTitle": false,
     "tableResultSettingsMap": {},
     "title": ""
    }
   },
   "outputs": [],
   "source": [
    "CATALOG = 'cindy_demo_catalog'\n",
    "SCHEMA = 'airline_bookings'\n",
    "INTENTS_TABLE = \"raw_intents_1000_function\"\n",
    "OUTPUT_TABLE = 'labeled_reviews_output_1000_all_airlines'\n",
    "\n",
    "TOKEN = dbutils.notebook.entry_point.getDbutils().notebook().getContext().apiToken().getOrElse(None)\n",
    "WORKSPACE_URL = f'https://{spark.conf.get(\"spark.databricks.workspaceUrl\")}'\n",
    "\n",
    "MODEL_ID = 'databricks-meta-llama-3-1-70b-instruct'\n"
   ]
  },
  {
   "cell_type": "markdown",
   "metadata": {
    "application/vnd.databricks.v1+cell": {
     "cellMetadata": {},
     "inputWidgets": {},
     "nuid": "1560a039-874e-4adc-af15-4e01744fb8bd",
     "showTitle": false,
     "tableResultSettingsMap": {},
     "title": ""
    }
   },
   "source": [
    "## Load Reviews from UC"
   ]
  },
  {
   "cell_type": "code",
   "execution_count": 0,
   "metadata": {
    "application/vnd.databricks.v1+cell": {
     "cellMetadata": {
      "byteLimit": 2048000,
      "rowLimit": 10000
     },
     "inputWidgets": {},
     "nuid": "8515290f-9c03-472a-bd6f-bd1110d75f41",
     "showTitle": false,
     "tableResultSettingsMap": {},
     "title": ""
    }
   },
   "outputs": [],
   "source": [
    "reviews_df = spark.table(f\"{CATALOG}.{SCHEMA}.{INTENTS_TABLE}\").toPandas()"
   ]
  },
  {
   "cell_type": "code",
   "execution_count": 0,
   "metadata": {
    "application/vnd.databricks.v1+cell": {
     "cellMetadata": {
      "byteLimit": 2048000,
      "rowLimit": 10000
     },
     "inputWidgets": {},
     "nuid": "83d475a8-7578-4d41-9022-9e822a4f9553",
     "showTitle": false,
     "tableResultSettingsMap": {},
     "title": ""
    }
   },
   "outputs": [],
   "source": [
    "all_reviews = [f\"{review['intent']}: {review['text_summary']}\" for _, review in reviews_df.iterrows()]"
   ]
  },
  {
   "cell_type": "code",
   "execution_count": 0,
   "metadata": {
    "application/vnd.databricks.v1+cell": {
     "cellMetadata": {
      "byteLimit": 2048000,
      "rowLimit": 10000
     },
     "inputWidgets": {},
     "nuid": "8c744c87-b174-42e5-a1f8-80c6b8987d89",
     "showTitle": false,
     "tableResultSettingsMap": {},
     "title": ""
    }
   },
   "outputs": [],
   "source": [
    "all_reviews, len(all_reviews)"
   ]
  },
  {
   "cell_type": "markdown",
   "metadata": {
    "application/vnd.databricks.v1+cell": {
     "cellMetadata": {},
     "inputWidgets": {},
     "nuid": "72a81e5b-0e34-4abd-8fb4-8dd3e3e1e247",
     "showTitle": false,
     "tableResultSettingsMap": {},
     "title": ""
    }
   },
   "source": [
    "## Compute Embeddings"
   ]
  },
  {
   "cell_type": "code",
   "execution_count": 0,
   "metadata": {
    "application/vnd.databricks.v1+cell": {
     "cellMetadata": {
      "byteLimit": 2048000,
      "rowLimit": 10000
     },
     "inputWidgets": {},
     "nuid": "e05acc6c-071b-49fc-8d0a-6fc95d4699d4",
     "showTitle": false,
     "tableResultSettingsMap": {},
     "title": ""
    }
   },
   "outputs": [],
   "source": [
    "from sentence_transformers import SentenceTransformer\n",
    "\n",
    "# Pre-calculate embeddings\n",
    "embedding_model = SentenceTransformer(\"BAAI/bge-base-en-v1.5\")\n",
    "embeddings = embedding_model.encode(all_reviews, show_progress_bar=True)"
   ]
  },
  {
   "cell_type": "markdown",
   "metadata": {
    "application/vnd.databricks.v1+cell": {
     "cellMetadata": {},
     "inputWidgets": {},
     "nuid": "8579600b-ce84-4bf0-be9d-bfe30ad01cfa",
     "showTitle": false,
     "tableResultSettingsMap": {},
     "title": ""
    }
   },
   "source": [
    "Option to save embeddings so dont have to generate embeddings everytime"
   ]
  },
  {
   "cell_type": "code",
   "execution_count": 0,
   "metadata": {
    "application/vnd.databricks.v1+cell": {
     "cellMetadata": {
      "byteLimit": 2048000,
      "rowLimit": 10000
     },
     "inputWidgets": {},
     "nuid": "6d1a2fcc-bb1d-4383-86a6-75f56e0663aa",
     "showTitle": true,
     "tableResultSettingsMap": {},
     "title": "Save Embeddings (optional)"
    }
   },
   "outputs": [],
   "source": [
    "# specify path to save embeddings\n",
    "embedding_file_path = 'embeddings_reviews.npy'\n",
    "import numpy as np\n",
    "with open(embedding_file_path, 'wb') as f:\n",
    "    np.save(f, embeddings)"
   ]
  },
  {
   "cell_type": "code",
   "execution_count": 0,
   "metadata": {
    "application/vnd.databricks.v1+cell": {
     "cellMetadata": {
      "byteLimit": 2048000,
      "rowLimit": 10000
     },
     "inputWidgets": {},
     "nuid": "33db8b49-1a6e-42bb-8d92-9fe4d90c5461",
     "showTitle": false,
     "tableResultSettingsMap": {},
     "title": ""
    }
   },
   "outputs": [],
   "source": [
    "# import numpy as np\n",
    "# embedding_file_path = 'embeddings.npy'\n",
    "# embeddings = np.load(embedding_file_path)"
   ]
  },
  {
   "cell_type": "markdown",
   "metadata": {
    "application/vnd.databricks.v1+cell": {
     "cellMetadata": {},
     "inputWidgets": {},
     "nuid": "13927973-1f44-414c-81f1-ac84c6f8b9a9",
     "showTitle": false,
     "tableResultSettingsMap": {},
     "title": ""
    }
   },
   "source": [
    "## Zero-shot Topic Modeling"
   ]
  },
  {
   "cell_type": "markdown",
   "metadata": {
    "application/vnd.databricks.v1+cell": {
     "cellMetadata": {},
     "inputWidgets": {},
     "nuid": "ee660d3a-75cd-49a0-a21e-04cc88697164",
     "showTitle": false,
     "tableResultSettingsMap": {},
     "title": ""
    }
   },
   "source": [
    "### Predefined list of topics"
   ]
  },
  {
   "cell_type": "code",
   "execution_count": 0,
   "metadata": {
    "application/vnd.databricks.v1+cell": {
     "cellMetadata": {
      "byteLimit": 2048000,
      "rowLimit": 10000
     },
     "inputWidgets": {},
     "nuid": "fc9d05d3-9ba5-4123-95fe-c92be66cb638",
     "showTitle": false,
     "tableResultSettingsMap": {},
     "title": ""
    }
   },
   "outputs": [],
   "source": [
    "predefined_topics  = [\n",
    "    \"Check-in and Boarding\",\n",
    "    \"Seating Comfort\",\n",
    "    \"In-Flight Wi-Fi\",\n",
    "    \"Cabin Cleanliness\",\n",
    "    \"Food and Beverage\",\n",
    "    \"Flight Attendants and Crew Services\",\n",
    "    \"Baggage Handling\",\n",
    "    \"Flight Disruptions and Delays\",\n",
    "    \"Loyalty Program and benefits\",\n",
    "    \"Pricing Transparency and Fees\",\n",
    "    \"Safety Measures\",\n",
    "    \"Ground Services Assistance\",\n",
    "    \"Accessibility and special assistance\"\n",
    "]"
   ]
  },
  {
   "cell_type": "code",
   "execution_count": 0,
   "metadata": {
    "application/vnd.databricks.v1+cell": {
     "cellMetadata": {
      "byteLimit": 2048000,
      "rowLimit": 10000
     },
     "inputWidgets": {},
     "nuid": "ca4edcd1-aa81-4540-9a28-0a406c191b3a",
     "showTitle": false,
     "tableResultSettingsMap": {},
     "title": ""
    }
   },
   "outputs": [],
   "source": [
    "len(predefined_topics)"
   ]
  },
  {
   "cell_type": "markdown",
   "metadata": {
    "application/vnd.databricks.v1+cell": {
     "cellMetadata": {},
     "inputWidgets": {},
     "nuid": "6f9cf458-618b-4182-94d7-e38923694958",
     "showTitle": false,
     "tableResultSettingsMap": {},
     "title": ""
    }
   },
   "source": [
    "### BERTopic Model"
   ]
  },
  {
   "cell_type": "markdown",
   "metadata": {
    "application/vnd.databricks.v1+cell": {
     "cellMetadata": {},
     "inputWidgets": {},
     "nuid": "99cf6d2f-9307-487f-81fe-816c6c6d4e66",
     "showTitle": false,
     "tableResultSettingsMap": {},
     "title": ""
    }
   },
   "source": [
    "#### Set up Databricks llm endpoint for topic generation"
   ]
  },
  {
   "cell_type": "code",
   "execution_count": 0,
   "metadata": {
    "application/vnd.databricks.v1+cell": {
     "cellMetadata": {},
     "inputWidgets": {},
     "nuid": "a46dcbd8-9fe9-4b76-9215-db1c525904c3",
     "showTitle": false,
     "tableResultSettingsMap": {},
     "title": ""
    }
   },
   "outputs": [],
   "source": [
    "import openai\n",
    "client = openai.OpenAI(base_url=f\"{WORKSPACE_URL}/serving-endpoints/\", api_key=TOKEN)"
   ]
  },
  {
   "cell_type": "markdown",
   "metadata": {
    "application/vnd.databricks.v1+cell": {
     "cellMetadata": {},
     "inputWidgets": {},
     "nuid": "a187ce9a-6ef8-416f-840a-ada96f669fed",
     "showTitle": false,
     "tableResultSettingsMap": {},
     "title": ""
    }
   },
   "source": [
    "#### Create the representation model\n"
   ]
  },
  {
   "cell_type": "code",
   "execution_count": 0,
   "metadata": {
    "application/vnd.databricks.v1+cell": {
     "cellMetadata": {
      "byteLimit": 2048000,
      "rowLimit": 10000
     },
     "inputWidgets": {},
     "nuid": "305ecc16-1949-463b-9485-9648b1f219f8",
     "showTitle": true,
     "tableResultSettingsMap": {},
     "title": "custom llm prompt"
    }
   },
   "outputs": [],
   "source": [
    "prompt = \"\"\"\n",
    "Generate a short topic label based on reviews and key words describing the reviews. \n",
    "\n",
    "Make sure the response only contains the topic label. The response should be in the following format:\n",
    "'''\n",
    "topic: <topic label>\n",
    "'''\n",
    "\n",
    "Here are some examples of topic labels: \n",
    "'''\n",
    "topic: Seating Comfort\n",
    "topic: Food and Beverage Quality\n",
    "topic: Baggage Handling\n",
    "'''\n",
    "\n",
    "Here are the reviews:\n",
    "[DOCUMENTS]\n",
    "\n",
    "Here are the keywords that are relevant to the reviews. Use them as reference for the topic label, but keep in mind the key words are not always the most representative. [KEYWORDS]\n",
    "\n",
    "Now read the reviews and keywords carefully, and respond with the topic label that best categories the reviews. Remember to respond in the correct format.\n",
    "\"\"\""
   ]
  },
  {
   "cell_type": "code",
   "execution_count": 0,
   "metadata": {
    "application/vnd.databricks.v1+cell": {
     "cellMetadata": {},
     "inputWidgets": {},
     "nuid": "a4aa8bd1-96a1-4d1a-9deb-19f4e867bb7e",
     "showTitle": false,
     "tableResultSettingsMap": {},
     "title": ""
    }
   },
   "outputs": [],
   "source": [
    "# import tiktoken\n",
    "# Tokenizer\n",
    "# tokenizer= tiktoken.encoding_for_model(\"gpt-3.5-turbo\")"
   ]
  },
  {
   "cell_type": "code",
   "execution_count": 0,
   "metadata": {
    "application/vnd.databricks.v1+cell": {
     "cellMetadata": {
      "byteLimit": 2048000,
      "rowLimit": 10000
     },
     "inputWidgets": {},
     "nuid": "099262b3-3b1e-43ed-a469-10da9e24b242",
     "showTitle": false,
     "tableResultSettingsMap": {},
     "title": ""
    }
   },
   "outputs": [],
   "source": [
    "from bertopic.representation import OpenAI\n",
    "from bertopic import BERTopic\n",
    "openai_generator = OpenAI(\n",
    "    client,\n",
    "    model=MODEL_ID,\n",
    "    chat=True,\n",
    "    nr_docs=5,\n",
    "    prompt=prompt\n",
    ")"
   ]
  },
  {
   "cell_type": "code",
   "execution_count": 0,
   "metadata": {
    "application/vnd.databricks.v1+cell": {
     "cellMetadata": {
      "byteLimit": 2048000,
      "rowLimit": 10000
     },
     "inputWidgets": {},
     "nuid": "f62ae8f5-0b24-45b6-bd99-79a96aee6872",
     "showTitle": false,
     "tableResultSettingsMap": {},
     "title": ""
    }
   },
   "outputs": [],
   "source": [
    "print(openai_generator.default_prompt_)"
   ]
  },
  {
   "cell_type": "code",
   "execution_count": 0,
   "metadata": {
    "application/vnd.databricks.v1+cell": {
     "cellMetadata": {
      "byteLimit": 2048000,
      "rowLimit": 10000
     },
     "inputWidgets": {},
     "nuid": "49e57cc4-8abf-4095-a1c6-4acd075d4d0c",
     "showTitle": false,
     "tableResultSettingsMap": {},
     "title": ""
    }
   },
   "outputs": [],
   "source": [
    "print(openai_generator.prompt)"
   ]
  },
  {
   "cell_type": "code",
   "execution_count": 0,
   "metadata": {
    "application/vnd.databricks.v1+cell": {
     "cellMetadata": {
      "byteLimit": 2048000,
      "rowLimit": 10000
     },
     "collapsed": true,
     "inputWidgets": {},
     "nuid": "e9ca68ca-918e-484c-b136-e17817fb7b80",
     "showTitle": false,
     "tableResultSettingsMap": {},
     "title": ""
    }
   },
   "outputs": [],
   "source": [
    "# Temp helper function \n",
    "def fixed_topic_labels_(self):\n",
    "    \"\"\"Map topic IDs to their labels.\n",
    "    A label is the topic ID, along with the first four words of the topic representation, joined using '_'.\n",
    "    Zeroshot topic labels come from self.zeroshot_topic_list rather than the calculated representation.\n",
    "\n",
    "    Returns:\n",
    "        topic_labels: a dict mapping a topic ID (int) to its label (str)\n",
    "    \"\"\"\n",
    "    topic_labels = {\n",
    "        key: f\"{key}_\" + \"_\".join([word[0] for word in values[:4]])\n",
    "        for key, values in self.topic_representations_.items()\n",
    "    }\n",
    "    if self._is_zeroshot():\n",
    "        # Need to correct labels from zero-shot topics\n",
    "        topic_id_to_zeroshot_label = {\n",
    "            self.topic_mapper_.get_mappings()[topic_id]: self.zeroshot_topic_list[zeroshot_topic_idx]\n",
    "            for topic_id, zeroshot_topic_idx in self._topic_id_to_zeroshot_topic_idx.items()\n",
    "        }\n",
    "        topic_labels.update(topic_id_to_zeroshot_label)\n",
    "    return topic_labels\n",
    "BERTopic.topic_labels_ = property(fixed_topic_labels_)\n"
   ]
  },
  {
   "cell_type": "markdown",
   "metadata": {
    "application/vnd.databricks.v1+cell": {
     "cellMetadata": {},
     "inputWidgets": {},
     "nuid": "99993d20-3b26-49f7-b28b-4da19c1388ef",
     "showTitle": false,
     "tableResultSettingsMap": {},
     "title": ""
    }
   },
   "source": [
    "%md\n",
    "##### *UPDATED: `representations` use less topic representation to speed things up*"
   ]
  },
  {
   "cell_type": "markdown",
   "metadata": {
    "application/vnd.databricks.v1+cell": {
     "cellMetadata": {},
     "inputWidgets": {},
     "nuid": "da05a48a-ec54-4f2a-930b-0998e6faa757",
     "showTitle": false,
     "tableResultSettingsMap": {},
     "title": ""
    }
   },
   "source": [
    "source code for zeroshot classification: https://github.com/MaartenGr/BERTopic/blob/master/bertopic/representation/_zeroshot.py\n"
   ]
  },
  {
   "cell_type": "code",
   "execution_count": 0,
   "metadata": {
    "application/vnd.databricks.v1+cell": {
     "cellMetadata": {
      "byteLimit": 2048000,
      "rowLimit": 10000
     },
     "inputWidgets": {},
     "nuid": "f80a43a0-91b7-41d8-be48-bf695d188ec0",
     "showTitle": true,
     "tableResultSettingsMap": {},
     "title": "Representation Model"
    }
   },
   "outputs": [],
   "source": [
    "## UPDATED\n",
    "from bertopic.representation import KeyBERTInspired, MaximalMarginalRelevance, OpenAI, ZeroShotClassification\n",
    "ai_representation = [MaximalMarginalRelevance(diversity=0.3), openai_generator]\n",
    "# text_model_representation = [MaximalMarginalRelevance(diversity=0.3),ZeroShotClassification(predefined_topics, model=\"MoritzLaurer/DeBERTa-v3-base-mnli-fever-anli\")] #, min_prob=0.8 \n",
    "\n",
    "\n",
    "representations = {\n",
    "    \"AI_Generated\": ai_representation,\n",
    "    # \"Classification_zeroshot\": text_model_representation,\n",
    "    \"KeyBERT\": KeyBERTInspired()  \n",
    "}\n"
   ]
  },
  {
   "cell_type": "code",
   "execution_count": 0,
   "metadata": {
    "application/vnd.databricks.v1+cell": {
     "cellMetadata": {
      "byteLimit": 2048000,
      "rowLimit": 10000
     },
     "inputWidgets": {},
     "nuid": "a50defc7-8a13-4b09-ab2f-c259552ec1dd",
     "showTitle": true,
     "tableResultSettingsMap": {},
     "title": "Embedding model"
    }
   },
   "outputs": [],
   "source": [
    "# import openai\n",
    "# from bertopic.backend import OpenAIBackend\n",
    "# embedding_model = OpenAIBackend(client, 'databricks-bge-large-en')\n",
    "# embedding_model.embed('test')"
   ]
  },
  {
   "cell_type": "code",
   "execution_count": 0,
   "metadata": {
    "application/vnd.databricks.v1+cell": {
     "cellMetadata": {
      "byteLimit": 2048000,
      "rowLimit": 10000
     },
     "inputWidgets": {},
     "nuid": "ac6c98c3-ca98-4a3e-bd1e-15ee28ea928c",
     "showTitle": true,
     "tableResultSettingsMap": {},
     "title": "Dimension reduction"
    }
   },
   "outputs": [],
   "source": [
    "# from umap import UMAP\n",
    "# umap_model = UMAP(n_neighbors=100, n_components=5, min_dist=0.0, metric='cosine', random_state=42)"
   ]
  },
  {
   "cell_type": "code",
   "execution_count": 0,
   "metadata": {
    "application/vnd.databricks.v1+cell": {
     "cellMetadata": {
      "byteLimit": 2048000,
      "rowLimit": 10000
     },
     "inputWidgets": {},
     "nuid": "c3c78d9d-8a76-4cb4-a17a-1b2cd548a940",
     "showTitle": true,
     "tableResultSettingsMap": {},
     "title": "Clustering Model"
    }
   },
   "outputs": [],
   "source": [
    "## min_cluster_size=min_topic_size\n",
    "\n",
    "# from hdbscan import HDBSCAN\n",
    "# hdbscan_model = HDBSCAN(min_cluster_size=100, metric='euclidean', cluster_selection_method='eom', prediction_data=True)"
   ]
  },
  {
   "cell_type": "markdown",
   "metadata": {
    "application/vnd.databricks.v1+cell": {
     "cellMetadata": {},
     "inputWidgets": {},
     "nuid": "20ff0b34-29f4-4954-a6dc-d7490e523a5b",
     "showTitle": false,
     "tableResultSettingsMap": {},
     "title": ""
    }
   },
   "source": [
    "## Put together pipeline and train\n",
    "Source Code : https://github.com/MaartenGr/BERTopic/blob/master/bertopic/_bertopic.py#L3802\n"
   ]
  },
  {
   "cell_type": "markdown",
   "metadata": {
    "application/vnd.databricks.v1+cell": {
     "cellMetadata": {},
     "inputWidgets": {},
     "nuid": "d0dd9f8a-d716-4285-9310-2846a73a357e",
     "showTitle": false,
     "tableResultSettingsMap": {},
     "title": ""
    }
   },
   "source": [
    "##### Set `min_topic_size` to be higher (min sample needed for each cluster) for large datasets*"
   ]
  },
  {
   "cell_type": "code",
   "execution_count": 0,
   "metadata": {
    "application/vnd.databricks.v1+cell": {
     "cellMetadata": {
      "byteLimit": 2048000,
      "rowLimit": 10000
     },
     "inputWidgets": {},
     "nuid": "c81b0842-3a1c-4e94-b1e2-6d5ea2eb86f6",
     "showTitle": true,
     "tableResultSettingsMap": {},
     "title": "Topic Model"
    }
   },
   "outputs": [],
   "source": [
    "zeroshot_topic_list = predefined_topics\n",
    "topic_model = BERTopic(\n",
    "    embedding_model=\"BAAI/bge-base-en-v1.5\",\n",
    "    verbose=True,\n",
    "    # umap_model=umap_model, hdbscan_model=hdbscan_model,\n",
    "    # nr_topics=40, # reduces topic by clustering after topic generation\n",
    "    min_topic_size=50, \n",
    "    zeroshot_topic_list=predefined_topics,\n",
    "    zeroshot_min_similarity=.6,\n",
    "    representation_model=representations \n",
    ")\n",
    "topics,probs = topic_model.fit_transform(all_reviews, embeddings)"
   ]
  },
  {
   "cell_type": "markdown",
   "metadata": {
    "application/vnd.databricks.v1+cell": {
     "cellMetadata": {},
     "inputWidgets": {},
     "nuid": "0555b2a9-f138-4365-99d5-7318d85c8c8b",
     "showTitle": false,
     "tableResultSettingsMap": {},
     "title": ""
    }
   },
   "source": [
    "## Results"
   ]
  },
  {
   "cell_type": "markdown",
   "metadata": {
    "application/vnd.databricks.v1+cell": {
     "cellMetadata": {},
     "inputWidgets": {},
     "nuid": "e5521237-ed50-45d1-8bc0-e35138a3a4fa",
     "showTitle": false,
     "tableResultSettingsMap": {},
     "title": ""
    }
   },
   "source": [
    "- Name: predefined topics + top keywords for topic clusters \n",
    "- Default Representation: keywords based on c-TF-IDF (https://maartengr.github.io/BERTopic/algorithm/algorithm.html#5-topic-representation)\n",
    "- AI_Generated: generates a label based on keywords and prompt \n",
    "- KeyBERT: key word extracted with Keybert() to compare"
   ]
  },
  {
   "cell_type": "code",
   "execution_count": 0,
   "metadata": {
    "application/vnd.databricks.v1+cell": {
     "cellMetadata": {
      "byteLimit": 2048000,
      "rowLimit": 10000
     },
     "inputWidgets": {},
     "nuid": "557f36ca-f4c1-45ff-908c-0f5028d51d9b",
     "showTitle": true,
     "tableResultSettingsMap": {},
     "title": "Inspect Topics"
    }
   },
   "outputs": [],
   "source": [
    "spark.createDataFrame(topic_model.get_topic_info()).display()"
   ]
  },
  {
   "cell_type": "markdown",
   "metadata": {
    "application/vnd.databricks.v1+cell": {
     "cellMetadata": {},
     "inputWidgets": {},
     "nuid": "914684ea-cdad-4b2f-abe8-2ad6aedf6721",
     "showTitle": false,
     "tableResultSettingsMap": {},
     "title": ""
    }
   },
   "source": [
    "#### Option to further reduce outliers with clustering"
   ]
  },
  {
   "cell_type": "code",
   "execution_count": 0,
   "metadata": {
    "application/vnd.databricks.v1+cell": {
     "cellMetadata": {
      "byteLimit": 2048000,
      "rowLimit": 10000
     },
     "inputWidgets": {},
     "nuid": "522280ec-625c-4b88-a179-53f93052aba6",
     "showTitle": false,
     "tableResultSettingsMap": {},
     "title": ""
    }
   },
   "outputs": [],
   "source": [
    "# Reduce outliers\n",
    "new_topics = topic_model.reduce_outliers(all_reviews, topics)"
   ]
  },
  {
   "cell_type": "code",
   "execution_count": 0,
   "metadata": {
    "application/vnd.databricks.v1+cell": {
     "cellMetadata": {
      "byteLimit": 2048000,
      "rowLimit": 10000
     },
     "inputWidgets": {},
     "nuid": "54da6035-077a-4b23-9f69-c48be978f44c",
     "showTitle": false,
     "tableResultSettingsMap": {},
     "title": ""
    }
   },
   "outputs": [],
   "source": [
    "# Update the model\n",
    "topic_model.update_topics(all_reviews, topics=new_topics)"
   ]
  },
  {
   "cell_type": "code",
   "execution_count": 0,
   "metadata": {
    "application/vnd.databricks.v1+cell": {
     "cellMetadata": {
      "byteLimit": 2048000,
      "rowLimit": 10000
     },
     "inputWidgets": {},
     "nuid": "dfa28702-19da-4496-b446-de5180d4979b",
     "showTitle": false,
     "tableResultSettingsMap": {},
     "title": ""
    }
   },
   "outputs": [],
   "source": [
    "# Updated topics\n",
    "spark.createDataFrame(topic_model.get_topic_info()).display()"
   ]
  },
  {
   "cell_type": "markdown",
   "metadata": {
    "application/vnd.databricks.v1+cell": {
     "cellMetadata": {},
     "inputWidgets": {},
     "nuid": "05fb4d25-5379-408f-a1d0-c13455a9cae5",
     "showTitle": false,
     "tableResultSettingsMap": {},
     "title": ""
    }
   },
   "source": [
    "Probabilities:1) zeroshot topics:cosine similarity 2) rest: clustering 'confidence' (membership probability)"
   ]
  },
  {
   "cell_type": "code",
   "execution_count": 0,
   "metadata": {
    "application/vnd.databricks.v1+cell": {
     "cellMetadata": {
      "byteLimit": 2048000,
      "rowLimit": 10000
     },
     "inputWidgets": {},
     "nuid": "c7f63f0f-536a-4ad1-a510-b75a1829eb1c",
     "showTitle": false,
     "tableResultSettingsMap": {},
     "title": ""
    }
   },
   "outputs": [],
   "source": [
    "import pandas as pd\n",
    "topic_names = [topic_model.get_topic_info(topic_id)['Name'][0] for topic_id in new_topics]\n",
    "llm_topic_names = [topic_model.get_topic_info(topic_id)['AI_Generated'][0][0].strip(\"'''\").strip('\\n') for topic_id in new_topics]\n",
    "results_df = pd.DataFrame(data={\"topic_id\": new_topics, \"probability\": probs, \"topic_name\": topic_names, \"llm_topic_name\": llm_topic_names, \"document\": all_reviews })\n",
    "results_df"
   ]
  },
  {
   "cell_type": "code",
   "execution_count": 0,
   "metadata": {
    "application/vnd.databricks.v1+cell": {
     "cellMetadata": {
      "byteLimit": 2048000,
      "rowLimit": 10000
     },
     "inputWidgets": {},
     "nuid": "9a058ae0-2f9b-4186-8aeb-5d8c6d675471",
     "showTitle": false,
     "tableResultSettingsMap": {},
     "title": ""
    }
   },
   "outputs": [],
   "source": [
    "# Save results table to Unity Catalog\n",
    "spark.createDataFrame(results_df).write.format(\"delta\").saveAsTable(f\"{CATALOG}.{SCHEma}.{OUTPUT_TABLE}\")"
   ]
  },
  {
   "cell_type": "markdown",
   "metadata": {
    "application/vnd.databricks.v1+cell": {
     "cellMetadata": {},
     "inputWidgets": {},
     "nuid": "2fd0bdc5-4f73-48d8-aa93-6173cff73310",
     "showTitle": false,
     "tableResultSettingsMap": {},
     "title": ""
    }
   },
   "source": [
    "## Visualize topics"
   ]
  },
  {
   "cell_type": "code",
   "execution_count": 0,
   "metadata": {
    "application/vnd.databricks.v1+cell": {
     "cellMetadata": {
      "byteLimit": 2048000,
      "rowLimit": 10000
     },
     "inputWidgets": {},
     "nuid": "e304f465-282e-458e-bcec-59b759087550",
     "showTitle": false,
     "tableResultSettingsMap": {},
     "title": ""
    }
   },
   "outputs": [],
   "source": [
    "# Use llm labels for visualization\n",
    "llm_topic_labels = {topic:values[0][0].strip(\"'''\").strip('\\n') for topic, values in topic_model.topic_aspects_['AI_Generated'].items()}\n",
    "llm_topic_labels[-1] = \"Outlier Topic\"\n",
    "topic_model.set_topic_labels(llm_topic_labels)\n",
    "# llm_topic_labels"
   ]
  },
  {
   "cell_type": "code",
   "execution_count": 0,
   "metadata": {
    "application/vnd.databricks.v1+cell": {
     "cellMetadata": {
      "byteLimit": 2048000,
      "rowLimit": 10000
     },
     "inputWidgets": {},
     "nuid": "9e0238fb-a843-4efe-922c-eb4048f36f20",
     "showTitle": false,
     "tableResultSettingsMap": {},
     "title": ""
    }
   },
   "outputs": [],
   "source": [
    "topic_model.visualize_topics(custom_labels=True)"
   ]
  },
  {
   "cell_type": "code",
   "execution_count": 0,
   "metadata": {
    "application/vnd.databricks.v1+cell": {
     "cellMetadata": {
      "byteLimit": 2048000,
      "rowLimit": 10000
     },
     "inputWidgets": {},
     "nuid": "b060a5ca-13d6-4b48-9204-da9491e9b63f",
     "showTitle": false,
     "tableResultSettingsMap": {},
     "title": ""
    }
   },
   "outputs": [],
   "source": [
    "TOPIC_NUM = 10\n",
    "topic_model.visualize_barchart(top_n_topics=TOPIC_NUM, height=200,custom_labels=True)"
   ]
  },
  {
   "cell_type": "code",
   "execution_count": 0,
   "metadata": {
    "application/vnd.databricks.v1+cell": {
     "cellMetadata": {
      "byteLimit": 2048000,
      "rowLimit": 10000
     },
     "inputWidgets": {},
     "nuid": "7bbdd58d-4848-4c05-85a6-a72ec10700dd",
     "showTitle": false,
     "tableResultSettingsMap": {},
     "title": ""
    }
   },
   "outputs": [],
   "source": [
    "topic_model.visualize_hierarchy(custom_labels=True)"
   ]
  },
  {
   "cell_type": "code",
   "execution_count": 0,
   "metadata": {
    "application/vnd.databricks.v1+cell": {
     "cellMetadata": {
      "byteLimit": 2048000,
      "rowLimit": 10000
     },
     "inputWidgets": {},
     "nuid": "c1331505-f749-493d-b2ae-3ef3fea29ae5",
     "showTitle": false,
     "tableResultSettingsMap": {},
     "title": ""
    }
   },
   "outputs": [],
   "source": [
    "# Visualize hierarchy with custom labels\n",
    "topic_model.visualize_hierarchy()#custom_labels=True)"
   ]
  },
  {
   "cell_type": "code",
   "execution_count": 0,
   "metadata": {
    "application/vnd.databricks.v1+cell": {
     "cellMetadata": {
      "byteLimit": 2048000,
      "rowLimit": 10000
     },
     "inputWidgets": {},
     "nuid": "2b53a3a5-8e96-49e9-b1bf-64ce853c0df5",
     "showTitle": false,
     "tableResultSettingsMap": {},
     "title": ""
    }
   },
   "outputs": [],
   "source": [
    "topic_model.visualize_heatmap()"
   ]
  },
  {
   "cell_type": "code",
   "execution_count": 0,
   "metadata": {
    "application/vnd.databricks.v1+cell": {
     "cellMetadata": {
      "byteLimit": 2048000,
      "rowLimit": 10000
     },
     "inputWidgets": {},
     "nuid": "d48d3c7e-0ce0-4287-8cd1-34069f0c5869",
     "showTitle": false,
     "tableResultSettingsMap": {},
     "title": ""
    }
   },
   "outputs": [],
   "source": [
    "topic_distr, _ = topic_model.approximate_distribution([\"Cabin crew service: Felt like a nuisance and was deliberately ignored by male cabin crew.\"])\n",
    "topic_distr"
   ]
  },
  {
   "cell_type": "code",
   "execution_count": 0,
   "metadata": {
    "application/vnd.databricks.v1+cell": {
     "cellMetadata": {
      "byteLimit": 2048000,
      "rowLimit": 10000
     },
     "inputWidgets": {},
     "nuid": "fdc8d494-d371-434f-824c-cf15988d89e4",
     "showTitle": false,
     "tableResultSettingsMap": {},
     "title": ""
    }
   },
   "outputs": [],
   "source": [
    "# Visualize the topic-document distribution for a single document\n",
    "topic_model.visualize_distribution(topic_distr[0], custom_labels=True)"
   ]
  },
  {
   "cell_type": "markdown",
   "metadata": {
    "application/vnd.databricks.v1+cell": {
     "cellMetadata": {},
     "inputWidgets": {},
     "nuid": "84b99b5d-e763-45b5-8021-60c64a15ff7f",
     "showTitle": false,
     "tableResultSettingsMap": {},
     "title": ""
    }
   },
   "source": [
    "## Predict topics for new reviews"
   ]
  },
  {
   "cell_type": "code",
   "execution_count": 0,
   "metadata": {
    "application/vnd.databricks.v1+cell": {
     "cellMetadata": {
      "byteLimit": 2048000,
      "rowLimit": 10000
     },
     "inputWidgets": {},
     "nuid": "25046ada-5b67-42b2-8dce-b06e6748de3d",
     "showTitle": false,
     "tableResultSettingsMap": {},
     "title": ""
    }
   },
   "outputs": [],
   "source": [
    "# topic_model.transform(new_reviews)"
   ]
  },
  {
   "cell_type": "code",
   "execution_count": 0,
   "metadata": {
    "application/vnd.databricks.v1+cell": {
     "cellMetadata": {
      "byteLimit": 2048000,
      "rowLimit": 10000
     },
     "inputWidgets": {},
     "nuid": "f6f859d0-81a0-4060-8567-c866ae749376",
     "showTitle": false,
     "tableResultSettingsMap": {},
     "title": ""
    }
   },
   "outputs": [],
   "source": [
    "topic_distr, topic_token_distr = topic_model.approximate_distribution(all_reviews, calculate_tokens=True)\n",
    "\n",
    "# Visualize the token-level distributions\n",
    "df = topic_model.visualize_approximate_distribution(all_reviews[1], topic_token_distr[1])\n",
    "df"
   ]
  },
  {
   "cell_type": "code",
   "execution_count": 0,
   "metadata": {
    "application/vnd.databricks.v1+cell": {
     "cellMetadata": {},
     "inputWidgets": {},
     "nuid": "3ffa6a0f-8834-4c0e-a1ba-d5929ab72046",
     "showTitle": false,
     "tableResultSettingsMap": {},
     "title": ""
    }
   },
   "outputs": [],
   "source": [
    "new_document_topic, topic_probabilities = topic_model.transform([\"the movie was great but was having some audio glitches along the way which put off the experience\"])\n",
    "# Get the topic ID assigned to the new document\n",
    "topic_id = new_document_topic[0]\n",
    "# Get the topic words for the assigned topic\n",
    "topic_words = topic_model.get_topic(topic_id)\n",
    "topic_string = \", \".join([word for word, _ in topic_words])\n",
    "print(f\"The new document is related to Topic {topic_id}: {topic_string}\")\n",
    "print(topic_probabilities)"
   ]
  },
  {
   "cell_type": "markdown",
   "metadata": {
    "application/vnd.databricks.v1+cell": {
     "cellMetadata": {},
     "inputWidgets": {},
     "nuid": "7a182c0f-4375-490f-a1e4-6c11021a1ab5",
     "showTitle": false,
     "tableResultSettingsMap": {},
     "title": ""
    }
   },
   "source": [
    "## Save Model"
   ]
  },
  {
   "cell_type": "code",
   "execution_count": 0,
   "metadata": {
    "application/vnd.databricks.v1+cell": {
     "cellMetadata": {},
     "inputWidgets": {},
     "nuid": "0c1f9dbf-f59a-47ab-a68d-43cc274779d7",
     "showTitle": false,
     "tableResultSettingsMap": {},
     "title": ""
    }
   },
   "outputs": [],
   "source": [
    "# embedding_model = \"BAAI/bge-base-en-v1.5\"\n",
    "# topic_model.save(\"my_model_dir\", serialization=\"safetensors\", save_ctfidf=True, save_embedding_model=embedding_model)\n"
   ]
  }
 ],
 "metadata": {
  "application/vnd.databricks.v1+notebook": {
   "computePreferences": null,
   "dashboards": [
    {
     "elements": [
      {
       "dashboardResultIndex": 0,
       "elementNUID": "557f36ca-f4c1-45ff-908c-0f5028d51d9b",
       "elementType": "command",
       "guid": "848bccce-abe9-4b50-a074-ab464dbf9423",
       "options": null,
       "position": {
        "height": 11,
        "width": 24,
        "x": 0,
        "y": 0,
        "z": null
       },
       "resultIndex": null
      }
     ],
     "globalVars": {},
     "guid": "",
     "layoutOption": {
      "grid": true,
      "stack": true
     },
     "nuid": "164e0717-7fbb-4dce-bc7a-131d69aa0900",
     "origId": 3722098005847994,
     "title": "Untitled",
     "version": "DashboardViewV1",
     "width": 1024
    }
   ],
   "environmentMetadata": {
    "base_environment": "",
    "client": "1"
   },
   "language": "python",
   "notebookMetadata": {
    "mostRecentlyExecutedCommandWithImplicitDF": {
     "commandId": 1986678755447608,
     "dataframes": [
      "_sqldf"
     ]
    },
    "pythonIndentUnit": 2
   },
   "notebookName": "(notebook) 02_TOPIC_MODELING_bertopic",
   "widgets": {}
  },
  "language_info": {
   "name": "python"
  }
 },
 "nbformat": 4,
 "nbformat_minor": 0
}
