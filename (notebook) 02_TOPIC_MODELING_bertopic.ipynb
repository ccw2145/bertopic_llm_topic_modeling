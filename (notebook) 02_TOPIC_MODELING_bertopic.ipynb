{
 "cells": [
  {
   "cell_type": "code",
   "execution_count": 0,
   "metadata": {
    "application/vnd.databricks.v1+cell": {
     "cellMetadata": {
      "byteLimit": 2048000,
      "rowLimit": 10000
     },
     "inputWidgets": {},
     "nuid": "17f6da54-81a4-482b-94b6-e9b2d1def05c",
     "showTitle": false,
     "tableResultSettingsMap": {},
     "title": ""
    }
   },
   "outputs": [],
   "source": [
    "%%capture\n",
    "%pip install bertopic openai"
   ]
  },
  {
   "cell_type": "code",
   "execution_count": 0,
   "metadata": {
    "application/vnd.databricks.v1+cell": {
     "cellMetadata": {
      "byteLimit": 2048000,
      "rowLimit": 10000
     },
     "inputWidgets": {},
     "nuid": "f584b122-bd64-4504-80e8-673aef53f00e",
     "showTitle": false,
     "tableResultSettingsMap": {},
     "title": ""
    }
   },
   "outputs": [],
   "source": [
    "CATALOG = 'cindy_demo_catalog'\n",
    "SCHEMA = 'airline_bookings'\n",
    "INTENTS_TABLE = \"raw_intents_1000_function\"\n",
    "OUTPUT_TABLE = 'labeled_reviews_output_1000_all_airlines'\n",
    "\n",
    "TOKEN = dbutils.notebook.entry_point.getDbutils().notebook().getContext().apiToken().getOrElse(None)\n",
    "WORKSPACE_URL = f'https://{spark.conf.get(\"spark.databricks.workspaceUrl\")}'\n",
    "\n",
    "MODEL_ID = 'databricks-meta-llama-3-1-70b-instruct'\n"
   ]
  },
  {
   "cell_type": "markdown",
   "metadata": {
    "application/vnd.databricks.v1+cell": {
     "cellMetadata": {},
     "inputWidgets": {},
     "nuid": "1560a039-874e-4adc-af15-4e01744fb8bd",
     "showTitle": false,
     "tableResultSettingsMap": {},
     "title": ""
    }
   },
   "source": [
    "## Load Reviews from UC"
   ]
  },
  {
   "cell_type": "code",
   "execution_count": 0,
   "metadata": {
    "application/vnd.databricks.v1+cell": {
     "cellMetadata": {
      "byteLimit": 2048000,
      "rowLimit": 10000
     },
     "inputWidgets": {},
     "nuid": "8515290f-9c03-472a-bd6f-bd1110d75f41",
     "showTitle": false,
     "tableResultSettingsMap": {},
     "title": ""
    }
   },
   "outputs": [],
   "source": [
    "reviews_df = spark.table(f\"{CATALOG}.{SCHEMA}.{INTENTS_TABLE}\").toPandas()"
   ]
  },
  {
   "cell_type": "code",
   "execution_count": 0,
   "metadata": {
    "application/vnd.databricks.v1+cell": {
     "cellMetadata": {
      "byteLimit": 2048000,
      "rowLimit": 10000
     },
     "inputWidgets": {},
     "nuid": "83d475a8-7578-4d41-9022-9e822a4f9553",
     "showTitle": false,
     "tableResultSettingsMap": {},
     "title": ""
    }
   },
   "outputs": [],
   "source": [
    "all_reviews = [f\"{review['intent']}: {review['text_summary']}\" for _, review in reviews_df.iterrows()]"
   ]
  },
  {
   "cell_type": "code",
   "execution_count": 0,
   "metadata": {
    "application/vnd.databricks.v1+cell": {
     "cellMetadata": {
      "byteLimit": 2048000,
      "rowLimit": 10000
     },
     "inputWidgets": {},
     "nuid": "8c744c87-b174-42e5-a1f8-80c6b8987d89",
     "showTitle": false,
     "tableResultSettingsMap": {},
     "title": ""
    }
   },
   "outputs": [],
   "source": [
    "all_reviews, len(all_reviews)"
   ]
  },
  {
   "cell_type": "markdown",
   "metadata": {
    "application/vnd.databricks.v1+cell": {
     "cellMetadata": {},
     "inputWidgets": {},
     "nuid": "72a81e5b-0e34-4abd-8fb4-8dd3e3e1e247",
     "showTitle": false,
     "tableResultSettingsMap": {},
     "title": ""
    }
   },
   "source": [
    "## Compute Embeddings"
   ]
  },
  {
   "cell_type": "code",
   "execution_count": 0,
   "metadata": {
    "application/vnd.databricks.v1+cell": {
     "cellMetadata": {
      "byteLimit": 2048000,
      "rowLimit": 10000
     },
     "inputWidgets": {},
     "nuid": "e05acc6c-071b-49fc-8d0a-6fc95d4699d4",
     "showTitle": false,
     "tableResultSettingsMap": {},
     "title": ""
    }
   },
   "outputs": [
    {
     "output_type": "display_data",
     "data": {
      "application/vnd.jupyter.widget-view+json": {
       "model_id": "64382bad133441ce89e3a3c0b10b70ea",
       "version_major": 2,
       "version_minor": 0
      },
      "text/plain": [
       "Batches:   0%|          | 0/136 [00:00<?, ?it/s]"
      ]
     },
     "metadata": {},
     "output_type": "display_data"
    }
   ],
   "source": [
    "from sentence_transformers import SentenceTransformer\n",
    "\n",
    "# Pre-calculate embeddings\n",
    "embedding_model = SentenceTransformer(\"BAAI/bge-base-en-v1.5\")\n",
    "embeddings = embedding_model.encode(all_reviews, show_progress_bar=True)"
   ]
  },
  {
   "cell_type": "markdown",
   "metadata": {
    "application/vnd.databricks.v1+cell": {
     "cellMetadata": {},
     "inputWidgets": {},
     "nuid": "8579600b-ce84-4bf0-be9d-bfe30ad01cfa",
     "showTitle": false,
     "tableResultSettingsMap": {},
     "title": ""
    }
   },
   "source": [
    "Option to save embeddings so dont have to generate embeddings everytime"
   ]
  },
  {
   "cell_type": "code",
   "execution_count": 0,
   "metadata": {
    "application/vnd.databricks.v1+cell": {
     "cellMetadata": {
      "byteLimit": 2048000,
      "rowLimit": 10000
     },
     "inputWidgets": {},
     "nuid": "6d1a2fcc-bb1d-4383-86a6-75f56e0663aa",
     "showTitle": true,
     "tableResultSettingsMap": {},
     "title": "Save Embeddings (optional)"
    }
   },
   "outputs": [],
   "source": [
    "# specify path to save embeddings\n",
    "embedding_file_path = 'embeddings_reviews.npy'\n",
    "import numpy as np\n",
    "with open(embedding_file_path, 'wb') as f:\n",
    "    np.save(f, embeddings)"
   ]
  },
  {
   "cell_type": "code",
   "execution_count": 0,
   "metadata": {
    "application/vnd.databricks.v1+cell": {
     "cellMetadata": {
      "byteLimit": 2048000,
      "rowLimit": 10000
     },
     "inputWidgets": {},
     "nuid": "33db8b49-1a6e-42bb-8d92-9fe4d90c5461",
     "showTitle": false,
     "tableResultSettingsMap": {},
     "title": ""
    }
   },
   "outputs": [],
   "source": [
    "# import numpy as np\n",
    "# embedding_file_path = 'embeddings.npy'\n",
    "# embeddings = np.load(embedding_file_path)"
   ]
  },
  {
   "cell_type": "markdown",
   "metadata": {
    "application/vnd.databricks.v1+cell": {
     "cellMetadata": {},
     "inputWidgets": {},
     "nuid": "13927973-1f44-414c-81f1-ac84c6f8b9a9",
     "showTitle": false,
     "tableResultSettingsMap": {},
     "title": ""
    }
   },
   "source": [
    "## Zero-shot Topic Modeling"
   ]
  },
  {
   "cell_type": "markdown",
   "metadata": {
    "application/vnd.databricks.v1+cell": {
     "cellMetadata": {},
     "inputWidgets": {},
     "nuid": "ee660d3a-75cd-49a0-a21e-04cc88697164",
     "showTitle": false,
     "tableResultSettingsMap": {},
     "title": ""
    }
   },
   "source": [
    "### Predefined list of topics"
   ]
  },
  {
   "cell_type": "code",
   "execution_count": 0,
   "metadata": {
    "application/vnd.databricks.v1+cell": {
     "cellMetadata": {
      "byteLimit": 2048000,
      "rowLimit": 10000
     },
     "inputWidgets": {},
     "nuid": "fc9d05d3-9ba5-4123-95fe-c92be66cb638",
     "showTitle": false,
     "tableResultSettingsMap": {},
     "title": ""
    }
   },
   "outputs": [],
   "source": [
    "predefined_topics  = [\n",
    "    \"Check-in and Boarding\",\n",
    "    \"Seating Comfort\",\n",
    "    \"In-Flight Wi-Fi\",\n",
    "    \"Cabin Cleanliness\",\n",
    "    \"Food and Beverage\",\n",
    "    \"Flight Attendants and Crew Services\",\n",
    "    \"Baggage Handling\",\n",
    "    \"Flight Disruptions and Delays\",\n",
    "    \"Loyalty Program and benefits\",\n",
    "    \"Pricing Transparency and Fees\",\n",
    "    \"Safety Measures\",\n",
    "    \"Ground Services Assistance\",\n",
    "    \"Accessibility and special assistance\"\n",
    "]"
   ]
  },
  {
   "cell_type": "code",
   "execution_count": 0,
   "metadata": {
    "application/vnd.databricks.v1+cell": {
     "cellMetadata": {
      "byteLimit": 2048000,
      "rowLimit": 10000
     },
     "inputWidgets": {},
     "nuid": "ca4edcd1-aa81-4540-9a28-0a406c191b3a",
     "showTitle": false,
     "tableResultSettingsMap": {},
     "title": ""
    }
   },
   "outputs": [
    {
     "output_type": "execute_result",
     "data": {
      "text/plain": [
       "13"
      ]
     },
     "execution_count": 30,
     "metadata": {},
     "output_type": "execute_result"
    }
   ],
   "source": [
    "len(predefined_topics)"
   ]
  },
  {
   "cell_type": "markdown",
   "metadata": {
    "application/vnd.databricks.v1+cell": {
     "cellMetadata": {},
     "inputWidgets": {},
     "nuid": "6f9cf458-618b-4182-94d7-e38923694958",
     "showTitle": false,
     "tableResultSettingsMap": {},
     "title": ""
    }
   },
   "source": [
    "### BERTopic Model"
   ]
  },
  {
   "cell_type": "markdown",
   "metadata": {
    "application/vnd.databricks.v1+cell": {
     "cellMetadata": {},
     "inputWidgets": {},
     "nuid": "99cf6d2f-9307-487f-81fe-816c6c6d4e66",
     "showTitle": false,
     "tableResultSettingsMap": {},
     "title": ""
    }
   },
   "source": [
    "#### Set up Databricks llm endpoint for topic generation"
   ]
  },
  {
   "cell_type": "code",
   "execution_count": 0,
   "metadata": {
    "application/vnd.databricks.v1+cell": {
     "cellMetadata": {},
     "inputWidgets": {},
     "nuid": "a46dcbd8-9fe9-4b76-9215-db1c525904c3",
     "showTitle": false,
     "tableResultSettingsMap": {},
     "title": ""
    }
   },
   "outputs": [],
   "source": [
    "import openai\n",
    "client = openai.OpenAI(base_url=f\"{WORKSPACE_URL}/serving-endpoints/\", api_key=TOKEN)"
   ]
  },
  {
   "cell_type": "markdown",
   "metadata": {
    "application/vnd.databricks.v1+cell": {
     "cellMetadata": {},
     "inputWidgets": {},
     "nuid": "a187ce9a-6ef8-416f-840a-ada96f669fed",
     "showTitle": false,
     "tableResultSettingsMap": {},
     "title": ""
    }
   },
   "source": [
    "#### Create the representation model\n"
   ]
  },
  {
   "cell_type": "code",
   "execution_count": 0,
   "metadata": {
    "application/vnd.databricks.v1+cell": {
     "cellMetadata": {
      "byteLimit": 2048000,
      "rowLimit": 10000
     },
     "inputWidgets": {},
     "nuid": "305ecc16-1949-463b-9485-9648b1f219f8",
     "showTitle": true,
     "tableResultSettingsMap": {},
     "title": "custom llm prompt"
    }
   },
   "outputs": [],
   "source": [
    "prompt = \"\"\"\n",
    "Generate a short topic label based on reviews and key words describing the reviews. \n",
    "\n",
    "Make sure the response only contains the topic label. The response should be in the following format:\n",
    "'''\n",
    "topic: <topic label>\n",
    "'''\n",
    "\n",
    "Here are some examples of topic labels: \n",
    "'''\n",
    "topic: Seating Comfort\n",
    "topic: Food and Beverage Quality\n",
    "topic: Baggage Handling\n",
    "'''\n",
    "\n",
    "Here are the reviews:\n",
    "[DOCUMENTS]\n",
    "\n",
    "Here are the keywords that are relevant to the reviews. Use them as reference for the topic label, but keep in mind the key words are not always the most representative. [KEYWORDS]\n",
    "\n",
    "Now read the reviews and keywords carefully, and respond with the topic label that best categories the reviews. Remember to respond in the correct format.\n",
    "\"\"\""
   ]
  },
  {
   "cell_type": "code",
   "execution_count": 0,
   "metadata": {
    "application/vnd.databricks.v1+cell": {
     "cellMetadata": {},
     "inputWidgets": {},
     "nuid": "a4aa8bd1-96a1-4d1a-9deb-19f4e867bb7e",
     "showTitle": false,
     "tableResultSettingsMap": {},
     "title": ""
    }
   },
   "outputs": [],
   "source": [
    "# import tiktoken\n",
    "# Tokenizer\n",
    "# tokenizer= tiktoken.encoding_for_model(\"gpt-3.5-turbo\")"
   ]
  },
  {
   "cell_type": "code",
   "execution_count": 0,
   "metadata": {
    "application/vnd.databricks.v1+cell": {
     "cellMetadata": {
      "byteLimit": 2048000,
      "rowLimit": 10000
     },
     "inputWidgets": {},
     "nuid": "099262b3-3b1e-43ed-a469-10da9e24b242",
     "showTitle": false,
     "tableResultSettingsMap": {},
     "title": ""
    }
   },
   "outputs": [],
   "source": [
    "from bertopic.representation import OpenAI\n",
    "from bertopic import BERTopic\n",
    "openai_generator = OpenAI(\n",
    "    client,\n",
    "    model=MODEL_ID,\n",
    "    chat=True,\n",
    "    nr_docs=5,\n",
    "    prompt=prompt\n",
    ")"
   ]
  },
  {
   "cell_type": "code",
   "execution_count": 0,
   "metadata": {
    "application/vnd.databricks.v1+cell": {
     "cellMetadata": {
      "byteLimit": 2048000,
      "rowLimit": 10000
     },
     "inputWidgets": {},
     "nuid": "f62ae8f5-0b24-45b6-bd99-79a96aee6872",
     "showTitle": false,
     "tableResultSettingsMap": {},
     "title": ""
    }
   },
   "outputs": [
    {
     "output_type": "stream",
     "name": "stdout",
     "output_type": "stream",
     "text": [
      "\nI have a topic that contains the following documents: \n[DOCUMENTS]\nThe topic is described by the following keywords: [KEYWORDS]\n\nBased on the information above, extract a short topic label in the following format:\ntopic: <topic label>\n\n"
     ]
    }
   ],
   "source": [
    "print(openai_generator.default_prompt_)"
   ]
  },
  {
   "cell_type": "code",
   "execution_count": 0,
   "metadata": {
    "application/vnd.databricks.v1+cell": {
     "cellMetadata": {
      "byteLimit": 2048000,
      "rowLimit": 10000
     },
     "inputWidgets": {},
     "nuid": "49e57cc4-8abf-4095-a1c6-4acd075d4d0c",
     "showTitle": false,
     "tableResultSettingsMap": {},
     "title": ""
    }
   },
   "outputs": [
    {
     "output_type": "stream",
     "name": "stdout",
     "output_type": "stream",
     "text": [
      "\nGenerate a short topic label based on reviews and key words describing the reviews. \n\nMake sure the response only contain the topic label. The response should be in the following format:\n'''\ntopic: <topic label>\n'''\n\nHere are some examples of topic labels: \n'''\ntopic: Seating Comfort\ntopic: Food and Beverage Quality\ntopic: Baggage Handling\n'''\n\nHere are the reviews:\n[DOCUMENTS]\n\nHere are the keywords that are relevant to the reviews. Use them as reference for the topic label, but keep in mind the key words are not always the most representative. [KEYWORDS]\n\nNow read the reviews and keywards carefully, and respond with the topic label that best categories the reviews. Remember to respond in the correct format.\n\n"
     ]
    }
   ],
   "source": [
    "print(openai_generator.prompt)"
   ]
  },
  {
   "cell_type": "code",
   "execution_count": 0,
   "metadata": {
    "application/vnd.databricks.v1+cell": {
     "cellMetadata": {
      "byteLimit": 2048000,
      "rowLimit": 10000
     },
     "collapsed": true,
     "inputWidgets": {},
     "nuid": "e9ca68ca-918e-484c-b136-e17817fb7b80",
     "showTitle": false,
     "tableResultSettingsMap": {},
     "title": ""
    }
   },
   "outputs": [],
   "source": [
    "# Temp helper function \n",
    "def fixed_topic_labels_(self):\n",
    "    \"\"\"Map topic IDs to their labels.\n",
    "    A label is the topic ID, along with the first four words of the topic representation, joined using '_'.\n",
    "    Zeroshot topic labels come from self.zeroshot_topic_list rather than the calculated representation.\n",
    "\n",
    "    Returns:\n",
    "        topic_labels: a dict mapping a topic ID (int) to its label (str)\n",
    "    \"\"\"\n",
    "    topic_labels = {\n",
    "        key: f\"{key}_\" + \"_\".join([word[0] for word in values[:4]])\n",
    "        for key, values in self.topic_representations_.items()\n",
    "    }\n",
    "    if self._is_zeroshot():\n",
    "        # Need to correct labels from zero-shot topics\n",
    "        topic_id_to_zeroshot_label = {\n",
    "            self.topic_mapper_.get_mappings()[topic_id]: self.zeroshot_topic_list[zeroshot_topic_idx]\n",
    "            for topic_id, zeroshot_topic_idx in self._topic_id_to_zeroshot_topic_idx.items()\n",
    "        }\n",
    "        topic_labels.update(topic_id_to_zeroshot_label)\n",
    "    return topic_labels\n",
    "BERTopic.topic_labels_ = property(fixed_topic_labels_)\n"
   ]
  },
  {
   "cell_type": "markdown",
   "metadata": {
    "application/vnd.databricks.v1+cell": {
     "cellMetadata": {},
     "inputWidgets": {},
     "nuid": "99993d20-3b26-49f7-b28b-4da19c1388ef",
     "showTitle": false,
     "tableResultSettingsMap": {},
     "title": ""
    }
   },
   "source": [
    "%md\n",
    "##### *UPDATED: `representations` use less topic representation to speed things up*"
   ]
  },
  {
   "cell_type": "markdown",
   "metadata": {
    "application/vnd.databricks.v1+cell": {
     "cellMetadata": {},
     "inputWidgets": {},
     "nuid": "da05a48a-ec54-4f2a-930b-0998e6faa757",
     "showTitle": false,
     "tableResultSettingsMap": {},
     "title": ""
    }
   },
   "source": [
    "source code for zeroshot classification: https://github.com/MaartenGr/BERTopic/blob/master/bertopic/representation/_zeroshot.py\n"
   ]
  },
  {
   "cell_type": "code",
   "execution_count": 0,
   "metadata": {
    "application/vnd.databricks.v1+cell": {
     "cellMetadata": {
      "byteLimit": 2048000,
      "rowLimit": 10000
     },
     "inputWidgets": {},
     "nuid": "f80a43a0-91b7-41d8-be48-bf695d188ec0",
     "showTitle": true,
     "tableResultSettingsMap": {},
     "title": "Representation Model"
    }
   },
   "outputs": [],
   "source": [
    "## UPDATED\n",
    "from bertopic.representation import KeyBERTInspired, MaximalMarginalRelevance, OpenAI, ZeroShotClassification\n",
    "ai_representation = [MaximalMarginalRelevance(diversity=0.3), openai_generator]\n",
    "# text_model_representation = [MaximalMarginalRelevance(diversity=0.3),ZeroShotClassification(predefined_topics, model=\"MoritzLaurer/DeBERTa-v3-base-mnli-fever-anli\")] #, min_prob=0.8 \n",
    "\n",
    "\n",
    "representations = {\n",
    "    \"AI_Generated\": ai_representation,\n",
    "    # \"Classification_zeroshot\": text_model_representation,\n",
    "    \"KeyBERT\": KeyBERTInspired()  \n",
    "}\n"
   ]
  },
  {
   "cell_type": "code",
   "execution_count": 0,
   "metadata": {
    "application/vnd.databricks.v1+cell": {
     "cellMetadata": {
      "byteLimit": 2048000,
      "rowLimit": 10000
     },
     "inputWidgets": {},
     "nuid": "a50defc7-8a13-4b09-ab2f-c259552ec1dd",
     "showTitle": true,
     "tableResultSettingsMap": {},
     "title": "Embedding model"
    }
   },
   "outputs": [],
   "source": [
    "# import openai\n",
    "# from bertopic.backend import OpenAIBackend\n",
    "# embedding_model = OpenAIBackend(client, 'databricks-bge-large-en')\n",
    "# embedding_model.embed('test')"
   ]
  },
  {
   "cell_type": "code",
   "execution_count": 0,
   "metadata": {
    "application/vnd.databricks.v1+cell": {
     "cellMetadata": {
      "byteLimit": 2048000,
      "rowLimit": 10000
     },
     "inputWidgets": {},
     "nuid": "ac6c98c3-ca98-4a3e-bd1e-15ee28ea928c",
     "showTitle": true,
     "tableResultSettingsMap": {},
     "title": "Dimension reduction"
    }
   },
   "outputs": [],
   "source": [
    "# from umap import UMAP\n",
    "# umap_model = UMAP(n_neighbors=100, n_components=5, min_dist=0.0, metric='cosine', random_state=42)"
   ]
  },
  {
   "cell_type": "code",
   "execution_count": 0,
   "metadata": {
    "application/vnd.databricks.v1+cell": {
     "cellMetadata": {
      "byteLimit": 2048000,
      "rowLimit": 10000
     },
     "inputWidgets": {},
     "nuid": "c3c78d9d-8a76-4cb4-a17a-1b2cd548a940",
     "showTitle": true,
     "tableResultSettingsMap": {},
     "title": "Clustering Model"
    }
   },
   "outputs": [],
   "source": [
    "## min_cluster_size=min_topic_size\n",
    "\n",
    "# from hdbscan import HDBSCAN\n",
    "# hdbscan_model = HDBSCAN(min_cluster_size=100, metric='euclidean', cluster_selection_method='eom', prediction_data=True)"
   ]
  },
  {
   "cell_type": "markdown",
   "metadata": {
    "application/vnd.databricks.v1+cell": {
     "cellMetadata": {},
     "inputWidgets": {},
     "nuid": "20ff0b34-29f4-4954-a6dc-d7490e523a5b",
     "showTitle": false,
     "tableResultSettingsMap": {},
     "title": ""
    }
   },
   "source": [
    "## Put together pipeline and train\n",
    "Source Code : https://github.com/MaartenGr/BERTopic/blob/master/bertopic/_bertopic.py#L3802\n"
   ]
  },
  {
   "cell_type": "markdown",
   "metadata": {
    "application/vnd.databricks.v1+cell": {
     "cellMetadata": {},
     "inputWidgets": {},
     "nuid": "d0dd9f8a-d716-4285-9310-2846a73a357e",
     "showTitle": false,
     "tableResultSettingsMap": {},
     "title": ""
    }
   },
   "source": [
    "##### Set `min_topic_size` to be higher (min sample needed for each cluster) for large datasets*"
   ]
  },
  {
   "cell_type": "code",
   "execution_count": 0,
   "metadata": {
    "application/vnd.databricks.v1+cell": {
     "cellMetadata": {
      "byteLimit": 2048000,
      "rowLimit": 10000
     },
     "inputWidgets": {},
     "nuid": "c81b0842-3a1c-4e94-b1e2-6d5ea2eb86f6",
     "showTitle": true,
     "tableResultSettingsMap": {},
     "title": "Topic Model"
    }
   },
   "outputs": [
    {
     "output_type": "stream",
     "name": "stderr",
     "output_type": "stream",
     "text": [
      "2024-10-21 22:46:35,035 - BERTopic - Dimensionality - Fitting the dimensionality reduction algorithm\n2024-10-21 22:46:58,592 - BERTopic - Dimensionality - Completed ✓\n2024-10-21 22:46:58,593 - BERTopic - Zeroshot Step 1 - Finding documents that could be assigned to either one of the zero-shot topics\n2024-10-21 22:46:58,642 - BERTopic - Zeroshot Step 1 - Completed ✓\n2024-10-21 22:47:14,937 - BERTopic - Cluster - Start clustering the reduced embeddings\n2024-10-21 22:47:15,005 - BERTopic - Cluster - Completed ✓\n2024-10-21 22:47:15,005 - BERTopic - Zeroshot Step 2 - Combining topics from zero-shot topic modeling with topics from clustering...\n2024-10-21 22:47:15,015 - BERTopic - Zeroshot Step 2 - Completed ✓\n2024-10-21 22:47:15,016 - BERTopic - Representation - Extracting topics from clusters using representation models.\n\r  0%|          | 0/16 [00:00<?, ?it/s]\r  6%|▋         | 1/16 [00:02<00:38,  2.54s/it]\r 12%|█▎        | 2/16 [00:05<00:36,  2.63s/it]\r 19%|█▉        | 3/16 [00:07<00:30,  2.35s/it]\r 25%|██▌       | 4/16 [00:09<00:28,  2.36s/it]\r 31%|███▏      | 5/16 [00:12<00:26,  2.42s/it]\r 38%|███▊      | 6/16 [00:14<00:24,  2.46s/it]\r 44%|████▍     | 7/16 [00:16<00:21,  2.34s/it]\r 50%|█████     | 8/16 [00:18<00:18,  2.28s/it]\r 56%|█████▋    | 9/16 [00:20<00:15,  2.21s/it]\r 62%|██████▎   | 10/16 [00:23<00:12,  2.15s/it]\r 69%|██████▉   | 11/16 [00:25<00:11,  2.21s/it]\r 75%|███████▌  | 12/16 [00:27<00:09,  2.26s/it]\r 81%|████████▏ | 13/16 [00:30<00:06,  2.29s/it]\r 88%|████████▊ | 14/16 [00:32<00:04,  2.23s/it]\r 94%|█████████▍| 15/16 [00:34<00:02,  2.25s/it]\r100%|██████████| 16/16 [00:36<00:00,  2.22s/it]\r100%|██████████| 16/16 [00:36<00:00,  2.29s/it]\n2024-10-21 22:47:52,693 - BERTopic - Representation - Completed ✓\n"
     ]
    },
    {
     "output_type": "display_data",
     "data": {
      "application/databricks.mlflow.trace": "[\"tr-9b74742369b14c81a223ccf40bca4e77\", \"tr-3d0b24e7a7a343a9a04ed66b7d1c1106\", \"tr-cafa13dab8f84dcc9d9e33f6bc996964\", \"tr-e282d53bb75e4748b1300b6648a2b838\", \"tr-751e8bb42a63411f9857958ac45faaf3\", \"tr-cd382528de8d4c4abb6f29eebc2902d8\", \"tr-849d9e0edea44681ae6e99eaa91dc0ad\", \"tr-ec43713054ab4a839339dcae8d6a0bdc\", \"tr-e9c2e4bc9360427ab3a401752a21431f\", \"tr-f7b48b6300644a7888cd62c0bcd4f456\"]",
      "text/plain": [
       "[Trace(request_id=tr-9b74742369b14c81a223ccf40bca4e77), Trace(request_id=tr-3d0b24e7a7a343a9a04ed66b7d1c1106), Trace(request_id=tr-cafa13dab8f84dcc9d9e33f6bc996964), Trace(request_id=tr-e282d53bb75e4748b1300b6648a2b838), Trace(request_id=tr-751e8bb42a63411f9857958ac45faaf3), Trace(request_id=tr-cd382528de8d4c4abb6f29eebc2902d8), Trace(request_id=tr-849d9e0edea44681ae6e99eaa91dc0ad), Trace(request_id=tr-ec43713054ab4a839339dcae8d6a0bdc), Trace(request_id=tr-e9c2e4bc9360427ab3a401752a21431f), Trace(request_id=tr-f7b48b6300644a7888cd62c0bcd4f456)]"
      ]
     },
     "metadata": {},
     "output_type": "display_data"
    }
   ],
   "source": [
    "zeroshot_topic_list = predefined_topics\n",
    "topic_model = BERTopic(\n",
    "    embedding_model=\"BAAI/bge-base-en-v1.5\",\n",
    "    verbose=True,\n",
    "    # umap_model=umap_model, hdbscan_model=hdbscan_model,\n",
    "    # nr_topics=40, # reduces topic by clustering after topic generation\n",
    "    min_topic_size=50, \n",
    "    zeroshot_topic_list=predefined_topics,\n",
    "    zeroshot_min_similarity=.6,\n",
    "    representation_model=representations \n",
    ")\n",
    "topics,probs = topic_model.fit_transform(all_reviews, embeddings)"
   ]
  },
  {
   "cell_type": "markdown",
   "metadata": {
    "application/vnd.databricks.v1+cell": {
     "cellMetadata": {},
     "inputWidgets": {},
     "nuid": "0555b2a9-f138-4365-99d5-7318d85c8c8b",
     "showTitle": false,
     "tableResultSettingsMap": {},
     "title": ""
    }
   },
   "source": [
    "## Results"
   ]
  },
  {
   "cell_type": "markdown",
   "metadata": {
    "application/vnd.databricks.v1+cell": {
     "cellMetadata": {},
     "inputWidgets": {},
     "nuid": "e5521237-ed50-45d1-8bc0-e35138a3a4fa",
     "showTitle": false,
     "tableResultSettingsMap": {},
     "title": ""
    }
   },
   "source": [
    "- Name: predefined topics + top keywords for topic clusters \n",
    "- Default Representation: keywords based on c-TF-IDF (https://maartengr.github.io/BERTopic/algorithm/algorithm.html#5-topic-representation)\n",
    "- AI_Generated: generates a label based on keywords and prompt \n",
    "- KeyBERT: key word extracted with Keybert() to compare"
   ]
  },
  {
   "cell_type": "code",
   "execution_count": 0,
   "metadata": {
    "application/vnd.databricks.v1+cell": {
     "cellMetadata": {
      "byteLimit": 2048000,
      "rowLimit": 10000
     },
     "inputWidgets": {},
     "nuid": "557f36ca-f4c1-45ff-908c-0f5028d51d9b",
     "showTitle": true,
     "tableResultSettingsMap": {},
     "title": "Inspect Topics"
    }
   },
   "outputs": [
    {
     "output_type": "display_data",
     "data": {
      "text/html": [
       "<style scoped>\n",
       "  .table-result-container {\n",
       "    max-height: 300px;\n",
       "    overflow: auto;\n",
       "  }\n",
       "  table, th, td {\n",
       "    border: 1px solid black;\n",
       "    border-collapse: collapse;\n",
       "  }\n",
       "  th, td {\n",
       "    padding: 5px;\n",
       "  }\n",
       "  th {\n",
       "    text-align: left;\n",
       "  }\n",
       "</style><div class='table-result-container'><table class='table-result'><thead style='background-color: white'><tr><th>Topic</th><th>Count</th><th>Name</th><th>Representation</th><th>AI_Generated</th><th>KeyBERT</th><th>Representative_Docs</th></tr></thead><tbody><tr><td>-1</td><td>58</td><td>-1_entertainment_inflight_ife_system</td><td>List(entertainment, inflight, ife, system, movies, of, limited, the, in, flight)</td><td>List(Inflight Entertainment)</td><td>List(entertainment, inflight, advertisements, screens, good, movie, flight, no, onboard, lacklustre)</td><td>List(Entertainment quality: entertainment good, Inflight Entertainment: No inflight Entertainment., Inflight entertainment: Inflight entertainment was good.)</td></tr><tr><td>0</td><td>315</td><td>Check-in and Boarding</td><td>List(check, in, boarding, experience, at, to, and, the, was, online)</td><td>List(Check-in Experience)</td><td>List(checkin, checked, check, booked, booking, experience, arrived, queue, hotel, paid)</td><td>List(Check-in experience: No delays at Check-in, Check-in experience: The check in staff didn, Check-in experience: The check-in was smooth.)</td></tr><tr><td>1</td><td>241</td><td>Seating Comfort</td><td>List(comfort, seat, seats, seating, comfortable, the, legroom, leg, and, was)</td><td>List(Seat Comfort)</td><td>List(seats, seating, comfort, seat, comfortable, sitting, comfy, recline, sit, amenities)</td><td>List(Seat comfort: The seats were comfortable, Seat comfort: The seats were comfortable, Seat comfort: Comfortable seats)</td></tr><tr><td>2</td><td>163</td><td>In-Flight Wi-Fi</td><td>List(entertainment, flight, in, amenities, wifi, inflight, the, ife, and, no)</td><td>List(In-flight Entertainment)</td><td>List(inflight, flight, entertainment, flights, takeoff, aircraft, onboard, screens, lounge, screen)</td><td>List(In-flight entertainment: Entertainment was limited., In-flight entertainment: It, In-flight entertainment: No entertainment)</td></tr><tr><td>3</td><td>114</td><td>Cabin Cleanliness</td><td>List(cleanliness, cabin, clean, aircraft, plane, condition, the, and, was, dirty)</td><td>List(Aircraft Cleanliness)</td><td>List(cleanliness, cleaned, clean, airplane, aircraft, tidy, cabin, flight, planes, plane)</td><td>List(Aircraft cleanliness: The Aircraft was clean, Cabin cleanliness: The aircraft was clean, Cabin cleanliness: The cabin was clean)</td></tr><tr><td>4</td><td>150</td><td>Food and Beverage</td><td>List(food, quality, and, drinks, beverage, drink, good, served, was, options)</td><td>List(In-Flight Meal Quality)</td><td>List(food, quality, good, meal, meals, catering, rice, portions, chicken, snacks)</td><td>List(Food quality: good food, Food quality: Food was good., Food quality: food)</td></tr><tr><td>5</td><td>349</td><td>Flight Attendants and Crew Services</td><td>List(crew, service, cabin, friendly, staff, and, flight, attendant, were, attendants)</td><td>List(Cabin Crew Friendliness)</td><td>List(cabin, passengers, attendants, passenger, attendant, crews, crew, onboard, friendly, service)</td><td>List(Cabin crew service: the cabin crew were friendly and helpful, Cabin crew service: The cabin crew were friendly and helpful., Cabin crew service: Crew were friendly.)</td></tr><tr><td>6</td><td>139</td><td>Baggage Handling</td><td>List(baggage, luggage, handling, bag, my, to, lost, the, policy, and)</td><td>List(Baggage Handling)</td><td>List(baggage, luggage, suitcase, bags, bag, handling, passengers, missing, airline, airport)</td><td>List(Baggage handling: They lost our luggage and nobody is looking for it!, Baggage handling: no luggage problem, Baggage handling: They lost my bag)</td></tr><tr><td>7</td><td>910</td><td>Flight Disruptions and Delays</td><td>List(flight, the, delay, to, and, was, delayed, cancellation, on, hours)</td><td>List(Flight Punctuality)</td><td>List(delays, delayed, flight, delay, flights, late, punctuality, passengers, missed, plane)</td><td>List(Flight delay: Flight was delayed for two hours, Flight punctuality: The flight was on time., Flight delay: The flight was delayed by one hour)</td></tr><tr><td>8</td><td>16</td><td>Loyalty Program and benefits</td><td>List(loyalty, program, flyer, frequent, benefits, customer, plus, again, repeat, promotion)</td><td>List(Frequent Flyer Program)</td><td>List(loyalty, promotion, af, program, airline, customers, loyal, discounts, flyer, customer)</td><td>List(Loyalty program experience: Never again will I fly Iberia, signed a former Iberian Plus member, Frequent flyer program: Minor drawbacks : frequent flyer program does not seem on par with AF one ;, Frequent flyer program: Sky miles, their frequent flyer program is very popular and has many other benefits like discounts in hotels, than award tickets.)</td></tr><tr><td>9</td><td>58</td><td>Pricing Transparency and Fees</td><td>List(pricing, for, ticket, price, hidden, charges, fees, value, prices, fee)</td><td>List(Additional Fees and Charges)</td><td>List(pricing, fees, prices, fee, charges, price, charged, costs, cost, paying)</td><td>List(Pricing transparency: Deceptive pricing, extra fees for checked bags not clearly indicated, Pricing: Great price, Pricing: high price for the service provided)</td></tr><tr><td>10</td><td>8</td><td>Safety Measures</td><td>List(safety, covid, precautions, measures, enforced, procedures, masks, reliability, staff, obligatory)</td><td>List(Covid Safety Enforcement)</td><td>List(precautions, safety, enforced, safe, enforcement, masks, procedures, measures, covid, rushed)</td><td>List(Covid precautions: Covid precautions well enforced, Safety procedures: Safety procedures were rushed., Covid safety measures: very nonchalant approach to covid safety measures, masks not obligatory, they don)</td></tr><tr><td>11</td><td>36</td><td>Ground Services Assistance</td><td>List(ground, staff, service, airport, assistance, at, the, and, to, in)</td><td>List(Ground Staff Service)</td><td>List(ground, passengers, unprofessional, service, serving, staff, politeness, airport, landing, planes)</td><td>List(Ground staff service: Delhi airport Qantas ground staff unprofessional and rude., Ground staff service: The ground staff at Bangkok, were not up to the , Ground staff service: the ground staff was friendly)</td></tr><tr><td>12</td><td>7</td><td>Accessibility and special assistance</td><td>List(assistance, wheelchair, wheel, somebody, chair, nobody, security, special, go, there)</td><td>List(Wheelchair Assistance)</td><td>List(wheelchair, assistance, accessibility, support, onboard, provided, help, crutches, wheel, asked)</td><td>List(Wheelchair assistance: No wheelchair assistance was provided for my elder son, a special kid, upon reaching RUH., Wheelchair assistance: Manchester Airport wheelchair assistance staff were kind and efficient, we chose to push our friend, directed to go through fast track security, it was busy but moved fairly quickly, very easy and well organised, security staff friendly., Wheelchair assistance: I had requested a wheel chair but at Mumbai Airport there were multiple wheel chair operators they told me stay asked somebody will take you shortly but nobody took me finally they told me please go up to the immigration counter somebody will be there to help you but nobody was there again)</td></tr><tr><td>13</td><td>176</td><td>13_food_meal_quality_was</td><td>List(food, meal, quality, was, no, the, breakfast, lounge, of, and)</td><td>List(In-Flight Meal Quality)</td><td>List(disgusting, food, stale, awful, tasteless, terrible, poor, meal, bread, salad)</td><td>List(Food quality: The food was awful., Food quality: Food was the worst I, Food quality: The meal was of poor quality, and there was no choice.)</td></tr><tr><td>14</td><td>1593</td><td>14_the_to_customer_experience</td><td>List(the, to, customer, experience, and, service, with, for, overall, was)</td><td>List(Customer Service Experience)</td><td>List(refund, customer, experience, rude, ticket, call, service, booking, worst, compensation)</td><td>List(Customer service: The customer complained to the customer service about their experience, but was told there was nothing that could be done to reimburse their extra payment., Customer service experience: The customer was on hold for 3.5 hours and did not receive a response to their email., Overall experience: This is the worst experience I have had with any airline, I will never use them again and I definitely not recommend them.)</td></tr></tbody></table></div>"
      ]
     },
     "metadata": {
      "application/vnd.databricks.v1+output": {
       "addedWidgets": {},
       "aggData": [],
       "aggError": "",
       "aggOverflow": false,
       "aggSchema": [],
       "aggSeriesLimitReached": false,
       "aggType": "",
       "arguments": {},
       "columnCustomDisplayInfos": {},
       "data": [
        [
         -1,
         58,
         "-1_entertainment_inflight_ife_system",
         [
          "entertainment",
          "inflight",
          "ife",
          "system",
          "movies",
          "of",
          "limited",
          "the",
          "in",
          "flight"
         ],
         [
          "Inflight Entertainment"
         ],
         [
          "entertainment",
          "inflight",
          "advertisements",
          "screens",
          "good",
          "movie",
          "flight",
          "no",
          "onboard",
          "lacklustre"
         ],
         [
          "Entertainment quality: entertainment good",
          "Inflight Entertainment: No inflight Entertainment.",
          "Inflight entertainment: Inflight entertainment was good."
         ]
        ],
        [
         0,
         315,
         "Check-in and Boarding",
         [
          "check",
          "in",
          "boarding",
          "experience",
          "at",
          "to",
          "and",
          "the",
          "was",
          "online"
         ],
         [
          "Check-in Experience"
         ],
         [
          "checkin",
          "checked",
          "check",
          "booked",
          "booking",
          "experience",
          "arrived",
          "queue",
          "hotel",
          "paid"
         ],
         [
          "Check-in experience: No delays at Check-in",
          "Check-in experience: The check in staff didn",
          "Check-in experience: The check-in was smooth."
         ]
        ],
        [
         1,
         241,
         "Seating Comfort",
         [
          "comfort",
          "seat",
          "seats",
          "seating",
          "comfortable",
          "the",
          "legroom",
          "leg",
          "and",
          "was"
         ],
         [
          "Seat Comfort"
         ],
         [
          "seats",
          "seating",
          "comfort",
          "seat",
          "comfortable",
          "sitting",
          "comfy",
          "recline",
          "sit",
          "amenities"
         ],
         [
          "Seat comfort: The seats were comfortable",
          "Seat comfort: The seats were comfortable",
          "Seat comfort: Comfortable seats"
         ]
        ],
        [
         2,
         163,
         "In-Flight Wi-Fi",
         [
          "entertainment",
          "flight",
          "in",
          "amenities",
          "wifi",
          "inflight",
          "the",
          "ife",
          "and",
          "no"
         ],
         [
          "In-flight Entertainment"
         ],
         [
          "inflight",
          "flight",
          "entertainment",
          "flights",
          "takeoff",
          "aircraft",
          "onboard",
          "screens",
          "lounge",
          "screen"
         ],
         [
          "In-flight entertainment: Entertainment was limited.",
          "In-flight entertainment: It",
          "In-flight entertainment: No entertainment"
         ]
        ],
        [
         3,
         114,
         "Cabin Cleanliness",
         [
          "cleanliness",
          "cabin",
          "clean",
          "aircraft",
          "plane",
          "condition",
          "the",
          "and",
          "was",
          "dirty"
         ],
         [
          "Aircraft Cleanliness"
         ],
         [
          "cleanliness",
          "cleaned",
          "clean",
          "airplane",
          "aircraft",
          "tidy",
          "cabin",
          "flight",
          "planes",
          "plane"
         ],
         [
          "Aircraft cleanliness: The Aircraft was clean",
          "Cabin cleanliness: The aircraft was clean",
          "Cabin cleanliness: The cabin was clean"
         ]
        ],
        [
         4,
         150,
         "Food and Beverage",
         [
          "food",
          "quality",
          "and",
          "drinks",
          "beverage",
          "drink",
          "good",
          "served",
          "was",
          "options"
         ],
         [
          "In-Flight Meal Quality"
         ],
         [
          "food",
          "quality",
          "good",
          "meal",
          "meals",
          "catering",
          "rice",
          "portions",
          "chicken",
          "snacks"
         ],
         [
          "Food quality: good food",
          "Food quality: Food was good.",
          "Food quality: food"
         ]
        ],
        [
         5,
         349,
         "Flight Attendants and Crew Services",
         [
          "crew",
          "service",
          "cabin",
          "friendly",
          "staff",
          "and",
          "flight",
          "attendant",
          "were",
          "attendants"
         ],
         [
          "Cabin Crew Friendliness"
         ],
         [
          "cabin",
          "passengers",
          "attendants",
          "passenger",
          "attendant",
          "crews",
          "crew",
          "onboard",
          "friendly",
          "service"
         ],
         [
          "Cabin crew service: the cabin crew were friendly and helpful",
          "Cabin crew service: The cabin crew were friendly and helpful.",
          "Cabin crew service: Crew were friendly."
         ]
        ],
        [
         6,
         139,
         "Baggage Handling",
         [
          "baggage",
          "luggage",
          "handling",
          "bag",
          "my",
          "to",
          "lost",
          "the",
          "policy",
          "and"
         ],
         [
          "Baggage Handling"
         ],
         [
          "baggage",
          "luggage",
          "suitcase",
          "bags",
          "bag",
          "handling",
          "passengers",
          "missing",
          "airline",
          "airport"
         ],
         [
          "Baggage handling: They lost our luggage and nobody is looking for it!",
          "Baggage handling: no luggage problem",
          "Baggage handling: They lost my bag"
         ]
        ],
        [
         7,
         910,
         "Flight Disruptions and Delays",
         [
          "flight",
          "the",
          "delay",
          "to",
          "and",
          "was",
          "delayed",
          "cancellation",
          "on",
          "hours"
         ],
         [
          "Flight Punctuality"
         ],
         [
          "delays",
          "delayed",
          "flight",
          "delay",
          "flights",
          "late",
          "punctuality",
          "passengers",
          "missed",
          "plane"
         ],
         [
          "Flight delay: Flight was delayed for two hours",
          "Flight punctuality: The flight was on time.",
          "Flight delay: The flight was delayed by one hour"
         ]
        ],
        [
         8,
         16,
         "Loyalty Program and benefits",
         [
          "loyalty",
          "program",
          "flyer",
          "frequent",
          "benefits",
          "customer",
          "plus",
          "again",
          "repeat",
          "promotion"
         ],
         [
          "Frequent Flyer Program"
         ],
         [
          "loyalty",
          "promotion",
          "af",
          "program",
          "airline",
          "customers",
          "loyal",
          "discounts",
          "flyer",
          "customer"
         ],
         [
          "Loyalty program experience: Never again will I fly Iberia, signed a former Iberian Plus member",
          "Frequent flyer program: Minor drawbacks : frequent flyer program does not seem on par with AF one ;",
          "Frequent flyer program: Sky miles, their frequent flyer program is very popular and has many other benefits like discounts in hotels, than award tickets."
         ]
        ],
        [
         9,
         58,
         "Pricing Transparency and Fees",
         [
          "pricing",
          "for",
          "ticket",
          "price",
          "hidden",
          "charges",
          "fees",
          "value",
          "prices",
          "fee"
         ],
         [
          "Additional Fees and Charges"
         ],
         [
          "pricing",
          "fees",
          "prices",
          "fee",
          "charges",
          "price",
          "charged",
          "costs",
          "cost",
          "paying"
         ],
         [
          "Pricing transparency: Deceptive pricing, extra fees for checked bags not clearly indicated",
          "Pricing: Great price",
          "Pricing: high price for the service provided"
         ]
        ],
        [
         10,
         8,
         "Safety Measures",
         [
          "safety",
          "covid",
          "precautions",
          "measures",
          "enforced",
          "procedures",
          "masks",
          "reliability",
          "staff",
          "obligatory"
         ],
         [
          "Covid Safety Enforcement"
         ],
         [
          "precautions",
          "safety",
          "enforced",
          "safe",
          "enforcement",
          "masks",
          "procedures",
          "measures",
          "covid",
          "rushed"
         ],
         [
          "Covid precautions: Covid precautions well enforced",
          "Safety procedures: Safety procedures were rushed.",
          "Covid safety measures: very nonchalant approach to covid safety measures, masks not obligatory, they don"
         ]
        ],
        [
         11,
         36,
         "Ground Services Assistance",
         [
          "ground",
          "staff",
          "service",
          "airport",
          "assistance",
          "at",
          "the",
          "and",
          "to",
          "in"
         ],
         [
          "Ground Staff Service"
         ],
         [
          "ground",
          "passengers",
          "unprofessional",
          "service",
          "serving",
          "staff",
          "politeness",
          "airport",
          "landing",
          "planes"
         ],
         [
          "Ground staff service: Delhi airport Qantas ground staff unprofessional and rude.",
          "Ground staff service: The ground staff at Bangkok, were not up to the ",
          "Ground staff service: the ground staff was friendly"
         ]
        ],
        [
         12,
         7,
         "Accessibility and special assistance",
         [
          "assistance",
          "wheelchair",
          "wheel",
          "somebody",
          "chair",
          "nobody",
          "security",
          "special",
          "go",
          "there"
         ],
         [
          "Wheelchair Assistance"
         ],
         [
          "wheelchair",
          "assistance",
          "accessibility",
          "support",
          "onboard",
          "provided",
          "help",
          "crutches",
          "wheel",
          "asked"
         ],
         [
          "Wheelchair assistance: No wheelchair assistance was provided for my elder son, a special kid, upon reaching RUH.",
          "Wheelchair assistance: Manchester Airport wheelchair assistance staff were kind and efficient, we chose to push our friend, directed to go through fast track security, it was busy but moved fairly quickly, very easy and well organised, security staff friendly.",
          "Wheelchair assistance: I had requested a wheel chair but at Mumbai Airport there were multiple wheel chair operators they told me stay asked somebody will take you shortly but nobody took me finally they told me please go up to the immigration counter somebody will be there to help you but nobody was there again"
         ]
        ],
        [
         13,
         176,
         "13_food_meal_quality_was",
         [
          "food",
          "meal",
          "quality",
          "was",
          "no",
          "the",
          "breakfast",
          "lounge",
          "of",
          "and"
         ],
         [
          "In-Flight Meal Quality"
         ],
         [
          "disgusting",
          "food",
          "stale",
          "awful",
          "tasteless",
          "terrible",
          "poor",
          "meal",
          "bread",
          "salad"
         ],
         [
          "Food quality: The food was awful.",
          "Food quality: Food was the worst I",
          "Food quality: The meal was of poor quality, and there was no choice."
         ]
        ],
        [
         14,
         1593,
         "14_the_to_customer_experience",
         [
          "the",
          "to",
          "customer",
          "experience",
          "and",
          "service",
          "with",
          "for",
          "overall",
          "was"
         ],
         [
          "Customer Service Experience"
         ],
         [
          "refund",
          "customer",
          "experience",
          "rude",
          "ticket",
          "call",
          "service",
          "booking",
          "worst",
          "compensation"
         ],
         [
          "Customer service: The customer complained to the customer service about their experience, but was told there was nothing that could be done to reimburse their extra payment.",
          "Customer service experience: The customer was on hold for 3.5 hours and did not receive a response to their email.",
          "Overall experience: This is the worst experience I have had with any airline, I will never use them again and I definitely not recommend them."
         ]
        ]
       ],
       "datasetInfos": [],
       "dbfsResultPath": null,
       "isJsonSchema": true,
       "metadata": {},
       "overflow": false,
       "plotOptions": {
        "customPlotOptions": {},
        "displayType": "table",
        "pivotAggregation": null,
        "pivotColumns": null,
        "xColumns": null,
        "yColumns": null
       },
       "removedWidgets": [],
       "schema": [
        {
         "metadata": "{}",
         "name": "Topic",
         "type": "\"long\""
        },
        {
         "metadata": "{}",
         "name": "Count",
         "type": "\"long\""
        },
        {
         "metadata": "{}",
         "name": "Name",
         "type": "\"string\""
        },
        {
         "metadata": "{}",
         "name": "Representation",
         "type": "{\"type\":\"array\",\"elementType\":\"string\",\"containsNull\":true}"
        },
        {
         "metadata": "{}",
         "name": "AI_Generated",
         "type": "{\"type\":\"array\",\"elementType\":\"string\",\"containsNull\":true}"
        },
        {
         "metadata": "{}",
         "name": "KeyBERT",
         "type": "{\"type\":\"array\",\"elementType\":\"string\",\"containsNull\":true}"
        },
        {
         "metadata": "{}",
         "name": "Representative_Docs",
         "type": "{\"type\":\"array\",\"elementType\":\"string\",\"containsNull\":true}"
        }
       ],
       "type": "table"
      }
     },
     "output_type": "display_data"
    }
   ],
   "source": [
    "spark.createDataFrame(topic_model.get_topic_info()).display()"
   ]
  },
  {
   "cell_type": "markdown",
   "metadata": {
    "application/vnd.databricks.v1+cell": {
     "cellMetadata": {},
     "inputWidgets": {},
     "nuid": "914684ea-cdad-4b2f-abe8-2ad6aedf6721",
     "showTitle": false,
     "tableResultSettingsMap": {},
     "title": ""
    }
   },
   "source": [
    "#### Option to further reduce outliers with clustering"
   ]
  },
  {
   "cell_type": "code",
   "execution_count": 0,
   "metadata": {
    "application/vnd.databricks.v1+cell": {
     "cellMetadata": {
      "byteLimit": 2048000,
      "rowLimit": 10000
     },
     "inputWidgets": {},
     "nuid": "522280ec-625c-4b88-a179-53f93052aba6",
     "showTitle": false,
     "tableResultSettingsMap": {},
     "title": ""
    }
   },
   "outputs": [
    {
     "output_type": "stream",
     "name": "stderr",
     "output_type": "stream",
     "text": [
      "\r  0%|          | 0/1 [00:00<?, ?it/s]\r100%|██████████| 1/1 [00:00<00:00, 166.79it/s]\n"
     ]
    }
   ],
   "source": [
    "# Reduce outliers\n",
    "new_topics = topic_model.reduce_outliers(all_reviews, topics)"
   ]
  },
  {
   "cell_type": "code",
   "execution_count": 0,
   "metadata": {
    "application/vnd.databricks.v1+cell": {
     "cellMetadata": {
      "byteLimit": 2048000,
      "rowLimit": 10000
     },
     "inputWidgets": {},
     "nuid": "54da6035-077a-4b23-9f69-c48be978f44c",
     "showTitle": false,
     "tableResultSettingsMap": {},
     "title": ""
    }
   },
   "outputs": [
    {
     "output_type": "stream",
     "name": "stderr",
     "output_type": "stream",
     "text": [
      "2024-10-21 22:47:53,137 - BERTopic - WARNING: Using a custom list of topic assignments may lead to errors if topic reduction techniques are used afterwards. Make sure that manually assigning topics is the last step in the pipeline.Note that topic embeddings will also be created through weightedc-TF-IDF embeddings instead of centroid embeddings.\n"
     ]
    }
   ],
   "source": [
    "# Update the model\n",
    "topic_model.update_topics(all_reviews, topics=new_topics)"
   ]
  },
  {
   "cell_type": "code",
   "execution_count": 0,
   "metadata": {
    "application/vnd.databricks.v1+cell": {
     "cellMetadata": {
      "byteLimit": 2048000,
      "rowLimit": 10000
     },
     "inputWidgets": {},
     "nuid": "dfa28702-19da-4496-b446-de5180d4979b",
     "showTitle": false,
     "tableResultSettingsMap": {},
     "title": ""
    }
   },
   "outputs": [
    {
     "output_type": "display_data",
     "data": {
      "text/html": [
       "<style scoped>\n",
       "  .table-result-container {\n",
       "    max-height: 300px;\n",
       "    overflow: auto;\n",
       "  }\n",
       "  table, th, td {\n",
       "    border: 1px solid black;\n",
       "    border-collapse: collapse;\n",
       "  }\n",
       "  th, td {\n",
       "    padding: 5px;\n",
       "  }\n",
       "  th {\n",
       "    text-align: left;\n",
       "  }\n",
       "</style><div class='table-result-container'><table class='table-result'><thead style='background-color: white'><tr><th>Topic</th><th>Count</th><th>Name</th><th>Representation</th><th>AI_Generated</th><th>KeyBERT</th><th>Representative_Docs</th></tr></thead><tbody><tr><td>0</td><td>317</td><td>Check-in and Boarding</td><td>List(check, in, boarding, experience, at, to, the, and, was, online)</td><td>List(Check-in Experience)</td><td>List(checkin, checked, check, booked, booking, experience, arrived, queue, hotel, paid)</td><td>List(Check-in experience: No delays at Check-in, Check-in experience: The check in staff didn, Check-in experience: The check-in was smooth.)</td></tr><tr><td>1</td><td>241</td><td>Seating Comfort</td><td>List(comfort, seat, seats, seating, comfortable, the, legroom, leg, and, was)</td><td>List(Seat Comfort)</td><td>List(seats, seating, comfort, seat, comfortable, sitting, comfy, recline, sit, amenities)</td><td>List(Seat comfort: The seats were comfortable, Seat comfort: The seats were comfortable, Seat comfort: Comfortable seats)</td></tr><tr><td>2</td><td>205</td><td>In-Flight Wi-Fi</td><td>List(entertainment, flight, in, inflight, ife, amenities, wifi, system, the, movies)</td><td>List(In-flight Entertainment)</td><td>List(inflight, flight, entertainment, flights, takeoff, aircraft, onboard, screens, lounge, screen)</td><td>List(In-flight entertainment: Entertainment was limited., In-flight entertainment: It, In-flight entertainment: No entertainment)</td></tr><tr><td>3</td><td>114</td><td>Cabin Cleanliness</td><td>List(cleanliness, cabin, clean, aircraft, plane, condition, the, and, was, dirty)</td><td>List(Aircraft Cleanliness)</td><td>List(cleanliness, cleaned, clean, airplane, aircraft, tidy, cabin, flight, planes, plane)</td><td>List(Aircraft cleanliness: The Aircraft was clean, Cabin cleanliness: The aircraft was clean, Cabin cleanliness: The cabin was clean)</td></tr><tr><td>4</td><td>150</td><td>Food and Beverage</td><td>List(food, quality, and, drinks, beverage, drink, good, was, served, options)</td><td>List(In-Flight Meal Quality)</td><td>List(food, quality, good, meal, meals, catering, rice, portions, chicken, snacks)</td><td>List(Food quality: good food, Food quality: Food was good., Food quality: food)</td></tr><tr><td>5</td><td>350</td><td>Flight Attendants and Crew Services</td><td>List(crew, service, cabin, staff, friendly, and, flight, were, attendant, attendants)</td><td>List(Cabin Crew Friendliness)</td><td>List(cabin, passengers, attendants, passenger, attendant, crews, crew, onboard, friendly, service)</td><td>List(Cabin crew service: the cabin crew were friendly and helpful, Cabin crew service: The cabin crew were friendly and helpful., Cabin crew service: Crew were friendly.)</td></tr><tr><td>6</td><td>140</td><td>Baggage Handling</td><td>List(baggage, luggage, handling, bag, my, to, lost, the, and, policy)</td><td>List(Baggage Handling)</td><td>List(baggage, luggage, suitcase, bags, bag, handling, passengers, missing, airline, airport)</td><td>List(Baggage handling: They lost our luggage and nobody is looking for it!, Baggage handling: no luggage problem, Baggage handling: They lost my bag)</td></tr><tr><td>7</td><td>912</td><td>Flight Disruptions and Delays</td><td>List(flight, the, to, delay, and, was, delayed, cancellation, on, time)</td><td>List(Flight Punctuality)</td><td>List(delays, delayed, flight, delay, flights, late, punctuality, passengers, missed, plane)</td><td>List(Flight delay: Flight was delayed for two hours, Flight punctuality: The flight was on time., Flight delay: The flight was delayed by one hour)</td></tr><tr><td>8</td><td>16</td><td>Loyalty Program and benefits</td><td>List(loyalty, program, flyer, frequent, benefits, customer, plus, again, repeat, promotion)</td><td>List(Frequent Flyer Program)</td><td>List(loyalty, promotion, af, program, airline, customers, loyal, discounts, flyer, customer)</td><td>List(Loyalty program experience: Never again will I fly Iberia, signed a former Iberian Plus member, Frequent flyer program: Minor drawbacks : frequent flyer program does not seem on par with AF one ;, Frequent flyer program: Sky miles, their frequent flyer program is very popular and has many other benefits like discounts in hotels, than award tickets.)</td></tr><tr><td>9</td><td>58</td><td>Pricing Transparency and Fees</td><td>List(pricing, for, ticket, price, hidden, charges, fees, value, prices, and)</td><td>List(Additional Fees and Charges)</td><td>List(pricing, fees, prices, fee, charges, price, charged, costs, cost, paying)</td><td>List(Pricing transparency: Deceptive pricing, extra fees for checked bags not clearly indicated, Pricing: Great price, Pricing: high price for the service provided)</td></tr><tr><td>10</td><td>8</td><td>Safety Measures</td><td>List(safety, covid, precautions, measures, enforced, procedures, masks, reliability, staff, obligatory)</td><td>List(Covid Safety Enforcement)</td><td>List(precautions, safety, enforced, safe, enforcement, masks, procedures, measures, covid, rushed)</td><td>List(Covid precautions: Covid precautions well enforced, Safety procedures: Safety procedures were rushed., Covid safety measures: very nonchalant approach to covid safety measures, masks not obligatory, they don)</td></tr><tr><td>11</td><td>36</td><td>Ground Services Assistance</td><td>List(ground, staff, service, airport, assistance, at, the, and, to, in)</td><td>List(Ground Staff Service)</td><td>List(ground, passengers, unprofessional, service, serving, staff, politeness, airport, landing, planes)</td><td>List(Ground staff service: Delhi airport Qantas ground staff unprofessional and rude., Ground staff service: The ground staff at Bangkok, were not up to the , Ground staff service: the ground staff was friendly)</td></tr><tr><td>12</td><td>7</td><td>Accessibility and special assistance</td><td>List(assistance, wheelchair, wheel, somebody, chair, nobody, security, special, go, it)</td><td>List(Wheelchair Assistance)</td><td>List(wheelchair, assistance, accessibility, support, onboard, provided, help, crutches, wheel, asked)</td><td>List(Wheelchair assistance: No wheelchair assistance was provided for my elder son, a special kid, upon reaching RUH., Wheelchair assistance: Manchester Airport wheelchair assistance staff were kind and efficient, we chose to push our friend, directed to go through fast track security, it was busy but moved fairly quickly, very easy and well organised, security staff friendly., Wheelchair assistance: I had requested a wheel chair but at Mumbai Airport there were multiple wheel chair operators they told me stay asked somebody will take you shortly but nobody took me finally they told me please go up to the immigration counter somebody will be there to help you but nobody was there again)</td></tr><tr><td>13</td><td>179</td><td>13_food_meal_quality_was</td><td>List(food, meal, quality, was, no, the, breakfast, of, and, lounge)</td><td>List(In-Flight Meal Quality)</td><td>List(disgusting, food, stale, awful, tasteless, terrible, poor, meal, bread, salad)</td><td>List(Food quality: The food was awful., Food quality: Food was the worst I, Food quality: The meal was of poor quality, and there was no choice.)</td></tr><tr><td>14</td><td>1600</td><td>14_the_to_customer_experience</td><td>List(the, to, customer, experience, and, service, with, for, was, overall)</td><td>List(Customer Service Experience)</td><td>List(refund, customer, experience, rude, ticket, call, service, booking, worst, compensation)</td><td>List(Customer service: The customer complained to the customer service about their experience, but was told there was nothing that could be done to reimburse their extra payment., Customer service experience: The customer was on hold for 3.5 hours and did not receive a response to their email., Overall experience: This is the worst experience I have had with any airline, I will never use them again and I definitely not recommend them.)</td></tr></tbody></table></div>"
      ]
     },
     "metadata": {
      "application/vnd.databricks.v1+output": {
       "addedWidgets": {},
       "aggData": [],
       "aggError": "",
       "aggOverflow": false,
       "aggSchema": [],
       "aggSeriesLimitReached": false,
       "aggType": "",
       "arguments": {},
       "columnCustomDisplayInfos": {},
       "data": [
        [
         0,
         317,
         "Check-in and Boarding",
         [
          "check",
          "in",
          "boarding",
          "experience",
          "at",
          "to",
          "the",
          "and",
          "was",
          "online"
         ],
         [
          "Check-in Experience"
         ],
         [
          "checkin",
          "checked",
          "check",
          "booked",
          "booking",
          "experience",
          "arrived",
          "queue",
          "hotel",
          "paid"
         ],
         [
          "Check-in experience: No delays at Check-in",
          "Check-in experience: The check in staff didn",
          "Check-in experience: The check-in was smooth."
         ]
        ],
        [
         1,
         241,
         "Seating Comfort",
         [
          "comfort",
          "seat",
          "seats",
          "seating",
          "comfortable",
          "the",
          "legroom",
          "leg",
          "and",
          "was"
         ],
         [
          "Seat Comfort"
         ],
         [
          "seats",
          "seating",
          "comfort",
          "seat",
          "comfortable",
          "sitting",
          "comfy",
          "recline",
          "sit",
          "amenities"
         ],
         [
          "Seat comfort: The seats were comfortable",
          "Seat comfort: The seats were comfortable",
          "Seat comfort: Comfortable seats"
         ]
        ],
        [
         2,
         205,
         "In-Flight Wi-Fi",
         [
          "entertainment",
          "flight",
          "in",
          "inflight",
          "ife",
          "amenities",
          "wifi",
          "system",
          "the",
          "movies"
         ],
         [
          "In-flight Entertainment"
         ],
         [
          "inflight",
          "flight",
          "entertainment",
          "flights",
          "takeoff",
          "aircraft",
          "onboard",
          "screens",
          "lounge",
          "screen"
         ],
         [
          "In-flight entertainment: Entertainment was limited.",
          "In-flight entertainment: It",
          "In-flight entertainment: No entertainment"
         ]
        ],
        [
         3,
         114,
         "Cabin Cleanliness",
         [
          "cleanliness",
          "cabin",
          "clean",
          "aircraft",
          "plane",
          "condition",
          "the",
          "and",
          "was",
          "dirty"
         ],
         [
          "Aircraft Cleanliness"
         ],
         [
          "cleanliness",
          "cleaned",
          "clean",
          "airplane",
          "aircraft",
          "tidy",
          "cabin",
          "flight",
          "planes",
          "plane"
         ],
         [
          "Aircraft cleanliness: The Aircraft was clean",
          "Cabin cleanliness: The aircraft was clean",
          "Cabin cleanliness: The cabin was clean"
         ]
        ],
        [
         4,
         150,
         "Food and Beverage",
         [
          "food",
          "quality",
          "and",
          "drinks",
          "beverage",
          "drink",
          "good",
          "was",
          "served",
          "options"
         ],
         [
          "In-Flight Meal Quality"
         ],
         [
          "food",
          "quality",
          "good",
          "meal",
          "meals",
          "catering",
          "rice",
          "portions",
          "chicken",
          "snacks"
         ],
         [
          "Food quality: good food",
          "Food quality: Food was good.",
          "Food quality: food"
         ]
        ],
        [
         5,
         350,
         "Flight Attendants and Crew Services",
         [
          "crew",
          "service",
          "cabin",
          "staff",
          "friendly",
          "and",
          "flight",
          "were",
          "attendant",
          "attendants"
         ],
         [
          "Cabin Crew Friendliness"
         ],
         [
          "cabin",
          "passengers",
          "attendants",
          "passenger",
          "attendant",
          "crews",
          "crew",
          "onboard",
          "friendly",
          "service"
         ],
         [
          "Cabin crew service: the cabin crew were friendly and helpful",
          "Cabin crew service: The cabin crew were friendly and helpful.",
          "Cabin crew service: Crew were friendly."
         ]
        ],
        [
         6,
         140,
         "Baggage Handling",
         [
          "baggage",
          "luggage",
          "handling",
          "bag",
          "my",
          "to",
          "lost",
          "the",
          "and",
          "policy"
         ],
         [
          "Baggage Handling"
         ],
         [
          "baggage",
          "luggage",
          "suitcase",
          "bags",
          "bag",
          "handling",
          "passengers",
          "missing",
          "airline",
          "airport"
         ],
         [
          "Baggage handling: They lost our luggage and nobody is looking for it!",
          "Baggage handling: no luggage problem",
          "Baggage handling: They lost my bag"
         ]
        ],
        [
         7,
         912,
         "Flight Disruptions and Delays",
         [
          "flight",
          "the",
          "to",
          "delay",
          "and",
          "was",
          "delayed",
          "cancellation",
          "on",
          "time"
         ],
         [
          "Flight Punctuality"
         ],
         [
          "delays",
          "delayed",
          "flight",
          "delay",
          "flights",
          "late",
          "punctuality",
          "passengers",
          "missed",
          "plane"
         ],
         [
          "Flight delay: Flight was delayed for two hours",
          "Flight punctuality: The flight was on time.",
          "Flight delay: The flight was delayed by one hour"
         ]
        ],
        [
         8,
         16,
         "Loyalty Program and benefits",
         [
          "loyalty",
          "program",
          "flyer",
          "frequent",
          "benefits",
          "customer",
          "plus",
          "again",
          "repeat",
          "promotion"
         ],
         [
          "Frequent Flyer Program"
         ],
         [
          "loyalty",
          "promotion",
          "af",
          "program",
          "airline",
          "customers",
          "loyal",
          "discounts",
          "flyer",
          "customer"
         ],
         [
          "Loyalty program experience: Never again will I fly Iberia, signed a former Iberian Plus member",
          "Frequent flyer program: Minor drawbacks : frequent flyer program does not seem on par with AF one ;",
          "Frequent flyer program: Sky miles, their frequent flyer program is very popular and has many other benefits like discounts in hotels, than award tickets."
         ]
        ],
        [
         9,
         58,
         "Pricing Transparency and Fees",
         [
          "pricing",
          "for",
          "ticket",
          "price",
          "hidden",
          "charges",
          "fees",
          "value",
          "prices",
          "and"
         ],
         [
          "Additional Fees and Charges"
         ],
         [
          "pricing",
          "fees",
          "prices",
          "fee",
          "charges",
          "price",
          "charged",
          "costs",
          "cost",
          "paying"
         ],
         [
          "Pricing transparency: Deceptive pricing, extra fees for checked bags not clearly indicated",
          "Pricing: Great price",
          "Pricing: high price for the service provided"
         ]
        ],
        [
         10,
         8,
         "Safety Measures",
         [
          "safety",
          "covid",
          "precautions",
          "measures",
          "enforced",
          "procedures",
          "masks",
          "reliability",
          "staff",
          "obligatory"
         ],
         [
          "Covid Safety Enforcement"
         ],
         [
          "precautions",
          "safety",
          "enforced",
          "safe",
          "enforcement",
          "masks",
          "procedures",
          "measures",
          "covid",
          "rushed"
         ],
         [
          "Covid precautions: Covid precautions well enforced",
          "Safety procedures: Safety procedures were rushed.",
          "Covid safety measures: very nonchalant approach to covid safety measures, masks not obligatory, they don"
         ]
        ],
        [
         11,
         36,
         "Ground Services Assistance",
         [
          "ground",
          "staff",
          "service",
          "airport",
          "assistance",
          "at",
          "the",
          "and",
          "to",
          "in"
         ],
         [
          "Ground Staff Service"
         ],
         [
          "ground",
          "passengers",
          "unprofessional",
          "service",
          "serving",
          "staff",
          "politeness",
          "airport",
          "landing",
          "planes"
         ],
         [
          "Ground staff service: Delhi airport Qantas ground staff unprofessional and rude.",
          "Ground staff service: The ground staff at Bangkok, were not up to the ",
          "Ground staff service: the ground staff was friendly"
         ]
        ],
        [
         12,
         7,
         "Accessibility and special assistance",
         [
          "assistance",
          "wheelchair",
          "wheel",
          "somebody",
          "chair",
          "nobody",
          "security",
          "special",
          "go",
          "it"
         ],
         [
          "Wheelchair Assistance"
         ],
         [
          "wheelchair",
          "assistance",
          "accessibility",
          "support",
          "onboard",
          "provided",
          "help",
          "crutches",
          "wheel",
          "asked"
         ],
         [
          "Wheelchair assistance: No wheelchair assistance was provided for my elder son, a special kid, upon reaching RUH.",
          "Wheelchair assistance: Manchester Airport wheelchair assistance staff were kind and efficient, we chose to push our friend, directed to go through fast track security, it was busy but moved fairly quickly, very easy and well organised, security staff friendly.",
          "Wheelchair assistance: I had requested a wheel chair but at Mumbai Airport there were multiple wheel chair operators they told me stay asked somebody will take you shortly but nobody took me finally they told me please go up to the immigration counter somebody will be there to help you but nobody was there again"
         ]
        ],
        [
         13,
         179,
         "13_food_meal_quality_was",
         [
          "food",
          "meal",
          "quality",
          "was",
          "no",
          "the",
          "breakfast",
          "of",
          "and",
          "lounge"
         ],
         [
          "In-Flight Meal Quality"
         ],
         [
          "disgusting",
          "food",
          "stale",
          "awful",
          "tasteless",
          "terrible",
          "poor",
          "meal",
          "bread",
          "salad"
         ],
         [
          "Food quality: The food was awful.",
          "Food quality: Food was the worst I",
          "Food quality: The meal was of poor quality, and there was no choice."
         ]
        ],
        [
         14,
         1600,
         "14_the_to_customer_experience",
         [
          "the",
          "to",
          "customer",
          "experience",
          "and",
          "service",
          "with",
          "for",
          "was",
          "overall"
         ],
         [
          "Customer Service Experience"
         ],
         [
          "refund",
          "customer",
          "experience",
          "rude",
          "ticket",
          "call",
          "service",
          "booking",
          "worst",
          "compensation"
         ],
         [
          "Customer service: The customer complained to the customer service about their experience, but was told there was nothing that could be done to reimburse their extra payment.",
          "Customer service experience: The customer was on hold for 3.5 hours and did not receive a response to their email.",
          "Overall experience: This is the worst experience I have had with any airline, I will never use them again and I definitely not recommend them."
         ]
        ]
       ],
       "datasetInfos": [],
       "dbfsResultPath": null,
       "isJsonSchema": true,
       "metadata": {},
       "overflow": false,
       "plotOptions": {
        "customPlotOptions": {},
        "displayType": "table",
        "pivotAggregation": null,
        "pivotColumns": null,
        "xColumns": null,
        "yColumns": null
       },
       "removedWidgets": [],
       "schema": [
        {
         "metadata": "{}",
         "name": "Topic",
         "type": "\"long\""
        },
        {
         "metadata": "{}",
         "name": "Count",
         "type": "\"long\""
        },
        {
         "metadata": "{}",
         "name": "Name",
         "type": "\"string\""
        },
        {
         "metadata": "{}",
         "name": "Representation",
         "type": "{\"type\":\"array\",\"elementType\":\"string\",\"containsNull\":true}"
        },
        {
         "metadata": "{}",
         "name": "AI_Generated",
         "type": "{\"type\":\"array\",\"elementType\":\"string\",\"containsNull\":true}"
        },
        {
         "metadata": "{}",
         "name": "KeyBERT",
         "type": "{\"type\":\"array\",\"elementType\":\"string\",\"containsNull\":true}"
        },
        {
         "metadata": "{}",
         "name": "Representative_Docs",
         "type": "{\"type\":\"array\",\"elementType\":\"string\",\"containsNull\":true}"
        }
       ],
       "type": "table"
      }
     },
     "output_type": "display_data"
    }
   ],
   "source": [
    "# Updated topics\n",
    "spark.createDataFrame(topic_model.get_topic_info()).display()"
   ]
  },
  {
   "cell_type": "markdown",
   "metadata": {
    "application/vnd.databricks.v1+cell": {
     "cellMetadata": {},
     "inputWidgets": {},
     "nuid": "05fb4d25-5379-408f-a1d0-c13455a9cae5",
     "showTitle": false,
     "tableResultSettingsMap": {},
     "title": ""
    }
   },
   "source": [
    "Probabilities:1) zeroshot topics:cosine similarity 2) rest: clustering 'confidence' (membership probability)"
   ]
  },
  {
   "cell_type": "code",
   "execution_count": 0,
   "metadata": {
    "application/vnd.databricks.v1+cell": {
     "cellMetadata": {
      "byteLimit": 2048000,
      "rowLimit": 10000
     },
     "inputWidgets": {},
     "nuid": "c7f63f0f-536a-4ad1-a510-b75a1829eb1c",
     "showTitle": false,
     "tableResultSettingsMap": {},
     "title": ""
    }
   },
   "outputs": [
    {
     "output_type": "execute_result",
     "data": {
      "text/html": [
       "<div>\n",
       "<style scoped>\n",
       "    .dataframe tbody tr th:only-of-type {\n",
       "        vertical-align: middle;\n",
       "    }\n",
       "\n",
       "    .dataframe tbody tr th {\n",
       "        vertical-align: top;\n",
       "    }\n",
       "\n",
       "    .dataframe thead th {\n",
       "        text-align: right;\n",
       "    }\n",
       "</style>\n",
       "<table border=\"1\" class=\"dataframe\">\n",
       "  <thead>\n",
       "    <tr style=\"text-align: right;\">\n",
       "      <th></th>\n",
       "      <th>topic_id</th>\n",
       "      <th>probability</th>\n",
       "      <th>topic_name</th>\n",
       "      <th>llm_topic_name</th>\n",
       "      <th>document</th>\n",
       "    </tr>\n",
       "  </thead>\n",
       "  <tbody>\n",
       "    <tr>\n",
       "      <th>0</th>\n",
       "      <td>0</td>\n",
       "      <td>0.788810</td>\n",
       "      <td>Check-in and Boarding</td>\n",
       "      <td>Check-in Experience</td>\n",
       "      <td>Check-in experience: The queue was not organis...</td>\n",
       "    </tr>\n",
       "    <tr>\n",
       "      <th>1</th>\n",
       "      <td>7</td>\n",
       "      <td>0.741349</td>\n",
       "      <td>Flight Disruptions and Delays</td>\n",
       "      <td>Flight Punctuality</td>\n",
       "      <td>Check-in agent knowledge: The agent didn’t see...</td>\n",
       "    </tr>\n",
       "    <tr>\n",
       "      <th>2</th>\n",
       "      <td>7</td>\n",
       "      <td>0.752772</td>\n",
       "      <td>Flight Disruptions and Delays</td>\n",
       "      <td>Flight Punctuality</td>\n",
       "      <td>Flight cancellation/removal: We received a tex...</td>\n",
       "    </tr>\n",
       "    <tr>\n",
       "      <th>3</th>\n",
       "      <td>6</td>\n",
       "      <td>0.760215</td>\n",
       "      <td>Baggage Handling</td>\n",
       "      <td>Baggage Handling</td>\n",
       "      <td>Baggage collection: We waited for ages, and no...</td>\n",
       "    </tr>\n",
       "    <tr>\n",
       "      <th>4</th>\n",
       "      <td>14</td>\n",
       "      <td>0.685448</td>\n",
       "      <td>14_the_to_customer_experience</td>\n",
       "      <td>Customer Service Experience</td>\n",
       "      <td>Accommodation vouchers: We expected to be give...</td>\n",
       "    </tr>\n",
       "    <tr>\n",
       "      <th>...</th>\n",
       "      <td>...</td>\n",
       "      <td>...</td>\n",
       "      <td>...</td>\n",
       "      <td>...</td>\n",
       "      <td>...</td>\n",
       "    </tr>\n",
       "    <tr>\n",
       "      <th>4328</th>\n",
       "      <td>14</td>\n",
       "      <td>0.745417</td>\n",
       "      <td>14_the_to_customer_experience</td>\n",
       "      <td>Customer Service Experience</td>\n",
       "      <td>Previous negative experience: Last year my lug...</td>\n",
       "    </tr>\n",
       "    <tr>\n",
       "      <th>4329</th>\n",
       "      <td>14</td>\n",
       "      <td>0.711061</td>\n",
       "      <td>14_the_to_customer_experience</td>\n",
       "      <td>Customer Service Experience</td>\n",
       "      <td>Warning to others: I can only warn anybody not...</td>\n",
       "    </tr>\n",
       "    <tr>\n",
       "      <th>4330</th>\n",
       "      <td>14</td>\n",
       "      <td>0.704726</td>\n",
       "      <td>14_the_to_customer_experience</td>\n",
       "      <td>Customer Service Experience</td>\n",
       "      <td>Promotion and route: I was attracted to the pr...</td>\n",
       "    </tr>\n",
       "    <tr>\n",
       "      <th>4331</th>\n",
       "      <td>1</td>\n",
       "      <td>0.701608</td>\n",
       "      <td>Seating Comfort</td>\n",
       "      <td>Seat Comfort</td>\n",
       "      <td>Business class seats: Business class seats of ...</td>\n",
       "    </tr>\n",
       "    <tr>\n",
       "      <th>4332</th>\n",
       "      <td>14</td>\n",
       "      <td>0.659529</td>\n",
       "      <td>14_the_to_customer_experience</td>\n",
       "      <td>Customer Service Experience</td>\n",
       "      <td>Business class seats in A333: Business class i...</td>\n",
       "    </tr>\n",
       "  </tbody>\n",
       "</table>\n",
       "<p>4333 rows × 5 columns</p>\n",
       "</div>"
      ],
      "text/plain": [
       "      topic_id  ...                                           document\n",
       "0            0  ...  Check-in experience: The queue was not organis...\n",
       "1            7  ...  Check-in agent knowledge: The agent didn’t see...\n",
       "2            7  ...  Flight cancellation/removal: We received a tex...\n",
       "3            6  ...  Baggage collection: We waited for ages, and no...\n",
       "4           14  ...  Accommodation vouchers: We expected to be give...\n",
       "...        ...  ...                                                ...\n",
       "4328        14  ...  Previous negative experience: Last year my lug...\n",
       "4329        14  ...  Warning to others: I can only warn anybody not...\n",
       "4330        14  ...  Promotion and route: I was attracted to the pr...\n",
       "4331         1  ...  Business class seats: Business class seats of ...\n",
       "4332        14  ...  Business class seats in A333: Business class i...\n",
       "\n",
       "[4333 rows x 5 columns]"
      ]
     },
     "execution_count": 51,
     "metadata": {},
     "output_type": "execute_result"
    }
   ],
   "source": [
    "import pandas as pd\n",
    "topic_names = [topic_model.get_topic_info(topic_id)['Name'][0] for topic_id in new_topics]\n",
    "llm_topic_names = [topic_model.get_topic_info(topic_id)['AI_Generated'][0][0].strip(\"'''\").strip('\\n') for topic_id in new_topics]\n",
    "results_df = pd.DataFrame(data={\"topic_id\": new_topics, \"probability\": probs, \"topic_name\": topic_names, \"llm_topic_name\": llm_topic_names, \"document\": all_reviews })\n",
    "results_df"
   ]
  },
  {
   "cell_type": "code",
   "execution_count": 0,
   "metadata": {
    "application/vnd.databricks.v1+cell": {
     "cellMetadata": {
      "byteLimit": 2048000,
      "rowLimit": 10000
     },
     "inputWidgets": {},
     "nuid": "9a058ae0-2f9b-4186-8aeb-5d8c6d675471",
     "showTitle": false,
     "tableResultSettingsMap": {},
     "title": ""
    }
   },
   "outputs": [],
   "source": [
    "# Save results table to Unity Catalog\n",
    "spark.createDataFrame(results_df).write.format(\"delta\").saveAsTable(f\"{CATALOG}.{SCHEma}.{OUTPUT_TABLE}\")"
   ]
  },
  {
   "cell_type": "markdown",
   "metadata": {
    "application/vnd.databricks.v1+cell": {
     "cellMetadata": {},
     "inputWidgets": {},
     "nuid": "2fd0bdc5-4f73-48d8-aa93-6173cff73310",
     "showTitle": false,
     "tableResultSettingsMap": {},
     "title": ""
    }
   },
   "source": [
    "## Visualize topics"
   ]
  },
  {
   "cell_type": "code",
   "execution_count": 0,
   "metadata": {
    "application/vnd.databricks.v1+cell": {
     "cellMetadata": {
      "byteLimit": 2048000,
      "rowLimit": 10000
     },
     "inputWidgets": {},
     "nuid": "e304f465-282e-458e-bcec-59b759087550",
     "showTitle": false,
     "tableResultSettingsMap": {},
     "title": ""
    }
   },
   "outputs": [],
   "source": [
    "# Use llm labels for visualization\n",
    "llm_topic_labels = {topic:values[0][0].strip(\"'''\").strip('\\n') for topic, values in topic_model.topic_aspects_['AI_Generated'].items()}\n",
    "llm_topic_labels[-1] = \"Outlier Topic\"\n",
    "topic_model.set_topic_labels(llm_topic_labels)\n",
    "# llm_topic_labels"
   ]
  },
  {
   "cell_type": "code",
   "execution_count": 0,
   "metadata": {
    "application/vnd.databricks.v1+cell": {
     "cellMetadata": {
      "byteLimit": 2048000,
      "rowLimit": 10000
     },
     "inputWidgets": {},
     "nuid": "9e0238fb-a843-4efe-922c-eb4048f36f20",
     "showTitle": false,
     "tableResultSettingsMap": {},
     "title": ""
    }
   },
   "outputs": [
    {
     "output_type": "display_data",
     "data": {
      "text/html": [
       "<html>\n",
       "<head><meta charset=\"utf-8\" /></head>\n",
       "<body>\n",
       "    <div>            <script src=\"https://cdnjs.cloudflare.com/ajax/libs/mathjax/2.7.5/MathJax.js?config=TeX-AMS-MML_SVG\"></script><script type=\"text/javascript\">if (window.MathJax && window.MathJax.Hub && window.MathJax.Hub.Config) {window.MathJax.Hub.Config({SVG: {font: \"STIX-Web\"}});}</script>                <script type=\"text/javascript\">window.PlotlyConfig = {MathJaxConfig: 'local'};</script>\n",
       "        <script src=\"https://cdn.plot.ly/plotly-2.12.1.min.js\"></script>                <div id=\"67e9e17c-8d4a-4192-8753-389cef0d07cd\" class=\"plotly-graph-div\" style=\"height:650px; width:650px;\"></div>            <script type=\"text/javascript\">                                    window.PLOTLYENV=window.PLOTLYENV || {};                                    if (document.getElementById(\"67e9e17c-8d4a-4192-8753-389cef0d07cd\")) {                    Plotly.newPlot(                        \"67e9e17c-8d4a-4192-8753-389cef0d07cd\",                        [{\"customdata\":[[0,\"Check-in Experience\",317],[1,\"Seat Comfort\",241],[2,\"In-flight Entertainment\",205],[3,\"Aircraft Cleanliness\",114],[4,\"In-Flight Meal Quality\",150],[5,\"Cabin Crew Friendliness\",350],[6,\"Baggage Handling\",140],[7,\"Flight Punctuality\",912],[8,\"Frequent Flyer Program\",16],[9,\"Additional Fees and Charges\",58],[10,\"Covid Safety Enforcement\",8],[11,\"Ground Staff Service\",36],[12,\"Wheelchair Assistance\",7],[13,\"In-Flight Meal Quality\",179],[14,\"Customer Service Experience\",1600]],\"hovertemplate\":\"<b>Topic %{customdata[0]}</b><br>%{customdata[1]}<br>Size: %{customdata[2]}\",\"legendgroup\":\"\",\"marker\":{\"color\":\"#B0BEC5\",\"size\":[317,241,205,114,150,350,140,912,16,58,8,36,7,179,1600],\"sizemode\":\"area\",\"sizeref\":1.0,\"symbol\":\"circle\",\"line\":{\"color\":\"DarkSlateGrey\",\"width\":2}},\"mode\":\"markers\",\"name\":\"\",\"orientation\":\"v\",\"showlegend\":false,\"x\":[15.84101,18.974972,15.933485,19.765844,-12.890787,18.99827,20.118425,16.385212,16.551207,17.296349,15.459613,18.44149,18.68815,-13.139449,16.136715],\"xaxis\":\"x\",\"y\":[0.23152582,3.4579165,-0.4469796,2.68261,20.624985,2.512515,3.0084183,0.8983542,0.299685,0.38703808,0.0037670801,2.59579,3.1635199,20.873652,1.1451982],\"yaxis\":\"y\",\"type\":\"scatter\"}],                        {\"template\":{\"data\":{\"barpolar\":[{\"marker\":{\"line\":{\"color\":\"white\",\"width\":0.5},\"pattern\":{\"fillmode\":\"overlay\",\"size\":10,\"solidity\":0.2}},\"type\":\"barpolar\"}],\"bar\":[{\"error_x\":{\"color\":\"rgb(36,36,36)\"},\"error_y\":{\"color\":\"rgb(36,36,36)\"},\"marker\":{\"line\":{\"color\":\"white\",\"width\":0.5},\"pattern\":{\"fillmode\":\"overlay\",\"size\":10,\"solidity\":0.2}},\"type\":\"bar\"}],\"carpet\":[{\"aaxis\":{\"endlinecolor\":\"rgb(36,36,36)\",\"gridcolor\":\"white\",\"linecolor\":\"white\",\"minorgridcolor\":\"white\",\"startlinecolor\":\"rgb(36,36,36)\"},\"baxis\":{\"endlinecolor\":\"rgb(36,36,36)\",\"gridcolor\":\"white\",\"linecolor\":\"white\",\"minorgridcolor\":\"white\",\"startlinecolor\":\"rgb(36,36,36)\"},\"type\":\"carpet\"}],\"choropleth\":[{\"colorbar\":{\"outlinewidth\":1,\"tickcolor\":\"rgb(36,36,36)\",\"ticks\":\"outside\"},\"type\":\"choropleth\"}],\"contourcarpet\":[{\"colorbar\":{\"outlinewidth\":1,\"tickcolor\":\"rgb(36,36,36)\",\"ticks\":\"outside\"},\"type\":\"contourcarpet\"}],\"contour\":[{\"colorbar\":{\"outlinewidth\":1,\"tickcolor\":\"rgb(36,36,36)\",\"ticks\":\"outside\"},\"colorscale\":[[0.0,\"#440154\"],[0.1111111111111111,\"#482878\"],[0.2222222222222222,\"#3e4989\"],[0.3333333333333333,\"#31688e\"],[0.4444444444444444,\"#26828e\"],[0.5555555555555556,\"#1f9e89\"],[0.6666666666666666,\"#35b779\"],[0.7777777777777778,\"#6ece58\"],[0.8888888888888888,\"#b5de2b\"],[1.0,\"#fde725\"]],\"type\":\"contour\"}],\"heatmapgl\":[{\"colorbar\":{\"outlinewidth\":1,\"tickcolor\":\"rgb(36,36,36)\",\"ticks\":\"outside\"},\"colorscale\":[[0.0,\"#440154\"],[0.1111111111111111,\"#482878\"],[0.2222222222222222,\"#3e4989\"],[0.3333333333333333,\"#31688e\"],[0.4444444444444444,\"#26828e\"],[0.5555555555555556,\"#1f9e89\"],[0.6666666666666666,\"#35b779\"],[0.7777777777777778,\"#6ece58\"],[0.8888888888888888,\"#b5de2b\"],[1.0,\"#fde725\"]],\"type\":\"heatmapgl\"}],\"heatmap\":[{\"colorbar\":{\"outlinewidth\":1,\"tickcolor\":\"rgb(36,36,36)\",\"ticks\":\"outside\"},\"colorscale\":[[0.0,\"#440154\"],[0.1111111111111111,\"#482878\"],[0.2222222222222222,\"#3e4989\"],[0.3333333333333333,\"#31688e\"],[0.4444444444444444,\"#26828e\"],[0.5555555555555556,\"#1f9e89\"],[0.6666666666666666,\"#35b779\"],[0.7777777777777778,\"#6ece58\"],[0.8888888888888888,\"#b5de2b\"],[1.0,\"#fde725\"]],\"type\":\"heatmap\"}],\"histogram2dcontour\":[{\"colorbar\":{\"outlinewidth\":1,\"tickcolor\":\"rgb(36,36,36)\",\"ticks\":\"outside\"},\"colorscale\":[[0.0,\"#440154\"],[0.1111111111111111,\"#482878\"],[0.2222222222222222,\"#3e4989\"],[0.3333333333333333,\"#31688e\"],[0.4444444444444444,\"#26828e\"],[0.5555555555555556,\"#1f9e89\"],[0.6666666666666666,\"#35b779\"],[0.7777777777777778,\"#6ece58\"],[0.8888888888888888,\"#b5de2b\"],[1.0,\"#fde725\"]],\"type\":\"histogram2dcontour\"}],\"histogram2d\":[{\"colorbar\":{\"outlinewidth\":1,\"tickcolor\":\"rgb(36,36,36)\",\"ticks\":\"outside\"},\"colorscale\":[[0.0,\"#440154\"],[0.1111111111111111,\"#482878\"],[0.2222222222222222,\"#3e4989\"],[0.3333333333333333,\"#31688e\"],[0.4444444444444444,\"#26828e\"],[0.5555555555555556,\"#1f9e89\"],[0.6666666666666666,\"#35b779\"],[0.7777777777777778,\"#6ece58\"],[0.8888888888888888,\"#b5de2b\"],[1.0,\"#fde725\"]],\"type\":\"histogram2d\"}],\"histogram\":[{\"marker\":{\"line\":{\"color\":\"white\",\"width\":0.6}},\"type\":\"histogram\"}],\"mesh3d\":[{\"colorbar\":{\"outlinewidth\":1,\"tickcolor\":\"rgb(36,36,36)\",\"ticks\":\"outside\"},\"type\":\"mesh3d\"}],\"parcoords\":[{\"line\":{\"colorbar\":{\"outlinewidth\":1,\"tickcolor\":\"rgb(36,36,36)\",\"ticks\":\"outside\"}},\"type\":\"parcoords\"}],\"pie\":[{\"automargin\":true,\"type\":\"pie\"}],\"scatter3d\":[{\"line\":{\"colorbar\":{\"outlinewidth\":1,\"tickcolor\":\"rgb(36,36,36)\",\"ticks\":\"outside\"}},\"marker\":{\"colorbar\":{\"outlinewidth\":1,\"tickcolor\":\"rgb(36,36,36)\",\"ticks\":\"outside\"}},\"type\":\"scatter3d\"}],\"scattercarpet\":[{\"marker\":{\"colorbar\":{\"outlinewidth\":1,\"tickcolor\":\"rgb(36,36,36)\",\"ticks\":\"outside\"}},\"type\":\"scattercarpet\"}],\"scattergeo\":[{\"marker\":{\"colorbar\":{\"outlinewidth\":1,\"tickcolor\":\"rgb(36,36,36)\",\"ticks\":\"outside\"}},\"type\":\"scattergeo\"}],\"scattergl\":[{\"marker\":{\"colorbar\":{\"outlinewidth\":1,\"tickcolor\":\"rgb(36,36,36)\",\"ticks\":\"outside\"}},\"type\":\"scattergl\"}],\"scattermapbox\":[{\"marker\":{\"colorbar\":{\"outlinewidth\":1,\"tickcolor\":\"rgb(36,36,36)\",\"ticks\":\"outside\"}},\"type\":\"scattermapbox\"}],\"scatterpolargl\":[{\"marker\":{\"colorbar\":{\"outlinewidth\":1,\"tickcolor\":\"rgb(36,36,36)\",\"ticks\":\"outside\"}},\"type\":\"scatterpolargl\"}],\"scatterpolar\":[{\"marker\":{\"colorbar\":{\"outlinewidth\":1,\"tickcolor\":\"rgb(36,36,36)\",\"ticks\":\"outside\"}},\"type\":\"scatterpolar\"}],\"scatter\":[{\"fillpattern\":{\"fillmode\":\"overlay\",\"size\":10,\"solidity\":0.2},\"type\":\"scatter\"}],\"scatterternary\":[{\"marker\":{\"colorbar\":{\"outlinewidth\":1,\"tickcolor\":\"rgb(36,36,36)\",\"ticks\":\"outside\"}},\"type\":\"scatterternary\"}],\"surface\":[{\"colorbar\":{\"outlinewidth\":1,\"tickcolor\":\"rgb(36,36,36)\",\"ticks\":\"outside\"},\"colorscale\":[[0.0,\"#440154\"],[0.1111111111111111,\"#482878\"],[0.2222222222222222,\"#3e4989\"],[0.3333333333333333,\"#31688e\"],[0.4444444444444444,\"#26828e\"],[0.5555555555555556,\"#1f9e89\"],[0.6666666666666666,\"#35b779\"],[0.7777777777777778,\"#6ece58\"],[0.8888888888888888,\"#b5de2b\"],[1.0,\"#fde725\"]],\"type\":\"surface\"}],\"table\":[{\"cells\":{\"fill\":{\"color\":\"rgb(237,237,237)\"},\"line\":{\"color\":\"white\"}},\"header\":{\"fill\":{\"color\":\"rgb(217,217,217)\"},\"line\":{\"color\":\"white\"}},\"type\":\"table\"}]},\"layout\":{\"annotationdefaults\":{\"arrowhead\":0,\"arrowwidth\":1},\"autotypenumbers\":\"strict\",\"coloraxis\":{\"colorbar\":{\"outlinewidth\":1,\"tickcolor\":\"rgb(36,36,36)\",\"ticks\":\"outside\"}},\"colorscale\":{\"diverging\":[[0.0,\"rgb(103,0,31)\"],[0.1,\"rgb(178,24,43)\"],[0.2,\"rgb(214,96,77)\"],[0.3,\"rgb(244,165,130)\"],[0.4,\"rgb(253,219,199)\"],[0.5,\"rgb(247,247,247)\"],[0.6,\"rgb(209,229,240)\"],[0.7,\"rgb(146,197,222)\"],[0.8,\"rgb(67,147,195)\"],[0.9,\"rgb(33,102,172)\"],[1.0,\"rgb(5,48,97)\"]],\"sequential\":[[0.0,\"#440154\"],[0.1111111111111111,\"#482878\"],[0.2222222222222222,\"#3e4989\"],[0.3333333333333333,\"#31688e\"],[0.4444444444444444,\"#26828e\"],[0.5555555555555556,\"#1f9e89\"],[0.6666666666666666,\"#35b779\"],[0.7777777777777778,\"#6ece58\"],[0.8888888888888888,\"#b5de2b\"],[1.0,\"#fde725\"]],\"sequentialminus\":[[0.0,\"#440154\"],[0.1111111111111111,\"#482878\"],[0.2222222222222222,\"#3e4989\"],[0.3333333333333333,\"#31688e\"],[0.4444444444444444,\"#26828e\"],[0.5555555555555556,\"#1f9e89\"],[0.6666666666666666,\"#35b779\"],[0.7777777777777778,\"#6ece58\"],[0.8888888888888888,\"#b5de2b\"],[1.0,\"#fde725\"]]},\"colorway\":[\"#1F77B4\",\"#FF7F0E\",\"#2CA02C\",\"#D62728\",\"#9467BD\",\"#8C564B\",\"#E377C2\",\"#7F7F7F\",\"#BCBD22\",\"#17BECF\"],\"font\":{\"color\":\"rgb(36,36,36)\"},\"geo\":{\"bgcolor\":\"white\",\"lakecolor\":\"white\",\"landcolor\":\"white\",\"showlakes\":true,\"showland\":true,\"subunitcolor\":\"white\"},\"hoverlabel\":{\"align\":\"left\"},\"hovermode\":\"closest\",\"mapbox\":{\"style\":\"light\"},\"paper_bgcolor\":\"white\",\"plot_bgcolor\":\"white\",\"polar\":{\"angularaxis\":{\"gridcolor\":\"rgb(232,232,232)\",\"linecolor\":\"rgb(36,36,36)\",\"showgrid\":false,\"showline\":true,\"ticks\":\"outside\"},\"bgcolor\":\"white\",\"radialaxis\":{\"gridcolor\":\"rgb(232,232,232)\",\"linecolor\":\"rgb(36,36,36)\",\"showgrid\":false,\"showline\":true,\"ticks\":\"outside\"}},\"scene\":{\"xaxis\":{\"backgroundcolor\":\"white\",\"gridcolor\":\"rgb(232,232,232)\",\"gridwidth\":2,\"linecolor\":\"rgb(36,36,36)\",\"showbackground\":true,\"showgrid\":false,\"showline\":true,\"ticks\":\"outside\",\"zeroline\":false,\"zerolinecolor\":\"rgb(36,36,36)\"},\"yaxis\":{\"backgroundcolor\":\"white\",\"gridcolor\":\"rgb(232,232,232)\",\"gridwidth\":2,\"linecolor\":\"rgb(36,36,36)\",\"showbackground\":true,\"showgrid\":false,\"showline\":true,\"ticks\":\"outside\",\"zeroline\":false,\"zerolinecolor\":\"rgb(36,36,36)\"},\"zaxis\":{\"backgroundcolor\":\"white\",\"gridcolor\":\"rgb(232,232,232)\",\"gridwidth\":2,\"linecolor\":\"rgb(36,36,36)\",\"showbackground\":true,\"showgrid\":false,\"showline\":true,\"ticks\":\"outside\",\"zeroline\":false,\"zerolinecolor\":\"rgb(36,36,36)\"}},\"shapedefaults\":{\"fillcolor\":\"black\",\"line\":{\"width\":0},\"opacity\":0.3},\"ternary\":{\"aaxis\":{\"gridcolor\":\"rgb(232,232,232)\",\"linecolor\":\"rgb(36,36,36)\",\"showgrid\":false,\"showline\":true,\"ticks\":\"outside\"},\"baxis\":{\"gridcolor\":\"rgb(232,232,232)\",\"linecolor\":\"rgb(36,36,36)\",\"showgrid\":false,\"showline\":true,\"ticks\":\"outside\"},\"bgcolor\":\"white\",\"caxis\":{\"gridcolor\":\"rgb(232,232,232)\",\"linecolor\":\"rgb(36,36,36)\",\"showgrid\":false,\"showline\":true,\"ticks\":\"outside\"}},\"title\":{\"x\":0.05},\"xaxis\":{\"automargin\":true,\"gridcolor\":\"rgb(232,232,232)\",\"linecolor\":\"rgb(36,36,36)\",\"showgrid\":false,\"showline\":true,\"ticks\":\"outside\",\"title\":{\"standoff\":15},\"zeroline\":false,\"zerolinecolor\":\"rgb(36,36,36)\"},\"yaxis\":{\"automargin\":true,\"gridcolor\":\"rgb(232,232,232)\",\"linecolor\":\"rgb(36,36,36)\",\"showgrid\":false,\"showline\":true,\"ticks\":\"outside\",\"title\":{\"standoff\":15},\"zeroline\":false,\"zerolinecolor\":\"rgb(36,36,36)\"}}},\"xaxis\":{\"anchor\":\"y\",\"domain\":[0.0,1.0],\"title\":{\"text\":\"\"},\"visible\":false,\"range\":[-15.110366487503052,23.1361891746521]},\"yaxis\":{\"anchor\":\"x\",\"domain\":[0.0,1.0],\"title\":{\"text\":\"\"},\"visible\":false,\"range\":[-0.5140265539288521,24.004699230194092]},\"legend\":{\"tracegroupgap\":0,\"itemsizing\":\"constant\"},\"margin\":{\"t\":60},\"title\":{\"font\":{\"size\":22,\"color\":\"Black\"},\"text\":\"<b>Intertopic Distance Map</b>\",\"y\":0.95,\"x\":0.5,\"xanchor\":\"center\",\"yanchor\":\"top\"},\"hoverlabel\":{\"font\":{\"size\":16,\"family\":\"Rockwell\"},\"bgcolor\":\"white\"},\"width\":650,\"height\":650,\"sliders\":[{\"active\":0,\"pad\":{\"t\":50},\"steps\":[{\"args\":[{\"marker.color\":[[\"red\",\"#B0BEC5\",\"#B0BEC5\",\"#B0BEC5\",\"#B0BEC5\",\"#B0BEC5\",\"#B0BEC5\",\"#B0BEC5\",\"#B0BEC5\",\"#B0BEC5\",\"#B0BEC5\",\"#B0BEC5\",\"#B0BEC5\",\"#B0BEC5\",\"#B0BEC5\"]]}],\"label\":\"Topic 0\",\"method\":\"update\"},{\"args\":[{\"marker.color\":[[\"#B0BEC5\",\"red\",\"#B0BEC5\",\"#B0BEC5\",\"#B0BEC5\",\"#B0BEC5\",\"#B0BEC5\",\"#B0BEC5\",\"#B0BEC5\",\"#B0BEC5\",\"#B0BEC5\",\"#B0BEC5\",\"#B0BEC5\",\"#B0BEC5\",\"#B0BEC5\"]]}],\"label\":\"Topic 1\",\"method\":\"update\"},{\"args\":[{\"marker.color\":[[\"#B0BEC5\",\"#B0BEC5\",\"red\",\"#B0BEC5\",\"#B0BEC5\",\"#B0BEC5\",\"#B0BEC5\",\"#B0BEC5\",\"#B0BEC5\",\"#B0BEC5\",\"#B0BEC5\",\"#B0BEC5\",\"#B0BEC5\",\"#B0BEC5\",\"#B0BEC5\"]]}],\"label\":\"Topic 2\",\"method\":\"update\"},{\"args\":[{\"marker.color\":[[\"#B0BEC5\",\"#B0BEC5\",\"#B0BEC5\",\"red\",\"#B0BEC5\",\"#B0BEC5\",\"#B0BEC5\",\"#B0BEC5\",\"#B0BEC5\",\"#B0BEC5\",\"#B0BEC5\",\"#B0BEC5\",\"#B0BEC5\",\"#B0BEC5\",\"#B0BEC5\"]]}],\"label\":\"Topic 3\",\"method\":\"update\"},{\"args\":[{\"marker.color\":[[\"#B0BEC5\",\"#B0BEC5\",\"#B0BEC5\",\"#B0BEC5\",\"red\",\"#B0BEC5\",\"#B0BEC5\",\"#B0BEC5\",\"#B0BEC5\",\"#B0BEC5\",\"#B0BEC5\",\"#B0BEC5\",\"#B0BEC5\",\"#B0BEC5\",\"#B0BEC5\"]]}],\"label\":\"Topic 4\",\"method\":\"update\"},{\"args\":[{\"marker.color\":[[\"#B0BEC5\",\"#B0BEC5\",\"#B0BEC5\",\"#B0BEC5\",\"#B0BEC5\",\"red\",\"#B0BEC5\",\"#B0BEC5\",\"#B0BEC5\",\"#B0BEC5\",\"#B0BEC5\",\"#B0BEC5\",\"#B0BEC5\",\"#B0BEC5\",\"#B0BEC5\"]]}],\"label\":\"Topic 5\",\"method\":\"update\"},{\"args\":[{\"marker.color\":[[\"#B0BEC5\",\"#B0BEC5\",\"#B0BEC5\",\"#B0BEC5\",\"#B0BEC5\",\"#B0BEC5\",\"red\",\"#B0BEC5\",\"#B0BEC5\",\"#B0BEC5\",\"#B0BEC5\",\"#B0BEC5\",\"#B0BEC5\",\"#B0BEC5\",\"#B0BEC5\"]]}],\"label\":\"Topic 6\",\"method\":\"update\"},{\"args\":[{\"marker.color\":[[\"#B0BEC5\",\"#B0BEC5\",\"#B0BEC5\",\"#B0BEC5\",\"#B0BEC5\",\"#B0BEC5\",\"#B0BEC5\",\"red\",\"#B0BEC5\",\"#B0BEC5\",\"#B0BEC5\",\"#B0BEC5\",\"#B0BEC5\",\"#B0BEC5\",\"#B0BEC5\"]]}],\"label\":\"Topic 7\",\"method\":\"update\"},{\"args\":[{\"marker.color\":[[\"#B0BEC5\",\"#B0BEC5\",\"#B0BEC5\",\"#B0BEC5\",\"#B0BEC5\",\"#B0BEC5\",\"#B0BEC5\",\"#B0BEC5\",\"red\",\"#B0BEC5\",\"#B0BEC5\",\"#B0BEC5\",\"#B0BEC5\",\"#B0BEC5\",\"#B0BEC5\"]]}],\"label\":\"Topic 8\",\"method\":\"update\"},{\"args\":[{\"marker.color\":[[\"#B0BEC5\",\"#B0BEC5\",\"#B0BEC5\",\"#B0BEC5\",\"#B0BEC5\",\"#B0BEC5\",\"#B0BEC5\",\"#B0BEC5\",\"#B0BEC5\",\"red\",\"#B0BEC5\",\"#B0BEC5\",\"#B0BEC5\",\"#B0BEC5\",\"#B0BEC5\"]]}],\"label\":\"Topic 9\",\"method\":\"update\"},{\"args\":[{\"marker.color\":[[\"#B0BEC5\",\"#B0BEC5\",\"#B0BEC5\",\"#B0BEC5\",\"#B0BEC5\",\"#B0BEC5\",\"#B0BEC5\",\"#B0BEC5\",\"#B0BEC5\",\"#B0BEC5\",\"red\",\"#B0BEC5\",\"#B0BEC5\",\"#B0BEC5\",\"#B0BEC5\"]]}],\"label\":\"Topic 10\",\"method\":\"update\"},{\"args\":[{\"marker.color\":[[\"#B0BEC5\",\"#B0BEC5\",\"#B0BEC5\",\"#B0BEC5\",\"#B0BEC5\",\"#B0BEC5\",\"#B0BEC5\",\"#B0BEC5\",\"#B0BEC5\",\"#B0BEC5\",\"#B0BEC5\",\"red\",\"#B0BEC5\",\"#B0BEC5\",\"#B0BEC5\"]]}],\"label\":\"Topic 11\",\"method\":\"update\"},{\"args\":[{\"marker.color\":[[\"#B0BEC5\",\"#B0BEC5\",\"#B0BEC5\",\"#B0BEC5\",\"#B0BEC5\",\"#B0BEC5\",\"#B0BEC5\",\"#B0BEC5\",\"#B0BEC5\",\"#B0BEC5\",\"#B0BEC5\",\"#B0BEC5\",\"red\",\"#B0BEC5\",\"#B0BEC5\"]]}],\"label\":\"Topic 12\",\"method\":\"update\"},{\"args\":[{\"marker.color\":[[\"#B0BEC5\",\"#B0BEC5\",\"#B0BEC5\",\"#B0BEC5\",\"#B0BEC5\",\"#B0BEC5\",\"#B0BEC5\",\"#B0BEC5\",\"#B0BEC5\",\"#B0BEC5\",\"#B0BEC5\",\"#B0BEC5\",\"#B0BEC5\",\"red\",\"#B0BEC5\"]]}],\"label\":\"Topic 13\",\"method\":\"update\"},{\"args\":[{\"marker.color\":[[\"#B0BEC5\",\"#B0BEC5\",\"#B0BEC5\",\"#B0BEC5\",\"#B0BEC5\",\"#B0BEC5\",\"#B0BEC5\",\"#B0BEC5\",\"#B0BEC5\",\"#B0BEC5\",\"#B0BEC5\",\"#B0BEC5\",\"#B0BEC5\",\"#B0BEC5\",\"red\"]]}],\"label\":\"Topic 14\",\"method\":\"update\"}]}],\"shapes\":[{\"line\":{\"color\":\"#CFD8DC\",\"width\":2},\"type\":\"line\",\"x0\":4.012911343574523,\"x1\":4.012911343574523,\"y0\":-0.5140265539288521,\"y1\":24.004699230194092},{\"line\":{\"color\":\"#9E9E9E\",\"width\":2},\"type\":\"line\",\"x0\":-15.110366487503052,\"x1\":23.1361891746521,\"y0\":11.74533633813262,\"y1\":11.74533633813262}],\"annotations\":[{\"showarrow\":false,\"text\":\"D1\",\"x\":-15.110366487503052,\"y\":11.74533633813262,\"yshift\":10},{\"showarrow\":false,\"text\":\"D2\",\"x\":4.012911343574523,\"xshift\":10,\"y\":24.004699230194092}]},                        {\"responsive\": true}                    )                };                            </script>        </div>\n",
       "</body>\n",
       "</html>"
      ]
     },
     "metadata": {},
     "output_type": "display_data"
    }
   ],
   "source": [
    "topic_model.visualize_topics(custom_labels=True)"
   ]
  },
  {
   "cell_type": "code",
   "execution_count": 0,
   "metadata": {
    "application/vnd.databricks.v1+cell": {
     "cellMetadata": {
      "byteLimit": 2048000,
      "rowLimit": 10000
     },
     "inputWidgets": {},
     "nuid": "b060a5ca-13d6-4b48-9204-da9491e9b63f",
     "showTitle": false,
     "tableResultSettingsMap": {},
     "title": ""
    }
   },
   "outputs": [
    {
     "output_type": "display_data",
     "data": {
      "text/html": [
       "<html>\n",
       "<head><meta charset=\"utf-8\" /></head>\n",
       "<body>\n",
       "    <div>            <script src=\"https://cdnjs.cloudflare.com/ajax/libs/mathjax/2.7.5/MathJax.js?config=TeX-AMS-MML_SVG\"></script><script type=\"text/javascript\">if (window.MathJax && window.MathJax.Hub && window.MathJax.Hub.Config) {window.MathJax.Hub.Config({SVG: {font: \"STIX-Web\"}});}</script>                <script type=\"text/javascript\">window.PlotlyConfig = {MathJaxConfig: 'local'};</script>\n",
       "        <script src=\"https://cdn.plot.ly/plotly-2.12.1.min.js\"></script>                <div id=\"4e224c09-c48b-411e-b5fd-d80fbebe420d\" class=\"plotly-graph-div\" style=\"height:600px; width:1000px;\"></div>            <script type=\"text/javascript\">                                    window.PLOTLYENV=window.PLOTLYENV || {};                                    if (document.getElementById(\"4e224c09-c48b-411e-b5fd-d80fbebe420d\")) {                    Plotly.newPlot(                        \"4e224c09-c48b-411e-b5fd-d80fbebe420d\",                        [{\"marker\":{\"color\":\"#D55E00\"},\"orientation\":\"h\",\"x\":[0.04692956605665062,0.061413485490715854,0.07412680107191195,0.10155491570430364,0.14029357489236033],\"y\":[\"at  \",\"experience  \",\"boarding  \",\"in  \",\"check  \"],\"type\":\"bar\",\"xaxis\":\"x\",\"yaxis\":\"y\"},{\"marker\":{\"color\":\"#0072B2\"},\"orientation\":\"h\",\"x\":[0.08329033041572174,0.09535109933803712,0.11254705418743063,0.18355483235956227,0.18414772767440138],\"y\":[\"comfortable  \",\"seating  \",\"seats  \",\"seat  \",\"comfort  \"],\"type\":\"bar\",\"xaxis\":\"x2\",\"yaxis\":\"y2\"},{\"marker\":{\"color\":\"#CC79A7\"},\"orientation\":\"h\",\"x\":[0.04538208881300485,0.07159386582307661,0.08708437976257177,0.09022720017818893,0.19854752793792751],\"y\":[\"ife  \",\"inflight  \",\"in  \",\"flight  \",\"entertainment  \"],\"type\":\"bar\",\"xaxis\":\"x3\",\"yaxis\":\"y3\"},{\"marker\":{\"color\":\"#E69F00\"},\"orientation\":\"h\",\"x\":[0.09105213884351832,0.12661597625329513,0.1494085760866929,0.15156708585329484,0.1659159828470304],\"y\":[\"plane  \",\"aircraft  \",\"clean  \",\"cabin  \",\"cleanliness  \"],\"type\":\"bar\",\"xaxis\":\"x4\",\"yaxis\":\"y4\"},{\"marker\":{\"color\":\"#56B4E9\"},\"orientation\":\"h\",\"x\":[0.06111923908165223,0.06511108380779033,0.06920662978696157,0.11571819366256712,0.25339715608964436],\"y\":[\"beverage  \",\"drinks  \",\"and  \",\"quality  \",\"food  \"],\"type\":\"bar\",\"xaxis\":\"x5\",\"yaxis\":\"y5\"},{\"marker\":{\"color\":\"#009E73\"},\"orientation\":\"h\",\"x\":[0.06084470011905771,0.06120976080429684,0.09147671245361359,0.10011404715443221,0.1472525705833906],\"y\":[\"friendly  \",\"staff  \",\"cabin  \",\"service  \",\"crew  \"],\"type\":\"bar\",\"xaxis\":\"x6\",\"yaxis\":\"y6\"},{\"marker\":{\"color\":\"#F0E442\"},\"orientation\":\"h\",\"x\":[0.04992744696519653,0.05195858230361303,0.10619854156876572,0.11838943839401682,0.1695180752714046],\"y\":[\"my  \",\"bag  \",\"handling  \",\"luggage  \",\"baggage  \"],\"type\":\"bar\",\"xaxis\":\"x7\",\"yaxis\":\"y7\"},{\"marker\":{\"color\":\"#D55E00\"},\"orientation\":\"h\",\"x\":[0.03800016363954302,0.043925721972865456,0.04436739533763829,0.045932239443586695,0.08070858084041148],\"y\":[\"and  \",\"delay  \",\"to  \",\"the  \",\"flight  \"],\"type\":\"bar\",\"xaxis\":\"x8\",\"yaxis\":\"y8\"},{\"marker\":{\"color\":\"#0072B2\"},\"orientation\":\"h\",\"x\":[0.045043292065597366,0.05700419075358274,0.08052461617846408,0.09385076970172192,0.1134826245863126],\"y\":[\"no  \",\"was  \",\"quality  \",\"meal  \",\"food  \"],\"type\":\"bar\",\"xaxis\":\"x9\",\"yaxis\":\"y9\"},{\"marker\":{\"color\":\"#CC79A7\"},\"orientation\":\"h\",\"x\":[0.032071009903079636,0.036543319389326985,0.038426874802960025,0.03970817062571768,0.04135684613858914],\"y\":[\"and  \",\"experience  \",\"customer  \",\"to  \",\"the  \"],\"type\":\"bar\",\"xaxis\":\"x10\",\"yaxis\":\"y10\"}],                        {\"template\":{\"data\":{\"barpolar\":[{\"marker\":{\"line\":{\"color\":\"white\",\"width\":0.5},\"pattern\":{\"fillmode\":\"overlay\",\"size\":10,\"solidity\":0.2}},\"type\":\"barpolar\"}],\"bar\":[{\"error_x\":{\"color\":\"#2a3f5f\"},\"error_y\":{\"color\":\"#2a3f5f\"},\"marker\":{\"line\":{\"color\":\"white\",\"width\":0.5},\"pattern\":{\"fillmode\":\"overlay\",\"size\":10,\"solidity\":0.2}},\"type\":\"bar\"}],\"carpet\":[{\"aaxis\":{\"endlinecolor\":\"#2a3f5f\",\"gridcolor\":\"#C8D4E3\",\"linecolor\":\"#C8D4E3\",\"minorgridcolor\":\"#C8D4E3\",\"startlinecolor\":\"#2a3f5f\"},\"baxis\":{\"endlinecolor\":\"#2a3f5f\",\"gridcolor\":\"#C8D4E3\",\"linecolor\":\"#C8D4E3\",\"minorgridcolor\":\"#C8D4E3\",\"startlinecolor\":\"#2a3f5f\"},\"type\":\"carpet\"}],\"choropleth\":[{\"colorbar\":{\"outlinewidth\":0,\"ticks\":\"\"},\"type\":\"choropleth\"}],\"contourcarpet\":[{\"colorbar\":{\"outlinewidth\":0,\"ticks\":\"\"},\"type\":\"contourcarpet\"}],\"contour\":[{\"colorbar\":{\"outlinewidth\":0,\"ticks\":\"\"},\"colorscale\":[[0.0,\"#0d0887\"],[0.1111111111111111,\"#46039f\"],[0.2222222222222222,\"#7201a8\"],[0.3333333333333333,\"#9c179e\"],[0.4444444444444444,\"#bd3786\"],[0.5555555555555556,\"#d8576b\"],[0.6666666666666666,\"#ed7953\"],[0.7777777777777778,\"#fb9f3a\"],[0.8888888888888888,\"#fdca26\"],[1.0,\"#f0f921\"]],\"type\":\"contour\"}],\"heatmapgl\":[{\"colorbar\":{\"outlinewidth\":0,\"ticks\":\"\"},\"colorscale\":[[0.0,\"#0d0887\"],[0.1111111111111111,\"#46039f\"],[0.2222222222222222,\"#7201a8\"],[0.3333333333333333,\"#9c179e\"],[0.4444444444444444,\"#bd3786\"],[0.5555555555555556,\"#d8576b\"],[0.6666666666666666,\"#ed7953\"],[0.7777777777777778,\"#fb9f3a\"],[0.8888888888888888,\"#fdca26\"],[1.0,\"#f0f921\"]],\"type\":\"heatmapgl\"}],\"heatmap\":[{\"colorbar\":{\"outlinewidth\":0,\"ticks\":\"\"},\"colorscale\":[[0.0,\"#0d0887\"],[0.1111111111111111,\"#46039f\"],[0.2222222222222222,\"#7201a8\"],[0.3333333333333333,\"#9c179e\"],[0.4444444444444444,\"#bd3786\"],[0.5555555555555556,\"#d8576b\"],[0.6666666666666666,\"#ed7953\"],[0.7777777777777778,\"#fb9f3a\"],[0.8888888888888888,\"#fdca26\"],[1.0,\"#f0f921\"]],\"type\":\"heatmap\"}],\"histogram2dcontour\":[{\"colorbar\":{\"outlinewidth\":0,\"ticks\":\"\"},\"colorscale\":[[0.0,\"#0d0887\"],[0.1111111111111111,\"#46039f\"],[0.2222222222222222,\"#7201a8\"],[0.3333333333333333,\"#9c179e\"],[0.4444444444444444,\"#bd3786\"],[0.5555555555555556,\"#d8576b\"],[0.6666666666666666,\"#ed7953\"],[0.7777777777777778,\"#fb9f3a\"],[0.8888888888888888,\"#fdca26\"],[1.0,\"#f0f921\"]],\"type\":\"histogram2dcontour\"}],\"histogram2d\":[{\"colorbar\":{\"outlinewidth\":0,\"ticks\":\"\"},\"colorscale\":[[0.0,\"#0d0887\"],[0.1111111111111111,\"#46039f\"],[0.2222222222222222,\"#7201a8\"],[0.3333333333333333,\"#9c179e\"],[0.4444444444444444,\"#bd3786\"],[0.5555555555555556,\"#d8576b\"],[0.6666666666666666,\"#ed7953\"],[0.7777777777777778,\"#fb9f3a\"],[0.8888888888888888,\"#fdca26\"],[1.0,\"#f0f921\"]],\"type\":\"histogram2d\"}],\"histogram\":[{\"marker\":{\"pattern\":{\"fillmode\":\"overlay\",\"size\":10,\"solidity\":0.2}},\"type\":\"histogram\"}],\"mesh3d\":[{\"colorbar\":{\"outlinewidth\":0,\"ticks\":\"\"},\"type\":\"mesh3d\"}],\"parcoords\":[{\"line\":{\"colorbar\":{\"outlinewidth\":0,\"ticks\":\"\"}},\"type\":\"parcoords\"}],\"pie\":[{\"automargin\":true,\"type\":\"pie\"}],\"scatter3d\":[{\"line\":{\"colorbar\":{\"outlinewidth\":0,\"ticks\":\"\"}},\"marker\":{\"colorbar\":{\"outlinewidth\":0,\"ticks\":\"\"}},\"type\":\"scatter3d\"}],\"scattercarpet\":[{\"marker\":{\"colorbar\":{\"outlinewidth\":0,\"ticks\":\"\"}},\"type\":\"scattercarpet\"}],\"scattergeo\":[{\"marker\":{\"colorbar\":{\"outlinewidth\":0,\"ticks\":\"\"}},\"type\":\"scattergeo\"}],\"scattergl\":[{\"marker\":{\"colorbar\":{\"outlinewidth\":0,\"ticks\":\"\"}},\"type\":\"scattergl\"}],\"scattermapbox\":[{\"marker\":{\"colorbar\":{\"outlinewidth\":0,\"ticks\":\"\"}},\"type\":\"scattermapbox\"}],\"scatterpolargl\":[{\"marker\":{\"colorbar\":{\"outlinewidth\":0,\"ticks\":\"\"}},\"type\":\"scatterpolargl\"}],\"scatterpolar\":[{\"marker\":{\"colorbar\":{\"outlinewidth\":0,\"ticks\":\"\"}},\"type\":\"scatterpolar\"}],\"scatter\":[{\"fillpattern\":{\"fillmode\":\"overlay\",\"size\":10,\"solidity\":0.2},\"type\":\"scatter\"}],\"scatterternary\":[{\"marker\":{\"colorbar\":{\"outlinewidth\":0,\"ticks\":\"\"}},\"type\":\"scatterternary\"}],\"surface\":[{\"colorbar\":{\"outlinewidth\":0,\"ticks\":\"\"},\"colorscale\":[[0.0,\"#0d0887\"],[0.1111111111111111,\"#46039f\"],[0.2222222222222222,\"#7201a8\"],[0.3333333333333333,\"#9c179e\"],[0.4444444444444444,\"#bd3786\"],[0.5555555555555556,\"#d8576b\"],[0.6666666666666666,\"#ed7953\"],[0.7777777777777778,\"#fb9f3a\"],[0.8888888888888888,\"#fdca26\"],[1.0,\"#f0f921\"]],\"type\":\"surface\"}],\"table\":[{\"cells\":{\"fill\":{\"color\":\"#EBF0F8\"},\"line\":{\"color\":\"white\"}},\"header\":{\"fill\":{\"color\":\"#C8D4E3\"},\"line\":{\"color\":\"white\"}},\"type\":\"table\"}]},\"layout\":{\"annotationdefaults\":{\"arrowcolor\":\"#2a3f5f\",\"arrowhead\":0,\"arrowwidth\":1},\"autotypenumbers\":\"strict\",\"coloraxis\":{\"colorbar\":{\"outlinewidth\":0,\"ticks\":\"\"}},\"colorscale\":{\"diverging\":[[0,\"#8e0152\"],[0.1,\"#c51b7d\"],[0.2,\"#de77ae\"],[0.3,\"#f1b6da\"],[0.4,\"#fde0ef\"],[0.5,\"#f7f7f7\"],[0.6,\"#e6f5d0\"],[0.7,\"#b8e186\"],[0.8,\"#7fbc41\"],[0.9,\"#4d9221\"],[1,\"#276419\"]],\"sequential\":[[0.0,\"#0d0887\"],[0.1111111111111111,\"#46039f\"],[0.2222222222222222,\"#7201a8\"],[0.3333333333333333,\"#9c179e\"],[0.4444444444444444,\"#bd3786\"],[0.5555555555555556,\"#d8576b\"],[0.6666666666666666,\"#ed7953\"],[0.7777777777777778,\"#fb9f3a\"],[0.8888888888888888,\"#fdca26\"],[1.0,\"#f0f921\"]],\"sequentialminus\":[[0.0,\"#0d0887\"],[0.1111111111111111,\"#46039f\"],[0.2222222222222222,\"#7201a8\"],[0.3333333333333333,\"#9c179e\"],[0.4444444444444444,\"#bd3786\"],[0.5555555555555556,\"#d8576b\"],[0.6666666666666666,\"#ed7953\"],[0.7777777777777778,\"#fb9f3a\"],[0.8888888888888888,\"#fdca26\"],[1.0,\"#f0f921\"]]},\"colorway\":[\"#636efa\",\"#EF553B\",\"#00cc96\",\"#ab63fa\",\"#FFA15A\",\"#19d3f3\",\"#FF6692\",\"#B6E880\",\"#FF97FF\",\"#FECB52\"],\"font\":{\"color\":\"#2a3f5f\"},\"geo\":{\"bgcolor\":\"white\",\"lakecolor\":\"white\",\"landcolor\":\"white\",\"showlakes\":true,\"showland\":true,\"subunitcolor\":\"#C8D4E3\"},\"hoverlabel\":{\"align\":\"left\"},\"hovermode\":\"closest\",\"mapbox\":{\"style\":\"light\"},\"paper_bgcolor\":\"white\",\"plot_bgcolor\":\"white\",\"polar\":{\"angularaxis\":{\"gridcolor\":\"#EBF0F8\",\"linecolor\":\"#EBF0F8\",\"ticks\":\"\"},\"bgcolor\":\"white\",\"radialaxis\":{\"gridcolor\":\"#EBF0F8\",\"linecolor\":\"#EBF0F8\",\"ticks\":\"\"}},\"scene\":{\"xaxis\":{\"backgroundcolor\":\"white\",\"gridcolor\":\"#DFE8F3\",\"gridwidth\":2,\"linecolor\":\"#EBF0F8\",\"showbackground\":true,\"ticks\":\"\",\"zerolinecolor\":\"#EBF0F8\"},\"yaxis\":{\"backgroundcolor\":\"white\",\"gridcolor\":\"#DFE8F3\",\"gridwidth\":2,\"linecolor\":\"#EBF0F8\",\"showbackground\":true,\"ticks\":\"\",\"zerolinecolor\":\"#EBF0F8\"},\"zaxis\":{\"backgroundcolor\":\"white\",\"gridcolor\":\"#DFE8F3\",\"gridwidth\":2,\"linecolor\":\"#EBF0F8\",\"showbackground\":true,\"ticks\":\"\",\"zerolinecolor\":\"#EBF0F8\"}},\"shapedefaults\":{\"line\":{\"color\":\"#2a3f5f\"}},\"ternary\":{\"aaxis\":{\"gridcolor\":\"#DFE8F3\",\"linecolor\":\"#A2B1C6\",\"ticks\":\"\"},\"baxis\":{\"gridcolor\":\"#DFE8F3\",\"linecolor\":\"#A2B1C6\",\"ticks\":\"\"},\"bgcolor\":\"white\",\"caxis\":{\"gridcolor\":\"#DFE8F3\",\"linecolor\":\"#A2B1C6\",\"ticks\":\"\"}},\"title\":{\"x\":0.05},\"xaxis\":{\"automargin\":true,\"gridcolor\":\"#EBF0F8\",\"linecolor\":\"#EBF0F8\",\"ticks\":\"\",\"title\":{\"standoff\":15},\"zerolinecolor\":\"#EBF0F8\",\"zerolinewidth\":2},\"yaxis\":{\"automargin\":true,\"gridcolor\":\"#EBF0F8\",\"linecolor\":\"#EBF0F8\",\"ticks\":\"\",\"title\":{\"standoff\":15},\"zerolinecolor\":\"#EBF0F8\",\"zerolinewidth\":2}}},\"xaxis\":{\"anchor\":\"y\",\"domain\":[0.0,0.175],\"showgrid\":true},\"yaxis\":{\"anchor\":\"x\",\"domain\":[0.7555555555555555,1.0],\"showgrid\":true},\"xaxis2\":{\"anchor\":\"y2\",\"domain\":[0.275,0.45],\"showgrid\":true},\"yaxis2\":{\"anchor\":\"x2\",\"domain\":[0.7555555555555555,1.0],\"showgrid\":true},\"xaxis3\":{\"anchor\":\"y3\",\"domain\":[0.55,0.7250000000000001],\"showgrid\":true},\"yaxis3\":{\"anchor\":\"x3\",\"domain\":[0.7555555555555555,1.0],\"showgrid\":true},\"xaxis4\":{\"anchor\":\"y4\",\"domain\":[0.825,1.0],\"showgrid\":true},\"yaxis4\":{\"anchor\":\"x4\",\"domain\":[0.7555555555555555,1.0],\"showgrid\":true},\"xaxis5\":{\"anchor\":\"y5\",\"domain\":[0.0,0.175],\"showgrid\":true},\"yaxis5\":{\"anchor\":\"x5\",\"domain\":[0.37777777777777777,0.6222222222222222],\"showgrid\":true},\"xaxis6\":{\"anchor\":\"y6\",\"domain\":[0.275,0.45],\"showgrid\":true},\"yaxis6\":{\"anchor\":\"x6\",\"domain\":[0.37777777777777777,0.6222222222222222],\"showgrid\":true},\"xaxis7\":{\"anchor\":\"y7\",\"domain\":[0.55,0.7250000000000001],\"showgrid\":true},\"yaxis7\":{\"anchor\":\"x7\",\"domain\":[0.37777777777777777,0.6222222222222222],\"showgrid\":true},\"xaxis8\":{\"anchor\":\"y8\",\"domain\":[0.825,1.0],\"showgrid\":true},\"yaxis8\":{\"anchor\":\"x8\",\"domain\":[0.37777777777777777,0.6222222222222222],\"showgrid\":true},\"xaxis9\":{\"anchor\":\"y9\",\"domain\":[0.0,0.175],\"showgrid\":true},\"yaxis9\":{\"anchor\":\"x9\",\"domain\":[0.0,0.24444444444444446],\"showgrid\":true},\"xaxis10\":{\"anchor\":\"y10\",\"domain\":[0.275,0.45],\"showgrid\":true},\"yaxis10\":{\"anchor\":\"x10\",\"domain\":[0.0,0.24444444444444446],\"showgrid\":true},\"xaxis11\":{\"anchor\":\"y11\",\"domain\":[0.55,0.7250000000000001],\"showgrid\":true},\"yaxis11\":{\"anchor\":\"x11\",\"domain\":[0.0,0.24444444444444446],\"showgrid\":true},\"xaxis12\":{\"anchor\":\"y12\",\"domain\":[0.825,1.0],\"showgrid\":true},\"yaxis12\":{\"anchor\":\"x12\",\"domain\":[0.0,0.24444444444444446],\"showgrid\":true},\"annotations\":[{\"font\":{\"size\":16},\"showarrow\":false,\"text\":\"Check-in Experience\",\"x\":0.0875,\"xanchor\":\"center\",\"xref\":\"paper\",\"y\":1.0,\"yanchor\":\"bottom\",\"yref\":\"paper\"},{\"font\":{\"size\":16},\"showarrow\":false,\"text\":\"Seat Comfort\",\"x\":0.36250000000000004,\"xanchor\":\"center\",\"xref\":\"paper\",\"y\":1.0,\"yanchor\":\"bottom\",\"yref\":\"paper\"},{\"font\":{\"size\":16},\"showarrow\":false,\"text\":\"In-flight Entertainment\",\"x\":0.6375000000000001,\"xanchor\":\"center\",\"xref\":\"paper\",\"y\":1.0,\"yanchor\":\"bottom\",\"yref\":\"paper\"},{\"font\":{\"size\":16},\"showarrow\":false,\"text\":\"Aircraft Cleanliness\",\"x\":0.9125,\"xanchor\":\"center\",\"xref\":\"paper\",\"y\":1.0,\"yanchor\":\"bottom\",\"yref\":\"paper\"},{\"font\":{\"size\":16},\"showarrow\":false,\"text\":\"In-Flight Meal Quality\",\"x\":0.0875,\"xanchor\":\"center\",\"xref\":\"paper\",\"y\":0.6222222222222222,\"yanchor\":\"bottom\",\"yref\":\"paper\"},{\"font\":{\"size\":16},\"showarrow\":false,\"text\":\"Cabin Crew Friendliness\",\"x\":0.36250000000000004,\"xanchor\":\"center\",\"xref\":\"paper\",\"y\":0.6222222222222222,\"yanchor\":\"bottom\",\"yref\":\"paper\"},{\"font\":{\"size\":16},\"showarrow\":false,\"text\":\"Baggage Handling\",\"x\":0.6375000000000001,\"xanchor\":\"center\",\"xref\":\"paper\",\"y\":0.6222222222222222,\"yanchor\":\"bottom\",\"yref\":\"paper\"},{\"font\":{\"size\":16},\"showarrow\":false,\"text\":\"Flight Punctuality\",\"x\":0.9125,\"xanchor\":\"center\",\"xref\":\"paper\",\"y\":0.6222222222222222,\"yanchor\":\"bottom\",\"yref\":\"paper\"},{\"font\":{\"size\":16},\"showarrow\":false,\"text\":\"In-Flight Meal Quality\",\"x\":0.0875,\"xanchor\":\"center\",\"xref\":\"paper\",\"y\":0.24444444444444446,\"yanchor\":\"bottom\",\"yref\":\"paper\"},{\"font\":{\"size\":16},\"showarrow\":false,\"text\":\"Customer Service Experience\",\"x\":0.36250000000000004,\"xanchor\":\"center\",\"xref\":\"paper\",\"y\":0.24444444444444446,\"yanchor\":\"bottom\",\"yref\":\"paper\"}],\"title\":{\"font\":{\"size\":22,\"color\":\"Black\"},\"text\":\"Topic Word Scores\",\"x\":0.5,\"xanchor\":\"center\",\"yanchor\":\"top\"},\"hoverlabel\":{\"font\":{\"size\":16,\"family\":\"Rockwell\"},\"bgcolor\":\"white\"},\"showlegend\":false,\"width\":1000,\"height\":600},                        {\"responsive\": true}                    )                };                            </script>        </div>\n",
       "</body>\n",
       "</html>"
      ]
     },
     "metadata": {},
     "output_type": "display_data"
    }
   ],
   "source": [
    "TOPIC_NUM = 10\n",
    "topic_model.visualize_barchart(top_n_topics=TOPIC_NUM, height=200,custom_labels=True)"
   ]
  },
  {
   "cell_type": "code",
   "execution_count": 0,
   "metadata": {
    "application/vnd.databricks.v1+cell": {
     "cellMetadata": {
      "byteLimit": 2048000,
      "rowLimit": 10000
     },
     "inputWidgets": {},
     "nuid": "7bbdd58d-4848-4c05-85a6-a72ec10700dd",
     "showTitle": false,
     "tableResultSettingsMap": {},
     "title": ""
    }
   },
   "outputs": [
    {
     "output_type": "display_data",
     "data": {
      "text/html": [
       "<html>\n",
       "<head><meta charset=\"utf-8\" /></head>\n",
       "<body>\n",
       "    <div>            <script src=\"https://cdnjs.cloudflare.com/ajax/libs/mathjax/2.7.5/MathJax.js?config=TeX-AMS-MML_SVG\"></script><script type=\"text/javascript\">if (window.MathJax && window.MathJax.Hub && window.MathJax.Hub.Config) {window.MathJax.Hub.Config({SVG: {font: \"STIX-Web\"}});}</script>                <script type=\"text/javascript\">window.PlotlyConfig = {MathJaxConfig: 'local'};</script>\n",
       "        <script src=\"https://cdn.plot.ly/plotly-2.12.1.min.js\"></script>                <div id=\"bffd9973-4aee-4d7f-b9b6-35cc5ed4521c\" class=\"plotly-graph-div\" style=\"height:425px; width:1000px;\"></div>            <script type=\"text/javascript\">                                    window.PLOTLYENV=window.PLOTLYENV || {};                                    if (document.getElementById(\"bffd9973-4aee-4d7f-b9b6-35cc5ed4521c\")) {                    Plotly.newPlot(                        \"bffd9973-4aee-4d7f-b9b6-35cc5ed4521c\",                        [{\"hoverinfo\":\"text\",\"marker\":{\"color\":\"rgb(61,153,112)\"},\"mode\":\"lines\",\"x\":[0.0,0.8251067648670074,0.8251067648670074,0.0],\"xaxis\":\"x\",\"y\":[-15.0,-15.0,-25.0,-25.0],\"yaxis\":\"y\",\"type\":\"scatter\"},{\"hoverinfo\":\"text\",\"marker\":{\"color\":\"rgb(61,153,112)\"},\"mode\":\"lines\",\"x\":[0.0,0.9698002673804246,0.9698002673804246,0.8251067648670074],\"xaxis\":\"x\",\"y\":[-5.0,-5.0,-20.0,-20.0],\"yaxis\":\"y\",\"type\":\"scatter\"},{\"hoverinfo\":\"text\",\"marker\":{\"color\":\"rgb(255,65,54)\"},\"mode\":\"lines\",\"x\":[0.0,0.618367753043034,0.618367753043034,0.0],\"xaxis\":\"x\",\"y\":[-45.0,-45.0,-55.0,-55.0],\"yaxis\":\"y\",\"type\":\"scatter\"},{\"hoverinfo\":\"text\",\"marker\":{\"color\":\"rgb(255,65,54)\"},\"mode\":\"lines\",\"x\":[0.0,0.8190269214520833,0.8190269214520833,0.618367753043034],\"xaxis\":\"x\",\"y\":[-35.0,-35.0,-50.0,-50.0],\"yaxis\":\"y\",\"type\":\"scatter\"},{\"hoverinfo\":\"text\",\"marker\":{\"color\":\"rgb(35,205,205)\"},\"mode\":\"lines\",\"x\":[0.0,0.22592550284448554,0.22592550284448554,0.0],\"xaxis\":\"x\",\"y\":[-75.0,-75.0,-85.0,-85.0],\"yaxis\":\"y\",\"type\":\"scatter\"},{\"hoverinfo\":\"text\",\"marker\":{\"color\":\"rgb(35,205,205)\"},\"mode\":\"lines\",\"x\":[0.0,0.7738225662154908,0.7738225662154908,0.22592550284448554],\"xaxis\":\"x\",\"y\":[-65.0,-65.0,-80.0,-80.0],\"yaxis\":\"y\",\"type\":\"scatter\"},{\"hoverinfo\":\"text\",\"marker\":{\"color\":\"rgb(0,116,217)\"},\"mode\":\"lines\",\"x\":[0.8190269214520833,1.003315438280615,1.003315438280615,0.7738225662154908],\"xaxis\":\"x\",\"y\":[-42.5,-42.5,-72.5,-72.5],\"yaxis\":\"y\",\"type\":\"scatter\"},{\"hoverinfo\":\"text\",\"marker\":{\"color\":\"rgb(133,20,75)\"},\"mode\":\"lines\",\"x\":[0.0,0.29783045300270194,0.29783045300270194,0.0],\"xaxis\":\"x\",\"y\":[-105.0,-105.0,-115.0,-115.0],\"yaxis\":\"y\",\"type\":\"scatter\"},{\"hoverinfo\":\"text\",\"marker\":{\"color\":\"rgb(133,20,75)\"},\"mode\":\"lines\",\"x\":[0.29783045300270194,0.5303503328187289,0.5303503328187289,0.0],\"xaxis\":\"x\",\"y\":[-110.0,-110.0,-125.0,-125.0],\"yaxis\":\"y\",\"type\":\"scatter\"},{\"hoverinfo\":\"text\",\"marker\":{\"color\":\"rgb(133,20,75)\"},\"mode\":\"lines\",\"x\":[0.0,0.6972340648848414,0.6972340648848414,0.5303503328187289],\"xaxis\":\"x\",\"y\":[-95.0,-95.0,-117.5,-117.5],\"yaxis\":\"y\",\"type\":\"scatter\"},{\"hoverinfo\":\"text\",\"marker\":{\"color\":\"rgb(133,20,75)\"},\"mode\":\"lines\",\"x\":[0.6972340648848414,0.7506559018379018,0.7506559018379018,0.0],\"xaxis\":\"x\",\"y\":[-106.25,-106.25,-135.0,-135.0],\"yaxis\":\"y\",\"type\":\"scatter\"},{\"hoverinfo\":\"text\",\"marker\":{\"color\":\"rgb(133,20,75)\"},\"mode\":\"lines\",\"x\":[0.7506559018379018,0.984877925312261,0.984877925312261,0.0],\"xaxis\":\"x\",\"y\":[-120.625,-120.625,-145.0,-145.0],\"yaxis\":\"y\",\"type\":\"scatter\"},{\"hoverinfo\":\"text\",\"marker\":{\"color\":\"rgb(0,116,217)\"},\"mode\":\"lines\",\"x\":[1.003315438280615,1.0413277099782874,1.0413277099782874,0.984877925312261],\"xaxis\":\"x\",\"y\":[-57.5,-57.5,-132.8125,-132.8125],\"yaxis\":\"y\",\"type\":\"scatter\"},{\"hoverinfo\":\"text\",\"marker\":{\"color\":\"rgb(0,116,217)\"},\"mode\":\"lines\",\"x\":[0.9698002673804246,1.1069820148488287,1.1069820148488287,1.0413277099782874],\"xaxis\":\"x\",\"y\":[-12.5,-12.5,-95.15625,-95.15625],\"yaxis\":\"y\",\"type\":\"scatter\"}],                        {\"autosize\":false,\"height\":425,\"hovermode\":\"closest\",\"showlegend\":false,\"width\":1000,\"xaxis\":{\"mirror\":\"allticks\",\"rangemode\":\"tozero\",\"showgrid\":false,\"showline\":true,\"showticklabels\":true,\"ticks\":\"outside\",\"type\":\"linear\",\"zeroline\":false},\"yaxis\":{\"mirror\":\"allticks\",\"rangemode\":\"tozero\",\"showgrid\":false,\"showline\":true,\"showticklabels\":true,\"tickmode\":\"array\",\"ticks\":\"outside\",\"ticktext\":[\"Covid Safety Enforcement\",\"Ground Staff Service\",\"Wheelchair Assistance\",\"Seat Comfort\",\"Aircraft Cleanliness\",\"Cabin Crew Friendliness\",\"In-flight Entertainment\",\"In-Flight Meal Quality\",\"In-Flight Meal Quality\",\"Baggage Handling\",\"Flight Punctuality\",\"Customer Service Experience\",\"Check-in Experience\",\"Additional Fees and Charges\",\"Frequent Flyer Program\"],\"tickvals\":[-5.0,-15.0,-25.0,-35.0,-45.0,-55.0,-65.0,-75.0,-85.0,-95.0,-105.0,-115.0,-125.0,-135.0,-145.0],\"type\":\"linear\",\"zeroline\":false,\"range\":[-150.0,0.0]},\"template\":{\"data\":{\"barpolar\":[{\"marker\":{\"line\":{\"color\":\"white\",\"width\":0.5},\"pattern\":{\"fillmode\":\"overlay\",\"size\":10,\"solidity\":0.2}},\"type\":\"barpolar\"}],\"bar\":[{\"error_x\":{\"color\":\"#2a3f5f\"},\"error_y\":{\"color\":\"#2a3f5f\"},\"marker\":{\"line\":{\"color\":\"white\",\"width\":0.5},\"pattern\":{\"fillmode\":\"overlay\",\"size\":10,\"solidity\":0.2}},\"type\":\"bar\"}],\"carpet\":[{\"aaxis\":{\"endlinecolor\":\"#2a3f5f\",\"gridcolor\":\"#C8D4E3\",\"linecolor\":\"#C8D4E3\",\"minorgridcolor\":\"#C8D4E3\",\"startlinecolor\":\"#2a3f5f\"},\"baxis\":{\"endlinecolor\":\"#2a3f5f\",\"gridcolor\":\"#C8D4E3\",\"linecolor\":\"#C8D4E3\",\"minorgridcolor\":\"#C8D4E3\",\"startlinecolor\":\"#2a3f5f\"},\"type\":\"carpet\"}],\"choropleth\":[{\"colorbar\":{\"outlinewidth\":0,\"ticks\":\"\"},\"type\":\"choropleth\"}],\"contourcarpet\":[{\"colorbar\":{\"outlinewidth\":0,\"ticks\":\"\"},\"type\":\"contourcarpet\"}],\"contour\":[{\"colorbar\":{\"outlinewidth\":0,\"ticks\":\"\"},\"colorscale\":[[0.0,\"#0d0887\"],[0.1111111111111111,\"#46039f\"],[0.2222222222222222,\"#7201a8\"],[0.3333333333333333,\"#9c179e\"],[0.4444444444444444,\"#bd3786\"],[0.5555555555555556,\"#d8576b\"],[0.6666666666666666,\"#ed7953\"],[0.7777777777777778,\"#fb9f3a\"],[0.8888888888888888,\"#fdca26\"],[1.0,\"#f0f921\"]],\"type\":\"contour\"}],\"heatmapgl\":[{\"colorbar\":{\"outlinewidth\":0,\"ticks\":\"\"},\"colorscale\":[[0.0,\"#0d0887\"],[0.1111111111111111,\"#46039f\"],[0.2222222222222222,\"#7201a8\"],[0.3333333333333333,\"#9c179e\"],[0.4444444444444444,\"#bd3786\"],[0.5555555555555556,\"#d8576b\"],[0.6666666666666666,\"#ed7953\"],[0.7777777777777778,\"#fb9f3a\"],[0.8888888888888888,\"#fdca26\"],[1.0,\"#f0f921\"]],\"type\":\"heatmapgl\"}],\"heatmap\":[{\"colorbar\":{\"outlinewidth\":0,\"ticks\":\"\"},\"colorscale\":[[0.0,\"#0d0887\"],[0.1111111111111111,\"#46039f\"],[0.2222222222222222,\"#7201a8\"],[0.3333333333333333,\"#9c179e\"],[0.4444444444444444,\"#bd3786\"],[0.5555555555555556,\"#d8576b\"],[0.6666666666666666,\"#ed7953\"],[0.7777777777777778,\"#fb9f3a\"],[0.8888888888888888,\"#fdca26\"],[1.0,\"#f0f921\"]],\"type\":\"heatmap\"}],\"histogram2dcontour\":[{\"colorbar\":{\"outlinewidth\":0,\"ticks\":\"\"},\"colorscale\":[[0.0,\"#0d0887\"],[0.1111111111111111,\"#46039f\"],[0.2222222222222222,\"#7201a8\"],[0.3333333333333333,\"#9c179e\"],[0.4444444444444444,\"#bd3786\"],[0.5555555555555556,\"#d8576b\"],[0.6666666666666666,\"#ed7953\"],[0.7777777777777778,\"#fb9f3a\"],[0.8888888888888888,\"#fdca26\"],[1.0,\"#f0f921\"]],\"type\":\"histogram2dcontour\"}],\"histogram2d\":[{\"colorbar\":{\"outlinewidth\":0,\"ticks\":\"\"},\"colorscale\":[[0.0,\"#0d0887\"],[0.1111111111111111,\"#46039f\"],[0.2222222222222222,\"#7201a8\"],[0.3333333333333333,\"#9c179e\"],[0.4444444444444444,\"#bd3786\"],[0.5555555555555556,\"#d8576b\"],[0.6666666666666666,\"#ed7953\"],[0.7777777777777778,\"#fb9f3a\"],[0.8888888888888888,\"#fdca26\"],[1.0,\"#f0f921\"]],\"type\":\"histogram2d\"}],\"histogram\":[{\"marker\":{\"pattern\":{\"fillmode\":\"overlay\",\"size\":10,\"solidity\":0.2}},\"type\":\"histogram\"}],\"mesh3d\":[{\"colorbar\":{\"outlinewidth\":0,\"ticks\":\"\"},\"type\":\"mesh3d\"}],\"parcoords\":[{\"line\":{\"colorbar\":{\"outlinewidth\":0,\"ticks\":\"\"}},\"type\":\"parcoords\"}],\"pie\":[{\"automargin\":true,\"type\":\"pie\"}],\"scatter3d\":[{\"line\":{\"colorbar\":{\"outlinewidth\":0,\"ticks\":\"\"}},\"marker\":{\"colorbar\":{\"outlinewidth\":0,\"ticks\":\"\"}},\"type\":\"scatter3d\"}],\"scattercarpet\":[{\"marker\":{\"colorbar\":{\"outlinewidth\":0,\"ticks\":\"\"}},\"type\":\"scattercarpet\"}],\"scattergeo\":[{\"marker\":{\"colorbar\":{\"outlinewidth\":0,\"ticks\":\"\"}},\"type\":\"scattergeo\"}],\"scattergl\":[{\"marker\":{\"colorbar\":{\"outlinewidth\":0,\"ticks\":\"\"}},\"type\":\"scattergl\"}],\"scattermapbox\":[{\"marker\":{\"colorbar\":{\"outlinewidth\":0,\"ticks\":\"\"}},\"type\":\"scattermapbox\"}],\"scatterpolargl\":[{\"marker\":{\"colorbar\":{\"outlinewidth\":0,\"ticks\":\"\"}},\"type\":\"scatterpolargl\"}],\"scatterpolar\":[{\"marker\":{\"colorbar\":{\"outlinewidth\":0,\"ticks\":\"\"}},\"type\":\"scatterpolar\"}],\"scatter\":[{\"fillpattern\":{\"fillmode\":\"overlay\",\"size\":10,\"solidity\":0.2},\"type\":\"scatter\"}],\"scatterternary\":[{\"marker\":{\"colorbar\":{\"outlinewidth\":0,\"ticks\":\"\"}},\"type\":\"scatterternary\"}],\"surface\":[{\"colorbar\":{\"outlinewidth\":0,\"ticks\":\"\"},\"colorscale\":[[0.0,\"#0d0887\"],[0.1111111111111111,\"#46039f\"],[0.2222222222222222,\"#7201a8\"],[0.3333333333333333,\"#9c179e\"],[0.4444444444444444,\"#bd3786\"],[0.5555555555555556,\"#d8576b\"],[0.6666666666666666,\"#ed7953\"],[0.7777777777777778,\"#fb9f3a\"],[0.8888888888888888,\"#fdca26\"],[1.0,\"#f0f921\"]],\"type\":\"surface\"}],\"table\":[{\"cells\":{\"fill\":{\"color\":\"#EBF0F8\"},\"line\":{\"color\":\"white\"}},\"header\":{\"fill\":{\"color\":\"#C8D4E3\"},\"line\":{\"color\":\"white\"}},\"type\":\"table\"}]},\"layout\":{\"annotationdefaults\":{\"arrowcolor\":\"#2a3f5f\",\"arrowhead\":0,\"arrowwidth\":1},\"autotypenumbers\":\"strict\",\"coloraxis\":{\"colorbar\":{\"outlinewidth\":0,\"ticks\":\"\"}},\"colorscale\":{\"diverging\":[[0,\"#8e0152\"],[0.1,\"#c51b7d\"],[0.2,\"#de77ae\"],[0.3,\"#f1b6da\"],[0.4,\"#fde0ef\"],[0.5,\"#f7f7f7\"],[0.6,\"#e6f5d0\"],[0.7,\"#b8e186\"],[0.8,\"#7fbc41\"],[0.9,\"#4d9221\"],[1,\"#276419\"]],\"sequential\":[[0.0,\"#0d0887\"],[0.1111111111111111,\"#46039f\"],[0.2222222222222222,\"#7201a8\"],[0.3333333333333333,\"#9c179e\"],[0.4444444444444444,\"#bd3786\"],[0.5555555555555556,\"#d8576b\"],[0.6666666666666666,\"#ed7953\"],[0.7777777777777778,\"#fb9f3a\"],[0.8888888888888888,\"#fdca26\"],[1.0,\"#f0f921\"]],\"sequentialminus\":[[0.0,\"#0d0887\"],[0.1111111111111111,\"#46039f\"],[0.2222222222222222,\"#7201a8\"],[0.3333333333333333,\"#9c179e\"],[0.4444444444444444,\"#bd3786\"],[0.5555555555555556,\"#d8576b\"],[0.6666666666666666,\"#ed7953\"],[0.7777777777777778,\"#fb9f3a\"],[0.8888888888888888,\"#fdca26\"],[1.0,\"#f0f921\"]]},\"colorway\":[\"#636efa\",\"#EF553B\",\"#00cc96\",\"#ab63fa\",\"#FFA15A\",\"#19d3f3\",\"#FF6692\",\"#B6E880\",\"#FF97FF\",\"#FECB52\"],\"font\":{\"color\":\"#2a3f5f\"},\"geo\":{\"bgcolor\":\"white\",\"lakecolor\":\"white\",\"landcolor\":\"white\",\"showlakes\":true,\"showland\":true,\"subunitcolor\":\"#C8D4E3\"},\"hoverlabel\":{\"align\":\"left\"},\"hovermode\":\"closest\",\"mapbox\":{\"style\":\"light\"},\"paper_bgcolor\":\"white\",\"plot_bgcolor\":\"white\",\"polar\":{\"angularaxis\":{\"gridcolor\":\"#EBF0F8\",\"linecolor\":\"#EBF0F8\",\"ticks\":\"\"},\"bgcolor\":\"white\",\"radialaxis\":{\"gridcolor\":\"#EBF0F8\",\"linecolor\":\"#EBF0F8\",\"ticks\":\"\"}},\"scene\":{\"xaxis\":{\"backgroundcolor\":\"white\",\"gridcolor\":\"#DFE8F3\",\"gridwidth\":2,\"linecolor\":\"#EBF0F8\",\"showbackground\":true,\"ticks\":\"\",\"zerolinecolor\":\"#EBF0F8\"},\"yaxis\":{\"backgroundcolor\":\"white\",\"gridcolor\":\"#DFE8F3\",\"gridwidth\":2,\"linecolor\":\"#EBF0F8\",\"showbackground\":true,\"ticks\":\"\",\"zerolinecolor\":\"#EBF0F8\"},\"zaxis\":{\"backgroundcolor\":\"white\",\"gridcolor\":\"#DFE8F3\",\"gridwidth\":2,\"linecolor\":\"#EBF0F8\",\"showbackground\":true,\"ticks\":\"\",\"zerolinecolor\":\"#EBF0F8\"}},\"shapedefaults\":{\"line\":{\"color\":\"#2a3f5f\"}},\"ternary\":{\"aaxis\":{\"gridcolor\":\"#DFE8F3\",\"linecolor\":\"#A2B1C6\",\"ticks\":\"\"},\"baxis\":{\"gridcolor\":\"#DFE8F3\",\"linecolor\":\"#A2B1C6\",\"ticks\":\"\"},\"bgcolor\":\"white\",\"caxis\":{\"gridcolor\":\"#DFE8F3\",\"linecolor\":\"#A2B1C6\",\"ticks\":\"\"}},\"title\":{\"x\":0.05},\"xaxis\":{\"automargin\":true,\"gridcolor\":\"#EBF0F8\",\"linecolor\":\"#EBF0F8\",\"ticks\":\"\",\"title\":{\"standoff\":15},\"zerolinecolor\":\"#EBF0F8\",\"zerolinewidth\":2},\"yaxis\":{\"automargin\":true,\"gridcolor\":\"#EBF0F8\",\"linecolor\":\"#EBF0F8\",\"ticks\":\"\",\"title\":{\"standoff\":15},\"zerolinecolor\":\"#EBF0F8\",\"zerolinewidth\":2}}},\"title\":{\"font\":{\"size\":22,\"color\":\"Black\"},\"text\":\"<b>Hierarchical Clustering</b>\",\"x\":0.5,\"xanchor\":\"center\",\"yanchor\":\"top\"},\"hoverlabel\":{\"font\":{\"size\":16,\"family\":\"Rockwell\"},\"bgcolor\":\"white\"},\"plot_bgcolor\":\"#ECEFF1\"},                        {\"responsive\": true}                    )                };                            </script>        </div>\n",
       "</body>\n",
       "</html>"
      ]
     },
     "metadata": {},
     "output_type": "display_data"
    }
   ],
   "source": [
    "topic_model.visualize_hierarchy(custom_labels=True)"
   ]
  },
  {
   "cell_type": "code",
   "execution_count": 0,
   "metadata": {
    "application/vnd.databricks.v1+cell": {
     "cellMetadata": {
      "byteLimit": 2048000,
      "rowLimit": 10000
     },
     "inputWidgets": {},
     "nuid": "c1331505-f749-493d-b2ae-3ef3fea29ae5",
     "showTitle": false,
     "tableResultSettingsMap": {},
     "title": ""
    }
   },
   "outputs": [
    {
     "output_type": "display_data",
     "data": {
      "text/html": [
       "<html>\n",
       "<head><meta charset=\"utf-8\" /></head>\n",
       "<body>\n",
       "    <div>            <script src=\"https://cdnjs.cloudflare.com/ajax/libs/mathjax/2.7.5/MathJax.js?config=TeX-AMS-MML_SVG\"></script><script type=\"text/javascript\">if (window.MathJax && window.MathJax.Hub && window.MathJax.Hub.Config) {window.MathJax.Hub.Config({SVG: {font: \"STIX-Web\"}});}</script>                <script type=\"text/javascript\">window.PlotlyConfig = {MathJaxConfig: 'local'};</script>\n",
       "        <script src=\"https://cdn.plot.ly/plotly-2.12.1.min.js\"></script>                <div id=\"2a5cc825-f2ea-42e2-94e9-05881a4a8eec\" class=\"plotly-graph-div\" style=\"height:425px; width:1000px;\"></div>            <script type=\"text/javascript\">                                    window.PLOTLYENV=window.PLOTLYENV || {};                                    if (document.getElementById(\"2a5cc825-f2ea-42e2-94e9-05881a4a8eec\")) {                    Plotly.newPlot(                        \"2a5cc825-f2ea-42e2-94e9-05881a4a8eec\",                        [{\"hoverinfo\":\"text\",\"marker\":{\"color\":\"rgb(61,153,112)\"},\"mode\":\"lines\",\"x\":[0.0,0.8251067648670074,0.8251067648670074,0.0],\"xaxis\":\"x\",\"y\":[-15.0,-15.0,-25.0,-25.0],\"yaxis\":\"y\",\"type\":\"scatter\"},{\"hoverinfo\":\"text\",\"marker\":{\"color\":\"rgb(61,153,112)\"},\"mode\":\"lines\",\"x\":[0.0,0.9698002673804246,0.9698002673804246,0.8251067648670074],\"xaxis\":\"x\",\"y\":[-5.0,-5.0,-20.0,-20.0],\"yaxis\":\"y\",\"type\":\"scatter\"},{\"hoverinfo\":\"text\",\"marker\":{\"color\":\"rgb(255,65,54)\"},\"mode\":\"lines\",\"x\":[0.0,0.618367753043034,0.618367753043034,0.0],\"xaxis\":\"x\",\"y\":[-45.0,-45.0,-55.0,-55.0],\"yaxis\":\"y\",\"type\":\"scatter\"},{\"hoverinfo\":\"text\",\"marker\":{\"color\":\"rgb(255,65,54)\"},\"mode\":\"lines\",\"x\":[0.0,0.8190269214520833,0.8190269214520833,0.618367753043034],\"xaxis\":\"x\",\"y\":[-35.0,-35.0,-50.0,-50.0],\"yaxis\":\"y\",\"type\":\"scatter\"},{\"hoverinfo\":\"text\",\"marker\":{\"color\":\"rgb(35,205,205)\"},\"mode\":\"lines\",\"x\":[0.0,0.22592550284448554,0.22592550284448554,0.0],\"xaxis\":\"x\",\"y\":[-75.0,-75.0,-85.0,-85.0],\"yaxis\":\"y\",\"type\":\"scatter\"},{\"hoverinfo\":\"text\",\"marker\":{\"color\":\"rgb(35,205,205)\"},\"mode\":\"lines\",\"x\":[0.0,0.7738225662154908,0.7738225662154908,0.22592550284448554],\"xaxis\":\"x\",\"y\":[-65.0,-65.0,-80.0,-80.0],\"yaxis\":\"y\",\"type\":\"scatter\"},{\"hoverinfo\":\"text\",\"marker\":{\"color\":\"rgb(0,116,217)\"},\"mode\":\"lines\",\"x\":[0.8190269214520833,1.003315438280615,1.003315438280615,0.7738225662154908],\"xaxis\":\"x\",\"y\":[-42.5,-42.5,-72.5,-72.5],\"yaxis\":\"y\",\"type\":\"scatter\"},{\"hoverinfo\":\"text\",\"marker\":{\"color\":\"rgb(133,20,75)\"},\"mode\":\"lines\",\"x\":[0.0,0.29783045300270194,0.29783045300270194,0.0],\"xaxis\":\"x\",\"y\":[-105.0,-105.0,-115.0,-115.0],\"yaxis\":\"y\",\"type\":\"scatter\"},{\"hoverinfo\":\"text\",\"marker\":{\"color\":\"rgb(133,20,75)\"},\"mode\":\"lines\",\"x\":[0.29783045300270194,0.5303503328187289,0.5303503328187289,0.0],\"xaxis\":\"x\",\"y\":[-110.0,-110.0,-125.0,-125.0],\"yaxis\":\"y\",\"type\":\"scatter\"},{\"hoverinfo\":\"text\",\"marker\":{\"color\":\"rgb(133,20,75)\"},\"mode\":\"lines\",\"x\":[0.0,0.6972340648848414,0.6972340648848414,0.5303503328187289],\"xaxis\":\"x\",\"y\":[-95.0,-95.0,-117.5,-117.5],\"yaxis\":\"y\",\"type\":\"scatter\"},{\"hoverinfo\":\"text\",\"marker\":{\"color\":\"rgb(133,20,75)\"},\"mode\":\"lines\",\"x\":[0.6972340648848414,0.7506559018379018,0.7506559018379018,0.0],\"xaxis\":\"x\",\"y\":[-106.25,-106.25,-135.0,-135.0],\"yaxis\":\"y\",\"type\":\"scatter\"},{\"hoverinfo\":\"text\",\"marker\":{\"color\":\"rgb(133,20,75)\"},\"mode\":\"lines\",\"x\":[0.7506559018379018,0.984877925312261,0.984877925312261,0.0],\"xaxis\":\"x\",\"y\":[-120.625,-120.625,-145.0,-145.0],\"yaxis\":\"y\",\"type\":\"scatter\"},{\"hoverinfo\":\"text\",\"marker\":{\"color\":\"rgb(0,116,217)\"},\"mode\":\"lines\",\"x\":[1.003315438280615,1.0413277099782874,1.0413277099782874,0.984877925312261],\"xaxis\":\"x\",\"y\":[-57.5,-57.5,-132.8125,-132.8125],\"yaxis\":\"y\",\"type\":\"scatter\"},{\"hoverinfo\":\"text\",\"marker\":{\"color\":\"rgb(0,116,217)\"},\"mode\":\"lines\",\"x\":[0.9698002673804246,1.1069820148488287,1.1069820148488287,1.0413277099782874],\"xaxis\":\"x\",\"y\":[-12.5,-12.5,-95.15625,-95.15625],\"yaxis\":\"y\",\"type\":\"scatter\"}],                        {\"autosize\":false,\"height\":425,\"hovermode\":\"closest\",\"showlegend\":false,\"width\":1000,\"xaxis\":{\"mirror\":\"allticks\",\"rangemode\":\"tozero\",\"showgrid\":false,\"showline\":true,\"showticklabels\":true,\"ticks\":\"outside\",\"type\":\"linear\",\"zeroline\":false},\"yaxis\":{\"mirror\":\"allticks\",\"rangemode\":\"tozero\",\"showgrid\":false,\"showline\":true,\"showticklabels\":true,\"tickmode\":\"array\",\"ticks\":\"outside\",\"ticktext\":[\"10_safety_covid_precautions\",\"11_ground_staff_service\",\"12_assistance_wheelchair_wh...\",\"1_comfort_seat_seats\",\"3_cleanliness_cabin_clean\",\"5_crew_service_cabin\",\"2_entertainment_flight_in\",\"13_food_meal_quality\",\"4_food_quality_and\",\"6_baggage_luggage_handling\",\"7_flight_the_to\",\"14_the_to_customer\",\"0_check_in_boarding\",\"9_pricing_for_ticket\",\"8_loyalty_program_flyer\"],\"tickvals\":[-5.0,-15.0,-25.0,-35.0,-45.0,-55.0,-65.0,-75.0,-85.0,-95.0,-105.0,-115.0,-125.0,-135.0,-145.0],\"type\":\"linear\",\"zeroline\":false,\"range\":[-150.0,0.0]},\"template\":{\"data\":{\"barpolar\":[{\"marker\":{\"line\":{\"color\":\"white\",\"width\":0.5},\"pattern\":{\"fillmode\":\"overlay\",\"size\":10,\"solidity\":0.2}},\"type\":\"barpolar\"}],\"bar\":[{\"error_x\":{\"color\":\"#2a3f5f\"},\"error_y\":{\"color\":\"#2a3f5f\"},\"marker\":{\"line\":{\"color\":\"white\",\"width\":0.5},\"pattern\":{\"fillmode\":\"overlay\",\"size\":10,\"solidity\":0.2}},\"type\":\"bar\"}],\"carpet\":[{\"aaxis\":{\"endlinecolor\":\"#2a3f5f\",\"gridcolor\":\"#C8D4E3\",\"linecolor\":\"#C8D4E3\",\"minorgridcolor\":\"#C8D4E3\",\"startlinecolor\":\"#2a3f5f\"},\"baxis\":{\"endlinecolor\":\"#2a3f5f\",\"gridcolor\":\"#C8D4E3\",\"linecolor\":\"#C8D4E3\",\"minorgridcolor\":\"#C8D4E3\",\"startlinecolor\":\"#2a3f5f\"},\"type\":\"carpet\"}],\"choropleth\":[{\"colorbar\":{\"outlinewidth\":0,\"ticks\":\"\"},\"type\":\"choropleth\"}],\"contourcarpet\":[{\"colorbar\":{\"outlinewidth\":0,\"ticks\":\"\"},\"type\":\"contourcarpet\"}],\"contour\":[{\"colorbar\":{\"outlinewidth\":0,\"ticks\":\"\"},\"colorscale\":[[0.0,\"#0d0887\"],[0.1111111111111111,\"#46039f\"],[0.2222222222222222,\"#7201a8\"],[0.3333333333333333,\"#9c179e\"],[0.4444444444444444,\"#bd3786\"],[0.5555555555555556,\"#d8576b\"],[0.6666666666666666,\"#ed7953\"],[0.7777777777777778,\"#fb9f3a\"],[0.8888888888888888,\"#fdca26\"],[1.0,\"#f0f921\"]],\"type\":\"contour\"}],\"heatmapgl\":[{\"colorbar\":{\"outlinewidth\":0,\"ticks\":\"\"},\"colorscale\":[[0.0,\"#0d0887\"],[0.1111111111111111,\"#46039f\"],[0.2222222222222222,\"#7201a8\"],[0.3333333333333333,\"#9c179e\"],[0.4444444444444444,\"#bd3786\"],[0.5555555555555556,\"#d8576b\"],[0.6666666666666666,\"#ed7953\"],[0.7777777777777778,\"#fb9f3a\"],[0.8888888888888888,\"#fdca26\"],[1.0,\"#f0f921\"]],\"type\":\"heatmapgl\"}],\"heatmap\":[{\"colorbar\":{\"outlinewidth\":0,\"ticks\":\"\"},\"colorscale\":[[0.0,\"#0d0887\"],[0.1111111111111111,\"#46039f\"],[0.2222222222222222,\"#7201a8\"],[0.3333333333333333,\"#9c179e\"],[0.4444444444444444,\"#bd3786\"],[0.5555555555555556,\"#d8576b\"],[0.6666666666666666,\"#ed7953\"],[0.7777777777777778,\"#fb9f3a\"],[0.8888888888888888,\"#fdca26\"],[1.0,\"#f0f921\"]],\"type\":\"heatmap\"}],\"histogram2dcontour\":[{\"colorbar\":{\"outlinewidth\":0,\"ticks\":\"\"},\"colorscale\":[[0.0,\"#0d0887\"],[0.1111111111111111,\"#46039f\"],[0.2222222222222222,\"#7201a8\"],[0.3333333333333333,\"#9c179e\"],[0.4444444444444444,\"#bd3786\"],[0.5555555555555556,\"#d8576b\"],[0.6666666666666666,\"#ed7953\"],[0.7777777777777778,\"#fb9f3a\"],[0.8888888888888888,\"#fdca26\"],[1.0,\"#f0f921\"]],\"type\":\"histogram2dcontour\"}],\"histogram2d\":[{\"colorbar\":{\"outlinewidth\":0,\"ticks\":\"\"},\"colorscale\":[[0.0,\"#0d0887\"],[0.1111111111111111,\"#46039f\"],[0.2222222222222222,\"#7201a8\"],[0.3333333333333333,\"#9c179e\"],[0.4444444444444444,\"#bd3786\"],[0.5555555555555556,\"#d8576b\"],[0.6666666666666666,\"#ed7953\"],[0.7777777777777778,\"#fb9f3a\"],[0.8888888888888888,\"#fdca26\"],[1.0,\"#f0f921\"]],\"type\":\"histogram2d\"}],\"histogram\":[{\"marker\":{\"pattern\":{\"fillmode\":\"overlay\",\"size\":10,\"solidity\":0.2}},\"type\":\"histogram\"}],\"mesh3d\":[{\"colorbar\":{\"outlinewidth\":0,\"ticks\":\"\"},\"type\":\"mesh3d\"}],\"parcoords\":[{\"line\":{\"colorbar\":{\"outlinewidth\":0,\"ticks\":\"\"}},\"type\":\"parcoords\"}],\"pie\":[{\"automargin\":true,\"type\":\"pie\"}],\"scatter3d\":[{\"line\":{\"colorbar\":{\"outlinewidth\":0,\"ticks\":\"\"}},\"marker\":{\"colorbar\":{\"outlinewidth\":0,\"ticks\":\"\"}},\"type\":\"scatter3d\"}],\"scattercarpet\":[{\"marker\":{\"colorbar\":{\"outlinewidth\":0,\"ticks\":\"\"}},\"type\":\"scattercarpet\"}],\"scattergeo\":[{\"marker\":{\"colorbar\":{\"outlinewidth\":0,\"ticks\":\"\"}},\"type\":\"scattergeo\"}],\"scattergl\":[{\"marker\":{\"colorbar\":{\"outlinewidth\":0,\"ticks\":\"\"}},\"type\":\"scattergl\"}],\"scattermapbox\":[{\"marker\":{\"colorbar\":{\"outlinewidth\":0,\"ticks\":\"\"}},\"type\":\"scattermapbox\"}],\"scatterpolargl\":[{\"marker\":{\"colorbar\":{\"outlinewidth\":0,\"ticks\":\"\"}},\"type\":\"scatterpolargl\"}],\"scatterpolar\":[{\"marker\":{\"colorbar\":{\"outlinewidth\":0,\"ticks\":\"\"}},\"type\":\"scatterpolar\"}],\"scatter\":[{\"fillpattern\":{\"fillmode\":\"overlay\",\"size\":10,\"solidity\":0.2},\"type\":\"scatter\"}],\"scatterternary\":[{\"marker\":{\"colorbar\":{\"outlinewidth\":0,\"ticks\":\"\"}},\"type\":\"scatterternary\"}],\"surface\":[{\"colorbar\":{\"outlinewidth\":0,\"ticks\":\"\"},\"colorscale\":[[0.0,\"#0d0887\"],[0.1111111111111111,\"#46039f\"],[0.2222222222222222,\"#7201a8\"],[0.3333333333333333,\"#9c179e\"],[0.4444444444444444,\"#bd3786\"],[0.5555555555555556,\"#d8576b\"],[0.6666666666666666,\"#ed7953\"],[0.7777777777777778,\"#fb9f3a\"],[0.8888888888888888,\"#fdca26\"],[1.0,\"#f0f921\"]],\"type\":\"surface\"}],\"table\":[{\"cells\":{\"fill\":{\"color\":\"#EBF0F8\"},\"line\":{\"color\":\"white\"}},\"header\":{\"fill\":{\"color\":\"#C8D4E3\"},\"line\":{\"color\":\"white\"}},\"type\":\"table\"}]},\"layout\":{\"annotationdefaults\":{\"arrowcolor\":\"#2a3f5f\",\"arrowhead\":0,\"arrowwidth\":1},\"autotypenumbers\":\"strict\",\"coloraxis\":{\"colorbar\":{\"outlinewidth\":0,\"ticks\":\"\"}},\"colorscale\":{\"diverging\":[[0,\"#8e0152\"],[0.1,\"#c51b7d\"],[0.2,\"#de77ae\"],[0.3,\"#f1b6da\"],[0.4,\"#fde0ef\"],[0.5,\"#f7f7f7\"],[0.6,\"#e6f5d0\"],[0.7,\"#b8e186\"],[0.8,\"#7fbc41\"],[0.9,\"#4d9221\"],[1,\"#276419\"]],\"sequential\":[[0.0,\"#0d0887\"],[0.1111111111111111,\"#46039f\"],[0.2222222222222222,\"#7201a8\"],[0.3333333333333333,\"#9c179e\"],[0.4444444444444444,\"#bd3786\"],[0.5555555555555556,\"#d8576b\"],[0.6666666666666666,\"#ed7953\"],[0.7777777777777778,\"#fb9f3a\"],[0.8888888888888888,\"#fdca26\"],[1.0,\"#f0f921\"]],\"sequentialminus\":[[0.0,\"#0d0887\"],[0.1111111111111111,\"#46039f\"],[0.2222222222222222,\"#7201a8\"],[0.3333333333333333,\"#9c179e\"],[0.4444444444444444,\"#bd3786\"],[0.5555555555555556,\"#d8576b\"],[0.6666666666666666,\"#ed7953\"],[0.7777777777777778,\"#fb9f3a\"],[0.8888888888888888,\"#fdca26\"],[1.0,\"#f0f921\"]]},\"colorway\":[\"#636efa\",\"#EF553B\",\"#00cc96\",\"#ab63fa\",\"#FFA15A\",\"#19d3f3\",\"#FF6692\",\"#B6E880\",\"#FF97FF\",\"#FECB52\"],\"font\":{\"color\":\"#2a3f5f\"},\"geo\":{\"bgcolor\":\"white\",\"lakecolor\":\"white\",\"landcolor\":\"white\",\"showlakes\":true,\"showland\":true,\"subunitcolor\":\"#C8D4E3\"},\"hoverlabel\":{\"align\":\"left\"},\"hovermode\":\"closest\",\"mapbox\":{\"style\":\"light\"},\"paper_bgcolor\":\"white\",\"plot_bgcolor\":\"white\",\"polar\":{\"angularaxis\":{\"gridcolor\":\"#EBF0F8\",\"linecolor\":\"#EBF0F8\",\"ticks\":\"\"},\"bgcolor\":\"white\",\"radialaxis\":{\"gridcolor\":\"#EBF0F8\",\"linecolor\":\"#EBF0F8\",\"ticks\":\"\"}},\"scene\":{\"xaxis\":{\"backgroundcolor\":\"white\",\"gridcolor\":\"#DFE8F3\",\"gridwidth\":2,\"linecolor\":\"#EBF0F8\",\"showbackground\":true,\"ticks\":\"\",\"zerolinecolor\":\"#EBF0F8\"},\"yaxis\":{\"backgroundcolor\":\"white\",\"gridcolor\":\"#DFE8F3\",\"gridwidth\":2,\"linecolor\":\"#EBF0F8\",\"showbackground\":true,\"ticks\":\"\",\"zerolinecolor\":\"#EBF0F8\"},\"zaxis\":{\"backgroundcolor\":\"white\",\"gridcolor\":\"#DFE8F3\",\"gridwidth\":2,\"linecolor\":\"#EBF0F8\",\"showbackground\":true,\"ticks\":\"\",\"zerolinecolor\":\"#EBF0F8\"}},\"shapedefaults\":{\"line\":{\"color\":\"#2a3f5f\"}},\"ternary\":{\"aaxis\":{\"gridcolor\":\"#DFE8F3\",\"linecolor\":\"#A2B1C6\",\"ticks\":\"\"},\"baxis\":{\"gridcolor\":\"#DFE8F3\",\"linecolor\":\"#A2B1C6\",\"ticks\":\"\"},\"bgcolor\":\"white\",\"caxis\":{\"gridcolor\":\"#DFE8F3\",\"linecolor\":\"#A2B1C6\",\"ticks\":\"\"}},\"title\":{\"x\":0.05},\"xaxis\":{\"automargin\":true,\"gridcolor\":\"#EBF0F8\",\"linecolor\":\"#EBF0F8\",\"ticks\":\"\",\"title\":{\"standoff\":15},\"zerolinecolor\":\"#EBF0F8\",\"zerolinewidth\":2},\"yaxis\":{\"automargin\":true,\"gridcolor\":\"#EBF0F8\",\"linecolor\":\"#EBF0F8\",\"ticks\":\"\",\"title\":{\"standoff\":15},\"zerolinecolor\":\"#EBF0F8\",\"zerolinewidth\":2}}},\"title\":{\"font\":{\"size\":22,\"color\":\"Black\"},\"text\":\"<b>Hierarchical Clustering</b>\",\"x\":0.5,\"xanchor\":\"center\",\"yanchor\":\"top\"},\"hoverlabel\":{\"font\":{\"size\":16,\"family\":\"Rockwell\"},\"bgcolor\":\"white\"},\"plot_bgcolor\":\"#ECEFF1\"},                        {\"responsive\": true}                    )                };                            </script>        </div>\n",
       "</body>\n",
       "</html>"
      ]
     },
     "metadata": {},
     "output_type": "display_data"
    }
   ],
   "source": [
    "# Visualize hierarchy with custom labels\n",
    "topic_model.visualize_hierarchy()#custom_labels=True)"
   ]
  },
  {
   "cell_type": "code",
   "execution_count": 0,
   "metadata": {
    "application/vnd.databricks.v1+cell": {
     "cellMetadata": {
      "byteLimit": 2048000,
      "rowLimit": 10000
     },
     "inputWidgets": {},
     "nuid": "2b53a3a5-8e96-49e9-b1bf-64ce853c0df5",
     "showTitle": false,
     "tableResultSettingsMap": {},
     "title": ""
    }
   },
   "outputs": [
    {
     "output_type": "display_data",
     "data": {
      "text/html": [
       "<html>\n",
       "<head><meta charset=\"utf-8\" /></head>\n",
       "<body>\n",
       "    <div>            <script src=\"https://cdnjs.cloudflare.com/ajax/libs/mathjax/2.7.5/MathJax.js?config=TeX-AMS-MML_SVG\"></script><script type=\"text/javascript\">if (window.MathJax && window.MathJax.Hub && window.MathJax.Hub.Config) {window.MathJax.Hub.Config({SVG: {font: \"STIX-Web\"}});}</script>                <script type=\"text/javascript\">window.PlotlyConfig = {MathJaxConfig: 'local'};</script>\n",
       "        <script src=\"https://cdn.plot.ly/plotly-2.12.1.min.js\"></script>                <div id=\"93649145-e4fb-43f0-bc3d-ac06381f77d8\" class=\"plotly-graph-div\" style=\"height:800px; width:800px;\"></div>            <script type=\"text/javascript\">                                    window.PLOTLYENV=window.PLOTLYENV || {};                                    if (document.getElementById(\"93649145-e4fb-43f0-bc3d-ac06381f77d8\")) {                    Plotly.newPlot(                        \"93649145-e4fb-43f0-bc3d-ac06381f77d8\",                        [{\"coloraxis\":\"coloraxis\",\"name\":\"0\",\"x\":[\"0_check_in_boarding\",\"1_comfort_seat_seats\",\"2_entertainment_flight_in\",\"3_cleanliness_cabin_clean\",\"4_food_quality_and\",\"5_crew_service_cabin\",\"6_baggage_luggage_handling\",\"7_flight_the_to\",\"8_loyalty_program_flyer\",\"9_pricing_for_ticket\",\"10_safety_covid_precautions\",\"11_ground_staff_service\",\"12_assistance_wheelchair_wh...\",\"13_food_meal_quality\",\"14_the_to_customer\"],\"y\":[\"0_check_in_boarding\",\"1_comfort_seat_seats\",\"2_entertainment_flight_in\",\"3_cleanliness_cabin_clean\",\"4_food_quality_and\",\"5_crew_service_cabin\",\"6_baggage_luggage_handling\",\"7_flight_the_to\",\"8_loyalty_program_flyer\",\"9_pricing_for_ticket\",\"10_safety_covid_precautions\",\"11_ground_staff_service\",\"12_assistance_wheelchair_wh...\",\"13_food_meal_quality\",\"14_the_to_customer\"],\"z\":[[0.9999999999999993,0.8622646637963951,0.9039416943061891,0.901625740678113,0.8785370535175403,0.903488343620179,0.8687717633803055,0.9201592838320772,0.8992329196568891,0.8622274643086321,0.8901559428356954,0.8867417915450397,0.8871933409657556,0.9038833822353138,0.9433863347499837],[0.8622646637963951,0.9999999999999997,0.8409117392090988,0.8548526063214172,0.8156874233697056,0.8660693146983637,0.8158263167786819,0.8332205418451312,0.8249126973172167,0.8171356303926779,0.819996462328308,0.8322894774091883,0.8749068963864113,0.8427669877341677,0.8540000973458899],[0.9039416943061891,0.8409117392090988,1.0,0.8848034387589738,0.8658168617053663,0.8828086665575939,0.8390109102159736,0.9024553543629368,0.8698432513642804,0.8285293090383762,0.8504289635864677,0.8630714166100077,0.856600741380659,0.87402616391306,0.8930384806163923],[0.901625740678113,0.8548526063214172,0.8848034387589738,0.9999999999999997,0.8648809003896332,0.9095670671700863,0.875558690781213,0.8840813986004643,0.8503074570116589,0.8169966493126842,0.8605609574863899,0.8734697100314288,0.8716657263208611,0.8834507962696576,0.8886426164063457],[0.8785370535175403,0.8156874233697056,0.8658168617053663,0.8648809003896332,0.9999999999999991,0.8433972207729369,0.8311772159662469,0.8543811131676307,0.8559648500015754,0.8055684436841644,0.8339771299934197,0.8298725821295817,0.8445883332174601,0.9689455072222397,0.8835483317064082],[0.903488343620179,0.8660693146983637,0.8828086665575939,0.9095670671700863,0.8433972207729369,0.9999999999999992,0.8654238769142916,0.8926802721823313,0.8757285481349426,0.8440791803970049,0.8815373551704461,0.9070584836832023,0.8967509306174696,0.8680869354210323,0.9200723229914939],[0.8687717633803055,0.8158263167786819,0.8390109102159736,0.875558690781213,0.8311772159662469,0.8654238769142916,0.9999999999999996,0.8698374589281581,0.8302985824728752,0.8176381234328631,0.8357379996369152,0.8458958383797431,0.8645383636701012,0.8430993628797959,0.8696961584590066],[0.9201592838320772,0.8332205418451312,0.9024553543629368,0.8840813986004643,0.8543811131676307,0.8926802721823313,0.8698374589281581,1.0,0.8839959214945776,0.8481512835854328,0.8601149563234035,0.8774948748607576,0.8737022736010409,0.8924975508650093,0.9377196316697822],[0.8992329196568891,0.8249126973172167,0.8698432513642804,0.8503074570116589,0.8559648500015754,0.8757285481349426,0.8302985824728752,0.8839959214945776,1.0,0.8623492676240233,0.8564285588288547,0.8391457445624132,0.8690490869499032,0.8757275906136197,0.9129246447571007],[0.8622274643086321,0.8171356303926779,0.8285293090383762,0.8169966493126842,0.8055684436841644,0.8440791803970049,0.8176381234328631,0.8481512835854328,0.8623492676240233,0.9999999999999996,0.8349723401935236,0.8340304235724987,0.8388521155156748,0.8268378747086187,0.8790551806180263],[0.8901559428356954,0.819996462328308,0.8504289635864677,0.8605609574863899,0.8339771299934197,0.8815373551704461,0.8357379996369152,0.8601149563234035,0.8564285588288547,0.8349723401935236,1.0,0.869546173891209,0.8541652234371689,0.8465032837004729,0.8804237908762278],[0.8867417915450397,0.8322894774091883,0.8630714166100077,0.8734697100314288,0.8298725821295817,0.9070584836832023,0.8458958383797431,0.8774948748607576,0.8391457445624132,0.8340304235724987,0.869546173891209,1.0,0.8703252871550663,0.8530587898886217,0.9009655306931657],[0.8871933409657556,0.8749068963864113,0.856600741380659,0.8716657263208611,0.8445883332174601,0.8967509306174696,0.8645383636701012,0.8737022736010409,0.8690490869499032,0.8388521155156748,0.8541652234371689,0.8703252871550663,1.0000000000000002,0.8549489099007693,0.892080637136327],[0.9038833822353138,0.8427669877341677,0.87402616391306,0.8834507962696576,0.9689455072222397,0.8680869354210323,0.8430993628797959,0.8924975508650093,0.8757275906136197,0.8268378747086187,0.8465032837004729,0.8530587898886217,0.8549489099007693,1.0000000000000007,0.9110972290044752],[0.9433863347499837,0.8540000973458899,0.8930384806163923,0.8886426164063457,0.8835483317064082,0.9200723229914939,0.8696961584590066,0.9377196316697822,0.9129246447571007,0.8790551806180263,0.8804237908762278,0.9009655306931657,0.892080637136327,0.9110972290044752,1.0000000000000004]],\"type\":\"heatmap\",\"xaxis\":\"x\",\"yaxis\":\"y\",\"hovertemplate\":\"x: %{x}<br>y: %{y}<br>Similarity Score: %{z}<extra></extra>\"}],                        {\"template\":{\"data\":{\"histogram2dcontour\":[{\"type\":\"histogram2dcontour\",\"colorbar\":{\"outlinewidth\":0,\"ticks\":\"\"},\"colorscale\":[[0.0,\"#0d0887\"],[0.1111111111111111,\"#46039f\"],[0.2222222222222222,\"#7201a8\"],[0.3333333333333333,\"#9c179e\"],[0.4444444444444444,\"#bd3786\"],[0.5555555555555556,\"#d8576b\"],[0.6666666666666666,\"#ed7953\"],[0.7777777777777778,\"#fb9f3a\"],[0.8888888888888888,\"#fdca26\"],[1.0,\"#f0f921\"]]}],\"choropleth\":[{\"type\":\"choropleth\",\"colorbar\":{\"outlinewidth\":0,\"ticks\":\"\"}}],\"histogram2d\":[{\"type\":\"histogram2d\",\"colorbar\":{\"outlinewidth\":0,\"ticks\":\"\"},\"colorscale\":[[0.0,\"#0d0887\"],[0.1111111111111111,\"#46039f\"],[0.2222222222222222,\"#7201a8\"],[0.3333333333333333,\"#9c179e\"],[0.4444444444444444,\"#bd3786\"],[0.5555555555555556,\"#d8576b\"],[0.6666666666666666,\"#ed7953\"],[0.7777777777777778,\"#fb9f3a\"],[0.8888888888888888,\"#fdca26\"],[1.0,\"#f0f921\"]]}],\"heatmap\":[{\"type\":\"heatmap\",\"colorbar\":{\"outlinewidth\":0,\"ticks\":\"\"},\"colorscale\":[[0.0,\"#0d0887\"],[0.1111111111111111,\"#46039f\"],[0.2222222222222222,\"#7201a8\"],[0.3333333333333333,\"#9c179e\"],[0.4444444444444444,\"#bd3786\"],[0.5555555555555556,\"#d8576b\"],[0.6666666666666666,\"#ed7953\"],[0.7777777777777778,\"#fb9f3a\"],[0.8888888888888888,\"#fdca26\"],[1.0,\"#f0f921\"]]}],\"heatmapgl\":[{\"type\":\"heatmapgl\",\"colorbar\":{\"outlinewidth\":0,\"ticks\":\"\"},\"colorscale\":[[0.0,\"#0d0887\"],[0.1111111111111111,\"#46039f\"],[0.2222222222222222,\"#7201a8\"],[0.3333333333333333,\"#9c179e\"],[0.4444444444444444,\"#bd3786\"],[0.5555555555555556,\"#d8576b\"],[0.6666666666666666,\"#ed7953\"],[0.7777777777777778,\"#fb9f3a\"],[0.8888888888888888,\"#fdca26\"],[1.0,\"#f0f921\"]]}],\"contourcarpet\":[{\"type\":\"contourcarpet\",\"colorbar\":{\"outlinewidth\":0,\"ticks\":\"\"}}],\"contour\":[{\"type\":\"contour\",\"colorbar\":{\"outlinewidth\":0,\"ticks\":\"\"},\"colorscale\":[[0.0,\"#0d0887\"],[0.1111111111111111,\"#46039f\"],[0.2222222222222222,\"#7201a8\"],[0.3333333333333333,\"#9c179e\"],[0.4444444444444444,\"#bd3786\"],[0.5555555555555556,\"#d8576b\"],[0.6666666666666666,\"#ed7953\"],[0.7777777777777778,\"#fb9f3a\"],[0.8888888888888888,\"#fdca26\"],[1.0,\"#f0f921\"]]}],\"surface\":[{\"type\":\"surface\",\"colorbar\":{\"outlinewidth\":0,\"ticks\":\"\"},\"colorscale\":[[0.0,\"#0d0887\"],[0.1111111111111111,\"#46039f\"],[0.2222222222222222,\"#7201a8\"],[0.3333333333333333,\"#9c179e\"],[0.4444444444444444,\"#bd3786\"],[0.5555555555555556,\"#d8576b\"],[0.6666666666666666,\"#ed7953\"],[0.7777777777777778,\"#fb9f3a\"],[0.8888888888888888,\"#fdca26\"],[1.0,\"#f0f921\"]]}],\"mesh3d\":[{\"type\":\"mesh3d\",\"colorbar\":{\"outlinewidth\":0,\"ticks\":\"\"}}],\"scatter\":[{\"fillpattern\":{\"fillmode\":\"overlay\",\"size\":10,\"solidity\":0.2},\"type\":\"scatter\"}],\"parcoords\":[{\"type\":\"parcoords\",\"line\":{\"colorbar\":{\"outlinewidth\":0,\"ticks\":\"\"}}}],\"scatterpolargl\":[{\"type\":\"scatterpolargl\",\"marker\":{\"colorbar\":{\"outlinewidth\":0,\"ticks\":\"\"}}}],\"bar\":[{\"error_x\":{\"color\":\"#2a3f5f\"},\"error_y\":{\"color\":\"#2a3f5f\"},\"marker\":{\"line\":{\"color\":\"#E5ECF6\",\"width\":0.5},\"pattern\":{\"fillmode\":\"overlay\",\"size\":10,\"solidity\":0.2}},\"type\":\"bar\"}],\"scattergeo\":[{\"type\":\"scattergeo\",\"marker\":{\"colorbar\":{\"outlinewidth\":0,\"ticks\":\"\"}}}],\"scatterpolar\":[{\"type\":\"scatterpolar\",\"marker\":{\"colorbar\":{\"outlinewidth\":0,\"ticks\":\"\"}}}],\"histogram\":[{\"marker\":{\"pattern\":{\"fillmode\":\"overlay\",\"size\":10,\"solidity\":0.2}},\"type\":\"histogram\"}],\"scattergl\":[{\"type\":\"scattergl\",\"marker\":{\"colorbar\":{\"outlinewidth\":0,\"ticks\":\"\"}}}],\"scatter3d\":[{\"type\":\"scatter3d\",\"line\":{\"colorbar\":{\"outlinewidth\":0,\"ticks\":\"\"}},\"marker\":{\"colorbar\":{\"outlinewidth\":0,\"ticks\":\"\"}}}],\"scattermapbox\":[{\"type\":\"scattermapbox\",\"marker\":{\"colorbar\":{\"outlinewidth\":0,\"ticks\":\"\"}}}],\"scatterternary\":[{\"type\":\"scatterternary\",\"marker\":{\"colorbar\":{\"outlinewidth\":0,\"ticks\":\"\"}}}],\"scattercarpet\":[{\"type\":\"scattercarpet\",\"marker\":{\"colorbar\":{\"outlinewidth\":0,\"ticks\":\"\"}}}],\"carpet\":[{\"aaxis\":{\"endlinecolor\":\"#2a3f5f\",\"gridcolor\":\"white\",\"linecolor\":\"white\",\"minorgridcolor\":\"white\",\"startlinecolor\":\"#2a3f5f\"},\"baxis\":{\"endlinecolor\":\"#2a3f5f\",\"gridcolor\":\"white\",\"linecolor\":\"white\",\"minorgridcolor\":\"white\",\"startlinecolor\":\"#2a3f5f\"},\"type\":\"carpet\"}],\"table\":[{\"cells\":{\"fill\":{\"color\":\"#EBF0F8\"},\"line\":{\"color\":\"white\"}},\"header\":{\"fill\":{\"color\":\"#C8D4E3\"},\"line\":{\"color\":\"white\"}},\"type\":\"table\"}],\"barpolar\":[{\"marker\":{\"line\":{\"color\":\"#E5ECF6\",\"width\":0.5},\"pattern\":{\"fillmode\":\"overlay\",\"size\":10,\"solidity\":0.2}},\"type\":\"barpolar\"}],\"pie\":[{\"automargin\":true,\"type\":\"pie\"}]},\"layout\":{\"autotypenumbers\":\"strict\",\"colorway\":[\"#636efa\",\"#EF553B\",\"#00cc96\",\"#ab63fa\",\"#FFA15A\",\"#19d3f3\",\"#FF6692\",\"#B6E880\",\"#FF97FF\",\"#FECB52\"],\"font\":{\"color\":\"#2a3f5f\"},\"hovermode\":\"closest\",\"hoverlabel\":{\"align\":\"left\"},\"paper_bgcolor\":\"white\",\"plot_bgcolor\":\"#E5ECF6\",\"polar\":{\"bgcolor\":\"#E5ECF6\",\"angularaxis\":{\"gridcolor\":\"white\",\"linecolor\":\"white\",\"ticks\":\"\"},\"radialaxis\":{\"gridcolor\":\"white\",\"linecolor\":\"white\",\"ticks\":\"\"}},\"ternary\":{\"bgcolor\":\"#E5ECF6\",\"aaxis\":{\"gridcolor\":\"white\",\"linecolor\":\"white\",\"ticks\":\"\"},\"baxis\":{\"gridcolor\":\"white\",\"linecolor\":\"white\",\"ticks\":\"\"},\"caxis\":{\"gridcolor\":\"white\",\"linecolor\":\"white\",\"ticks\":\"\"}},\"coloraxis\":{\"colorbar\":{\"outlinewidth\":0,\"ticks\":\"\"}},\"colorscale\":{\"sequential\":[[0.0,\"#0d0887\"],[0.1111111111111111,\"#46039f\"],[0.2222222222222222,\"#7201a8\"],[0.3333333333333333,\"#9c179e\"],[0.4444444444444444,\"#bd3786\"],[0.5555555555555556,\"#d8576b\"],[0.6666666666666666,\"#ed7953\"],[0.7777777777777778,\"#fb9f3a\"],[0.8888888888888888,\"#fdca26\"],[1.0,\"#f0f921\"]],\"sequentialminus\":[[0.0,\"#0d0887\"],[0.1111111111111111,\"#46039f\"],[0.2222222222222222,\"#7201a8\"],[0.3333333333333333,\"#9c179e\"],[0.4444444444444444,\"#bd3786\"],[0.5555555555555556,\"#d8576b\"],[0.6666666666666666,\"#ed7953\"],[0.7777777777777778,\"#fb9f3a\"],[0.8888888888888888,\"#fdca26\"],[1.0,\"#f0f921\"]],\"diverging\":[[0,\"#8e0152\"],[0.1,\"#c51b7d\"],[0.2,\"#de77ae\"],[0.3,\"#f1b6da\"],[0.4,\"#fde0ef\"],[0.5,\"#f7f7f7\"],[0.6,\"#e6f5d0\"],[0.7,\"#b8e186\"],[0.8,\"#7fbc41\"],[0.9,\"#4d9221\"],[1,\"#276419\"]]},\"xaxis\":{\"gridcolor\":\"white\",\"linecolor\":\"white\",\"ticks\":\"\",\"title\":{\"standoff\":15},\"zerolinecolor\":\"white\",\"automargin\":true,\"zerolinewidth\":2},\"yaxis\":{\"gridcolor\":\"white\",\"linecolor\":\"white\",\"ticks\":\"\",\"title\":{\"standoff\":15},\"zerolinecolor\":\"white\",\"automargin\":true,\"zerolinewidth\":2},\"scene\":{\"xaxis\":{\"backgroundcolor\":\"#E5ECF6\",\"gridcolor\":\"white\",\"linecolor\":\"white\",\"showbackground\":true,\"ticks\":\"\",\"zerolinecolor\":\"white\",\"gridwidth\":2},\"yaxis\":{\"backgroundcolor\":\"#E5ECF6\",\"gridcolor\":\"white\",\"linecolor\":\"white\",\"showbackground\":true,\"ticks\":\"\",\"zerolinecolor\":\"white\",\"gridwidth\":2},\"zaxis\":{\"backgroundcolor\":\"#E5ECF6\",\"gridcolor\":\"white\",\"linecolor\":\"white\",\"showbackground\":true,\"ticks\":\"\",\"zerolinecolor\":\"white\",\"gridwidth\":2}},\"shapedefaults\":{\"line\":{\"color\":\"#2a3f5f\"}},\"annotationdefaults\":{\"arrowcolor\":\"#2a3f5f\",\"arrowhead\":0,\"arrowwidth\":1},\"geo\":{\"bgcolor\":\"white\",\"landcolor\":\"#E5ECF6\",\"subunitcolor\":\"white\",\"showland\":true,\"showlakes\":true,\"lakecolor\":\"white\"},\"title\":{\"x\":0.05},\"mapbox\":{\"style\":\"light\"}}},\"xaxis\":{\"anchor\":\"y\",\"domain\":[0.0,1.0],\"scaleanchor\":\"y\",\"constrain\":\"domain\"},\"yaxis\":{\"anchor\":\"x\",\"domain\":[0.0,1.0],\"autorange\":\"reversed\",\"constrain\":\"domain\"},\"coloraxis\":{\"colorbar\":{\"title\":{\"text\":\"Similarity Score\"}},\"colorscale\":[[0.0,\"rgb(247,252,240)\"],[0.125,\"rgb(224,243,219)\"],[0.25,\"rgb(204,235,197)\"],[0.375,\"rgb(168,221,181)\"],[0.5,\"rgb(123,204,196)\"],[0.625,\"rgb(78,179,211)\"],[0.75,\"rgb(43,140,190)\"],[0.875,\"rgb(8,104,172)\"],[1.0,\"rgb(8,64,129)\"]]},\"margin\":{\"t\":60},\"title\":{\"font\":{\"size\":22,\"color\":\"Black\"},\"text\":\"<b>Similarity Matrix</b>\",\"y\":0.95,\"x\":0.55,\"xanchor\":\"center\",\"yanchor\":\"top\"},\"hoverlabel\":{\"font\":{\"size\":16,\"family\":\"Rockwell\"},\"bgcolor\":\"white\"},\"width\":800,\"height\":800,\"showlegend\":true,\"legend\":{\"title\":{\"text\":\"Trend\"}}},                        {\"responsive\": true}                    )                };                            </script>        </div>\n",
       "</body>\n",
       "</html>"
      ]
     },
     "metadata": {},
     "output_type": "display_data"
    }
   ],
   "source": [
    "topic_model.visualize_heatmap()"
   ]
  },
  {
   "cell_type": "code",
   "execution_count": 0,
   "metadata": {
    "application/vnd.databricks.v1+cell": {
     "cellMetadata": {
      "byteLimit": 2048000,
      "rowLimit": 10000
     },
     "inputWidgets": {},
     "nuid": "d48d3c7e-0ce0-4287-8cd1-34069f0c5869",
     "showTitle": false,
     "tableResultSettingsMap": {},
     "title": ""
    }
   },
   "outputs": [
    {
     "output_type": "stream",
     "name": "stderr",
     "output_type": "stream",
     "text": [
      "\r  0%|          | 0/1 [00:00<?, ?it/s]\r100%|██████████| 1/1 [00:00<00:00, 359.32it/s]\n"
     ]
    },
    {
     "output_type": "execute_result",
     "data": {
      "text/plain": [
       "array([[0.        , 0.        , 0.        , 0.27162929, 0.        ,\n",
       "        0.58466214, 0.        , 0.04827872, 0.        , 0.        ,\n",
       "        0.        , 0.        , 0.        , 0.04636327, 0.04906658]])"
      ]
     },
     "execution_count": 59,
     "metadata": {},
     "output_type": "execute_result"
    }
   ],
   "source": [
    "topic_distr, _ = topic_model.approximate_distribution([\"Cabin crew service: Felt like a nuisance and was deliberately ignored by male cabin crew.\"])\n",
    "topic_distr"
   ]
  },
  {
   "cell_type": "code",
   "execution_count": 0,
   "metadata": {
    "application/vnd.databricks.v1+cell": {
     "cellMetadata": {
      "byteLimit": 2048000,
      "rowLimit": 10000
     },
     "inputWidgets": {},
     "nuid": "fdc8d494-d371-434f-824c-cf15988d89e4",
     "showTitle": false,
     "tableResultSettingsMap": {},
     "title": ""
    }
   },
   "outputs": [
    {
     "output_type": "display_data",
     "data": {
      "text/html": [
       "<html>\n",
       "<head><meta charset=\"utf-8\" /></head>\n",
       "<body>\n",
       "    <div>            <script src=\"https://cdnjs.cloudflare.com/ajax/libs/mathjax/2.7.5/MathJax.js?config=TeX-AMS-MML_SVG\"></script><script type=\"text/javascript\">if (window.MathJax && window.MathJax.Hub && window.MathJax.Hub.Config) {window.MathJax.Hub.Config({SVG: {font: \"STIX-Web\"}});}</script>                <script type=\"text/javascript\">window.PlotlyConfig = {MathJaxConfig: 'local'};</script>\n",
       "        <script src=\"https://cdn.plot.ly/plotly-2.12.1.min.js\"></script>                <div id=\"c1661899-7ade-48b8-8c56-4e0b91275468\" class=\"plotly-graph-div\" style=\"height:600px; width:800px;\"></div>            <script type=\"text/javascript\">                                    window.PLOTLYENV=window.PLOTLYENV || {};                                    if (document.getElementById(\"c1661899-7ade-48b8-8c56-4e0b91275468\")) {                    Plotly.newPlot(                        \"c1661899-7ade-48b8-8c56-4e0b91275468\",                        [{\"marker\":{\"color\":\"#C8D2D7\",\"line\":{\"color\":\"#6E8484\",\"width\":1}},\"orientation\":\"h\",\"x\":[0.2716292864904031,0.5846621375673204,0.048278724358023765,0.046363268024253355,0.0490665835599995],\"y\":[\"Aircraft Cleanliness\",\"Cabin Crew Friendliness\",\"Flight Punctuality\",\"In-Flight Meal Quality\",\"Customer Service Experience\"],\"type\":\"bar\"}],                        {\"template\":{\"data\":{\"barpolar\":[{\"marker\":{\"line\":{\"color\":\"white\",\"width\":0.5},\"pattern\":{\"fillmode\":\"overlay\",\"size\":10,\"solidity\":0.2}},\"type\":\"barpolar\"}],\"bar\":[{\"error_x\":{\"color\":\"rgb(36,36,36)\"},\"error_y\":{\"color\":\"rgb(36,36,36)\"},\"marker\":{\"line\":{\"color\":\"white\",\"width\":0.5},\"pattern\":{\"fillmode\":\"overlay\",\"size\":10,\"solidity\":0.2}},\"type\":\"bar\"}],\"carpet\":[{\"aaxis\":{\"endlinecolor\":\"rgb(36,36,36)\",\"gridcolor\":\"white\",\"linecolor\":\"white\",\"minorgridcolor\":\"white\",\"startlinecolor\":\"rgb(36,36,36)\"},\"baxis\":{\"endlinecolor\":\"rgb(36,36,36)\",\"gridcolor\":\"white\",\"linecolor\":\"white\",\"minorgridcolor\":\"white\",\"startlinecolor\":\"rgb(36,36,36)\"},\"type\":\"carpet\"}],\"choropleth\":[{\"colorbar\":{\"outlinewidth\":1,\"tickcolor\":\"rgb(36,36,36)\",\"ticks\":\"outside\"},\"type\":\"choropleth\"}],\"contourcarpet\":[{\"colorbar\":{\"outlinewidth\":1,\"tickcolor\":\"rgb(36,36,36)\",\"ticks\":\"outside\"},\"type\":\"contourcarpet\"}],\"contour\":[{\"colorbar\":{\"outlinewidth\":1,\"tickcolor\":\"rgb(36,36,36)\",\"ticks\":\"outside\"},\"colorscale\":[[0.0,\"#440154\"],[0.1111111111111111,\"#482878\"],[0.2222222222222222,\"#3e4989\"],[0.3333333333333333,\"#31688e\"],[0.4444444444444444,\"#26828e\"],[0.5555555555555556,\"#1f9e89\"],[0.6666666666666666,\"#35b779\"],[0.7777777777777778,\"#6ece58\"],[0.8888888888888888,\"#b5de2b\"],[1.0,\"#fde725\"]],\"type\":\"contour\"}],\"heatmapgl\":[{\"colorbar\":{\"outlinewidth\":1,\"tickcolor\":\"rgb(36,36,36)\",\"ticks\":\"outside\"},\"colorscale\":[[0.0,\"#440154\"],[0.1111111111111111,\"#482878\"],[0.2222222222222222,\"#3e4989\"],[0.3333333333333333,\"#31688e\"],[0.4444444444444444,\"#26828e\"],[0.5555555555555556,\"#1f9e89\"],[0.6666666666666666,\"#35b779\"],[0.7777777777777778,\"#6ece58\"],[0.8888888888888888,\"#b5de2b\"],[1.0,\"#fde725\"]],\"type\":\"heatmapgl\"}],\"heatmap\":[{\"colorbar\":{\"outlinewidth\":1,\"tickcolor\":\"rgb(36,36,36)\",\"ticks\":\"outside\"},\"colorscale\":[[0.0,\"#440154\"],[0.1111111111111111,\"#482878\"],[0.2222222222222222,\"#3e4989\"],[0.3333333333333333,\"#31688e\"],[0.4444444444444444,\"#26828e\"],[0.5555555555555556,\"#1f9e89\"],[0.6666666666666666,\"#35b779\"],[0.7777777777777778,\"#6ece58\"],[0.8888888888888888,\"#b5de2b\"],[1.0,\"#fde725\"]],\"type\":\"heatmap\"}],\"histogram2dcontour\":[{\"colorbar\":{\"outlinewidth\":1,\"tickcolor\":\"rgb(36,36,36)\",\"ticks\":\"outside\"},\"colorscale\":[[0.0,\"#440154\"],[0.1111111111111111,\"#482878\"],[0.2222222222222222,\"#3e4989\"],[0.3333333333333333,\"#31688e\"],[0.4444444444444444,\"#26828e\"],[0.5555555555555556,\"#1f9e89\"],[0.6666666666666666,\"#35b779\"],[0.7777777777777778,\"#6ece58\"],[0.8888888888888888,\"#b5de2b\"],[1.0,\"#fde725\"]],\"type\":\"histogram2dcontour\"}],\"histogram2d\":[{\"colorbar\":{\"outlinewidth\":1,\"tickcolor\":\"rgb(36,36,36)\",\"ticks\":\"outside\"},\"colorscale\":[[0.0,\"#440154\"],[0.1111111111111111,\"#482878\"],[0.2222222222222222,\"#3e4989\"],[0.3333333333333333,\"#31688e\"],[0.4444444444444444,\"#26828e\"],[0.5555555555555556,\"#1f9e89\"],[0.6666666666666666,\"#35b779\"],[0.7777777777777778,\"#6ece58\"],[0.8888888888888888,\"#b5de2b\"],[1.0,\"#fde725\"]],\"type\":\"histogram2d\"}],\"histogram\":[{\"marker\":{\"line\":{\"color\":\"white\",\"width\":0.6}},\"type\":\"histogram\"}],\"mesh3d\":[{\"colorbar\":{\"outlinewidth\":1,\"tickcolor\":\"rgb(36,36,36)\",\"ticks\":\"outside\"},\"type\":\"mesh3d\"}],\"parcoords\":[{\"line\":{\"colorbar\":{\"outlinewidth\":1,\"tickcolor\":\"rgb(36,36,36)\",\"ticks\":\"outside\"}},\"type\":\"parcoords\"}],\"pie\":[{\"automargin\":true,\"type\":\"pie\"}],\"scatter3d\":[{\"line\":{\"colorbar\":{\"outlinewidth\":1,\"tickcolor\":\"rgb(36,36,36)\",\"ticks\":\"outside\"}},\"marker\":{\"colorbar\":{\"outlinewidth\":1,\"tickcolor\":\"rgb(36,36,36)\",\"ticks\":\"outside\"}},\"type\":\"scatter3d\"}],\"scattercarpet\":[{\"marker\":{\"colorbar\":{\"outlinewidth\":1,\"tickcolor\":\"rgb(36,36,36)\",\"ticks\":\"outside\"}},\"type\":\"scattercarpet\"}],\"scattergeo\":[{\"marker\":{\"colorbar\":{\"outlinewidth\":1,\"tickcolor\":\"rgb(36,36,36)\",\"ticks\":\"outside\"}},\"type\":\"scattergeo\"}],\"scattergl\":[{\"marker\":{\"colorbar\":{\"outlinewidth\":1,\"tickcolor\":\"rgb(36,36,36)\",\"ticks\":\"outside\"}},\"type\":\"scattergl\"}],\"scattermapbox\":[{\"marker\":{\"colorbar\":{\"outlinewidth\":1,\"tickcolor\":\"rgb(36,36,36)\",\"ticks\":\"outside\"}},\"type\":\"scattermapbox\"}],\"scatterpolargl\":[{\"marker\":{\"colorbar\":{\"outlinewidth\":1,\"tickcolor\":\"rgb(36,36,36)\",\"ticks\":\"outside\"}},\"type\":\"scatterpolargl\"}],\"scatterpolar\":[{\"marker\":{\"colorbar\":{\"outlinewidth\":1,\"tickcolor\":\"rgb(36,36,36)\",\"ticks\":\"outside\"}},\"type\":\"scatterpolar\"}],\"scatter\":[{\"fillpattern\":{\"fillmode\":\"overlay\",\"size\":10,\"solidity\":0.2},\"type\":\"scatter\"}],\"scatterternary\":[{\"marker\":{\"colorbar\":{\"outlinewidth\":1,\"tickcolor\":\"rgb(36,36,36)\",\"ticks\":\"outside\"}},\"type\":\"scatterternary\"}],\"surface\":[{\"colorbar\":{\"outlinewidth\":1,\"tickcolor\":\"rgb(36,36,36)\",\"ticks\":\"outside\"},\"colorscale\":[[0.0,\"#440154\"],[0.1111111111111111,\"#482878\"],[0.2222222222222222,\"#3e4989\"],[0.3333333333333333,\"#31688e\"],[0.4444444444444444,\"#26828e\"],[0.5555555555555556,\"#1f9e89\"],[0.6666666666666666,\"#35b779\"],[0.7777777777777778,\"#6ece58\"],[0.8888888888888888,\"#b5de2b\"],[1.0,\"#fde725\"]],\"type\":\"surface\"}],\"table\":[{\"cells\":{\"fill\":{\"color\":\"rgb(237,237,237)\"},\"line\":{\"color\":\"white\"}},\"header\":{\"fill\":{\"color\":\"rgb(217,217,217)\"},\"line\":{\"color\":\"white\"}},\"type\":\"table\"}]},\"layout\":{\"annotationdefaults\":{\"arrowhead\":0,\"arrowwidth\":1},\"autotypenumbers\":\"strict\",\"coloraxis\":{\"colorbar\":{\"outlinewidth\":1,\"tickcolor\":\"rgb(36,36,36)\",\"ticks\":\"outside\"}},\"colorscale\":{\"diverging\":[[0.0,\"rgb(103,0,31)\"],[0.1,\"rgb(178,24,43)\"],[0.2,\"rgb(214,96,77)\"],[0.3,\"rgb(244,165,130)\"],[0.4,\"rgb(253,219,199)\"],[0.5,\"rgb(247,247,247)\"],[0.6,\"rgb(209,229,240)\"],[0.7,\"rgb(146,197,222)\"],[0.8,\"rgb(67,147,195)\"],[0.9,\"rgb(33,102,172)\"],[1.0,\"rgb(5,48,97)\"]],\"sequential\":[[0.0,\"#440154\"],[0.1111111111111111,\"#482878\"],[0.2222222222222222,\"#3e4989\"],[0.3333333333333333,\"#31688e\"],[0.4444444444444444,\"#26828e\"],[0.5555555555555556,\"#1f9e89\"],[0.6666666666666666,\"#35b779\"],[0.7777777777777778,\"#6ece58\"],[0.8888888888888888,\"#b5de2b\"],[1.0,\"#fde725\"]],\"sequentialminus\":[[0.0,\"#440154\"],[0.1111111111111111,\"#482878\"],[0.2222222222222222,\"#3e4989\"],[0.3333333333333333,\"#31688e\"],[0.4444444444444444,\"#26828e\"],[0.5555555555555556,\"#1f9e89\"],[0.6666666666666666,\"#35b779\"],[0.7777777777777778,\"#6ece58\"],[0.8888888888888888,\"#b5de2b\"],[1.0,\"#fde725\"]]},\"colorway\":[\"#1F77B4\",\"#FF7F0E\",\"#2CA02C\",\"#D62728\",\"#9467BD\",\"#8C564B\",\"#E377C2\",\"#7F7F7F\",\"#BCBD22\",\"#17BECF\"],\"font\":{\"color\":\"rgb(36,36,36)\"},\"geo\":{\"bgcolor\":\"white\",\"lakecolor\":\"white\",\"landcolor\":\"white\",\"showlakes\":true,\"showland\":true,\"subunitcolor\":\"white\"},\"hoverlabel\":{\"align\":\"left\"},\"hovermode\":\"closest\",\"mapbox\":{\"style\":\"light\"},\"paper_bgcolor\":\"white\",\"plot_bgcolor\":\"white\",\"polar\":{\"angularaxis\":{\"gridcolor\":\"rgb(232,232,232)\",\"linecolor\":\"rgb(36,36,36)\",\"showgrid\":false,\"showline\":true,\"ticks\":\"outside\"},\"bgcolor\":\"white\",\"radialaxis\":{\"gridcolor\":\"rgb(232,232,232)\",\"linecolor\":\"rgb(36,36,36)\",\"showgrid\":false,\"showline\":true,\"ticks\":\"outside\"}},\"scene\":{\"xaxis\":{\"backgroundcolor\":\"white\",\"gridcolor\":\"rgb(232,232,232)\",\"gridwidth\":2,\"linecolor\":\"rgb(36,36,36)\",\"showbackground\":true,\"showgrid\":false,\"showline\":true,\"ticks\":\"outside\",\"zeroline\":false,\"zerolinecolor\":\"rgb(36,36,36)\"},\"yaxis\":{\"backgroundcolor\":\"white\",\"gridcolor\":\"rgb(232,232,232)\",\"gridwidth\":2,\"linecolor\":\"rgb(36,36,36)\",\"showbackground\":true,\"showgrid\":false,\"showline\":true,\"ticks\":\"outside\",\"zeroline\":false,\"zerolinecolor\":\"rgb(36,36,36)\"},\"zaxis\":{\"backgroundcolor\":\"white\",\"gridcolor\":\"rgb(232,232,232)\",\"gridwidth\":2,\"linecolor\":\"rgb(36,36,36)\",\"showbackground\":true,\"showgrid\":false,\"showline\":true,\"ticks\":\"outside\",\"zeroline\":false,\"zerolinecolor\":\"rgb(36,36,36)\"}},\"shapedefaults\":{\"fillcolor\":\"black\",\"line\":{\"width\":0},\"opacity\":0.3},\"ternary\":{\"aaxis\":{\"gridcolor\":\"rgb(232,232,232)\",\"linecolor\":\"rgb(36,36,36)\",\"showgrid\":false,\"showline\":true,\"ticks\":\"outside\"},\"baxis\":{\"gridcolor\":\"rgb(232,232,232)\",\"linecolor\":\"rgb(36,36,36)\",\"showgrid\":false,\"showline\":true,\"ticks\":\"outside\"},\"bgcolor\":\"white\",\"caxis\":{\"gridcolor\":\"rgb(232,232,232)\",\"linecolor\":\"rgb(36,36,36)\",\"showgrid\":false,\"showline\":true,\"ticks\":\"outside\"}},\"title\":{\"x\":0.05},\"xaxis\":{\"automargin\":true,\"gridcolor\":\"rgb(232,232,232)\",\"linecolor\":\"rgb(36,36,36)\",\"showgrid\":false,\"showline\":true,\"ticks\":\"outside\",\"title\":{\"standoff\":15},\"zeroline\":false,\"zerolinecolor\":\"rgb(36,36,36)\"},\"yaxis\":{\"automargin\":true,\"gridcolor\":\"rgb(232,232,232)\",\"linecolor\":\"rgb(36,36,36)\",\"showgrid\":false,\"showline\":true,\"ticks\":\"outside\",\"title\":{\"standoff\":15},\"zeroline\":false,\"zerolinecolor\":\"rgb(36,36,36)\"}}},\"title\":{\"font\":{\"size\":22,\"color\":\"Black\"},\"text\":\"<b>Topic Probability Distribution</b>\",\"y\":0.95,\"x\":0.5,\"xanchor\":\"center\",\"yanchor\":\"top\"},\"hoverlabel\":{\"font\":{\"size\":16,\"family\":\"Rockwell\"},\"bgcolor\":\"white\"},\"xaxis\":{\"title\":{\"text\":\"Probability\"}},\"width\":800,\"height\":600},                        {\"responsive\": true}                    )                };                            </script>        </div>\n",
       "</body>\n",
       "</html>"
      ]
     },
     "metadata": {},
     "output_type": "display_data"
    }
   ],
   "source": [
    "# Visualize the topic-document distribution for a single document\n",
    "topic_model.visualize_distribution(topic_distr[0], custom_labels=True)"
   ]
  },
  {
   "cell_type": "markdown",
   "metadata": {
    "application/vnd.databricks.v1+cell": {
     "cellMetadata": {},
     "inputWidgets": {},
     "nuid": "84b99b5d-e763-45b5-8021-60c64a15ff7f",
     "showTitle": false,
     "tableResultSettingsMap": {},
     "title": ""
    }
   },
   "source": [
    "## Predict topics for new reviews"
   ]
  },
  {
   "cell_type": "code",
   "execution_count": 0,
   "metadata": {
    "application/vnd.databricks.v1+cell": {
     "cellMetadata": {
      "byteLimit": 2048000,
      "rowLimit": 10000
     },
     "inputWidgets": {},
     "nuid": "25046ada-5b67-42b2-8dce-b06e6748de3d",
     "showTitle": false,
     "tableResultSettingsMap": {},
     "title": ""
    }
   },
   "outputs": [],
   "source": [
    "# topic_model.transform(new_reviews)"
   ]
  },
  {
   "cell_type": "code",
   "execution_count": 0,
   "metadata": {
    "application/vnd.databricks.v1+cell": {
     "cellMetadata": {
      "byteLimit": 2048000,
      "rowLimit": 10000
     },
     "inputWidgets": {},
     "nuid": "f6f859d0-81a0-4060-8567-c866ae749376",
     "showTitle": false,
     "tableResultSettingsMap": {},
     "title": ""
    }
   },
   "outputs": [
    {
     "output_type": "execute_result",
     "data": {
      "text/html": [
       "<style type=\"text/css\">\n",
       "#T_667ba_row0_col0, #T_667ba_row1_col0 {\n",
       "  background-color: #ddeaf7;\n",
       "  color: #000000;\n",
       "  color: black;\n",
       "}\n",
       "#T_667ba_row0_col1, #T_667ba_row0_col2, #T_667ba_row0_col3 {\n",
       "  background-color: #c2d9ee;\n",
       "  color: #000000;\n",
       "  color: black;\n",
       "}\n",
       "#T_667ba_row0_col4 {\n",
       "  background-color: #c7dcef;\n",
       "  color: #000000;\n",
       "  color: black;\n",
       "}\n",
       "#T_667ba_row0_col5, #T_667ba_row0_col6, #T_667ba_row0_col7, #T_667ba_row3_col5 {\n",
       "  background-color: #e1edf8;\n",
       "  color: #000000;\n",
       "  color: black;\n",
       "}\n",
       "#T_667ba_row0_col8, #T_667ba_row0_col9, #T_667ba_row0_col10, #T_667ba_row0_col11, #T_667ba_row0_col12, #T_667ba_row0_col13, #T_667ba_row0_col14, #T_667ba_row0_col15, #T_667ba_row0_col16, #T_667ba_row0_col17, #T_667ba_row0_col18, #T_667ba_row0_col19, #T_667ba_row0_col20, #T_667ba_row1_col12, #T_667ba_row1_col13, #T_667ba_row1_col14, #T_667ba_row1_col15, #T_667ba_row1_col16, #T_667ba_row1_col17, #T_667ba_row1_col18, #T_667ba_row1_col19, #T_667ba_row1_col20, #T_667ba_row2_col0, #T_667ba_row2_col5, #T_667ba_row2_col6, #T_667ba_row2_col7, #T_667ba_row2_col8, #T_667ba_row2_col9, #T_667ba_row2_col10, #T_667ba_row2_col11, #T_667ba_row2_col12, #T_667ba_row2_col20, #T_667ba_row3_col0, #T_667ba_row3_col6, #T_667ba_row3_col7, #T_667ba_row3_col8, #T_667ba_row3_col9, #T_667ba_row3_col10, #T_667ba_row3_col11, #T_667ba_row3_col12, #T_667ba_row3_col13, #T_667ba_row3_col14, #T_667ba_row3_col15, #T_667ba_row3_col16, #T_667ba_row3_col17, #T_667ba_row3_col18, #T_667ba_row3_col19, #T_667ba_row3_col20, #T_667ba_row4_col0, #T_667ba_row4_col1, #T_667ba_row4_col2, #T_667ba_row4_col3, #T_667ba_row4_col4, #T_667ba_row4_col5, #T_667ba_row4_col6, #T_667ba_row4_col7, #T_667ba_row4_col8, #T_667ba_row4_col9, #T_667ba_row4_col10, #T_667ba_row4_col11, #T_667ba_row4_col19, #T_667ba_row4_col20 {\n",
       "  background-color: #f7fbff;\n",
       "  color: #000000;\n",
       "  color: white;\n",
       "  background-color: white;\n",
       "}\n",
       "#T_667ba_row1_col1 {\n",
       "  background-color: #c9ddf0;\n",
       "  color: #000000;\n",
       "  color: black;\n",
       "}\n",
       "#T_667ba_row1_col2 {\n",
       "  background-color: #a0cbe2;\n",
       "  color: #000000;\n",
       "  color: black;\n",
       "}\n",
       "#T_667ba_row1_col3 {\n",
       "  background-color: #71b1d7;\n",
       "  color: #f1f1f1;\n",
       "  color: black;\n",
       "}\n",
       "#T_667ba_row1_col4, #T_667ba_row1_col7 {\n",
       "  background-color: #6aaed6;\n",
       "  color: #f1f1f1;\n",
       "  color: black;\n",
       "}\n",
       "#T_667ba_row1_col5 {\n",
       "  background-color: #61a7d2;\n",
       "  color: #f1f1f1;\n",
       "  color: black;\n",
       "}\n",
       "#T_667ba_row1_col6 {\n",
       "  background-color: #65aad4;\n",
       "  color: #f1f1f1;\n",
       "  color: black;\n",
       "}\n",
       "#T_667ba_row1_col8, #T_667ba_row2_col14 {\n",
       "  background-color: #7cb7da;\n",
       "  color: #000000;\n",
       "  color: black;\n",
       "}\n",
       "#T_667ba_row1_col9 {\n",
       "  background-color: #aed1e7;\n",
       "  color: #000000;\n",
       "  color: black;\n",
       "}\n",
       "#T_667ba_row1_col10 {\n",
       "  background-color: #cee0f2;\n",
       "  color: #000000;\n",
       "  color: black;\n",
       "}\n",
       "#T_667ba_row1_col11, #T_667ba_row2_col1, #T_667ba_row2_col2, #T_667ba_row2_col3, #T_667ba_row2_col4 {\n",
       "  background-color: #e3eef8;\n",
       "  color: #000000;\n",
       "  color: black;\n",
       "}\n",
       "#T_667ba_row2_col13, #T_667ba_row3_col2, #T_667ba_row3_col3, #T_667ba_row3_col4 {\n",
       "  background-color: #caddf0;\n",
       "  color: #000000;\n",
       "  color: black;\n",
       "}\n",
       "#T_667ba_row2_col15 {\n",
       "  background-color: #3888c1;\n",
       "  color: #f1f1f1;\n",
       "  color: black;\n",
       "}\n",
       "#T_667ba_row2_col16 {\n",
       "  background-color: #084a91;\n",
       "  color: #f1f1f1;\n",
       "  color: black;\n",
       "}\n",
       "#T_667ba_row2_col17 {\n",
       "  background-color: #3686c0;\n",
       "  color: #f1f1f1;\n",
       "  color: black;\n",
       "}\n",
       "#T_667ba_row2_col18 {\n",
       "  background-color: #84bcdb;\n",
       "  color: #000000;\n",
       "  color: black;\n",
       "}\n",
       "#T_667ba_row2_col19 {\n",
       "  background-color: #c8dcf0;\n",
       "  color: #000000;\n",
       "  color: black;\n",
       "}\n",
       "#T_667ba_row3_col1 {\n",
       "  background-color: #dfebf7;\n",
       "  color: #000000;\n",
       "  color: black;\n",
       "}\n",
       "#T_667ba_row4_col12 {\n",
       "  background-color: #d7e6f5;\n",
       "  color: #000000;\n",
       "  color: black;\n",
       "}\n",
       "#T_667ba_row4_col13 {\n",
       "  background-color: #7db8da;\n",
       "  color: #000000;\n",
       "  color: black;\n",
       "}\n",
       "#T_667ba_row4_col14 {\n",
       "  background-color: #2272b6;\n",
       "  color: #f1f1f1;\n",
       "  color: black;\n",
       "}\n",
       "#T_667ba_row4_col15 {\n",
       "  background-color: #08306b;\n",
       "  color: #f1f1f1;\n",
       "  color: black;\n",
       "}\n",
       "#T_667ba_row4_col16 {\n",
       "  background-color: #0f5aa3;\n",
       "  color: #f1f1f1;\n",
       "  color: black;\n",
       "}\n",
       "#T_667ba_row4_col17 {\n",
       "  background-color: #5ca4d0;\n",
       "  color: #f1f1f1;\n",
       "  color: black;\n",
       "}\n",
       "#T_667ba_row4_col18 {\n",
       "  background-color: #c4daee;\n",
       "  color: #000000;\n",
       "  color: black;\n",
       "}\n",
       "</style>\n",
       "<table id=\"T_667ba\">\n",
       "  <thead>\n",
       "    <tr>\n",
       "      <th class=\"blank level0\" >&nbsp;</th>\n",
       "      <th id=\"T_667ba_level0_col0\" class=\"col_heading level0 col0\" >Airport</th>\n",
       "      <th id=\"T_667ba_level0_col1\" class=\"col_heading level0 col1\" >experience </th>\n",
       "      <th id=\"T_667ba_level0_col2\" class=\"col_heading level0 col2\" >It  </th>\n",
       "      <th id=\"T_667ba_level0_col3\" class=\"col_heading level0 col3\" >took   </th>\n",
       "      <th id=\"T_667ba_level0_col4\" class=\"col_heading level0 col4\" >us    </th>\n",
       "      <th id=\"T_667ba_level0_col5\" class=\"col_heading level0 col5\" >hours     </th>\n",
       "      <th id=\"T_667ba_level0_col6\" class=\"col_heading level0 col6\" >just      </th>\n",
       "      <th id=\"T_667ba_level0_col7\" class=\"col_heading level0 col7\" >to       </th>\n",
       "      <th id=\"T_667ba_level0_col8\" class=\"col_heading level0 col8\" >go        </th>\n",
       "      <th id=\"T_667ba_level0_col9\" class=\"col_heading level0 col9\" >from         </th>\n",
       "      <th id=\"T_667ba_level0_col10\" class=\"col_heading level0 col10\" >T5          </th>\n",
       "      <th id=\"T_667ba_level0_col11\" class=\"col_heading level0 col11\" >to           </th>\n",
       "      <th id=\"T_667ba_level0_col12\" class=\"col_heading level0 col12\" >T3            </th>\n",
       "      <th id=\"T_667ba_level0_col13\" class=\"col_heading level0 col13\" >and             </th>\n",
       "      <th id=\"T_667ba_level0_col14\" class=\"col_heading level0 col14\" >clear              </th>\n",
       "      <th id=\"T_667ba_level0_col15\" class=\"col_heading level0 col15\" >security               </th>\n",
       "      <th id=\"T_667ba_level0_col16\" class=\"col_heading level0 col16\" >check                </th>\n",
       "      <th id=\"T_667ba_level0_col17\" class=\"col_heading level0 col17\" >The                 </th>\n",
       "      <th id=\"T_667ba_level0_col18\" class=\"col_heading level0 col18\" >place                  </th>\n",
       "      <th id=\"T_667ba_level0_col19\" class=\"col_heading level0 col19\" >was                   </th>\n",
       "      <th id=\"T_667ba_level0_col20\" class=\"col_heading level0 col20\" >chaotic                    </th>\n",
       "    </tr>\n",
       "  </thead>\n",
       "  <tbody>\n",
       "    <tr>\n",
       "      <th id=\"T_667ba_level0_row0\" class=\"row_heading level0 row0\" >Check-in and Boarding</th>\n",
       "      <td id=\"T_667ba_row0_col0\" class=\"data row0 col0\" >0.130</td>\n",
       "      <td id=\"T_667ba_row0_col1\" class=\"data row0 col1\" >0.261</td>\n",
       "      <td id=\"T_667ba_row0_col2\" class=\"data row0 col2\" >0.261</td>\n",
       "      <td id=\"T_667ba_row0_col3\" class=\"data row0 col3\" >0.261</td>\n",
       "      <td id=\"T_667ba_row0_col4\" class=\"data row0 col4\" >0.240</td>\n",
       "      <td id=\"T_667ba_row0_col5\" class=\"data row0 col5\" >0.109</td>\n",
       "      <td id=\"T_667ba_row0_col6\" class=\"data row0 col6\" >0.109</td>\n",
       "      <td id=\"T_667ba_row0_col7\" class=\"data row0 col7\" >0.109</td>\n",
       "      <td id=\"T_667ba_row0_col8\" class=\"data row0 col8\" >0.000</td>\n",
       "      <td id=\"T_667ba_row0_col9\" class=\"data row0 col9\" >0.000</td>\n",
       "      <td id=\"T_667ba_row0_col10\" class=\"data row0 col10\" >0.000</td>\n",
       "      <td id=\"T_667ba_row0_col11\" class=\"data row0 col11\" >0.000</td>\n",
       "      <td id=\"T_667ba_row0_col12\" class=\"data row0 col12\" >0.000</td>\n",
       "      <td id=\"T_667ba_row0_col13\" class=\"data row0 col13\" >0.000</td>\n",
       "      <td id=\"T_667ba_row0_col14\" class=\"data row0 col14\" >0.000</td>\n",
       "      <td id=\"T_667ba_row0_col15\" class=\"data row0 col15\" >0.000</td>\n",
       "      <td id=\"T_667ba_row0_col16\" class=\"data row0 col16\" >0.000</td>\n",
       "      <td id=\"T_667ba_row0_col17\" class=\"data row0 col17\" >0.000</td>\n",
       "      <td id=\"T_667ba_row0_col18\" class=\"data row0 col18\" >0.000</td>\n",
       "      <td id=\"T_667ba_row0_col19\" class=\"data row0 col19\" >0.000</td>\n",
       "      <td id=\"T_667ba_row0_col20\" class=\"data row0 col20\" >0.000</td>\n",
       "    </tr>\n",
       "    <tr>\n",
       "      <th id=\"T_667ba_level0_row1\" class=\"row_heading level0 row1\" >Seating Comfort</th>\n",
       "      <td id=\"T_667ba_row1_col0\" class=\"data row1 col0\" >0.130</td>\n",
       "      <td id=\"T_667ba_row1_col1\" class=\"data row1 col1\" >0.232</td>\n",
       "      <td id=\"T_667ba_row1_col2\" class=\"data row1 col2\" >0.362</td>\n",
       "      <td id=\"T_667ba_row1_col3\" class=\"data row1 col3\" >0.479</td>\n",
       "      <td id=\"T_667ba_row1_col4\" class=\"data row1 col4\" >0.494</td>\n",
       "      <td id=\"T_667ba_row1_col5\" class=\"data row1 col5\" >0.521</td>\n",
       "      <td id=\"T_667ba_row1_col6\" class=\"data row1 col6\" >0.509</td>\n",
       "      <td id=\"T_667ba_row1_col7\" class=\"data row1 col7\" >0.495</td>\n",
       "      <td id=\"T_667ba_row1_col8\" class=\"data row1 col8\" >0.452</td>\n",
       "      <td id=\"T_667ba_row1_col9\" class=\"data row1 col9\" >0.323</td>\n",
       "      <td id=\"T_667ba_row1_col10\" class=\"data row1 col10\" >0.205</td>\n",
       "      <td id=\"T_667ba_row1_col11\" class=\"data row1 col11\" >0.102</td>\n",
       "      <td id=\"T_667ba_row1_col12\" class=\"data row1 col12\" >0.000</td>\n",
       "      <td id=\"T_667ba_row1_col13\" class=\"data row1 col13\" >0.000</td>\n",
       "      <td id=\"T_667ba_row1_col14\" class=\"data row1 col14\" >0.000</td>\n",
       "      <td id=\"T_667ba_row1_col15\" class=\"data row1 col15\" >0.000</td>\n",
       "      <td id=\"T_667ba_row1_col16\" class=\"data row1 col16\" >0.000</td>\n",
       "      <td id=\"T_667ba_row1_col17\" class=\"data row1 col17\" >0.000</td>\n",
       "      <td id=\"T_667ba_row1_col18\" class=\"data row1 col18\" >0.000</td>\n",
       "      <td id=\"T_667ba_row1_col19\" class=\"data row1 col19\" >0.000</td>\n",
       "      <td id=\"T_667ba_row1_col20\" class=\"data row1 col20\" >0.000</td>\n",
       "    </tr>\n",
       "    <tr>\n",
       "      <th id=\"T_667ba_level0_row2\" class=\"row_heading level0 row2\" >In-Flight Wi-Fi</th>\n",
       "      <td id=\"T_667ba_row2_col0\" class=\"data row2 col0\" >0.000</td>\n",
       "      <td id=\"T_667ba_row2_col1\" class=\"data row2 col1\" >0.101</td>\n",
       "      <td id=\"T_667ba_row2_col2\" class=\"data row2 col2\" >0.101</td>\n",
       "      <td id=\"T_667ba_row2_col3\" class=\"data row2 col3\" >0.101</td>\n",
       "      <td id=\"T_667ba_row2_col4\" class=\"data row2 col4\" >0.101</td>\n",
       "      <td id=\"T_667ba_row2_col5\" class=\"data row2 col5\" >0.000</td>\n",
       "      <td id=\"T_667ba_row2_col6\" class=\"data row2 col6\" >0.000</td>\n",
       "      <td id=\"T_667ba_row2_col7\" class=\"data row2 col7\" >0.000</td>\n",
       "      <td id=\"T_667ba_row2_col8\" class=\"data row2 col8\" >0.000</td>\n",
       "      <td id=\"T_667ba_row2_col9\" class=\"data row2 col9\" >0.000</td>\n",
       "      <td id=\"T_667ba_row2_col10\" class=\"data row2 col10\" >0.000</td>\n",
       "      <td id=\"T_667ba_row2_col11\" class=\"data row2 col11\" >0.000</td>\n",
       "      <td id=\"T_667ba_row2_col12\" class=\"data row2 col12\" >0.000</td>\n",
       "      <td id=\"T_667ba_row2_col13\" class=\"data row2 col13\" >0.229</td>\n",
       "      <td id=\"T_667ba_row2_col14\" class=\"data row2 col14\" >0.453</td>\n",
       "      <td id=\"T_667ba_row2_col15\" class=\"data row2 col15\" >0.652</td>\n",
       "      <td id=\"T_667ba_row2_col16\" class=\"data row2 col16\" >0.887</td>\n",
       "      <td id=\"T_667ba_row2_col17\" class=\"data row2 col17\" >0.658</td>\n",
       "      <td id=\"T_667ba_row2_col18\" class=\"data row2 col18\" >0.434</td>\n",
       "      <td id=\"T_667ba_row2_col19\" class=\"data row2 col19\" >0.234</td>\n",
       "      <td id=\"T_667ba_row2_col20\" class=\"data row2 col20\" >0.000</td>\n",
       "    </tr>\n",
       "    <tr>\n",
       "      <th id=\"T_667ba_level0_row3\" class=\"row_heading level0 row3\" >Baggage Handling</th>\n",
       "      <td id=\"T_667ba_row3_col0\" class=\"data row3 col0\" >0.000</td>\n",
       "      <td id=\"T_667ba_row3_col1\" class=\"data row3 col1\" >0.120</td>\n",
       "      <td id=\"T_667ba_row3_col2\" class=\"data row3 col2\" >0.229</td>\n",
       "      <td id=\"T_667ba_row3_col3\" class=\"data row3 col3\" >0.229</td>\n",
       "      <td id=\"T_667ba_row3_col4\" class=\"data row3 col4\" >0.229</td>\n",
       "      <td id=\"T_667ba_row3_col5\" class=\"data row3 col5\" >0.109</td>\n",
       "      <td id=\"T_667ba_row3_col6\" class=\"data row3 col6\" >0.000</td>\n",
       "      <td id=\"T_667ba_row3_col7\" class=\"data row3 col7\" >0.000</td>\n",
       "      <td id=\"T_667ba_row3_col8\" class=\"data row3 col8\" >0.000</td>\n",
       "      <td id=\"T_667ba_row3_col9\" class=\"data row3 col9\" >0.000</td>\n",
       "      <td id=\"T_667ba_row3_col10\" class=\"data row3 col10\" >0.000</td>\n",
       "      <td id=\"T_667ba_row3_col11\" class=\"data row3 col11\" >0.000</td>\n",
       "      <td id=\"T_667ba_row3_col12\" class=\"data row3 col12\" >0.000</td>\n",
       "      <td id=\"T_667ba_row3_col13\" class=\"data row3 col13\" >0.000</td>\n",
       "      <td id=\"T_667ba_row3_col14\" class=\"data row3 col14\" >0.000</td>\n",
       "      <td id=\"T_667ba_row3_col15\" class=\"data row3 col15\" >0.000</td>\n",
       "      <td id=\"T_667ba_row3_col16\" class=\"data row3 col16\" >0.000</td>\n",
       "      <td id=\"T_667ba_row3_col17\" class=\"data row3 col17\" >0.000</td>\n",
       "      <td id=\"T_667ba_row3_col18\" class=\"data row3 col18\" >0.000</td>\n",
       "      <td id=\"T_667ba_row3_col19\" class=\"data row3 col19\" >0.000</td>\n",
       "      <td id=\"T_667ba_row3_col20\" class=\"data row3 col20\" >0.000</td>\n",
       "    </tr>\n",
       "    <tr>\n",
       "      <th id=\"T_667ba_level0_row4\" class=\"row_heading level0 row4\" >14_security_be_aware_risk</th>\n",
       "      <td id=\"T_667ba_row4_col0\" class=\"data row4 col0\" >0.000</td>\n",
       "      <td id=\"T_667ba_row4_col1\" class=\"data row4 col1\" >0.000</td>\n",
       "      <td id=\"T_667ba_row4_col2\" class=\"data row4 col2\" >0.000</td>\n",
       "      <td id=\"T_667ba_row4_col3\" class=\"data row4 col3\" >0.000</td>\n",
       "      <td id=\"T_667ba_row4_col4\" class=\"data row4 col4\" >0.000</td>\n",
       "      <td id=\"T_667ba_row4_col5\" class=\"data row4 col5\" >0.000</td>\n",
       "      <td id=\"T_667ba_row4_col6\" class=\"data row4 col6\" >0.000</td>\n",
       "      <td id=\"T_667ba_row4_col7\" class=\"data row4 col7\" >0.000</td>\n",
       "      <td id=\"T_667ba_row4_col8\" class=\"data row4 col8\" >0.000</td>\n",
       "      <td id=\"T_667ba_row4_col9\" class=\"data row4 col9\" >0.000</td>\n",
       "      <td id=\"T_667ba_row4_col10\" class=\"data row4 col10\" >0.000</td>\n",
       "      <td id=\"T_667ba_row4_col11\" class=\"data row4 col11\" >0.000</td>\n",
       "      <td id=\"T_667ba_row4_col12\" class=\"data row4 col12\" >0.158</td>\n",
       "      <td id=\"T_667ba_row4_col13\" class=\"data row4 col13\" >0.448</td>\n",
       "      <td id=\"T_667ba_row4_col14\" class=\"data row4 col14\" >0.731</td>\n",
       "      <td id=\"T_667ba_row4_col15\" class=\"data row4 col15\" >0.984</td>\n",
       "      <td id=\"T_667ba_row4_col16\" class=\"data row4 col16\" >0.826</td>\n",
       "      <td id=\"T_667ba_row4_col17\" class=\"data row4 col17\" >0.536</td>\n",
       "      <td id=\"T_667ba_row4_col18\" class=\"data row4 col18\" >0.252</td>\n",
       "      <td id=\"T_667ba_row4_col19\" class=\"data row4 col19\" >0.000</td>\n",
       "      <td id=\"T_667ba_row4_col20\" class=\"data row4 col20\" >0.000</td>\n",
       "    </tr>\n",
       "  </tbody>\n",
       "</table>\n"
      ],
      "text/plain": [
       "<pandas.io.formats.style.Styler at 0x7f85ab0d6450>"
      ]
     },
     "execution_count": 153,
     "metadata": {},
     "output_type": "execute_result"
    }
   ],
   "source": [
    "topic_distr, topic_token_distr = topic_model.approximate_distribution(all_reviews, calculate_tokens=True)\n",
    "\n",
    "# Visualize the token-level distributions\n",
    "df = topic_model.visualize_approximate_distribution(all_reviews[1], topic_token_distr[1])\n",
    "df"
   ]
  },
  {
   "cell_type": "code",
   "execution_count": 0,
   "metadata": {
    "application/vnd.databricks.v1+cell": {
     "cellMetadata": {},
     "inputWidgets": {},
     "nuid": "3ffa6a0f-8834-4c0e-a1ba-d5929ab72046",
     "showTitle": false,
     "tableResultSettingsMap": {},
     "title": ""
    }
   },
   "outputs": [],
   "source": [
    "new_document_topic, topic_probabilities = topic_model.transform([\"the movie was great but was having some audio glitches along the way which put off the experience\"])\n",
    "# Get the topic ID assigned to the new document\n",
    "topic_id = new_document_topic[0]\n",
    "# Get the topic words for the assigned topic\n",
    "topic_words = topic_model.get_topic(topic_id)\n",
    "topic_string = \", \".join([word for word, _ in topic_words])\n",
    "print(f\"The new document is related to Topic {topic_id}: {topic_string}\")\n",
    "print(topic_probabilities)"
   ]
  },
  {
   "cell_type": "markdown",
   "metadata": {
    "application/vnd.databricks.v1+cell": {
     "cellMetadata": {},
     "inputWidgets": {},
     "nuid": "7a182c0f-4375-490f-a1e4-6c11021a1ab5",
     "showTitle": false,
     "tableResultSettingsMap": {},
     "title": ""
    }
   },
   "source": [
    "## Save Model"
   ]
  },
  {
   "cell_type": "code",
   "execution_count": 0,
   "metadata": {
    "application/vnd.databricks.v1+cell": {
     "cellMetadata": {},
     "inputWidgets": {},
     "nuid": "0c1f9dbf-f59a-47ab-a68d-43cc274779d7",
     "showTitle": false,
     "tableResultSettingsMap": {},
     "title": ""
    }
   },
   "outputs": [],
   "source": [
    "# embedding_model = \"BAAI/bge-base-en-v1.5\"\n",
    "# topic_model.save(\"my_model_dir\", serialization=\"safetensors\", save_ctfidf=True, save_embedding_model=embedding_model)\n"
   ]
  }
 ],
 "metadata": {
  "application/vnd.databricks.v1+notebook": {
   "computePreferences": null,
   "dashboards": [
    {
     "elements": [
      {
       "dashboardResultIndex": 0,
       "elementNUID": "557f36ca-f4c1-45ff-908c-0f5028d51d9b",
       "elementType": "command",
       "guid": "848bccce-abe9-4b50-a074-ab464dbf9423",
       "options": null,
       "position": {
        "height": 11,
        "width": 24,
        "x": 0,
        "y": 0,
        "z": null
       },
       "resultIndex": null
      }
     ],
     "globalVars": {},
     "guid": "",
     "layoutOption": {
      "grid": true,
      "stack": true
     },
     "nuid": "164e0717-7fbb-4dce-bc7a-131d69aa0900",
     "origId": 3722098005847994,
     "title": "Untitled",
     "version": "DashboardViewV1",
     "width": 1024
    }
   ],
   "environmentMetadata": {
    "base_environment": "",
    "client": "1"
   },
   "language": "python",
   "notebookMetadata": {
    "mostRecentlyExecutedCommandWithImplicitDF": {
     "commandId": 1986678755447608,
     "dataframes": [
      "_sqldf"
     ]
    },
    "pythonIndentUnit": 2
   },
   "notebookName": "(notebook) 02_TOPIC_MODELING_bertopic",
   "widgets": {}
  },
  "language_info": {
   "name": "python"
  }
 },
 "nbformat": 4,
 "nbformat_minor": 0
}
