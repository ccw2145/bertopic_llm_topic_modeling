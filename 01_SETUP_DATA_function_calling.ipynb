{
 "cells": [
  {
   "cell_type": "markdown",
   "metadata": {
    "application/vnd.databricks.v1+cell": {
     "cellMetadata": {},
     "inputWidgets": {},
     "nuid": "3ad0e961-5b31-492d-a65a-77826b361027",
     "showTitle": false,
     "tableResultSettingsMap": {},
     "title": ""
    }
   },
   "source": [
    "# 1. Batch Preprocessing with LLM Function Calling\n",
    "\n",
    "Batch Preprocessing step takes advantage of LLM’s language understanding to turn unstructured reviews into clean and structured texts.\n",
    "\n",
    "Instead of manual efforts to parse and chunk text, prompt the LLM to break down each review into multiple key intents. And for each intent, summarize text to reduce redundancy, extract named entities, and detect sentiment. The results are high-quality input data that still capture all important information (like specific names mentioned in a review).\n",
    "Function calling ensures LLM outputs adhere to a consistent format. Compared to a JSON parser or few shot prompting, it is easier to scale and more robust for large datasets.\n",
    "\n",
    "**This notebook will go through:**\n",
    "1. Batch Preprocessing with LLM Function Calling\n",
    "    - Load Data\n",
    "    - Define LLM Prompt and Tool with example output\n",
    "\n",
    "2. Batch Inference with Tool Calls\n",
    "    - Batch Inference Functions\n",
    "    - Parse LLM Output\n",
    "3. Save Results\n",
    "    - Write table to UC\n",
    "\n",
    "**Blog Post with Detailed Instructions:** \n",
    "https://cindycwu.medium.com/analyze-customer-reviews-with-llm-enhanced-topic-modeling-2db7b8d98917\n"
   ]
  },
  {
   "cell_type": "code",
   "execution_count": 0,
   "metadata": {
    "application/vnd.databricks.v1+cell": {
     "cellMetadata": {
      "byteLimit": 2048000,
      "rowLimit": 10000
     },
     "inputWidgets": {},
     "nuid": "489d1162-20b3-474e-8c75-6809b1bd5a46",
     "showTitle": false,
     "tableResultSettingsMap": {},
     "title": ""
    }
   },
   "outputs": [
    {
     "output_type": "stream",
     "name": "stdout",
     "output_type": "stream",
     "text": [
      "Requirement already satisfied: openai in /databricks/python3/lib/python3.11/site-packages (1.35.3)\nRequirement already satisfied: tenacity in /databricks/python3/lib/python3.11/site-packages (8.2.2)\nRequirement already satisfied: tqdm in /databricks/python3/lib/python3.11/site-packages (4.65.0)\nRequirement already satisfied: anyio<5,>=3.5.0 in /databricks/python3/lib/python3.11/site-packages (from openai) (3.5.0)\nRequirement already satisfied: distro<2,>=1.7.0 in /usr/lib/python3/dist-packages (from openai) (1.7.0)\nRequirement already satisfied: httpx<1,>=0.23.0 in /databricks/python3/lib/python3.11/site-packages (from openai) (0.27.0)\nRequirement already satisfied: pydantic<3,>=1.9.0 in /databricks/python3/lib/python3.11/site-packages (from openai) (1.10.6)\nRequirement already satisfied: sniffio in /databricks/python3/lib/python3.11/site-packages (from openai) (1.2.0)\nRequirement already satisfied: typing-extensions<5,>=4.7 in /databricks/python3/lib/python3.11/site-packages (from openai) (4.10.0)\nRequirement already satisfied: idna>=2.8 in /databricks/python3/lib/python3.11/site-packages (from anyio<5,>=3.5.0->openai) (3.4)\nRequirement already satisfied: certifi in /databricks/python3/lib/python3.11/site-packages (from httpx<1,>=0.23.0->openai) (2023.7.22)\nRequirement already satisfied: httpcore==1.* in /databricks/python3/lib/python3.11/site-packages (from httpx<1,>=0.23.0->openai) (1.0.5)\nRequirement already satisfied: h11<0.15,>=0.13 in /databricks/python3/lib/python3.11/site-packages (from httpcore==1.*->httpx<1,>=0.23.0->openai) (0.14.0)\n\u001B[43mNote: you may need to restart the kernel using %restart_python or dbutils.library.restartPython() to use updated packages.\u001B[0m\n"
     ]
    }
   ],
   "source": [
    "%%capture\n",
    "%pip install openai tenacity tqdm\n",
    "dbutils.library.restartPython()"
   ]
  },
  {
   "cell_type": "code",
   "execution_count": 0,
   "metadata": {
    "application/vnd.databricks.v1+cell": {
     "cellMetadata": {
      "byteLimit": 2048000,
      "rowLimit": 10000
     },
     "inputWidgets": {},
     "nuid": "be93991c-062d-4dbb-b650-9c65dba465ca",
     "showTitle": false,
     "tableResultSettingsMap": {},
     "title": ""
    }
   },
   "outputs": [],
   "source": [
    "CATALOG = \"cindy_demo_catalog\"\n",
    "SCHEMA = \"airline_bookings\"\n",
    "REVIEWS_TABLE = \"airline_scrapped_review\"\n",
    "INTENTS_TABLE = \"raw_intents_1000_function\""
   ]
  },
  {
   "cell_type": "code",
   "execution_count": 0,
   "metadata": {
    "application/vnd.databricks.v1+cell": {
     "cellMetadata": {
      "byteLimit": 2048000,
      "rowLimit": 10000
     },
     "inputWidgets": {},
     "nuid": "79b55a44-6adf-4b36-882c-61b7321ea627",
     "showTitle": false,
     "tableResultSettingsMap": {},
     "title": ""
    }
   },
   "outputs": [],
   "source": [
    "DATABRICKS_TOKEN = (\n",
    "    dbutils.notebook.entry_point.getDbutils()\n",
    "    .notebook()\n",
    "    .getContext()\n",
    "    .apiToken()\n",
    "    .getOrElse(None)\n",
    ")\n",
    "DATABRICKS_BASE_URL = (\n",
    "    f'https://{spark.conf.get(\"spark.databricks.workspaceUrl\")}/serving-endpoints'\n",
    ")\n",
    "MODEL_ENDPOINT_ID=\"databricks-meta-llama-3-1-70b-instruct\"\n"
   ]
  },
  {
   "cell_type": "markdown",
   "metadata": {
    "application/vnd.databricks.v1+cell": {
     "cellMetadata": {},
     "inputWidgets": {},
     "nuid": "24becdbe-f691-46db-a70a-a78b442db540",
     "showTitle": false,
     "tableResultSettingsMap": {},
     "title": ""
    }
   },
   "source": [
    "## Load Data\n",
    "Using 1000 random reviews for demo purposes"
   ]
  },
  {
   "cell_type": "code",
   "execution_count": 0,
   "metadata": {
    "application/vnd.databricks.v1+cell": {
     "cellMetadata": {
      "byteLimit": 2048000,
      "rowLimit": 10000
     },
     "inputWidgets": {},
     "nuid": "427a5807-8f2f-4cd8-961c-3e8f24eb92b5",
     "showTitle": false,
     "tableResultSettingsMap": {},
     "title": ""
    }
   },
   "outputs": [],
   "source": [
    "sdf = spark.table(f\"{CATALOG}.{SCHEMA}.{REVIEWS_TABLE}\")#.limit(1000)\n",
    "pdf = sdf.toPandas()"
   ]
  },
  {
   "cell_type": "code",
   "execution_count": 0,
   "metadata": {
    "application/vnd.databricks.v1+cell": {
     "cellMetadata": {
      "byteLimit": 2048000,
      "rowLimit": 10000
     },
     "inputWidgets": {},
     "nuid": "eb8afc0d-9429-479b-8d7a-cc0af3f1c2b0",
     "showTitle": false,
     "tableResultSettingsMap": {},
     "title": ""
    }
   },
   "outputs": [],
   "source": [
    "sample_pdf = pdf.sample(n=1000).reset_index()\n",
    "all_reviews = sample_pdf['Review'].tolist()"
   ]
  },
  {
   "cell_type": "markdown",
   "metadata": {
    "application/vnd.databricks.v1+cell": {
     "cellMetadata": {},
     "inputWidgets": {},
     "nuid": "0384032f-2192-4fd7-a82d-3911623d2943",
     "showTitle": false,
     "tableResultSettingsMap": {},
     "title": ""
    }
   },
   "source": [
    "## Define LLM Prompt and Tool"
   ]
  },
  {
   "cell_type": "code",
   "execution_count": 0,
   "metadata": {
    "application/vnd.databricks.v1+cell": {
     "cellMetadata": {
      "byteLimit": 2048000,
      "rowLimit": 10000
     },
     "inputWidgets": {},
     "nuid": "6be1c9f3-2f8b-4847-ad22-b7a411a90a18",
     "showTitle": true,
     "tableResultSettingsMap": {},
     "title": "Tool Definition"
    }
   },
   "outputs": [],
   "source": [
    "tools = [\n",
    "  {\n",
    "    \"type\": \"function\",\n",
    "    \"function\": {\n",
    "        \"name\": \"extracts_intents\",\n",
    "        \"parameters\": {\n",
    "          \"type\": \"object\",\n",
    "          \"properties\": {\n",
    "            \"intents\": {\n",
    "              \"type\": \"array\",\n",
    "              \"description\": \"List of intents identified from the customer review\",\n",
    "              \"items\": {\n",
    "                \"type\": \"object\",\n",
    "                \"properties\": {\n",
    "                  \"intent\": {\n",
    "                    \"type\": \"string\",\n",
    "                    \"description\": \"Description of the identified intent\"\n",
    "                  },\n",
    "                  \"text_summary\": {\n",
    "                    \"type\": \"string\",\n",
    "                    \"description\": \"Summary of the intent\"\n",
    "                  },\n",
    "                  \"sentiment\": {\n",
    "                    \"type\": \"string\",\n",
    "                    \"enum\": [\"Positive\", \"Negative\", \"Neutral\"],\n",
    "                    \"description\": \"Sentiment of the intent\"\n",
    "                  },\n",
    "                  \"named_entities\": {\n",
    "                    \"type\": \"array\",\n",
    "                    \"items\": {\n",
    "                      \"type\": \"string\",\n",
    "                      \"description\": \"Named entities in the text, if any, like 'Chicago' or 'XYZ Airlines'\"\n",
    "                    }\n",
    "                  }\n",
    "                },\n",
    "                \"required\": [\"intent\", \"text_summary\", \"sentiment\"]\n",
    "              }\n",
    "            }\n",
    "          }\n",
    "        }\n",
    "    }\n",
    "  }\n",
    "]\n"
   ]
  },
  {
   "cell_type": "code",
   "execution_count": 0,
   "metadata": {
    "application/vnd.databricks.v1+cell": {
     "cellMetadata": {
      "byteLimit": 2048000,
      "rowLimit": 10000
     },
     "inputWidgets": {},
     "nuid": "48375688-2873-45b6-83fb-6560c693c22e",
     "showTitle": true,
     "tableResultSettingsMap": {},
     "title": "Example Output"
    }
   },
   "outputs": [
    {
     "output_type": "execute_result",
     "data": {
      "text/plain": [
       "{'intents': [{'intent': 'Check-in experience',\n",
       "   'text_summary': 'The check-in process was smooth.',\n",
       "   'sentiment': 'Positive',\n",
       "   'named_entities': ['XYZ Airlines']},\n",
       "  {'intent': 'Seating comfort',\n",
       "   'text_summary': 'The seating was cramped.',\n",
       "   'sentiment': 'Negative',\n",
       "   'named_entities': []},\n",
       "  {'intent': 'Food quality',\n",
       "   'text_summary': 'The food quality was below average.',\n",
       "   'sentiment': 'Negative',\n",
       "   'named_entities': []},\n",
       "  {'intent': 'Flight attendant service',\n",
       "   'text_summary': 'The flight attendants were very polite and helpful.',\n",
       "   'sentiment': 'Positive',\n",
       "   'named_entities': []},\n",
       "  {'intent': 'Baggage issue',\n",
       "   'text_summary': 'I had an issue with my baggage, but it was quickly resolved.',\n",
       "   'sentiment': 'Neutral',\n",
       "   'named_entities': []}]}"
      ]
     },
     "execution_count": 12,
     "metadata": {},
     "output_type": "execute_result"
    }
   ],
   "source": [
    "example_output = {\n",
    "  \"intents\": [\n",
    "    {\n",
    "      \"intent\": \"Check-in experience\",\n",
    "      \"text_summary\": \"The check-in process was smooth.\",\n",
    "      \"sentiment\": \"Positive\",\n",
    "      \"named_entities\": [\"XYZ Airlines\"]\n",
    "    },\n",
    "    {\n",
    "      \"intent\": \"Seating comfort\",\n",
    "      \"text_summary\": \"The seating was cramped.\",\n",
    "      \"sentiment\": \"Negative\",\n",
    "      \"named_entities\": []\n",
    "    },\n",
    "    {\n",
    "      \"intent\": \"Food quality\",\n",
    "      \"text_summary\": \"The food quality was below average.\",\n",
    "      \"sentiment\": \"Negative\",\n",
    "      \"named_entities\": []\n",
    "    },\n",
    "    {\n",
    "      \"intent\": \"Flight attendant service\",\n",
    "      \"text_summary\": \"The flight attendants were very polite and helpful.\",\n",
    "      \"sentiment\": \"Positive\",\n",
    "      \"named_entities\": []\n",
    "    },\n",
    "    {\n",
    "      \"intent\": \"Baggage issue\",\n",
    "      \"text_summary\": \"I had an issue with my baggage, but it was quickly resolved.\",\n",
    "      \"sentiment\": \"Neutral\",\n",
    "      \"named_entities\": []\n",
    "    }\n",
    "  ]\n",
    "}\n",
    "example_output"
   ]
  },
  {
   "cell_type": "code",
   "execution_count": 0,
   "metadata": {
    "application/vnd.databricks.v1+cell": {
     "cellMetadata": {
      "byteLimit": 2048000,
      "rowLimit": 10000
     },
     "inputWidgets": {},
     "nuid": "1e4c2c3b-da66-4774-aec1-d5aac1f2c565",
     "showTitle": true,
     "tableResultSettingsMap": {},
     "title": "Prompt"
    }
   },
   "outputs": [
    {
     "output_type": "execute_result",
     "data": {
      "text/plain": [
       "{'intents': [{'intent': 'Check-in experience',\n",
       "   'text_summary': 'The check-in process was smooth.',\n",
       "   'sentiment': 'Positive',\n",
       "   'named_entities': ['XYZ Airlines']},\n",
       "  {'intent': 'Seating comfort',\n",
       "   'text_summary': 'The seating was cramped.',\n",
       "   'sentiment': 'Negative',\n",
       "   'named_entities': []},\n",
       "  {'intent': 'Food quality',\n",
       "   'text_summary': 'The food quality was below average.',\n",
       "   'sentiment': 'Negative',\n",
       "   'named_entities': []},\n",
       "  {'intent': 'Flight attendant service',\n",
       "   'text_summary': 'The flight attendants were very polite and helpful.',\n",
       "   'sentiment': 'Positive',\n",
       "   'named_entities': []},\n",
       "  {'intent': 'Baggage issue',\n",
       "   'text_summary': 'I had an issue with my baggage, but it was quickly resolved.',\n",
       "   'sentiment': 'Neutral',\n",
       "   'named_entities': []}]}"
      ]
     },
     "execution_count": 15,
     "metadata": {},
     "output_type": "execute_result"
    }
   ],
   "source": [
    "prompt_template = f\"\"\"\n",
    "Follow instructions below and extract intents from a customer review as a json string. DO NOT include any notes or additional information in the output.\n",
    "\n",
    "### Instructions:\n",
    "- **Identify each distinct intent** in the review as \"intent\". The review may contain multiple distinct intents related to different aspects of the customer's experience (e.g., service, seating, food, check-in, baggage handling). \n",
    "- **Summarize the text** associated with each intent as \"text_summary\".\n",
    "- **Classify the sentiment** (Positive, Negative, or Neutral) of each intent as \"sentiment\".\n",
    "- **If applicable, extract any \"named entities\"**, such as the airline name or specific service mentioned.\n",
    "- **Return a list of intents a JSON string.** Follow the output format and use example ouput below as a reference. Make sure the JSON string is COMPLETE. Do not include additional information.\n",
    "\n",
    "### Output Format\n",
    "{{format_instructions}}\n",
    "\n",
    "### Example Review:\n",
    "\"I flew with XYZ Airlines for a 6-hour flight. The check-in process was smooth, but the seating was cramped, and the food quality was below average. The flight attendants were very polite and helpful. I had an issue with my baggage, but it was quickly resolved.\"\n",
    "\n",
    "### Example Output (JSON format):\n",
    "{{example_output}}\n",
    "\n",
    "### Review to analyze:\n",
    "{{review}}\n",
    "\n",
    "\"\"\"\n",
    "format_instructions = {\n",
    "  \"intents\": [\n",
    "    {\n",
    "      \"intent\": \"<Intent description>\",\n",
    "      \"text_summary\": \"<Summarized or specific text related to the intent>\",\n",
    "      \"sentiment\": \"<Positive | Negative | Neutral>\",\n",
    "      \"named_entities\": [\"<Named entities, if any>\"]\n",
    "    },\n",
    "    {\n",
    "      \"intent\": \"<Intent description>\",\n",
    "      \"text_summary\": \"<Summarized or specific text related to the intent>\",\n",
    "      \"sentiment\": \"<Positive | Negative | Neutral>\",\n",
    "      \"named_entities\": [\"<Named entities, if any>\"]\n",
    "    }\n",
    "  ]\n",
    "}\n",
    "\n",
    "example_output = {\n",
    "  \"intents\": [\n",
    "    {\n",
    "      \"intent\": \"Check-in experience\",\n",
    "      \"text_summary\": \"The check-in process was smooth.\",\n",
    "      \"sentiment\": \"Positive\",\n",
    "      \"named_entities\": [\"XYZ Airlines\"]\n",
    "    },\n",
    "    {\n",
    "      \"intent\": \"Seating comfort\",\n",
    "      \"text_summary\": \"The seating was cramped.\",\n",
    "      \"sentiment\": \"Negative\",\n",
    "      \"named_entities\": []\n",
    "    },\n",
    "    {\n",
    "      \"intent\": \"Food quality\",\n",
    "      \"text_summary\": \"The food quality was below average.\",\n",
    "      \"sentiment\": \"Negative\",\n",
    "      \"named_entities\": []\n",
    "    },\n",
    "    {\n",
    "      \"intent\": \"Flight attendant service\",\n",
    "      \"text_summary\": \"The flight attendants were very polite and helpful.\",\n",
    "      \"sentiment\": \"Positive\",\n",
    "      \"named_entities\": []\n",
    "    },\n",
    "    {\n",
    "      \"intent\": \"Baggage issue\",\n",
    "      \"text_summary\": \"I had an issue with my baggage, but it was quickly resolved.\",\n",
    "      \"sentiment\": \"Neutral\",\n",
    "      \"named_entities\": []\n",
    "    }\n",
    "  ]\n",
    "}\n",
    "example_output\n"
   ]
  },
  {
   "cell_type": "code",
   "execution_count": 0,
   "metadata": {
    "application/vnd.databricks.v1+cell": {
     "cellMetadata": {
      "byteLimit": 2048000,
      "rowLimit": 10000
     },
     "inputWidgets": {},
     "nuid": "0e2d1e15-5b13-49e9-98a3-4a38625d4b45",
     "showTitle": false,
     "tableResultSettingsMap": {},
     "title": ""
    }
   },
   "outputs": [],
   "source": [
    "from langchain.prompts import PromptTemplate\n",
    "prompt = PromptTemplate(\n",
    "    input_variables=[\"review\"],\n",
    "    template=prompt_template,\n",
    "    partial_variables={\n",
    "        \"format_instructions\": format_instructions,,\n",
    "         \"example_output\":example_output}\n",
    ")\n",
    "\n",
    "\n",
    "# get_request(prompt=prompt,review=\"I flew with XYZ Airlines for a 6-hour flight.\")"
   ]
  },
  {
   "cell_type": "markdown",
   "metadata": {
    "application/vnd.databricks.v1+cell": {
     "cellMetadata": {},
     "inputWidgets": {},
     "nuid": "5e3fbca0-2d3d-454e-8f56-04586a2195c5",
     "showTitle": false,
     "tableResultSettingsMap": {},
     "title": ""
    }
   },
   "source": [
    "## Batch Inference with Tool Calling\n",
    "Documentation Example Code: https://docs.databricks.com/en/machine-learning/model-serving/function-calling.html#notebook-example"
   ]
  },
  {
   "cell_type": "code",
   "execution_count": 0,
   "metadata": {
    "application/vnd.databricks.v1+cell": {
     "cellMetadata": {
      "byteLimit": 2048000,
      "rowLimit": 10000
     },
     "inputWidgets": {},
     "nuid": "0a2f3a8d-3a0a-4de7-a7bc-e46803859a56",
     "showTitle": true,
     "tableResultSettingsMap": {},
     "title": "Batch Inference Functions"
    }
   },
   "outputs": [],
   "source": [
    " \n",
    "import os\n",
    "import json\n",
    "import concurrent.futures\n",
    "from openai import OpenAI, RateLimitError\n",
    "from tenacity import (\n",
    "    retry,\n",
    "    stop_after_attempt,\n",
    "    wait_random_exponential,\n",
    "    retry_if_exception,\n",
    ")  # for exponential backoff\n",
    "from tqdm.notebook import tqdm\n",
    "from typing import List, Optional\n",
    "\n",
    "client = OpenAI(\n",
    "  api_key=DATABRICKS_TOKEN,\n",
    "  base_url=DATABRICKS_BASE_URL\n",
    ")\n",
    "\n",
    "@retry(\n",
    "    wait=wait_random_exponential(min=1, max=30),\n",
    "    stop=stop_after_attempt(3),\n",
    "    retry=retry_if_exception(RateLimitError),\n",
    ")\n",
    "def call_chat_model(\n",
    "    prompt: str,review: str, temperature: float = 0.1, max_tokens: int = 500, **kwargs\n",
    "):\n",
    "    \"\"\"Calls the chat model and returns the response text or tool calls.\"\"\"\n",
    "    chat_args = {\n",
    "      \"model\": MODEL_ENDPOINT_ID,\n",
    "    \"messages\": [\n",
    "      {\n",
    "        \"role\": \"system\",\n",
    "        \"content\": 'You are a helpful analyst for a major airline. You help anayze customer reviews and extrarct insights.'\n",
    "      },\n",
    "      {\n",
    "        \"role\": \"user\",\n",
    "        \"content\": prompt.format(review=review)\n",
    "      }\n",
    "    ],\n",
    "    \"max_tokens\": max_tokens,\n",
    "    \"temperature\": temperature\n",
    "  }\n",
    "\n",
    "    chat_args.update(kwargs)\n",
    "\n",
    "    chat_completion = client.chat.completions.create(**chat_args)\n",
    "\n",
    "    response = chat_completion.choices[0].message\n",
    "    if response.tool_calls:\n",
    "        call_args = [c.function.arguments for c in response.tool_calls]\n",
    "        if len(call_args) == 1:\n",
    "            return call_args[0]\n",
    "        return call_args\n",
    "    return response.content\n",
    "  \n",
    "def call_in_parallel(func, prompts: List[str]) -> List:\n",
    "    \"\"\"Calls func(p) for all prompts in parallel and returns responses.\"\"\"\n",
    "    # This uses a relatively small thread pool to avoid triggering default workspace rate limits.\n",
    "    with concurrent.futures.ThreadPoolExecutor(max_workers=5) as executor:\n",
    "        results = []\n",
    "        for r in tqdm(executor.map(func, prompts), total=len(prompts)):\n",
    "            results.append(r)\n",
    "        return results\n"
   ]
  },
  {
   "cell_type": "code",
   "execution_count": 0,
   "metadata": {
    "application/vnd.databricks.v1+cell": {
     "cellMetadata": {
      "byteLimit": 2048000,
      "rowLimit": 10000
     },
     "inputWidgets": {},
     "nuid": "19a8183d-ea68-43e2-b657-406ea4fbc3a1",
     "showTitle": false,
     "tableResultSettingsMap": {},
     "title": ""
    }
   },
   "outputs": [
    {
     "output_type": "display_data",
     "data": {
      "application/vnd.jupyter.widget-view+json": {
       "model_id": "73c5a2693c1c4a00b73f5dc4f62bfeee",
       "version_major": 2,
       "version_minor": 0
      },
      "text/plain": [
       "  0%|          | 0/1000 [00:00<?, ?it/s]"
      ]
     },
     "metadata": {},
     "output_type": "display_data"
    },
    {
     "output_type": "execute_result",
     "data": {
      "text/html": [
       "<div>\n",
       "<style scoped>\n",
       "    .dataframe tbody tr th:only-of-type {\n",
       "        vertical-align: middle;\n",
       "    }\n",
       "\n",
       "    .dataframe tbody tr th {\n",
       "        vertical-align: top;\n",
       "    }\n",
       "\n",
       "    .dataframe thead th {\n",
       "        text-align: right;\n",
       "    }\n",
       "</style>\n",
       "<table border=\"1\" class=\"dataframe\">\n",
       "  <thead>\n",
       "    <tr style=\"text-align: right;\">\n",
       "      <th></th>\n",
       "      <th>Review</th>\n",
       "      <th>Model response</th>\n",
       "    </tr>\n",
       "  </thead>\n",
       "  <tbody>\n",
       "    <tr>\n",
       "      <th>0</th>\n",
       "      <td>The worst airline I have flown with, ground ...</td>\n",
       "      <td>{\"intents\": [{\"intent\": \"Ground staff service\"...</td>\n",
       "    </tr>\n",
       "    <tr>\n",
       "      <th>1</th>\n",
       "      <td>Kuala Lumpur to Perth. Best low cost airline...</td>\n",
       "      <td>{\"intents\": [{\"intent\": \"Overall experience\", ...</td>\n",
       "    </tr>\n",
       "    <tr>\n",
       "      <th>2</th>\n",
       "      <td>\\n</td>\n",
       "      <td>{\"intents\": []}</td>\n",
       "    </tr>\n",
       "    <tr>\n",
       "      <th>3</th>\n",
       "      <td>Once on the plane, Cubana Airlines is no bette...</td>\n",
       "      <td>{\"intents\": [{\"intent\": \"In-flight experience\"...</td>\n",
       "    </tr>\n",
       "    <tr>\n",
       "      <th>4</th>\n",
       "      <td>Los Angeles to Ho Chi Minh City via Tokyo. T...</td>\n",
       "      <td>{\"intents\": [{\"intent\": \"Overall experience\", ...</td>\n",
       "    </tr>\n",
       "    <tr>\n",
       "      <th>...</th>\n",
       "      <td>...</td>\n",
       "      <td>...</td>\n",
       "    </tr>\n",
       "    <tr>\n",
       "      <th>995</th>\n",
       "      <td>Having traveled via American Eagle for years f...</td>\n",
       "      <td>{\"intents\": [{\"intent\": \"Previous travel exper...</td>\n",
       "    </tr>\n",
       "    <tr>\n",
       "      <th>996</th>\n",
       "      <td>I purchased additional carry-on option so th...</td>\n",
       "      <td>{\"intents\": [{\"intent\": \"Carry-on luggage poli...</td>\n",
       "    </tr>\n",
       "    <tr>\n",
       "      <th>997</th>\n",
       "      <td>Tehran Iran to Almaty Kazakhstan on a relative...</td>\n",
       "      <td>{\"intents\": [{\"intent\": \"Flight experience\", \"...</td>\n",
       "    </tr>\n",
       "    <tr>\n",
       "      <th>998</th>\n",
       "      <td>Okinawa to Seoul. I will never choose Asiana...</td>\n",
       "      <td>{\"intents\": [{\"intent\": \"Baggage handling\", \"n...</td>\n",
       "    </tr>\n",
       "    <tr>\n",
       "      <th>999</th>\n",
       "      <td>Monastir to Gatwick. The aircraft was an absol...</td>\n",
       "      <td>{\"intents\": [{\"intent\": \"Aircraft condition\", ...</td>\n",
       "    </tr>\n",
       "  </tbody>\n",
       "</table>\n",
       "<p>1000 rows × 2 columns</p>\n",
       "</div>"
      ],
      "text/plain": [
       "                                                Review                                     Model response\n",
       "0      The worst airline I have flown with, ground ...  {\"intents\": [{\"intent\": \"Ground staff service\"...\n",
       "1      Kuala Lumpur to Perth. Best low cost airline...  {\"intents\": [{\"intent\": \"Overall experience\", ...\n",
       "2                                                   \\n                                    {\"intents\": []}\n",
       "3    Once on the plane, Cubana Airlines is no bette...  {\"intents\": [{\"intent\": \"In-flight experience\"...\n",
       "4      Los Angeles to Ho Chi Minh City via Tokyo. T...  {\"intents\": [{\"intent\": \"Overall experience\", ...\n",
       "..                                                 ...                                                ...\n",
       "995  Having traveled via American Eagle for years f...  {\"intents\": [{\"intent\": \"Previous travel exper...\n",
       "996    I purchased additional carry-on option so th...  {\"intents\": [{\"intent\": \"Carry-on luggage poli...\n",
       "997  Tehran Iran to Almaty Kazakhstan on a relative...  {\"intents\": [{\"intent\": \"Flight experience\", \"...\n",
       "998    Okinawa to Seoul. I will never choose Asiana...  {\"intents\": [{\"intent\": \"Baggage handling\", \"n...\n",
       "999  Monastir to Gatwick. The aircraft was an absol...  {\"intents\": [{\"intent\": \"Aircraft condition\", ...\n",
       "\n",
       "[1000 rows x 2 columns]"
      ]
     },
     "execution_count": 28,
     "metadata": {},
     "output_type": "execute_result"
    },
    {
     "output_type": "display_data",
     "data": {
      "application/databricks.mlflow.trace": "[\"tr-b72356d84cb241f287813cfceb217f5f\", \"tr-39cf062c99b34af6a93378b8547b9cfc\", \"tr-aea6069c856a46d99ad4c15123aea5d8\", \"tr-a29f1707210f438b9d73a2265ca2dc9a\", \"tr-95f91cbf3f8b40dbb7907cee013f520b\", \"tr-90f06f0d92954cb3b88cd8dbe7ad84d3\", \"tr-f2235fdd01ea4a8cabd75f2dadc4c0df\", \"tr-2a07614dda544218bd9a90d07d5f1948\", \"tr-268865e49c144c93bd9be2714b42c174\", \"tr-63815d8483fb4638b614421d33c2ed2e\"]",
      "text/plain": [
       "[Trace(request_id=tr-b72356d84cb241f287813cfceb217f5f), Trace(request_id=tr-39cf062c99b34af6a93378b8547b9cfc), Trace(request_id=tr-aea6069c856a46d99ad4c15123aea5d8), Trace(request_id=tr-a29f1707210f438b9d73a2265ca2dc9a), Trace(request_id=tr-95f91cbf3f8b40dbb7907cee013f520b), Trace(request_id=tr-90f06f0d92954cb3b88cd8dbe7ad84d3), Trace(request_id=tr-f2235fdd01ea4a8cabd75f2dadc4c0df), Trace(request_id=tr-2a07614dda544218bd9a90d07d5f1948), Trace(request_id=tr-268865e49c144c93bd9be2714b42c174), Trace(request_id=tr-63815d8483fb4638b614421d33c2ed2e)]"
      ]
     },
     "metadata": {},
     "output_type": "display_data"
    }
   ],
   "source": [
    "import pandas as pd\n",
    "def extract_batch(inp: str):\n",
    "    return call_chat_model(prompt=prompt,review=inp, tools=tools)\n",
    "  \n",
    "def results_to_dataframe(reviews: List[str], responses: List[str]):\n",
    "    \"\"\"Combines reviews and model responses into a dataframe for tabular display.\"\"\"\n",
    "    return pd.DataFrame({\"Review\": reviews, \"Model response\": responses})\n",
    "  \n",
    "results = call_in_parallel(extract_batch, all_reviews)\n",
    "results_to_dataframe(all_reviews, results)"
   ]
  },
  {
   "cell_type": "markdown",
   "metadata": {
    "application/vnd.databricks.v1+cell": {
     "cellMetadata": {},
     "inputWidgets": {},
     "nuid": "1b3f11c0-d997-4691-9c3e-bf03416df7d0",
     "showTitle": false,
     "tableResultSettingsMap": {},
     "title": ""
    }
   },
   "source": [
    "## Parse llm output, dropping invalid entries\n",
    "- Review too long, incomplete json string responses (increase max_token, or chunk the review beforehand, or specify more in prompt)\n",
    "- Review is empty or not valid (additional preprocessing could help)"
   ]
  },
  {
   "cell_type": "code",
   "execution_count": 0,
   "metadata": {
    "application/vnd.databricks.v1+cell": {
     "cellMetadata": {
      "byteLimit": 2048000,
      "rowLimit": 10000
     },
     "inputWidgets": {},
     "nuid": "eb9ec197-3d0d-4e63-a189-d355d5593461",
     "showTitle": false,
     "tableResultSettingsMap": {},
     "title": ""
    }
   },
   "outputs": [],
   "source": [
    "parsed_data = []\n",
    "for index, item in enumerate(results):\n",
    "    try:\n",
    "        parsed_data.append({\"id\": index, **json.loads(item)})  # Add an id column\n",
    "    except json.JSONDecodeError:\n",
    "        parsed_data.append({\"id\": index, \"intents\": []})  # Add an empty intents list for invalid JSON\n",
    "\n",
    "# Create a pandas DataFrame from the parsed data\n",
    "# Explode the 'intents' column to create one row per intent\n",
    "exploded_df = pd.DataFrame(parsed_data).explode('intents')\n",
    "\n",
    "# Filter out rows where 'intents' is not a dictionary (i.e., valid JSON object)\n",
    "exploded_df = exploded_df[exploded_df['intents'].apply(lambda x: isinstance(x, dict))]\n",
    "\n",
    "# Normalize the valid 'intents' column into separate columns\n",
    "results_df = pd.json_normalize(exploded_df['intents'])\n",
    "results_df['id'] = exploded_df['id'].values\n",
    "results_df['llm_response'] = exploded_df['intents'].values\n"
   ]
  },
  {
   "cell_type": "code",
   "execution_count": 0,
   "metadata": {
    "application/vnd.databricks.v1+cell": {
     "cellMetadata": {
      "byteLimit": 2048000,
      "rowLimit": 10000
     },
     "inputWidgets": {},
     "nuid": "d3620e6d-b45f-43f0-9296-79df189b4b39",
     "showTitle": false,
     "tableResultSettingsMap": {},
     "title": ""
    }
   },
   "outputs": [],
   "source": [
    "\n",
    "merged_df = pd.merge(sample_pdf, results_df, left_on= sample_pdf.index, right_on='id', how='right')"
   ]
  },
  {
   "cell_type": "code",
   "execution_count": 0,
   "metadata": {
    "application/vnd.databricks.v1+cell": {
     "cellMetadata": {
      "byteLimit": 2048000,
      "rowLimit": 10000
     },
     "inputWidgets": {},
     "nuid": "533100f4-2630-4639-b5a5-a8883b23b3d4",
     "showTitle": false,
     "tableResultSettingsMap": {},
     "title": ""
    }
   },
   "outputs": [
    {
     "output_type": "execute_result",
     "data": {
      "text/html": [
       "<div>\n",
       "<style scoped>\n",
       "    .dataframe tbody tr th:only-of-type {\n",
       "        vertical-align: middle;\n",
       "    }\n",
       "\n",
       "    .dataframe tbody tr th {\n",
       "        vertical-align: top;\n",
       "    }\n",
       "\n",
       "    .dataframe thead th {\n",
       "        text-align: right;\n",
       "    }\n",
       "</style>\n",
       "<table border=\"1\" class=\"dataframe\">\n",
       "  <thead>\n",
       "    <tr style=\"text-align: right;\">\n",
       "      <th></th>\n",
       "      <th>Airline Name</th>\n",
       "      <th>Overall_Rating</th>\n",
       "      <th>Review_Title</th>\n",
       "      <th>Review Date</th>\n",
       "      <th>Verified</th>\n",
       "      <th>Review</th>\n",
       "      <th>Aircraft</th>\n",
       "      <th>Type Of Traveller</th>\n",
       "      <th>Seat Type</th>\n",
       "      <th>Route</th>\n",
       "      <th>Date Flown</th>\n",
       "      <th>Seat Comfort</th>\n",
       "      <th>Cabin Staff Service</th>\n",
       "      <th>Food &amp; Beverages</th>\n",
       "      <th>Ground Service</th>\n",
       "      <th>Inflight Entertainment</th>\n",
       "      <th>Wifi &amp; Connectivity</th>\n",
       "      <th>Value For Money</th>\n",
       "      <th>Recommended</th>\n",
       "      <th>_rescued_data</th>\n",
       "      <th>intent</th>\n",
       "      <th>named_entities</th>\n",
       "      <th>sentiment</th>\n",
       "      <th>text_summary</th>\n",
       "      <th>id</th>\n",
       "      <th>llm_response</th>\n",
       "    </tr>\n",
       "  </thead>\n",
       "  <tbody>\n",
       "    <tr>\n",
       "      <th>0</th>\n",
       "      <td>Condor Airlines</td>\n",
       "      <td>3</td>\n",
       "      <td>\"rude and miserable people\"</td>\n",
       "      <td>15th September 2019</td>\n",
       "      <td>False</td>\n",
       "      <td>The worst airline I have flown with, ground ...</td>\n",
       "      <td>None</td>\n",
       "      <td>Solo Leisure</td>\n",
       "      <td>Economy Class</td>\n",
       "      <td>Frankfurt to Anchorage</td>\n",
       "      <td>September 2019</td>\n",
       "      <td>3.0</td>\n",
       "      <td>2.0</td>\n",
       "      <td>2.0</td>\n",
       "      <td>2.0</td>\n",
       "      <td>NaN</td>\n",
       "      <td>NaN</td>\n",
       "      <td>3.0</td>\n",
       "      <td>no</td>\n",
       "      <td>{\"_c0\":\"7447\",\"_file_path\":\"dbfs:/Volumes/cind...</td>\n",
       "      <td>Ground staff service</td>\n",
       "      <td>[Frankfurt, Condor]</td>\n",
       "      <td>Negative</td>\n",
       "      <td>The ground staff at Frankfurt were rude and ic...</td>\n",
       "      <td>0</td>\n",
       "      <td>{'intent': 'Ground staff service', 'named_enti...</td>\n",
       "    </tr>\n",
       "    <tr>\n",
       "      <th>1</th>\n",
       "      <td>Condor Airlines</td>\n",
       "      <td>3</td>\n",
       "      <td>\"rude and miserable people\"</td>\n",
       "      <td>15th September 2019</td>\n",
       "      <td>False</td>\n",
       "      <td>The worst airline I have flown with, ground ...</td>\n",
       "      <td>None</td>\n",
       "      <td>Solo Leisure</td>\n",
       "      <td>Economy Class</td>\n",
       "      <td>Frankfurt to Anchorage</td>\n",
       "      <td>September 2019</td>\n",
       "      <td>3.0</td>\n",
       "      <td>2.0</td>\n",
       "      <td>2.0</td>\n",
       "      <td>2.0</td>\n",
       "      <td>NaN</td>\n",
       "      <td>NaN</td>\n",
       "      <td>3.0</td>\n",
       "      <td>no</td>\n",
       "      <td>{\"_c0\":\"7447\",\"_file_path\":\"dbfs:/Volumes/cind...</td>\n",
       "      <td>Cabin crew service</td>\n",
       "      <td>[Condor]</td>\n",
       "      <td>Negative</td>\n",
       "      <td>The cabin crew give the impression they do not...</td>\n",
       "      <td>0</td>\n",
       "      <td>{'intent': 'Cabin crew service', 'named_entiti...</td>\n",
       "    </tr>\n",
       "    <tr>\n",
       "      <th>2</th>\n",
       "      <td>Condor Airlines</td>\n",
       "      <td>3</td>\n",
       "      <td>\"rude and miserable people\"</td>\n",
       "      <td>15th September 2019</td>\n",
       "      <td>False</td>\n",
       "      <td>The worst airline I have flown with, ground ...</td>\n",
       "      <td>None</td>\n",
       "      <td>Solo Leisure</td>\n",
       "      <td>Economy Class</td>\n",
       "      <td>Frankfurt to Anchorage</td>\n",
       "      <td>September 2019</td>\n",
       "      <td>3.0</td>\n",
       "      <td>2.0</td>\n",
       "      <td>2.0</td>\n",
       "      <td>2.0</td>\n",
       "      <td>NaN</td>\n",
       "      <td>NaN</td>\n",
       "      <td>3.0</td>\n",
       "      <td>no</td>\n",
       "      <td>{\"_c0\":\"7447\",\"_file_path\":\"dbfs:/Volumes/cind...</td>\n",
       "      <td>Food quality</td>\n",
       "      <td>[]</td>\n",
       "      <td>Negative</td>\n",
       "      <td>Food was just about edible, pasta tubes with a...</td>\n",
       "      <td>0</td>\n",
       "      <td>{'intent': 'Food quality', 'named_entities': [...</td>\n",
       "    </tr>\n",
       "    <tr>\n",
       "      <th>3</th>\n",
       "      <td>Condor Airlines</td>\n",
       "      <td>3</td>\n",
       "      <td>\"rude and miserable people\"</td>\n",
       "      <td>15th September 2019</td>\n",
       "      <td>False</td>\n",
       "      <td>The worst airline I have flown with, ground ...</td>\n",
       "      <td>None</td>\n",
       "      <td>Solo Leisure</td>\n",
       "      <td>Economy Class</td>\n",
       "      <td>Frankfurt to Anchorage</td>\n",
       "      <td>September 2019</td>\n",
       "      <td>3.0</td>\n",
       "      <td>2.0</td>\n",
       "      <td>2.0</td>\n",
       "      <td>2.0</td>\n",
       "      <td>NaN</td>\n",
       "      <td>NaN</td>\n",
       "      <td>3.0</td>\n",
       "      <td>no</td>\n",
       "      <td>{\"_c0\":\"7447\",\"_file_path\":\"dbfs:/Volumes/cind...</td>\n",
       "      <td>In-flight amenities</td>\n",
       "      <td>[]</td>\n",
       "      <td>Negative</td>\n",
       "      <td>No water for first two hours on return flight ...</td>\n",
       "      <td>0</td>\n",
       "      <td>{'intent': 'In-flight amenities', 'named_entit...</td>\n",
       "    </tr>\n",
       "    <tr>\n",
       "      <th>4</th>\n",
       "      <td>Condor Airlines</td>\n",
       "      <td>3</td>\n",
       "      <td>\"rude and miserable people\"</td>\n",
       "      <td>15th September 2019</td>\n",
       "      <td>False</td>\n",
       "      <td>The worst airline I have flown with, ground ...</td>\n",
       "      <td>None</td>\n",
       "      <td>Solo Leisure</td>\n",
       "      <td>Economy Class</td>\n",
       "      <td>Frankfurt to Anchorage</td>\n",
       "      <td>September 2019</td>\n",
       "      <td>3.0</td>\n",
       "      <td>2.0</td>\n",
       "      <td>2.0</td>\n",
       "      <td>2.0</td>\n",
       "      <td>NaN</td>\n",
       "      <td>NaN</td>\n",
       "      <td>3.0</td>\n",
       "      <td>no</td>\n",
       "      <td>{\"_c0\":\"7447\",\"_file_path\":\"dbfs:/Volumes/cind...</td>\n",
       "      <td>Entertainment options</td>\n",
       "      <td>[]</td>\n",
       "      <td>Negative</td>\n",
       "      <td>All entertainment has to be paid for.</td>\n",
       "      <td>0</td>\n",
       "      <td>{'intent': 'Entertainment options', 'named_ent...</td>\n",
       "    </tr>\n",
       "    <tr>\n",
       "      <th>...</th>\n",
       "      <td>...</td>\n",
       "      <td>...</td>\n",
       "      <td>...</td>\n",
       "      <td>...</td>\n",
       "      <td>...</td>\n",
       "      <td>...</td>\n",
       "      <td>...</td>\n",
       "      <td>...</td>\n",
       "      <td>...</td>\n",
       "      <td>...</td>\n",
       "      <td>...</td>\n",
       "      <td>...</td>\n",
       "      <td>...</td>\n",
       "      <td>...</td>\n",
       "      <td>...</td>\n",
       "      <td>...</td>\n",
       "      <td>...</td>\n",
       "      <td>...</td>\n",
       "      <td>...</td>\n",
       "      <td>...</td>\n",
       "      <td>...</td>\n",
       "      <td>...</td>\n",
       "      <td>...</td>\n",
       "      <td>...</td>\n",
       "      <td>...</td>\n",
       "      <td>...</td>\n",
       "    </tr>\n",
       "    <tr>\n",
       "      <th>4330</th>\n",
       "      <td>Karthago Airlines</td>\n",
       "      <td>1</td>\n",
       "      <td>Karthago Airlines customer review</td>\n",
       "      <td>8th October 2008</td>\n",
       "      <td>False</td>\n",
       "      <td>Monastir to Gatwick. The aircraft was an absol...</td>\n",
       "      <td>None</td>\n",
       "      <td>None</td>\n",
       "      <td>None</td>\n",
       "      <td>None</td>\n",
       "      <td>None</td>\n",
       "      <td>NaN</td>\n",
       "      <td>NaN</td>\n",
       "      <td>NaN</td>\n",
       "      <td>NaN</td>\n",
       "      <td>NaN</td>\n",
       "      <td>NaN</td>\n",
       "      <td>NaN</td>\n",
       "      <td>no</td>\n",
       "      <td>{\"_c0\":\"12716\",\"_file_path\":\"dbfs:/Volumes/cin...</td>\n",
       "      <td>Crew service</td>\n",
       "      <td>[]</td>\n",
       "      <td>Negative</td>\n",
       "      <td>The crew are not interested in customer service.</td>\n",
       "      <td>999</td>\n",
       "      <td>{'intent': 'Crew service', 'named_entities': [...</td>\n",
       "    </tr>\n",
       "    <tr>\n",
       "      <th>4331</th>\n",
       "      <td>Karthago Airlines</td>\n",
       "      <td>1</td>\n",
       "      <td>Karthago Airlines customer review</td>\n",
       "      <td>8th October 2008</td>\n",
       "      <td>False</td>\n",
       "      <td>Monastir to Gatwick. The aircraft was an absol...</td>\n",
       "      <td>None</td>\n",
       "      <td>None</td>\n",
       "      <td>None</td>\n",
       "      <td>None</td>\n",
       "      <td>None</td>\n",
       "      <td>NaN</td>\n",
       "      <td>NaN</td>\n",
       "      <td>NaN</td>\n",
       "      <td>NaN</td>\n",
       "      <td>NaN</td>\n",
       "      <td>NaN</td>\n",
       "      <td>NaN</td>\n",
       "      <td>no</td>\n",
       "      <td>{\"_c0\":\"12716\",\"_file_path\":\"dbfs:/Volumes/cin...</td>\n",
       "      <td>Amenities</td>\n",
       "      <td>[]</td>\n",
       "      <td>Negative</td>\n",
       "      <td>There was no milk for the coffee.</td>\n",
       "      <td>999</td>\n",
       "      <td>{'intent': 'Amenities', 'named_entities': [], ...</td>\n",
       "    </tr>\n",
       "    <tr>\n",
       "      <th>4332</th>\n",
       "      <td>Karthago Airlines</td>\n",
       "      <td>1</td>\n",
       "      <td>Karthago Airlines customer review</td>\n",
       "      <td>8th October 2008</td>\n",
       "      <td>False</td>\n",
       "      <td>Monastir to Gatwick. The aircraft was an absol...</td>\n",
       "      <td>None</td>\n",
       "      <td>None</td>\n",
       "      <td>None</td>\n",
       "      <td>None</td>\n",
       "      <td>None</td>\n",
       "      <td>NaN</td>\n",
       "      <td>NaN</td>\n",
       "      <td>NaN</td>\n",
       "      <td>NaN</td>\n",
       "      <td>NaN</td>\n",
       "      <td>NaN</td>\n",
       "      <td>NaN</td>\n",
       "      <td>no</td>\n",
       "      <td>{\"_c0\":\"12716\",\"_file_path\":\"dbfs:/Volumes/cin...</td>\n",
       "      <td>Ground staff service</td>\n",
       "      <td>[Karthago]</td>\n",
       "      <td>Negative</td>\n",
       "      <td>The ground staff who had no courtesy to keep u...</td>\n",
       "      <td>999</td>\n",
       "      <td>{'intent': 'Ground staff service', 'named_enti...</td>\n",
       "    </tr>\n",
       "    <tr>\n",
       "      <th>4333</th>\n",
       "      <td>Karthago Airlines</td>\n",
       "      <td>1</td>\n",
       "      <td>Karthago Airlines customer review</td>\n",
       "      <td>8th October 2008</td>\n",
       "      <td>False</td>\n",
       "      <td>Monastir to Gatwick. The aircraft was an absol...</td>\n",
       "      <td>None</td>\n",
       "      <td>None</td>\n",
       "      <td>None</td>\n",
       "      <td>None</td>\n",
       "      <td>None</td>\n",
       "      <td>NaN</td>\n",
       "      <td>NaN</td>\n",
       "      <td>NaN</td>\n",
       "      <td>NaN</td>\n",
       "      <td>NaN</td>\n",
       "      <td>NaN</td>\n",
       "      <td>NaN</td>\n",
       "      <td>no</td>\n",
       "      <td>{\"_c0\":\"12716\",\"_file_path\":\"dbfs:/Volumes/cin...</td>\n",
       "      <td>Delay handling</td>\n",
       "      <td>[]</td>\n",
       "      <td>Negative</td>\n",
       "      <td>No apology or explanation given.</td>\n",
       "      <td>999</td>\n",
       "      <td>{'intent': 'Delay handling', 'named_entities':...</td>\n",
       "    </tr>\n",
       "    <tr>\n",
       "      <th>4334</th>\n",
       "      <td>Karthago Airlines</td>\n",
       "      <td>1</td>\n",
       "      <td>Karthago Airlines customer review</td>\n",
       "      <td>8th October 2008</td>\n",
       "      <td>False</td>\n",
       "      <td>Monastir to Gatwick. The aircraft was an absol...</td>\n",
       "      <td>None</td>\n",
       "      <td>None</td>\n",
       "      <td>None</td>\n",
       "      <td>None</td>\n",
       "      <td>None</td>\n",
       "      <td>NaN</td>\n",
       "      <td>NaN</td>\n",
       "      <td>NaN</td>\n",
       "      <td>NaN</td>\n",
       "      <td>NaN</td>\n",
       "      <td>NaN</td>\n",
       "      <td>NaN</td>\n",
       "      <td>no</td>\n",
       "      <td>{\"_c0\":\"12716\",\"_file_path\":\"dbfs:/Volumes/cin...</td>\n",
       "      <td>Overall experience</td>\n",
       "      <td>[Tunisia, Karthago]</td>\n",
       "      <td>Negative</td>\n",
       "      <td>By far the worst experience I have ever had an...</td>\n",
       "      <td>999</td>\n",
       "      <td>{'intent': 'Overall experience', 'named_entiti...</td>\n",
       "    </tr>\n",
       "  </tbody>\n",
       "</table>\n",
       "<p>4335 rows × 26 columns</p>\n",
       "</div>"
      ],
      "text/plain": [
       "           Airline Name  ...                                       llm_response\n",
       "0       Condor Airlines  ...  {'intent': 'Ground staff service', 'named_enti...\n",
       "1       Condor Airlines  ...  {'intent': 'Cabin crew service', 'named_entiti...\n",
       "2       Condor Airlines  ...  {'intent': 'Food quality', 'named_entities': [...\n",
       "3       Condor Airlines  ...  {'intent': 'In-flight amenities', 'named_entit...\n",
       "4       Condor Airlines  ...  {'intent': 'Entertainment options', 'named_ent...\n",
       "...                 ...  ...                                                ...\n",
       "4330  Karthago Airlines  ...  {'intent': 'Crew service', 'named_entities': [...\n",
       "4331  Karthago Airlines  ...  {'intent': 'Amenities', 'named_entities': [], ...\n",
       "4332  Karthago Airlines  ...  {'intent': 'Ground staff service', 'named_enti...\n",
       "4333  Karthago Airlines  ...  {'intent': 'Delay handling', 'named_entities':...\n",
       "4334  Karthago Airlines  ...  {'intent': 'Overall experience', 'named_entiti...\n",
       "\n",
       "[4335 rows x 26 columns]"
      ]
     },
     "execution_count": 129,
     "metadata": {},
     "output_type": "execute_result"
    }
   ],
   "source": [
    "merged_df"
   ]
  },
  {
   "cell_type": "markdown",
   "metadata": {
    "application/vnd.databricks.v1+cell": {
     "cellMetadata": {},
     "inputWidgets": {},
     "nuid": "a8644acc-4fc4-422c-b140-2203b7409670",
     "showTitle": false,
     "tableResultSettingsMap": {},
     "title": ""
    }
   },
   "source": [
    "## Save Results"
   ]
  },
  {
   "cell_type": "code",
   "execution_count": 0,
   "metadata": {
    "application/vnd.databricks.v1+cell": {
     "cellMetadata": {
      "byteLimit": 2048000,
      "rowLimit": 10000
     },
     "inputWidgets": {},
     "nuid": "af786afd-feed-4ff0-99a6-ebc26c8b8917",
     "showTitle": true,
     "tableResultSettingsMap": {},
     "title": "Write table to UC"
    }
   },
   "outputs": [
    {
     "output_type": "stream",
     "name": "stderr",
     "output_type": "stream",
     "text": [
      "/databricks/spark/python/pyspark/sql/pandas/conversion.py:477: UserWarning: createDataFrame attempted Arrow optimization because 'spark.sql.execution.arrow.pyspark.enabled' is set to true; however, failed by the reason below:\n  Exception thrown when converting pandas.Series (object) with name 'llm_response' to Arrow Array (string).\nDirect cause: Expected bytes, got a 'dict' object\nAttempting non-optimization as 'spark.sql.execution.arrow.pyspark.fallback.enabled' is set to true.\n  warn(msg)\n"
     ]
    }
   ],
   "source": [
    "output_df = merged_df[['id','Airline Name', 'Overall_Rating', 'Review_Title',\n",
    "       'Review',  'llm_response', 'intent','text_summary',\n",
    "       'sentiment', 'named_entities']].rename({'Airline Name':'Airline_Name'})\n",
    "\n",
    "from pyspark.sql.types import ArrayType, IntegerType, DoubleType, StringType, StructField, StructType\n",
    "\n",
    "# Define the schema for the Spark DataFrame\n",
    "schema = StructType([\n",
    "    StructField('id', IntegerType()),\n",
    "    StructField('Airline_Name', StringType()),\n",
    "    StructField('Overall_Rating', StringType()),\n",
    "    StructField('Review_title', StringType()),\n",
    "    StructField('Review', StringType()),\n",
    "    StructField('llm_response', StringType()),\n",
    "    StructField('intent', StringType()),\n",
    "    StructField('text_summary', StringType()),\n",
    "    StructField('sentiment', StringType()),\n",
    "    StructField('named_entities', ArrayType(StringType()))\n",
    "])\n",
    "\n",
    "# Convert Pandas DataFrame to Spark DataFrame with the specified schema\n",
    "output_sdf = spark.createDataFrame(output_df.dropna(), schema)\n"
   ]
  },
  {
   "cell_type": "code",
   "execution_count": 0,
   "metadata": {
    "application/vnd.databricks.v1+cell": {
     "cellMetadata": {
      "byteLimit": 2048000,
      "rowLimit": 10000
     },
     "inputWidgets": {},
     "nuid": "f20f93f4-0a2e-483e-818d-7ad92adbfbf4",
     "showTitle": false,
     "tableResultSettingsMap": {},
     "title": ""
    }
   },
   "outputs": [],
   "source": [
    "output_sdf.write.mode('overwrite').format(\"delta\").saveAsTable(f\"{CATALOG}.{SCHEMA}.{INTENTS_TABLE}\")"
   ]
  },
  {
   "cell_type": "code",
   "execution_count": 0,
   "metadata": {
    "application/vnd.databricks.v1+cell": {
     "cellMetadata": {},
     "inputWidgets": {},
     "nuid": "4a567905-a385-4929-b59d-7ac87252774e",
     "showTitle": false,
     "tableResultSettingsMap": {},
     "title": ""
    }
   },
   "outputs": [],
   "source": []
  }
 ],
 "metadata": {
  "application/vnd.databricks.v1+notebook": {
   "computePreferences": null,
   "dashboards": [],
   "environmentMetadata": null,
   "language": "python",
   "notebookMetadata": {
    "pythonIndentUnit": 2
   },
   "notebookName": "01_SETUP_DATA_function_calling",
   "widgets": {}
  },
  "language_info": {
   "name": "python"
  }
 },
 "nbformat": 4,
 "nbformat_minor": 0
}
