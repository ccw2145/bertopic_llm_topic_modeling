{
 "cells": [
  {
   "cell_type": "code",
   "execution_count": 0,
   "metadata": {
    "application/vnd.databricks.v1+cell": {
     "cellMetadata": {
      "byteLimit": 2048000,
      "rowLimit": 10000
     },
     "inputWidgets": {},
     "nuid": "489d1162-20b3-474e-8c75-6809b1bd5a46",
     "showTitle": false,
     "tableResultSettingsMap": {},
     "title": ""
    }
   },
   "outputs": [],
   "source": [
    "%%capture\n",
    "%pip install openai tenacity tqdm\n",
    "dbutils.library.restartPython()"
   ]
  },
  {
   "cell_type": "code",
   "execution_count": 0,
   "metadata": {
    "application/vnd.databricks.v1+cell": {
     "cellMetadata": {
      "byteLimit": 2048000,
      "rowLimit": 10000
     },
     "inputWidgets": {},
     "nuid": "be93991c-062d-4dbb-b650-9c65dba465ca",
     "showTitle": false,
     "tableResultSettingsMap": {},
     "title": ""
    }
   },
   "outputs": [],
   "source": [
    "CATALOG = \"cindy_demo_catalog\"\n",
    "SCHEMA = \"airline_bookings\"\n",
    "REVIEWS_TABLE = \"airline_scrapped_review\"\n",
    "INTENTS_TABLE = \"raw_intents_1000_function\""
   ]
  },
  {
   "cell_type": "code",
   "execution_count": 0,
   "metadata": {
    "application/vnd.databricks.v1+cell": {
     "cellMetadata": {
      "byteLimit": 2048000,
      "rowLimit": 10000
     },
     "inputWidgets": {},
     "nuid": "79b55a44-6adf-4b36-882c-61b7321ea627",
     "showTitle": false,
     "tableResultSettingsMap": {},
     "title": ""
    }
   },
   "outputs": [],
   "source": [
    "DATABRICKS_TOKEN = (\n",
    "    dbutils.notebook.entry_point.getDbutils()\n",
    "    .notebook()\n",
    "    .getContext()\n",
    "    .apiToken()\n",
    "    .getOrElse(None)\n",
    ")\n",
    "DATABRICKS_BASE_URL = (\n",
    "    f'https://{spark.conf.get(\"spark.databricks.workspaceUrl\")}/serving-endpoints'\n",
    ")\n",
    "MODEL_ENDPOINT_ID=\"databricks-meta-llama-3-1-70b-instruct\"\n"
   ]
  },
  {
   "cell_type": "markdown",
   "metadata": {
    "application/vnd.databricks.v1+cell": {
     "cellMetadata": {},
     "inputWidgets": {},
     "nuid": "24becdbe-f691-46db-a70a-a78b442db540",
     "showTitle": false,
     "tableResultSettingsMap": {},
     "title": ""
    }
   },
   "source": [
    "## Load Data\n",
    "Using 1000 random reviews for demo purposes"
   ]
  },
  {
   "cell_type": "code",
   "execution_count": 0,
   "metadata": {
    "application/vnd.databricks.v1+cell": {
     "cellMetadata": {
      "byteLimit": 2048000,
      "rowLimit": 10000
     },
     "inputWidgets": {},
     "nuid": "427a5807-8f2f-4cd8-961c-3e8f24eb92b5",
     "showTitle": false,
     "tableResultSettingsMap": {},
     "title": ""
    }
   },
   "outputs": [],
   "source": [
    "sdf = spark.table(f\"{CATALOG}.{SCHEMA}.{REVIEWS_TABLE}\")#.limit(1000)\n",
    "pdf = sdf.toPandas()"
   ]
  },
  {
   "cell_type": "code",
   "execution_count": 0,
   "metadata": {
    "application/vnd.databricks.v1+cell": {
     "cellMetadata": {
      "byteLimit": 2048000,
      "rowLimit": 10000
     },
     "inputWidgets": {},
     "nuid": "eb8afc0d-9429-479b-8d7a-cc0af3f1c2b0",
     "showTitle": false,
     "tableResultSettingsMap": {},
     "title": ""
    }
   },
   "outputs": [],
   "source": [
    "sample_pdf = pdf.sample(n=1000).reset_index()\n",
    "all_reviews = sample_pdf['Review'].tolist()"
   ]
  },
  {
   "cell_type": "markdown",
   "metadata": {
    "application/vnd.databricks.v1+cell": {
     "cellMetadata": {},
     "inputWidgets": {},
     "nuid": "0384032f-2192-4fd7-a82d-3911623d2943",
     "showTitle": false,
     "tableResultSettingsMap": {},
     "title": ""
    }
   },
   "source": [
    "## Define LLM Prompt and Tool"
   ]
  },
  {
   "cell_type": "code",
   "execution_count": 0,
   "metadata": {
    "application/vnd.databricks.v1+cell": {
     "cellMetadata": {
      "byteLimit": 2048000,
      "rowLimit": 10000
     },
     "inputWidgets": {},
     "nuid": "6be1c9f3-2f8b-4847-ad22-b7a411a90a18",
     "showTitle": true,
     "tableResultSettingsMap": {},
     "title": "Tool Definition"
    }
   },
   "outputs": [],
   "source": [
    "tools = [\n",
    "  {\n",
    "    \"type\": \"function\",\n",
    "    \"function\": {\n",
    "        \"name\": \"extracts_intents\",\n",
    "        \"parameters\": {\n",
    "          \"type\": \"object\",\n",
    "          \"properties\": {\n",
    "            \"intents\": {\n",
    "              \"type\": \"array\",\n",
    "              \"description\": \"List of intents identified from the customer review\",\n",
    "              \"items\": {\n",
    "                \"type\": \"object\",\n",
    "                \"properties\": {\n",
    "                  \"intent\": {\n",
    "                    \"type\": \"string\",\n",
    "                    \"description\": \"Description of the identified intent\"\n",
    "                  },\n",
    "                  \"text_summary\": {\n",
    "                    \"type\": \"string\",\n",
    "                    \"description\": \"Summary of the intent\"\n",
    "                  },\n",
    "                  \"sentiment\": {\n",
    "                    \"type\": \"string\",\n",
    "                    \"enum\": [\"Positive\", \"Negative\", \"Neutral\"],\n",
    "                    \"description\": \"Sentiment of the intent\"\n",
    "                  },\n",
    "                  \"named_entities\": {\n",
    "                    \"type\": \"array\",\n",
    "                    \"items\": {\n",
    "                      \"type\": \"string\",\n",
    "                      \"description\": \"Named entities in the text, if any, like 'Chicago' or 'XYZ Airlines'\"\n",
    "                    }\n",
    "                  }\n",
    "                },\n",
    "                \"required\": [\"intent\", \"text_summary\", \"sentiment\"]\n",
    "              }\n",
    "            }\n",
    "          }\n",
    "        }\n",
    "    }\n",
    "  }\n",
    "]\n"
   ]
  },
  {
   "cell_type": "code",
   "execution_count": 0,
   "metadata": {
    "application/vnd.databricks.v1+cell": {
     "cellMetadata": {
      "byteLimit": 2048000,
      "rowLimit": 10000
     },
     "inputWidgets": {},
     "nuid": "48375688-2873-45b6-83fb-6560c693c22e",
     "showTitle": true,
     "tableResultSettingsMap": {},
     "title": "Example Output"
    }
   },
   "outputs": [],
   "source": [
    "example_output = {\n",
    "  \"intents\": [\n",
    "    {\n",
    "      \"intent\": \"Check-in experience\",\n",
    "      \"text_summary\": \"The check-in process was smooth.\",\n",
    "      \"sentiment\": \"Positive\",\n",
    "      \"named_entities\": [\"XYZ Airlines\"]\n",
    "    },\n",
    "    {\n",
    "      \"intent\": \"Seating comfort\",\n",
    "      \"text_summary\": \"The seating was cramped.\",\n",
    "      \"sentiment\": \"Negative\",\n",
    "      \"named_entities\": []\n",
    "    },\n",
    "    {\n",
    "      \"intent\": \"Food quality\",\n",
    "      \"text_summary\": \"The food quality was below average.\",\n",
    "      \"sentiment\": \"Negative\",\n",
    "      \"named_entities\": []\n",
    "    },\n",
    "    {\n",
    "      \"intent\": \"Flight attendant service\",\n",
    "      \"text_summary\": \"The flight attendants were very polite and helpful.\",\n",
    "      \"sentiment\": \"Positive\",\n",
    "      \"named_entities\": []\n",
    "    },\n",
    "    {\n",
    "      \"intent\": \"Baggage issue\",\n",
    "      \"text_summary\": \"I had an issue with my baggage, but it was quickly resolved.\",\n",
    "      \"sentiment\": \"Neutral\",\n",
    "      \"named_entities\": []\n",
    "    }\n",
    "  ]\n",
    "}\n",
    "example_output"
   ]
  },
  {
   "cell_type": "code",
   "execution_count": 0,
   "metadata": {
    "application/vnd.databricks.v1+cell": {
     "cellMetadata": {
      "byteLimit": 2048000,
      "rowLimit": 10000
     },
     "inputWidgets": {},
     "nuid": "1e4c2c3b-da66-4774-aec1-d5aac1f2c565",
     "showTitle": true,
     "tableResultSettingsMap": {},
     "title": "Prompt"
    }
   },
   "outputs": [],
   "source": [
    "prompt_template = f\"\"\"\n",
    "Follow instructions below and extract intents from a customer review as a json string. DO NOT include any notes or additional information in the output.\n",
    "\n",
    "### Instructions:\n",
    "- **Identify each distinct intent** in the review as \"intent\". The review may contain multiple distinct intents related to different aspects of the customer's experience (e.g., service, seating, food, check-in, baggage handling). \n",
    "- **Summarize the text** associated with each intent as \"text_summary\".\n",
    "- **Classify the sentiment** (Positive, Negative, or Neutral) of each intent as \"sentiment\".\n",
    "- **If applicable, extract any \"named entities\"**, such as the airline name or specific service mentioned.\n",
    "- **Return a list of intents a JSON string.** Follow the output format and use example ouput below as a reference. Make sure the JSON string is COMPLETE. Do not include additional information.\n",
    "\n",
    "### Output Format\n",
    "{{format_instructions}}\n",
    "\n",
    "### Example Review:\n",
    "\"I flew with XYZ Airlines for a 6-hour flight. The check-in process was smooth, but the seating was cramped, and the food quality was below average. The flight attendants were very polite and helpful. I had an issue with my baggage, but it was quickly resolved.\"\n",
    "\n",
    "### Example Output (JSON format):\n",
    "{{example_output}}\n",
    "\n",
    "### Review to analyze:\n",
    "{{review}}\n",
    "\n",
    "\"\"\"\n",
    "format_instructions = {\n",
    "  \"intents\": [\n",
    "    {\n",
    "      \"intent\": \"<Intent description>\",\n",
    "      \"text_summary\": \"<Summarized or specific text related to the intent>\",\n",
    "      \"sentiment\": \"<Positive | Negative | Neutral>\",\n",
    "      \"named_entities\": [\"<Named entities, if any>\"]\n",
    "    },\n",
    "    {\n",
    "      \"intent\": \"<Intent description>\",\n",
    "      \"text_summary\": \"<Summarized or specific text related to the intent>\",\n",
    "      \"sentiment\": \"<Positive | Negative | Neutral>\",\n",
    "      \"named_entities\": [\"<Named entities, if any>\"]\n",
    "    }\n",
    "  ]\n",
    "}\n",
    "\n",
    "example_output = {\n",
    "  \"intents\": [\n",
    "    {\n",
    "      \"intent\": \"Check-in experience\",\n",
    "      \"text_summary\": \"The check-in process was smooth.\",\n",
    "      \"sentiment\": \"Positive\",\n",
    "      \"named_entities\": [\"XYZ Airlines\"]\n",
    "    },\n",
    "    {\n",
    "      \"intent\": \"Seating comfort\",\n",
    "      \"text_summary\": \"The seating was cramped.\",\n",
    "      \"sentiment\": \"Negative\",\n",
    "      \"named_entities\": []\n",
    "    },\n",
    "    {\n",
    "      \"intent\": \"Food quality\",\n",
    "      \"text_summary\": \"The food quality was below average.\",\n",
    "      \"sentiment\": \"Negative\",\n",
    "      \"named_entities\": []\n",
    "    },\n",
    "    {\n",
    "      \"intent\": \"Flight attendant service\",\n",
    "      \"text_summary\": \"The flight attendants were very polite and helpful.\",\n",
    "      \"sentiment\": \"Positive\",\n",
    "      \"named_entities\": []\n",
    "    },\n",
    "    {\n",
    "      \"intent\": \"Baggage issue\",\n",
    "      \"text_summary\": \"I had an issue with my baggage, but it was quickly resolved.\",\n",
    "      \"sentiment\": \"Neutral\",\n",
    "      \"named_entities\": []\n",
    "    }\n",
    "  ]\n",
    "}\n",
    "example_output\n"
   ]
  },
  {
   "cell_type": "code",
   "execution_count": 0,
   "metadata": {
    "application/vnd.databricks.v1+cell": {
     "cellMetadata": {
      "byteLimit": 2048000,
      "rowLimit": 10000
     },
     "inputWidgets": {},
     "nuid": "0e2d1e15-5b13-49e9-98a3-4a38625d4b45",
     "showTitle": false,
     "tableResultSettingsMap": {},
     "title": ""
    }
   },
   "outputs": [],
   "source": [
    "from langchain.prompts import PromptTemplate\n",
    "prompt = PromptTemplate(\n",
    "    input_variables=[\"review\"],\n",
    "    template=prompt_template,\n",
    "    partial_variables={\n",
    "        \"format_instructions\": format_instructions,,\n",
    "         \"example_output\":example_output}\n",
    ")\n",
    "\n",
    "\n",
    "# get_request(prompt=prompt,review=\"I flew with XYZ Airlines for a 6-hour flight.\")"
   ]
  },
  {
   "cell_type": "markdown",
   "metadata": {
    "application/vnd.databricks.v1+cell": {
     "cellMetadata": {},
     "inputWidgets": {},
     "nuid": "5e3fbca0-2d3d-454e-8f56-04586a2195c5",
     "showTitle": false,
     "tableResultSettingsMap": {},
     "title": ""
    }
   },
   "source": [
    "## Batch Inference with Tool Calling\n",
    "Documentation Example Code: https://docs.databricks.com/en/machine-learning/model-serving/function-calling.html#notebook-example"
   ]
  },
  {
   "cell_type": "code",
   "execution_count": 0,
   "metadata": {
    "application/vnd.databricks.v1+cell": {
     "cellMetadata": {
      "byteLimit": 2048000,
      "rowLimit": 10000
     },
     "inputWidgets": {},
     "nuid": "0a2f3a8d-3a0a-4de7-a7bc-e46803859a56",
     "showTitle": true,
     "tableResultSettingsMap": {},
     "title": "Batch Inference Functions"
    }
   },
   "outputs": [],
   "source": [
    " \n",
    "import os\n",
    "import json\n",
    "import concurrent.futures\n",
    "from openai import OpenAI, RateLimitError\n",
    "from tenacity import (\n",
    "    retry,\n",
    "    stop_after_attempt,\n",
    "    wait_random_exponential,\n",
    "    retry_if_exception,\n",
    ")  # for exponential backoff\n",
    "from tqdm.notebook import tqdm\n",
    "from typing import List, Optional\n",
    "\n",
    "client = OpenAI(\n",
    "  api_key=DATABRICKS_TOKEN,\n",
    "  base_url=DATABRICKS_BASE_URL\n",
    ")\n",
    "\n",
    "@retry(\n",
    "    wait=wait_random_exponential(min=1, max=30),\n",
    "    stop=stop_after_attempt(3),\n",
    "    retry=retry_if_exception(RateLimitError),\n",
    ")\n",
    "def call_chat_model(\n",
    "    prompt: str,review: str, temperature: float = 0.1, max_tokens: int = 500, **kwargs\n",
    "):\n",
    "    \"\"\"Calls the chat model and returns the response text or tool calls.\"\"\"\n",
    "    chat_args = {\n",
    "      \"model\": MODEL_ENDPOINT_ID,\n",
    "    \"messages\": [\n",
    "      {\n",
    "        \"role\": \"system\",\n",
    "        \"content\": 'You are a helpful analyst for a major airline. You help anayze customer reviews and extrarct insights.'\n",
    "      },\n",
    "      {\n",
    "        \"role\": \"user\",\n",
    "        \"content\": prompt.format(review=review)\n",
    "      }\n",
    "    ],\n",
    "    \"max_tokens\": max_tokens,\n",
    "    \"temperature\": temperature\n",
    "  }\n",
    "\n",
    "    chat_args.update(kwargs)\n",
    "\n",
    "    chat_completion = client.chat.completions.create(**chat_args)\n",
    "\n",
    "    response = chat_completion.choices[0].message\n",
    "    if response.tool_calls:\n",
    "        call_args = [c.function.arguments for c in response.tool_calls]\n",
    "        if len(call_args) == 1:\n",
    "            return call_args[0]\n",
    "        return call_args\n",
    "    return response.content\n",
    "  \n",
    "def call_in_parallel(func, prompts: List[str]) -> List:\n",
    "    \"\"\"Calls func(p) for all prompts in parallel and returns responses.\"\"\"\n",
    "    # This uses a relatively small thread pool to avoid triggering default workspace rate limits.\n",
    "    with concurrent.futures.ThreadPoolExecutor(max_workers=5) as executor:\n",
    "        results = []\n",
    "        for r in tqdm(executor.map(func, prompts), total=len(prompts)):\n",
    "            results.append(r)\n",
    "        return results\n"
   ]
  },
  {
   "cell_type": "code",
   "execution_count": 0,
   "metadata": {
    "application/vnd.databricks.v1+cell": {
     "cellMetadata": {
      "byteLimit": 2048000,
      "rowLimit": 10000
     },
     "inputWidgets": {},
     "nuid": "19a8183d-ea68-43e2-b657-406ea4fbc3a1",
     "showTitle": false,
     "tableResultSettingsMap": {},
     "title": ""
    }
   },
   "outputs": [],
   "source": [
    "import pandas as pd\n",
    "def extract_batch(inp: str):\n",
    "    return call_chat_model(prompt=prompt,review=inp, tools=tools)\n",
    "  \n",
    "def results_to_dataframe(reviews: List[str], responses: List[str]):\n",
    "    \"\"\"Combines reviews and model responses into a dataframe for tabular display.\"\"\"\n",
    "    return pd.DataFrame({\"Review\": reviews, \"Model response\": responses})\n",
    "  \n",
    "results = call_in_parallel(extract_batch, all_reviews)\n",
    "results_to_dataframe(all_reviews, results)"
   ]
  },
  {
   "cell_type": "markdown",
   "metadata": {
    "application/vnd.databricks.v1+cell": {
     "cellMetadata": {},
     "inputWidgets": {},
     "nuid": "1b3f11c0-d997-4691-9c3e-bf03416df7d0",
     "showTitle": false,
     "tableResultSettingsMap": {},
     "title": ""
    }
   },
   "source": [
    "## Parse llm output, dropping invalid entries\n",
    "- Review too long, incomplete json string responses (increase max_token, or chunk the review beforehand, or specify more in prompt)\n",
    "- Review is empty or not valid (additional preprocessing could help)"
   ]
  },
  {
   "cell_type": "code",
   "execution_count": 0,
   "metadata": {
    "application/vnd.databricks.v1+cell": {
     "cellMetadata": {
      "byteLimit": 2048000,
      "rowLimit": 10000
     },
     "inputWidgets": {},
     "nuid": "eb9ec197-3d0d-4e63-a189-d355d5593461",
     "showTitle": false,
     "tableResultSettingsMap": {},
     "title": ""
    }
   },
   "outputs": [],
   "source": [
    "parsed_data = []\n",
    "for index, item in enumerate(results):\n",
    "    try:\n",
    "        parsed_data.append({\"id\": index, **json.loads(item)})  # Add an id column\n",
    "    except json.JSONDecodeError:\n",
    "        parsed_data.append({\"id\": index, \"intents\": []})  # Add an empty intents list for invalid JSON\n",
    "\n",
    "# Create a pandas DataFrame from the parsed data\n",
    "# Explode the 'intents' column to create one row per intent\n",
    "exploded_df = pd.DataFrame(parsed_data).explode('intents')\n",
    "\n",
    "# Filter out rows where 'intents' is not a dictionary (i.e., valid JSON object)\n",
    "exploded_df = exploded_df[exploded_df['intents'].apply(lambda x: isinstance(x, dict))]\n",
    "\n",
    "# Normalize the valid 'intents' column into separate columns\n",
    "results_df = pd.json_normalize(exploded_df['intents'])\n",
    "results_df['id'] = exploded_df['id'].values\n",
    "results_df['llm_response'] = exploded_df['intents'].values\n"
   ]
  },
  {
   "cell_type": "code",
   "execution_count": 0,
   "metadata": {
    "application/vnd.databricks.v1+cell": {
     "cellMetadata": {
      "byteLimit": 2048000,
      "rowLimit": 10000
     },
     "inputWidgets": {},
     "nuid": "d3620e6d-b45f-43f0-9296-79df189b4b39",
     "showTitle": false,
     "tableResultSettingsMap": {},
     "title": ""
    }
   },
   "outputs": [],
   "source": [
    "\n",
    "merged_df = pd.merge(sample_pdf, results_df, left_on= sample_pdf.index, right_on='id', how='right')"
   ]
  },
  {
   "cell_type": "code",
   "execution_count": 0,
   "metadata": {
    "application/vnd.databricks.v1+cell": {
     "cellMetadata": {
      "byteLimit": 2048000,
      "rowLimit": 10000
     },
     "inputWidgets": {},
     "nuid": "533100f4-2630-4639-b5a5-a8883b23b3d4",
     "showTitle": false,
     "tableResultSettingsMap": {},
     "title": ""
    }
   },
   "outputs": [],
   "source": [
    "merged_df"
   ]
  },
  {
   "cell_type": "markdown",
   "metadata": {
    "application/vnd.databricks.v1+cell": {
     "cellMetadata": {},
     "inputWidgets": {},
     "nuid": "a8644acc-4fc4-422c-b140-2203b7409670",
     "showTitle": false,
     "tableResultSettingsMap": {},
     "title": ""
    }
   },
   "source": [
    "## Save Results"
   ]
  },
  {
   "cell_type": "code",
   "execution_count": 0,
   "metadata": {
    "application/vnd.databricks.v1+cell": {
     "cellMetadata": {
      "byteLimit": 2048000,
      "rowLimit": 10000
     },
     "inputWidgets": {},
     "nuid": "af786afd-feed-4ff0-99a6-ebc26c8b8917",
     "showTitle": true,
     "tableResultSettingsMap": {},
     "title": "Write table to UC"
    }
   },
   "outputs": [],
   "source": [
    "output_df = merged_df[['id','Airline Name', 'Overall_Rating', 'Review_Title',\n",
    "       'Review',  'llm_response', 'intent','text_summary',\n",
    "       'sentiment', 'named_entities']].rename({'Airline Name':'Airline_Name'})\n",
    "\n",
    "from pyspark.sql.types import ArrayType, IntegerType, DoubleType, StringType, StructField, StructType\n",
    "\n",
    "# Define the schema for the Spark DataFrame\n",
    "schema = StructType([\n",
    "    StructField('id', IntegerType()),\n",
    "    StructField('Airline_Name', StringType()),\n",
    "    StructField('Overall_Rating', StringType()),\n",
    "    StructField('Review_title', StringType()),\n",
    "    StructField('Review', StringType()),\n",
    "    StructField('llm_response', StringType()),\n",
    "    StructField('intent', StringType()),\n",
    "    StructField('text_summary', StringType()),\n",
    "    StructField('sentiment', StringType()),\n",
    "    StructField('named_entities', ArrayType(StringType()))\n",
    "])\n",
    "\n",
    "# Convert Pandas DataFrame to Spark DataFrame with the specified schema\n",
    "output_sdf = spark.createDataFrame(output_df.dropna(), schema)\n"
   ]
  },
  {
   "cell_type": "code",
   "execution_count": 0,
   "metadata": {
    "application/vnd.databricks.v1+cell": {
     "cellMetadata": {
      "byteLimit": 2048000,
      "rowLimit": 10000
     },
     "inputWidgets": {},
     "nuid": "f20f93f4-0a2e-483e-818d-7ad92adbfbf4",
     "showTitle": false,
     "tableResultSettingsMap": {},
     "title": ""
    }
   },
   "outputs": [],
   "source": [
    "output_sdf.write.mode('overwrite').format(\"delta\").saveAsTable(f\"{CATALOG}.{SCHEMA}.{INTENTS_TABLE}\")"
   ]
  },
  {
   "cell_type": "code",
   "execution_count": 0,
   "metadata": {
    "application/vnd.databricks.v1+cell": {
     "cellMetadata": {},
     "inputWidgets": {},
     "nuid": "4a567905-a385-4929-b59d-7ac87252774e",
     "showTitle": false,
     "tableResultSettingsMap": {},
     "title": ""
    }
   },
   "outputs": [],
   "source": []
  }
 ],
 "metadata": {
  "application/vnd.databricks.v1+notebook": {
   "computePreferences": null,
   "dashboards": [],
   "environmentMetadata": null,
   "language": "python",
   "notebookMetadata": {
    "pythonIndentUnit": 2
   },
   "notebookName": "(notebook) 01_SETUP_DATA_function_calling",
   "widgets": {}
  },
  "language_info": {
   "name": "python"
  }
 },
 "nbformat": 4,
 "nbformat_minor": 0
}
